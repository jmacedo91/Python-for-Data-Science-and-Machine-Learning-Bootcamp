{
  "cells": [
    {
      "cell_type": "markdown",
      "metadata": {
        "id": "view-in-github",
        "colab_type": "text"
      },
      "source": [
        "<a href=\"https://colab.research.google.com/github/jmacedo91/Python-for-Data-Science-and-Machine-Learning-Bootcamp/blob/main/03-Python-for-Data-Analysis-Pandas/02-Series.ipynb\" target=\"_parent\"><img src=\"https://colab.research.google.com/assets/colab-badge.svg\" alt=\"Open In Colab\"/></a>"
      ]
    },
    {
      "cell_type": "markdown",
      "metadata": {
        "id": "JvayP_8C__9q"
      },
      "source": [
        "___\n",
        "\n",
        "<a href='http://www.pieriandata.com'> <img src='https://github.com/jmacedo91/Python-for-Data-Science-and-Machine-Learning-Bootcamp/blob/main/Pierian_Data_Logo.png?raw=1' /></a>\n",
        "___\n",
        "# Series"
      ]
    },
    {
      "cell_type": "markdown",
      "metadata": {
        "id": "sc0xlCdw__9t"
      },
      "source": [
        "The first main data type we will learn about for pandas is the Series data type. Let's import Pandas and explore the Series object.\n",
        "\n",
        "A Series is very similar to a NumPy array (in fact it is built on top of the NumPy array object). What differentiates the NumPy array from a Series, is that a Series can have axis labels, meaning it can be indexed by a label, instead of just a number location. It also doesn't need to hold numeric data, it can hold any arbitrary Python Object.\n",
        "\n",
        "Let's explore this concept through some examples:"
      ]
    },
    {
      "cell_type": "code",
      "execution_count": 1,
      "metadata": {
        "collapsed": true,
        "id": "zi7KrxZp__9u"
      },
      "outputs": [],
      "source": [
        "import numpy as np\n",
        "import pandas as pd"
      ]
    },
    {
      "cell_type": "markdown",
      "metadata": {
        "id": "q1xIP_rN__9v"
      },
      "source": [
        "### Creating a Series\n",
        "\n",
        "You can convert a list,numpy array, or dictionary to a Series:"
      ]
    },
    {
      "cell_type": "code",
      "execution_count": 2,
      "metadata": {
        "collapsed": true,
        "id": "TV2_4jEY__9v",
        "outputId": "38890ce9-416d-4ca0-814d-1eeb5f4a7018",
        "colab": {
          "base_uri": "https://localhost:8080/"
        }
      },
      "outputs": [
        {
          "output_type": "stream",
          "name": "stdout",
          "text": [
            "['a', 'b', 'c']\n",
            "[10, 20, 30]\n",
            "[10 20 30]\n",
            "{'a': 10, 'b': 20, 'c': 30}\n"
          ]
        }
      ],
      "source": [
        "labels = ['a','b','c']\n",
        "my_list = [10,20,30]\n",
        "arr = np.array([10,20,30])\n",
        "d = {'a':10,'b':20,'c':30}\n",
        "print(labels)\n",
        "print(my_list)\n",
        "print(arr)\n",
        "print(d)"
      ]
    },
    {
      "cell_type": "markdown",
      "metadata": {
        "id": "gsnx8lIW__9w"
      },
      "source": [
        "** Using Lists**"
      ]
    },
    {
      "cell_type": "code",
      "execution_count": 3,
      "metadata": {
        "id": "gUHupuup__9w",
        "outputId": "263680fc-8dcf-4f2a-e23f-046661a063ab",
        "colab": {
          "base_uri": "https://localhost:8080/"
        }
      },
      "outputs": [
        {
          "output_type": "execute_result",
          "data": {
            "text/plain": [
              "0    10\n",
              "1    20\n",
              "2    30\n",
              "dtype: int64"
            ]
          },
          "metadata": {},
          "execution_count": 3
        }
      ],
      "source": [
        "pd.Series(data=my_list)"
      ]
    },
    {
      "cell_type": "code",
      "execution_count": 4,
      "metadata": {
        "id": "jA3KDmwz__9x",
        "outputId": "3ec37c59-de34-4188-9d57-b7ef9a87a332",
        "colab": {
          "base_uri": "https://localhost:8080/"
        }
      },
      "outputs": [
        {
          "output_type": "execute_result",
          "data": {
            "text/plain": [
              "a    10\n",
              "b    20\n",
              "c    30\n",
              "dtype: int64"
            ]
          },
          "metadata": {},
          "execution_count": 4
        }
      ],
      "source": [
        "pd.Series(data=my_list,index=labels)"
      ]
    },
    {
      "cell_type": "code",
      "execution_count": 5,
      "metadata": {
        "id": "kt5vlcxn__9x",
        "outputId": "14c3f94a-a8b9-4fef-bc9d-3012b83e9a44",
        "colab": {
          "base_uri": "https://localhost:8080/"
        }
      },
      "outputs": [
        {
          "output_type": "execute_result",
          "data": {
            "text/plain": [
              "a    10\n",
              "b    20\n",
              "c    30\n",
              "dtype: int64"
            ]
          },
          "metadata": {},
          "execution_count": 5
        }
      ],
      "source": [
        "pd.Series(my_list,labels)"
      ]
    },
    {
      "cell_type": "markdown",
      "metadata": {
        "id": "YNp6FCy5__9x"
      },
      "source": [
        "**NumPy Arrays**"
      ]
    },
    {
      "cell_type": "code",
      "execution_count": 6,
      "metadata": {
        "id": "cwQeVQRb__9x",
        "outputId": "fcf70e6d-c805-4485-f276-96a07732e44b",
        "colab": {
          "base_uri": "https://localhost:8080/"
        }
      },
      "outputs": [
        {
          "output_type": "execute_result",
          "data": {
            "text/plain": [
              "0    10\n",
              "1    20\n",
              "2    30\n",
              "dtype: int64"
            ]
          },
          "metadata": {},
          "execution_count": 6
        }
      ],
      "source": [
        "pd.Series(arr)"
      ]
    },
    {
      "cell_type": "code",
      "execution_count": 7,
      "metadata": {
        "id": "1XsjTzUS__9y",
        "outputId": "52d4da04-21a6-4832-f4df-ef50847cdb90",
        "colab": {
          "base_uri": "https://localhost:8080/"
        }
      },
      "outputs": [
        {
          "output_type": "execute_result",
          "data": {
            "text/plain": [
              "a    10\n",
              "b    20\n",
              "c    30\n",
              "dtype: int64"
            ]
          },
          "metadata": {},
          "execution_count": 7
        }
      ],
      "source": [
        "pd.Series(arr,labels)"
      ]
    },
    {
      "cell_type": "markdown",
      "metadata": {
        "id": "NpK20gDK__9y"
      },
      "source": [
        "**Dictionary**"
      ]
    },
    {
      "cell_type": "code",
      "execution_count": 8,
      "metadata": {
        "id": "Kq10lMAI__9y",
        "outputId": "0e12fc3e-60be-4ea2-bd30-55167ce6933f",
        "colab": {
          "base_uri": "https://localhost:8080/"
        }
      },
      "outputs": [
        {
          "output_type": "execute_result",
          "data": {
            "text/plain": [
              "a    10\n",
              "b    20\n",
              "c    30\n",
              "dtype: int64"
            ]
          },
          "metadata": {},
          "execution_count": 8
        }
      ],
      "source": [
        "pd.Series(d)"
      ]
    },
    {
      "cell_type": "markdown",
      "metadata": {
        "id": "VfXOVXad__9y"
      },
      "source": [
        "### Data in a Series\n",
        "\n",
        "A pandas Series can hold a variety of object types:"
      ]
    },
    {
      "cell_type": "code",
      "execution_count": 9,
      "metadata": {
        "id": "YzdzxV00__9y",
        "outputId": "00d58e84-314b-4753-95ba-0daae4a2c8cb",
        "colab": {
          "base_uri": "https://localhost:8080/"
        }
      },
      "outputs": [
        {
          "output_type": "execute_result",
          "data": {
            "text/plain": [
              "0    a\n",
              "1    b\n",
              "2    c\n",
              "dtype: object"
            ]
          },
          "metadata": {},
          "execution_count": 9
        }
      ],
      "source": [
        "pd.Series(data=labels)"
      ]
    },
    {
      "cell_type": "code",
      "execution_count": 10,
      "metadata": {
        "id": "3hMhqZNN__9z",
        "outputId": "9e8a5e81-3f29-4e93-a2ce-3c6df0553194",
        "colab": {
          "base_uri": "https://localhost:8080/"
        }
      },
      "outputs": [
        {
          "output_type": "execute_result",
          "data": {
            "text/plain": [
              "0      <built-in function sum>\n",
              "1    <built-in function print>\n",
              "2      <built-in function len>\n",
              "dtype: object"
            ]
          },
          "metadata": {},
          "execution_count": 10
        }
      ],
      "source": [
        "# Even functions (although unlikely that you will use this)\n",
        "pd.Series([sum,print,len])"
      ]
    },
    {
      "cell_type": "markdown",
      "metadata": {
        "id": "QFV_5nqs__9z"
      },
      "source": [
        "## Using an Index\n",
        "\n",
        "The key to using a Series is understanding its index. Pandas makes use of these index names or numbers by allowing for fast look ups of information (works like a hash table or dictionary).\n",
        "\n",
        "Let's see some examples of how to grab information from a Series. Let us create two sereis, ser1 and ser2:"
      ]
    },
    {
      "cell_type": "code",
      "execution_count": 11,
      "metadata": {
        "id": "g9zW6XNx__9z"
      },
      "outputs": [],
      "source": [
        "ser1 = pd.Series([1,2,3,4],index = ['USA', 'Germany','USSR', 'Japan'])                                   "
      ]
    },
    {
      "cell_type": "code",
      "execution_count": 12,
      "metadata": {
        "id": "Hgwu10xz__9z",
        "outputId": "e0486d4c-d9c8-44db-fe6e-aadaac565065",
        "colab": {
          "base_uri": "https://localhost:8080/"
        }
      },
      "outputs": [
        {
          "output_type": "execute_result",
          "data": {
            "text/plain": [
              "USA        1\n",
              "Germany    2\n",
              "USSR       3\n",
              "Japan      4\n",
              "dtype: int64"
            ]
          },
          "metadata": {},
          "execution_count": 12
        }
      ],
      "source": [
        "ser1"
      ]
    },
    {
      "cell_type": "code",
      "execution_count": 13,
      "metadata": {
        "collapsed": true,
        "id": "BQ5Q845c__90"
      },
      "outputs": [],
      "source": [
        "ser2 = pd.Series([1,2,5,4],index = ['USA', 'Germany','Italy', 'Japan'])                                   "
      ]
    },
    {
      "cell_type": "code",
      "execution_count": 14,
      "metadata": {
        "id": "sOE0JbHq__90",
        "outputId": "a25d7035-eed7-4fc5-eba5-579a8436562a",
        "colab": {
          "base_uri": "https://localhost:8080/"
        }
      },
      "outputs": [
        {
          "output_type": "execute_result",
          "data": {
            "text/plain": [
              "USA        1\n",
              "Germany    2\n",
              "Italy      5\n",
              "Japan      4\n",
              "dtype: int64"
            ]
          },
          "metadata": {},
          "execution_count": 14
        }
      ],
      "source": [
        "ser2"
      ]
    },
    {
      "cell_type": "code",
      "execution_count": 15,
      "metadata": {
        "id": "wS_JgwBq__90",
        "outputId": "b7d60726-5754-485f-92fe-ee7a0eadeb49",
        "colab": {
          "base_uri": "https://localhost:8080/"
        }
      },
      "outputs": [
        {
          "output_type": "execute_result",
          "data": {
            "text/plain": [
              "1"
            ]
          },
          "metadata": {},
          "execution_count": 15
        }
      ],
      "source": [
        "ser1['USA']"
      ]
    },
    {
      "cell_type": "code",
      "source": [
        "ser1[0]"
      ],
      "metadata": {
        "id": "FwfgofAUh-f_",
        "outputId": "8c7a8eef-c71b-4ea7-e2b2-c320508b5343",
        "colab": {
          "base_uri": "https://localhost:8080/"
        }
      },
      "execution_count": 16,
      "outputs": [
        {
          "output_type": "execute_result",
          "data": {
            "text/plain": [
              "1"
            ]
          },
          "metadata": {},
          "execution_count": 16
        }
      ]
    },
    {
      "cell_type": "markdown",
      "metadata": {
        "collapsed": false,
        "id": "bFFERJVt__90"
      },
      "source": [
        "Operations are then also done based off of index:"
      ]
    },
    {
      "cell_type": "code",
      "execution_count": 17,
      "metadata": {
        "id": "jiER0HNx__90",
        "outputId": "06b51ec3-8010-43a4-e06c-07a7046c55ba",
        "colab": {
          "base_uri": "https://localhost:8080/"
        }
      },
      "outputs": [
        {
          "output_type": "execute_result",
          "data": {
            "text/plain": [
              "Germany    4.0\n",
              "Italy      NaN\n",
              "Japan      8.0\n",
              "USA        2.0\n",
              "USSR       NaN\n",
              "dtype: float64"
            ]
          },
          "metadata": {},
          "execution_count": 17
        }
      ],
      "source": [
        "ser1 + ser2"
      ]
    },
    {
      "cell_type": "markdown",
      "metadata": {
        "id": "sXz-hmim__91"
      },
      "source": [
        "Let's stop here for now and move on to DataFrames, which will expand on the concept of Series!\n",
        "# Great Job!"
      ]
    }
  ],
  "metadata": {
    "kernelspec": {
      "display_name": "Python 3",
      "language": "python",
      "name": "python3"
    },
    "language_info": {
      "codemirror_mode": {
        "name": "ipython",
        "version": 3
      },
      "file_extension": ".py",
      "mimetype": "text/x-python",
      "name": "python",
      "nbconvert_exporter": "python",
      "pygments_lexer": "ipython3",
      "version": "3.5.1"
    },
    "colab": {
      "provenance": [],
      "include_colab_link": true
    }
  },
  "nbformat": 4,
  "nbformat_minor": 0
}