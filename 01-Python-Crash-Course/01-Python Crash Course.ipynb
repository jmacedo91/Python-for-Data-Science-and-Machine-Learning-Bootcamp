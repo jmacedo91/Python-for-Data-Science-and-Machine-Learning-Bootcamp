{
  "cells": [
    {
      "cell_type": "markdown",
      "metadata": {
        "id": "view-in-github",
        "colab_type": "text"
      },
      "source": [
        "<a href=\"https://colab.research.google.com/github/jmacedo91/Python-for-Data-Science-and-Machine-Learning-Bootcamp/blob/main/01-Python-Crash-Course/01-Python%20Crash%20Course.ipynb\" target=\"_parent\"><img src=\"https://colab.research.google.com/assets/colab-badge.svg\" alt=\"Open In Colab\"/></a>"
      ]
    },
    {
      "cell_type": "markdown",
      "metadata": {
        "id": "3kXzcwPY6L0k"
      },
      "source": [
        "___\n",
        "\n",
        "<a href='http://www.pieriandata.com'> <img src='https://github.com/jmacedo91/Python-for-Data-Science-and-Machine-Learning-Bootcamp/blob/main/Pierian_Data_Logo.png?raw=1' /></a>\n",
        "___\n",
        "# Python Crash Course\n",
        "\n",
        "Please note, this is not meant to be a comprehensive overview of Python or programming in general, if you have no programming experience, you should probably take my other course: [Complete Python Bootcamp](https://www.udemy.com/complete-python-bootcamp/?couponCode=PY20) instead.\n",
        "\n",
        "**This notebook is just a code reference for the videos, no written explanations here**\n",
        "\n",
        "This notebook will just go through the basic topics in order:\n",
        "\n",
        "* Data types\n",
        "    * Numbers\n",
        "    * Strings\n",
        "    * Printing\n",
        "    * Lists\n",
        "    * Dictionaries\n",
        "    * Booleans\n",
        "    * Tuples \n",
        "    * Sets\n",
        "* Comparison Operators\n",
        "* if, elif, else Statements\n",
        "* for Loops\n",
        "* while Loops\n",
        "* range()\n",
        "* list comprehension\n",
        "* functions\n",
        "* lambda expressions\n",
        "* map and filter\n",
        "* methods\n",
        "____"
      ]
    },
    {
      "cell_type": "markdown",
      "metadata": {
        "id": "sDPf6he_6L0o"
      },
      "source": [
        "## Data types\n",
        "\n",
        "### Numbers"
      ]
    },
    {
      "cell_type": "code",
      "execution_count": 1,
      "metadata": {
        "colab": {
          "base_uri": "https://localhost:8080/"
        },
        "id": "SfiUNhR16L0p",
        "outputId": "22c4916f-2848-4605-a42a-c1bad5079dad"
      },
      "outputs": [
        {
          "output_type": "execute_result",
          "data": {
            "text/plain": [
              "2"
            ]
          },
          "metadata": {},
          "execution_count": 1
        }
      ],
      "source": [
        "1 + 1"
      ]
    },
    {
      "cell_type": "code",
      "execution_count": 2,
      "metadata": {
        "colab": {
          "base_uri": "https://localhost:8080/"
        },
        "id": "-xh5dH7M6L0s",
        "outputId": "617fcef1-cb15-4591-f225-ee8a64d931d9"
      },
      "outputs": [
        {
          "output_type": "execute_result",
          "data": {
            "text/plain": [
              "3"
            ]
          },
          "metadata": {},
          "execution_count": 2
        }
      ],
      "source": [
        "1 * 3"
      ]
    },
    {
      "cell_type": "code",
      "execution_count": 3,
      "metadata": {
        "colab": {
          "base_uri": "https://localhost:8080/"
        },
        "id": "Ys8H1oDF6L0t",
        "outputId": "13ce70c5-503e-449d-9903-ddc9336097d9"
      },
      "outputs": [
        {
          "output_type": "execute_result",
          "data": {
            "text/plain": [
              "0.5"
            ]
          },
          "metadata": {},
          "execution_count": 3
        }
      ],
      "source": [
        "1 / 2"
      ]
    },
    {
      "cell_type": "code",
      "execution_count": 4,
      "metadata": {
        "colab": {
          "base_uri": "https://localhost:8080/"
        },
        "id": "gpGqVmwX6L0t",
        "outputId": "9b326d90-8c45-44a7-bd2d-6265f9b004d9"
      },
      "outputs": [
        {
          "output_type": "execute_result",
          "data": {
            "text/plain": [
              "16"
            ]
          },
          "metadata": {},
          "execution_count": 4
        }
      ],
      "source": [
        "2 ** 4"
      ]
    },
    {
      "cell_type": "code",
      "execution_count": 5,
      "metadata": {
        "colab": {
          "base_uri": "https://localhost:8080/"
        },
        "id": "ZLafFREr6L0u",
        "outputId": "f1cb171c-920f-45c4-e3dd-3c418fd5bf35"
      },
      "outputs": [
        {
          "output_type": "execute_result",
          "data": {
            "text/plain": [
              "0"
            ]
          },
          "metadata": {},
          "execution_count": 5
        }
      ],
      "source": [
        "4 % 2"
      ]
    },
    {
      "cell_type": "code",
      "execution_count": 6,
      "metadata": {
        "colab": {
          "base_uri": "https://localhost:8080/"
        },
        "id": "8WRW7GWI6L0u",
        "outputId": "0051b9ee-c7dd-45e4-92f1-3a3f292aa4a3"
      },
      "outputs": [
        {
          "output_type": "execute_result",
          "data": {
            "text/plain": [
              "1"
            ]
          },
          "metadata": {},
          "execution_count": 6
        }
      ],
      "source": [
        "5 % 2"
      ]
    },
    {
      "cell_type": "code",
      "execution_count": 7,
      "metadata": {
        "colab": {
          "base_uri": "https://localhost:8080/"
        },
        "id": "29F9T3Yk6L0v",
        "outputId": "4dbbeecc-1854-44a2-d655-c52c0f349bb3"
      },
      "outputs": [
        {
          "output_type": "execute_result",
          "data": {
            "text/plain": [
              "50"
            ]
          },
          "metadata": {},
          "execution_count": 7
        }
      ],
      "source": [
        "(2 + 3) * (5 + 5)"
      ]
    },
    {
      "cell_type": "markdown",
      "metadata": {
        "id": "ARXB65Mc6L0v"
      },
      "source": [
        "### Variable Assignment"
      ]
    },
    {
      "cell_type": "code",
      "execution_count": 8,
      "metadata": {
        "collapsed": true,
        "id": "0tmhv4MG6L0w"
      },
      "outputs": [],
      "source": [
        "# Can not start with number or special characters\n",
        "name_of_var = 2"
      ]
    },
    {
      "cell_type": "code",
      "execution_count": 9,
      "metadata": {
        "collapsed": true,
        "id": "DvMCN15z6L0w"
      },
      "outputs": [],
      "source": [
        "x = 2\n",
        "y = 3"
      ]
    },
    {
      "cell_type": "code",
      "execution_count": 10,
      "metadata": {
        "collapsed": true,
        "id": "ILJ-hpPN6L0x"
      },
      "outputs": [],
      "source": [
        "z = x + y"
      ]
    },
    {
      "cell_type": "code",
      "execution_count": 11,
      "metadata": {
        "colab": {
          "base_uri": "https://localhost:8080/"
        },
        "id": "v5PMThv96L0x",
        "outputId": "3ddae85d-1341-45a8-9bdd-4521cb4bde99"
      },
      "outputs": [
        {
          "output_type": "execute_result",
          "data": {
            "text/plain": [
              "5"
            ]
          },
          "metadata": {},
          "execution_count": 11
        }
      ],
      "source": [
        "z"
      ]
    },
    {
      "cell_type": "markdown",
      "metadata": {
        "id": "ZiUWf83_6L0y"
      },
      "source": [
        "### Strings"
      ]
    },
    {
      "cell_type": "code",
      "execution_count": 12,
      "metadata": {
        "colab": {
          "base_uri": "https://localhost:8080/",
          "height": 35
        },
        "id": "wOBAGRJ76L0y",
        "outputId": "8bd2f130-c197-47d8-b975-8bea2bd7582d"
      },
      "outputs": [
        {
          "output_type": "execute_result",
          "data": {
            "text/plain": [
              "'single quotes'"
            ],
            "application/vnd.google.colaboratory.intrinsic+json": {
              "type": "string"
            }
          },
          "metadata": {},
          "execution_count": 12
        }
      ],
      "source": [
        "'single quotes'"
      ]
    },
    {
      "cell_type": "code",
      "execution_count": 13,
      "metadata": {
        "colab": {
          "base_uri": "https://localhost:8080/",
          "height": 35
        },
        "id": "DzK84QU36L0z",
        "outputId": "2e057407-c7c7-4e15-b7a7-e21217e3e2c9"
      },
      "outputs": [
        {
          "output_type": "execute_result",
          "data": {
            "text/plain": [
              "'double quotes'"
            ],
            "application/vnd.google.colaboratory.intrinsic+json": {
              "type": "string"
            }
          },
          "metadata": {},
          "execution_count": 13
        }
      ],
      "source": [
        "\"double quotes\""
      ]
    },
    {
      "cell_type": "code",
      "execution_count": 14,
      "metadata": {
        "colab": {
          "base_uri": "https://localhost:8080/",
          "height": 35
        },
        "id": "zfrKAwkr6L0z",
        "outputId": "01923e40-540d-4319-cbde-f6ba10cea1c5"
      },
      "outputs": [
        {
          "output_type": "execute_result",
          "data": {
            "text/plain": [
              "\" wrap lot's of other quotes\""
            ],
            "application/vnd.google.colaboratory.intrinsic+json": {
              "type": "string"
            }
          },
          "metadata": {},
          "execution_count": 14
        }
      ],
      "source": [
        "\" wrap lot's of other quotes\""
      ]
    },
    {
      "cell_type": "markdown",
      "metadata": {
        "id": "NOf6UnXQ6L00"
      },
      "source": [
        "### Printing"
      ]
    },
    {
      "cell_type": "code",
      "execution_count": 15,
      "metadata": {
        "collapsed": true,
        "id": "2SDISEuw6L00"
      },
      "outputs": [],
      "source": [
        "x = 'hello'"
      ]
    },
    {
      "cell_type": "code",
      "execution_count": 16,
      "metadata": {
        "colab": {
          "base_uri": "https://localhost:8080/",
          "height": 35
        },
        "id": "973SqQFf6L01",
        "outputId": "8c78dd4d-225f-4b81-a4cd-5f0b06b38fc3"
      },
      "outputs": [
        {
          "output_type": "execute_result",
          "data": {
            "text/plain": [
              "'hello'"
            ],
            "application/vnd.google.colaboratory.intrinsic+json": {
              "type": "string"
            }
          },
          "metadata": {},
          "execution_count": 16
        }
      ],
      "source": [
        "x"
      ]
    },
    {
      "cell_type": "code",
      "execution_count": 17,
      "metadata": {
        "colab": {
          "base_uri": "https://localhost:8080/"
        },
        "id": "7kghh6WM6L02",
        "outputId": "405448c1-7ba8-49d3-e9c5-a8cd29d4c433"
      },
      "outputs": [
        {
          "output_type": "stream",
          "name": "stdout",
          "text": [
            "hello\n"
          ]
        }
      ],
      "source": [
        "print(x)"
      ]
    },
    {
      "cell_type": "code",
      "execution_count": 18,
      "metadata": {
        "collapsed": true,
        "id": "AkzUDB-f6L02"
      },
      "outputs": [],
      "source": [
        "num = 12\n",
        "name = 'Sam'"
      ]
    },
    {
      "cell_type": "code",
      "execution_count": 19,
      "metadata": {
        "colab": {
          "base_uri": "https://localhost:8080/"
        },
        "id": "O_crJUEf6L03",
        "outputId": "7e2a9aaa-69bb-45ce-c22f-9449e1ae34c2"
      },
      "outputs": [
        {
          "output_type": "stream",
          "name": "stdout",
          "text": [
            "My number is: 12, and my name is: Sam\n"
          ]
        }
      ],
      "source": [
        "print('My number is: {one}, and my name is: {two}'.format(one=num,two=name))"
      ]
    },
    {
      "cell_type": "code",
      "execution_count": 20,
      "metadata": {
        "colab": {
          "base_uri": "https://localhost:8080/"
        },
        "id": "LAlSzSz06L03",
        "outputId": "6bb4f30c-8d32-492c-a2f8-40e937c8f61e"
      },
      "outputs": [
        {
          "output_type": "stream",
          "name": "stdout",
          "text": [
            "My number is: 12, and my name is: Sam\n"
          ]
        }
      ],
      "source": [
        "print('My number is: {}, and my name is: {}'.format(num,name))"
      ]
    },
    {
      "cell_type": "code",
      "source": [
        "print(f\"My number is: {num}, and my name is: {name}\")"
      ],
      "metadata": {
        "colab": {
          "base_uri": "https://localhost:8080/"
        },
        "id": "X6GMcppK8a7i",
        "outputId": "5f10ea58-fb85-4f0e-bdb6-0ce8ec575215"
      },
      "execution_count": 21,
      "outputs": [
        {
          "output_type": "stream",
          "name": "stdout",
          "text": [
            "My number is: 12, and my name is: Sam\n"
          ]
        }
      ]
    },
    {
      "cell_type": "markdown",
      "metadata": {
        "id": "S9cp9_1Z6L04"
      },
      "source": [
        "### Lists"
      ]
    },
    {
      "cell_type": "code",
      "execution_count": 22,
      "metadata": {
        "colab": {
          "base_uri": "https://localhost:8080/"
        },
        "id": "vzbg30pV6L05",
        "outputId": "4d4fa7fe-d09e-400c-aadc-b60c60a16204"
      },
      "outputs": [
        {
          "output_type": "execute_result",
          "data": {
            "text/plain": [
              "[1, 2, 3]"
            ]
          },
          "metadata": {},
          "execution_count": 22
        }
      ],
      "source": [
        "[1,2,3]"
      ]
    },
    {
      "cell_type": "code",
      "execution_count": 23,
      "metadata": {
        "colab": {
          "base_uri": "https://localhost:8080/"
        },
        "id": "G0-_qpBY6L06",
        "outputId": "278f34f5-1aa8-4ccf-cde7-7255a016500c"
      },
      "outputs": [
        {
          "output_type": "execute_result",
          "data": {
            "text/plain": [
              "['hi', 1, [1, 2]]"
            ]
          },
          "metadata": {},
          "execution_count": 23
        }
      ],
      "source": [
        "['hi',1,[1,2]]"
      ]
    },
    {
      "cell_type": "code",
      "execution_count": 24,
      "metadata": {
        "collapsed": true,
        "id": "4IaDt0Qg6L07"
      },
      "outputs": [],
      "source": [
        "my_list = ['a','b','c']"
      ]
    },
    {
      "cell_type": "code",
      "execution_count": 25,
      "metadata": {
        "collapsed": true,
        "id": "aL_Brbjo6L08"
      },
      "outputs": [],
      "source": [
        "my_list.append('d')"
      ]
    },
    {
      "cell_type": "code",
      "execution_count": 26,
      "metadata": {
        "colab": {
          "base_uri": "https://localhost:8080/"
        },
        "id": "77RUsZV56L09",
        "outputId": "2e3d4a4c-fe0f-4362-b529-e9cadafd4c91"
      },
      "outputs": [
        {
          "output_type": "execute_result",
          "data": {
            "text/plain": [
              "['a', 'b', 'c', 'd']"
            ]
          },
          "metadata": {},
          "execution_count": 26
        }
      ],
      "source": [
        "my_list"
      ]
    },
    {
      "cell_type": "code",
      "execution_count": 27,
      "metadata": {
        "colab": {
          "base_uri": "https://localhost:8080/",
          "height": 35
        },
        "id": "jgLBjRsO6L09",
        "outputId": "fbdded1f-4e93-4d2a-b52e-09c5abfa56c0"
      },
      "outputs": [
        {
          "output_type": "execute_result",
          "data": {
            "text/plain": [
              "'a'"
            ],
            "application/vnd.google.colaboratory.intrinsic+json": {
              "type": "string"
            }
          },
          "metadata": {},
          "execution_count": 27
        }
      ],
      "source": [
        "my_list[0]"
      ]
    },
    {
      "cell_type": "code",
      "execution_count": 28,
      "metadata": {
        "colab": {
          "base_uri": "https://localhost:8080/",
          "height": 35
        },
        "id": "exJrU58g6L0-",
        "outputId": "4ed6f2db-1517-40b7-e572-a537343a7597"
      },
      "outputs": [
        {
          "output_type": "execute_result",
          "data": {
            "text/plain": [
              "'b'"
            ],
            "application/vnd.google.colaboratory.intrinsic+json": {
              "type": "string"
            }
          },
          "metadata": {},
          "execution_count": 28
        }
      ],
      "source": [
        "my_list[1]"
      ]
    },
    {
      "cell_type": "code",
      "execution_count": 29,
      "metadata": {
        "colab": {
          "base_uri": "https://localhost:8080/"
        },
        "id": "F6kuknGJ6L0-",
        "outputId": "6a9fc9f4-e729-46cc-9755-58f7c6fe036e"
      },
      "outputs": [
        {
          "output_type": "execute_result",
          "data": {
            "text/plain": [
              "['b', 'c', 'd']"
            ]
          },
          "metadata": {},
          "execution_count": 29
        }
      ],
      "source": [
        "my_list[1:]"
      ]
    },
    {
      "cell_type": "code",
      "execution_count": 30,
      "metadata": {
        "colab": {
          "base_uri": "https://localhost:8080/"
        },
        "id": "3O6gHQLo6L0_",
        "outputId": "fdc83580-62e4-4950-bccc-255a23afebdb"
      },
      "outputs": [
        {
          "output_type": "execute_result",
          "data": {
            "text/plain": [
              "['a']"
            ]
          },
          "metadata": {},
          "execution_count": 30
        }
      ],
      "source": [
        "my_list[:1]"
      ]
    },
    {
      "cell_type": "code",
      "execution_count": 31,
      "metadata": {
        "collapsed": true,
        "id": "Xw55Os3i6L1A"
      },
      "outputs": [],
      "source": [
        "my_list[0] = 'NEW'"
      ]
    },
    {
      "cell_type": "code",
      "execution_count": 32,
      "metadata": {
        "colab": {
          "base_uri": "https://localhost:8080/"
        },
        "id": "0QzqZLff6L1D",
        "outputId": "94a96e2a-1846-41ba-df71-cf883efdc1f6"
      },
      "outputs": [
        {
          "output_type": "execute_result",
          "data": {
            "text/plain": [
              "['NEW', 'b', 'c', 'd']"
            ]
          },
          "metadata": {},
          "execution_count": 32
        }
      ],
      "source": [
        "my_list"
      ]
    },
    {
      "cell_type": "code",
      "execution_count": 33,
      "metadata": {
        "collapsed": true,
        "id": "8UO2BPzi6L1E"
      },
      "outputs": [],
      "source": [
        "nest = [1,2,3,[4,5,['target']]]"
      ]
    },
    {
      "cell_type": "code",
      "execution_count": 34,
      "metadata": {
        "colab": {
          "base_uri": "https://localhost:8080/"
        },
        "id": "Cvo3V5Ty6L1F",
        "outputId": "518ec68e-b772-4a99-9215-b91f46ad397a"
      },
      "outputs": [
        {
          "output_type": "execute_result",
          "data": {
            "text/plain": [
              "[4, 5, ['target']]"
            ]
          },
          "metadata": {},
          "execution_count": 34
        }
      ],
      "source": [
        "nest[3]"
      ]
    },
    {
      "cell_type": "code",
      "execution_count": 35,
      "metadata": {
        "colab": {
          "base_uri": "https://localhost:8080/"
        },
        "id": "vHcxIMMb6L1F",
        "outputId": "25591408-1e62-4d78-b146-14617e100f03"
      },
      "outputs": [
        {
          "output_type": "execute_result",
          "data": {
            "text/plain": [
              "['target']"
            ]
          },
          "metadata": {},
          "execution_count": 35
        }
      ],
      "source": [
        "nest[3][2]"
      ]
    },
    {
      "cell_type": "code",
      "execution_count": 36,
      "metadata": {
        "colab": {
          "base_uri": "https://localhost:8080/",
          "height": 35
        },
        "id": "tA9FGoz26L1F",
        "outputId": "b65e8d2b-0d31-4cde-de6a-1131a7c92ac8"
      },
      "outputs": [
        {
          "output_type": "execute_result",
          "data": {
            "text/plain": [
              "'target'"
            ],
            "application/vnd.google.colaboratory.intrinsic+json": {
              "type": "string"
            }
          },
          "metadata": {},
          "execution_count": 36
        }
      ],
      "source": [
        "nest[3][2][0]"
      ]
    },
    {
      "cell_type": "markdown",
      "metadata": {
        "id": "25hQZUZ56L1G"
      },
      "source": [
        "### Dictionaries"
      ]
    },
    {
      "cell_type": "code",
      "execution_count": 37,
      "metadata": {
        "collapsed": true,
        "id": "-14ppDM-6L1G"
      },
      "outputs": [],
      "source": [
        "d = {'key1':'item1','key2':'item2'}"
      ]
    },
    {
      "cell_type": "code",
      "execution_count": 38,
      "metadata": {
        "colab": {
          "base_uri": "https://localhost:8080/"
        },
        "id": "eI7XNnnU6L1H",
        "outputId": "72ab3f0d-bb45-4f6e-a547-b05cfbc35ee7"
      },
      "outputs": [
        {
          "output_type": "execute_result",
          "data": {
            "text/plain": [
              "{'key1': 'item1', 'key2': 'item2'}"
            ]
          },
          "metadata": {},
          "execution_count": 38
        }
      ],
      "source": [
        "d"
      ]
    },
    {
      "cell_type": "code",
      "execution_count": 39,
      "metadata": {
        "colab": {
          "base_uri": "https://localhost:8080/",
          "height": 35
        },
        "id": "pgK1qcxR6L1H",
        "outputId": "43938343-8d07-41f1-d4b4-1c419f2c945c"
      },
      "outputs": [
        {
          "output_type": "execute_result",
          "data": {
            "text/plain": [
              "'item1'"
            ],
            "application/vnd.google.colaboratory.intrinsic+json": {
              "type": "string"
            }
          },
          "metadata": {},
          "execution_count": 39
        }
      ],
      "source": [
        "d['key1']"
      ]
    },
    {
      "cell_type": "markdown",
      "metadata": {
        "id": "X2Qecg4x6L1H"
      },
      "source": [
        "### Booleans"
      ]
    },
    {
      "cell_type": "code",
      "execution_count": 40,
      "metadata": {
        "colab": {
          "base_uri": "https://localhost:8080/"
        },
        "id": "CjqBBc1f6L1I",
        "outputId": "427c5668-cdee-43d1-a9bb-80741685a69d"
      },
      "outputs": [
        {
          "output_type": "execute_result",
          "data": {
            "text/plain": [
              "True"
            ]
          },
          "metadata": {},
          "execution_count": 40
        }
      ],
      "source": [
        "True"
      ]
    },
    {
      "cell_type": "code",
      "execution_count": 41,
      "metadata": {
        "colab": {
          "base_uri": "https://localhost:8080/"
        },
        "id": "UkdbiimY6L1I",
        "outputId": "787d1286-0e05-450b-eb56-f6b9a95c82ad"
      },
      "outputs": [
        {
          "output_type": "execute_result",
          "data": {
            "text/plain": [
              "False"
            ]
          },
          "metadata": {},
          "execution_count": 41
        }
      ],
      "source": [
        "False"
      ]
    },
    {
      "cell_type": "markdown",
      "metadata": {
        "id": "-bVvxgri6L1J"
      },
      "source": [
        "### Tuples "
      ]
    },
    {
      "cell_type": "code",
      "execution_count": 42,
      "metadata": {
        "collapsed": true,
        "id": "KMnaFoug6L1J"
      },
      "outputs": [],
      "source": [
        "t = (1,2,3)"
      ]
    },
    {
      "cell_type": "code",
      "execution_count": 43,
      "metadata": {
        "colab": {
          "base_uri": "https://localhost:8080/"
        },
        "id": "3ZNTCIN96L1J",
        "outputId": "cb4e594a-281b-469b-9d84-35878a41f41a"
      },
      "outputs": [
        {
          "output_type": "execute_result",
          "data": {
            "text/plain": [
              "1"
            ]
          },
          "metadata": {},
          "execution_count": 43
        }
      ],
      "source": [
        "t[0]"
      ]
    },
    {
      "cell_type": "code",
      "execution_count": 45,
      "metadata": {
        "colab": {
          "base_uri": "https://localhost:8080/",
          "height": 165
        },
        "id": "rCpJ8oy16L1K",
        "outputId": "8261c830-e3ef-4727-98c4-55817153966b"
      },
      "outputs": [
        {
          "output_type": "error",
          "ename": "TypeError",
          "evalue": "ignored",
          "traceback": [
            "\u001b[0;31m---------------------------------------------------------------------------\u001b[0m",
            "\u001b[0;31mTypeError\u001b[0m                                 Traceback (most recent call last)",
            "\u001b[0;32m<ipython-input-45-93bfe9be1549>\u001b[0m in \u001b[0;36m<module>\u001b[0;34m\u001b[0m\n\u001b[0;32m----> 1\u001b[0;31m \u001b[0mt\u001b[0m\u001b[0;34m[\u001b[0m\u001b[0;36m0\u001b[0m\u001b[0;34m]\u001b[0m \u001b[0;34m=\u001b[0m \u001b[0;34m'NEW'\u001b[0m\u001b[0;34m\u001b[0m\u001b[0;34m\u001b[0m\u001b[0m\n\u001b[0m",
            "\u001b[0;31mTypeError\u001b[0m: 'tuple' object does not support item assignment"
          ]
        }
      ],
      "source": [
        "t[0] = 'NEW'"
      ]
    },
    {
      "cell_type": "markdown",
      "metadata": {
        "id": "Tn1wUNds6L1K"
      },
      "source": [
        "### Sets"
      ]
    },
    {
      "cell_type": "code",
      "execution_count": 46,
      "metadata": {
        "colab": {
          "base_uri": "https://localhost:8080/"
        },
        "id": "Y_fdzPtG6L1K",
        "outputId": "d170237a-e02a-479b-a666-89ccab02a121"
      },
      "outputs": [
        {
          "output_type": "execute_result",
          "data": {
            "text/plain": [
              "{1, 2, 3}"
            ]
          },
          "metadata": {},
          "execution_count": 46
        }
      ],
      "source": [
        "{1,2,3}"
      ]
    },
    {
      "cell_type": "code",
      "execution_count": 47,
      "metadata": {
        "colab": {
          "base_uri": "https://localhost:8080/"
        },
        "id": "7tXlaVd06L1L",
        "outputId": "a4f210d2-4230-4b8c-a8de-f7e1d841e9b5"
      },
      "outputs": [
        {
          "output_type": "execute_result",
          "data": {
            "text/plain": [
              "{1, 2, 3}"
            ]
          },
          "metadata": {},
          "execution_count": 47
        }
      ],
      "source": [
        "{1,2,3,1,2,1,2,3,3,3,3,2,2,2,1,1,2}"
      ]
    },
    {
      "cell_type": "code",
      "source": [
        "set([1,2,3,1,2,1,2,3,3,3,3,2,2,2,1,1,2])"
      ],
      "metadata": {
        "colab": {
          "base_uri": "https://localhost:8080/"
        },
        "id": "fh4vYoHU-QI5",
        "outputId": "b5949400-d3a5-4790-d7b0-83f02cd4728f"
      },
      "execution_count": 48,
      "outputs": [
        {
          "output_type": "execute_result",
          "data": {
            "text/plain": [
              "{1, 2, 3}"
            ]
          },
          "metadata": {},
          "execution_count": 48
        }
      ]
    },
    {
      "cell_type": "code",
      "source": [
        "s = {1,2,3}"
      ],
      "metadata": {
        "id": "wquTIwx4-ars"
      },
      "execution_count": 49,
      "outputs": []
    },
    {
      "cell_type": "code",
      "source": [
        "s.add(5)"
      ],
      "metadata": {
        "id": "KTDTn3l2-fhV"
      },
      "execution_count": 50,
      "outputs": []
    },
    {
      "cell_type": "code",
      "source": [
        "s"
      ],
      "metadata": {
        "colab": {
          "base_uri": "https://localhost:8080/"
        },
        "id": "yl5doFvN-hhD",
        "outputId": "bf96facd-1ae6-4fe2-b266-1f7989fba84f"
      },
      "execution_count": 51,
      "outputs": [
        {
          "output_type": "execute_result",
          "data": {
            "text/plain": [
              "{1, 2, 3, 5}"
            ]
          },
          "metadata": {},
          "execution_count": 51
        }
      ]
    },
    {
      "cell_type": "code",
      "source": [
        "s.add(5)"
      ],
      "metadata": {
        "id": "UfisWrrY-x9o"
      },
      "execution_count": 52,
      "outputs": []
    },
    {
      "cell_type": "code",
      "source": [
        "s"
      ],
      "metadata": {
        "colab": {
          "base_uri": "https://localhost:8080/"
        },
        "id": "Cvq8QA-V-z6W",
        "outputId": "04dec25f-b2a5-42ad-9b10-c882489a972d"
      },
      "execution_count": 53,
      "outputs": [
        {
          "output_type": "execute_result",
          "data": {
            "text/plain": [
              "{1, 2, 3, 5}"
            ]
          },
          "metadata": {},
          "execution_count": 53
        }
      ]
    },
    {
      "cell_type": "markdown",
      "metadata": {
        "id": "7SPk9vZL6L1L"
      },
      "source": [
        "## Comparison Operators"
      ]
    },
    {
      "cell_type": "code",
      "execution_count": 54,
      "metadata": {
        "colab": {
          "base_uri": "https://localhost:8080/"
        },
        "id": "Nd8pVp5J6L1L",
        "outputId": "601a2193-ce3e-4a42-ff61-caa23d1a9a4a"
      },
      "outputs": [
        {
          "output_type": "execute_result",
          "data": {
            "text/plain": [
              "False"
            ]
          },
          "metadata": {},
          "execution_count": 54
        }
      ],
      "source": [
        "1 > 2"
      ]
    },
    {
      "cell_type": "code",
      "execution_count": 55,
      "metadata": {
        "colab": {
          "base_uri": "https://localhost:8080/"
        },
        "id": "1ezXfzG_6L1L",
        "outputId": "9a518af6-2654-42e2-d4c1-b7659ad558f0"
      },
      "outputs": [
        {
          "output_type": "execute_result",
          "data": {
            "text/plain": [
              "True"
            ]
          },
          "metadata": {},
          "execution_count": 55
        }
      ],
      "source": [
        "1 < 2"
      ]
    },
    {
      "cell_type": "code",
      "execution_count": 56,
      "metadata": {
        "colab": {
          "base_uri": "https://localhost:8080/"
        },
        "id": "mKdptolY6L1M",
        "outputId": "3f8dfec6-8e15-4e25-d4f3-0cb14915cbc7"
      },
      "outputs": [
        {
          "output_type": "execute_result",
          "data": {
            "text/plain": [
              "True"
            ]
          },
          "metadata": {},
          "execution_count": 56
        }
      ],
      "source": [
        "1 >= 1"
      ]
    },
    {
      "cell_type": "code",
      "execution_count": 57,
      "metadata": {
        "colab": {
          "base_uri": "https://localhost:8080/"
        },
        "id": "lO82kmWy6L1M",
        "outputId": "ad334eed-26fa-4816-b37c-ae832d3a884d"
      },
      "outputs": [
        {
          "output_type": "execute_result",
          "data": {
            "text/plain": [
              "True"
            ]
          },
          "metadata": {},
          "execution_count": 57
        }
      ],
      "source": [
        "1 <= 4"
      ]
    },
    {
      "cell_type": "code",
      "execution_count": 58,
      "metadata": {
        "colab": {
          "base_uri": "https://localhost:8080/"
        },
        "id": "1x8q9HiS6L1N",
        "outputId": "aaed222f-0cf9-4b4f-94d4-0bcebfcd4a01"
      },
      "outputs": [
        {
          "output_type": "execute_result",
          "data": {
            "text/plain": [
              "True"
            ]
          },
          "metadata": {},
          "execution_count": 58
        }
      ],
      "source": [
        "1 == 1"
      ]
    },
    {
      "cell_type": "code",
      "source": [
        "1 != 3"
      ],
      "metadata": {
        "colab": {
          "base_uri": "https://localhost:8080/"
        },
        "id": "-qyOTQbo_HvW",
        "outputId": "500239bd-cae0-482a-c6ce-fbee52c8a0db"
      },
      "execution_count": 59,
      "outputs": [
        {
          "output_type": "execute_result",
          "data": {
            "text/plain": [
              "True"
            ]
          },
          "metadata": {},
          "execution_count": 59
        }
      ]
    },
    {
      "cell_type": "code",
      "execution_count": 60,
      "metadata": {
        "colab": {
          "base_uri": "https://localhost:8080/"
        },
        "id": "cRYsTdnU6L1N",
        "outputId": "3563a806-4168-4090-a442-63b436503b68"
      },
      "outputs": [
        {
          "output_type": "execute_result",
          "data": {
            "text/plain": [
              "False"
            ]
          },
          "metadata": {},
          "execution_count": 60
        }
      ],
      "source": [
        "'hi' == 'bye'"
      ]
    },
    {
      "cell_type": "markdown",
      "metadata": {
        "id": "Zz90ymtG6L1N"
      },
      "source": [
        "## Logic Operators"
      ]
    },
    {
      "cell_type": "code",
      "execution_count": 61,
      "metadata": {
        "colab": {
          "base_uri": "https://localhost:8080/"
        },
        "id": "lu6s4s8U6L1O",
        "outputId": "5d0476c2-38fd-4548-c37d-5ef3830b4932"
      },
      "outputs": [
        {
          "output_type": "execute_result",
          "data": {
            "text/plain": [
              "False"
            ]
          },
          "metadata": {},
          "execution_count": 61
        }
      ],
      "source": [
        "(1 > 2) and (2 < 3)"
      ]
    },
    {
      "cell_type": "code",
      "execution_count": 62,
      "metadata": {
        "colab": {
          "base_uri": "https://localhost:8080/"
        },
        "id": "hd8UDtvh6L1O",
        "outputId": "29b0945f-e04a-4477-9378-97711af132b4"
      },
      "outputs": [
        {
          "output_type": "execute_result",
          "data": {
            "text/plain": [
              "True"
            ]
          },
          "metadata": {},
          "execution_count": 62
        }
      ],
      "source": [
        "(1 > 2) or (2 < 3)"
      ]
    },
    {
      "cell_type": "code",
      "execution_count": 63,
      "metadata": {
        "colab": {
          "base_uri": "https://localhost:8080/"
        },
        "id": "AKn8UPPY6L1P",
        "outputId": "92b8d8cb-8847-4f92-8b00-ec036886560f"
      },
      "outputs": [
        {
          "output_type": "execute_result",
          "data": {
            "text/plain": [
              "True"
            ]
          },
          "metadata": {},
          "execution_count": 63
        }
      ],
      "source": [
        "(1 == 2) or (2 == 3) or (4 == 4)"
      ]
    },
    {
      "cell_type": "code",
      "source": [
        "True or False"
      ],
      "metadata": {
        "colab": {
          "base_uri": "https://localhost:8080/"
        },
        "id": "mXtf32D__cGk",
        "outputId": "0b24dd64-53f1-470f-d623-eeec461c382c"
      },
      "execution_count": 64,
      "outputs": [
        {
          "output_type": "execute_result",
          "data": {
            "text/plain": [
              "True"
            ]
          },
          "metadata": {},
          "execution_count": 64
        }
      ]
    },
    {
      "cell_type": "code",
      "source": [
        "True and False"
      ],
      "metadata": {
        "colab": {
          "base_uri": "https://localhost:8080/"
        },
        "id": "BgOfTryB_e5j",
        "outputId": "1e1ba9d3-6f79-499a-ac83-9b02df01c460"
      },
      "execution_count": 65,
      "outputs": [
        {
          "output_type": "execute_result",
          "data": {
            "text/plain": [
              "False"
            ]
          },
          "metadata": {},
          "execution_count": 65
        }
      ]
    },
    {
      "cell_type": "markdown",
      "metadata": {
        "id": "mu4WI8ro6L1Q"
      },
      "source": [
        "## if,elif, else Statements"
      ]
    },
    {
      "cell_type": "code",
      "execution_count": 66,
      "metadata": {
        "colab": {
          "base_uri": "https://localhost:8080/"
        },
        "id": "MKA3VQ_H6L1Q",
        "outputId": "0d0ba5b5-b356-4ac9-e33c-d09152c41f6e"
      },
      "outputs": [
        {
          "output_type": "stream",
          "name": "stdout",
          "text": [
            "Yep!\n"
          ]
        }
      ],
      "source": [
        "if 1 < 2:\n",
        "    print('Yep!')"
      ]
    },
    {
      "cell_type": "code",
      "execution_count": 67,
      "metadata": {
        "colab": {
          "base_uri": "https://localhost:8080/"
        },
        "id": "vUzWvUiG6L1R",
        "outputId": "560432d7-238a-4662-98a0-aeadf371119e"
      },
      "outputs": [
        {
          "output_type": "stream",
          "name": "stdout",
          "text": [
            "Perform Code\n"
          ]
        }
      ],
      "source": [
        "if True:\n",
        "    print('Perform Code')"
      ]
    },
    {
      "cell_type": "code",
      "execution_count": 68,
      "metadata": {
        "colab": {
          "base_uri": "https://localhost:8080/"
        },
        "id": "OU83f7nE6L1R",
        "outputId": "044e58f6-e22e-4084-89a5-be7b565776b6"
      },
      "outputs": [
        {
          "output_type": "stream",
          "name": "stdout",
          "text": [
            "first\n"
          ]
        }
      ],
      "source": [
        "if 1 < 2:\n",
        "    print('first')\n",
        "else:\n",
        "    print('last')"
      ]
    },
    {
      "cell_type": "code",
      "execution_count": 69,
      "metadata": {
        "colab": {
          "base_uri": "https://localhost:8080/"
        },
        "id": "3Lun-r7g6L1R",
        "outputId": "083643cb-1a0f-4e13-a823-6ef1756e524e"
      },
      "outputs": [
        {
          "output_type": "stream",
          "name": "stdout",
          "text": [
            "last\n"
          ]
        }
      ],
      "source": [
        "if 1 > 2:\n",
        "    print('first')\n",
        "else:\n",
        "    print('last')"
      ]
    },
    {
      "cell_type": "code",
      "execution_count": 70,
      "metadata": {
        "colab": {
          "base_uri": "https://localhost:8080/"
        },
        "id": "6Fmctle16L1S",
        "outputId": "598495af-a881-40ae-a07b-455ffde8a22a"
      },
      "outputs": [
        {
          "output_type": "stream",
          "name": "stdout",
          "text": [
            "middle\n"
          ]
        }
      ],
      "source": [
        "if 1 == 2:\n",
        "    print('first')\n",
        "elif 3 == 3:\n",
        "    print('middle')\n",
        "else:\n",
        "    print('Last')"
      ]
    },
    {
      "cell_type": "markdown",
      "metadata": {
        "id": "5WruV0L66L1S"
      },
      "source": [
        "## for Loops"
      ]
    },
    {
      "cell_type": "code",
      "execution_count": 71,
      "metadata": {
        "id": "gTW9EUQk6L1T"
      },
      "outputs": [],
      "source": [
        "seq = [1,2,3,4,5]"
      ]
    },
    {
      "cell_type": "code",
      "execution_count": 72,
      "metadata": {
        "colab": {
          "base_uri": "https://localhost:8080/"
        },
        "id": "5Kym6LVQ6L1T",
        "outputId": "2ab4e54f-1905-4caa-db62-61d7743447ca"
      },
      "outputs": [
        {
          "output_type": "stream",
          "name": "stdout",
          "text": [
            "1\n",
            "2\n",
            "3\n",
            "4\n",
            "5\n"
          ]
        }
      ],
      "source": [
        "for item in seq:\n",
        "    print(item)"
      ]
    },
    {
      "cell_type": "code",
      "execution_count": 73,
      "metadata": {
        "colab": {
          "base_uri": "https://localhost:8080/"
        },
        "id": "znK5vqeb6L1U",
        "outputId": "b5d10956-e6f1-42d9-c635-729c32dc38b4"
      },
      "outputs": [
        {
          "output_type": "stream",
          "name": "stdout",
          "text": [
            "Yep\n",
            "Yep\n",
            "Yep\n",
            "Yep\n",
            "Yep\n"
          ]
        }
      ],
      "source": [
        "for item in seq:\n",
        "    print('Yep')"
      ]
    },
    {
      "cell_type": "code",
      "execution_count": 74,
      "metadata": {
        "colab": {
          "base_uri": "https://localhost:8080/"
        },
        "id": "Vm_haJY66L1V",
        "outputId": "5b4aeeed-4c53-4d98-dbad-127aab6465d3"
      },
      "outputs": [
        {
          "output_type": "stream",
          "name": "stdout",
          "text": [
            "2\n",
            "4\n",
            "6\n",
            "8\n",
            "10\n"
          ]
        }
      ],
      "source": [
        "for jelly in seq:\n",
        "    print(jelly+jelly)"
      ]
    },
    {
      "cell_type": "markdown",
      "metadata": {
        "id": "LpM9eDlC6L1V"
      },
      "source": [
        "## while Loops"
      ]
    },
    {
      "cell_type": "code",
      "execution_count": 75,
      "metadata": {
        "colab": {
          "base_uri": "https://localhost:8080/"
        },
        "id": "Mf_T8KLe6L1V",
        "outputId": "4c1ee2aa-e698-42fa-8a4b-66f8177a6931"
      },
      "outputs": [
        {
          "output_type": "stream",
          "name": "stdout",
          "text": [
            "i is: 1\n",
            "i is: 2\n",
            "i is: 3\n",
            "i is: 4\n"
          ]
        }
      ],
      "source": [
        "i = 1\n",
        "while i < 5:\n",
        "    print('i is: {}'.format(i))\n",
        "    i = i+1"
      ]
    },
    {
      "cell_type": "markdown",
      "metadata": {
        "id": "81BKrKQV6L1W"
      },
      "source": [
        "## range()"
      ]
    },
    {
      "cell_type": "code",
      "execution_count": 76,
      "metadata": {
        "colab": {
          "base_uri": "https://localhost:8080/"
        },
        "id": "iJrBJLf76L1W",
        "outputId": "45422492-baeb-4cb4-a41f-f07a7c9f41d9"
      },
      "outputs": [
        {
          "output_type": "execute_result",
          "data": {
            "text/plain": [
              "range(0, 5)"
            ]
          },
          "metadata": {},
          "execution_count": 76
        }
      ],
      "source": [
        "range(5)"
      ]
    },
    {
      "cell_type": "code",
      "execution_count": 77,
      "metadata": {
        "colab": {
          "base_uri": "https://localhost:8080/"
        },
        "id": "O6Vgrv2N6L1X",
        "outputId": "3a27efd3-a4e0-4902-d1b5-2ac721d37cc9"
      },
      "outputs": [
        {
          "output_type": "stream",
          "name": "stdout",
          "text": [
            "0\n",
            "1\n",
            "2\n",
            "3\n",
            "4\n"
          ]
        }
      ],
      "source": [
        "for i in range(5):\n",
        "    print(i)"
      ]
    },
    {
      "cell_type": "code",
      "execution_count": 78,
      "metadata": {
        "colab": {
          "base_uri": "https://localhost:8080/"
        },
        "id": "tF68Bea36L1X",
        "outputId": "a2f418b6-f4c9-4729-b2a8-888aed6e28a0"
      },
      "outputs": [
        {
          "output_type": "execute_result",
          "data": {
            "text/plain": [
              "[0, 1, 2, 3, 4]"
            ]
          },
          "metadata": {},
          "execution_count": 78
        }
      ],
      "source": [
        "list(range(5))"
      ]
    },
    {
      "cell_type": "markdown",
      "metadata": {
        "id": "nmStWolT6L1Y"
      },
      "source": [
        "## list comprehension"
      ]
    },
    {
      "cell_type": "code",
      "execution_count": 79,
      "metadata": {
        "collapsed": true,
        "id": "9bFYx7S66L1Y"
      },
      "outputs": [],
      "source": [
        "x = [1,2,3,4]"
      ]
    },
    {
      "cell_type": "code",
      "execution_count": 80,
      "metadata": {
        "colab": {
          "base_uri": "https://localhost:8080/"
        },
        "id": "7HERTKv66L1Y",
        "outputId": "4de182ab-bb77-4792-c80a-38211b429025"
      },
      "outputs": [
        {
          "output_type": "stream",
          "name": "stdout",
          "text": [
            "[1, 4, 9, 16]\n"
          ]
        }
      ],
      "source": [
        "out = []\n",
        "for item in x:\n",
        "    out.append(item**2)\n",
        "print(out)"
      ]
    },
    {
      "cell_type": "code",
      "execution_count": 81,
      "metadata": {
        "colab": {
          "base_uri": "https://localhost:8080/"
        },
        "id": "PwH7fuV46L1Z",
        "outputId": "d0683b5b-a354-40ae-be66-4ba6b69f3ec5"
      },
      "outputs": [
        {
          "output_type": "execute_result",
          "data": {
            "text/plain": [
              "[1, 4, 9, 16]"
            ]
          },
          "metadata": {},
          "execution_count": 81
        }
      ],
      "source": [
        "[item**2 for item in x]"
      ]
    },
    {
      "cell_type": "markdown",
      "metadata": {
        "id": "wMZoN2JT6L1Z"
      },
      "source": [
        "## functions"
      ]
    },
    {
      "cell_type": "code",
      "execution_count": 82,
      "metadata": {
        "collapsed": true,
        "id": "Bcs0z1pB6L1Z"
      },
      "outputs": [],
      "source": [
        "def my_func(param1='default'):\n",
        "    \"\"\"\n",
        "    Docstring goes here.\n",
        "    \"\"\"\n",
        "    print(param1)"
      ]
    },
    {
      "cell_type": "code",
      "execution_count": 83,
      "metadata": {
        "colab": {
          "base_uri": "https://localhost:8080/"
        },
        "id": "NMXNcBiP6L1a",
        "outputId": "87b3398d-7d46-4d32-c133-fce3bedd4f16"
      },
      "outputs": [
        {
          "output_type": "execute_result",
          "data": {
            "text/plain": [
              "<function __main__.my_func(param1='default')>"
            ]
          },
          "metadata": {},
          "execution_count": 83
        }
      ],
      "source": [
        "my_func"
      ]
    },
    {
      "cell_type": "code",
      "execution_count": 84,
      "metadata": {
        "colab": {
          "base_uri": "https://localhost:8080/"
        },
        "id": "imkyzxBw6L1a",
        "outputId": "fadee404-f2d3-4a4b-9913-eec5d4d761aa"
      },
      "outputs": [
        {
          "output_type": "stream",
          "name": "stdout",
          "text": [
            "default\n"
          ]
        }
      ],
      "source": [
        "my_func()"
      ]
    },
    {
      "cell_type": "code",
      "execution_count": 85,
      "metadata": {
        "colab": {
          "base_uri": "https://localhost:8080/"
        },
        "id": "G_AekbI_6L1b",
        "outputId": "51dc6833-587f-4329-abc2-7f7b0c6aa236"
      },
      "outputs": [
        {
          "output_type": "stream",
          "name": "stdout",
          "text": [
            "new param\n"
          ]
        }
      ],
      "source": [
        "my_func('new param')"
      ]
    },
    {
      "cell_type": "code",
      "execution_count": 86,
      "metadata": {
        "colab": {
          "base_uri": "https://localhost:8080/"
        },
        "id": "wFV5ymvR6L1b",
        "outputId": "04c2fd8b-011f-45ef-cff0-e6da4c335a03"
      },
      "outputs": [
        {
          "output_type": "stream",
          "name": "stdout",
          "text": [
            "new param\n"
          ]
        }
      ],
      "source": [
        "my_func(param1='new param')"
      ]
    },
    {
      "cell_type": "code",
      "execution_count": 87,
      "metadata": {
        "collapsed": true,
        "id": "UQ6T93Mv6L1b"
      },
      "outputs": [],
      "source": [
        "def square(x):\n",
        "    return x**2"
      ]
    },
    {
      "cell_type": "code",
      "execution_count": 88,
      "metadata": {
        "collapsed": true,
        "id": "VW8bni6C6L1c"
      },
      "outputs": [],
      "source": [
        "out = square(2)"
      ]
    },
    {
      "cell_type": "code",
      "execution_count": 89,
      "metadata": {
        "scrolled": true,
        "colab": {
          "base_uri": "https://localhost:8080/"
        },
        "id": "ebONYWDX6L1c",
        "outputId": "4f6d2a63-b9f2-441d-ed07-e3b30bac67ba"
      },
      "outputs": [
        {
          "output_type": "stream",
          "name": "stdout",
          "text": [
            "4\n"
          ]
        }
      ],
      "source": [
        "print(out)"
      ]
    },
    {
      "cell_type": "markdown",
      "metadata": {
        "id": "qsBNG0On6L1c"
      },
      "source": [
        "## lambda expressions"
      ]
    },
    {
      "cell_type": "code",
      "execution_count": 90,
      "metadata": {
        "collapsed": true,
        "id": "YAtKORbt6L1d"
      },
      "outputs": [],
      "source": [
        "def times2(var):\n",
        "    return var*2"
      ]
    },
    {
      "cell_type": "code",
      "execution_count": 91,
      "metadata": {
        "colab": {
          "base_uri": "https://localhost:8080/"
        },
        "id": "ZMHaJSqD6L1d",
        "outputId": "517919ca-bea8-4ffa-c87d-b90c3c0ff396"
      },
      "outputs": [
        {
          "output_type": "execute_result",
          "data": {
            "text/plain": [
              "4"
            ]
          },
          "metadata": {},
          "execution_count": 91
        }
      ],
      "source": [
        "times2(2)"
      ]
    },
    {
      "cell_type": "code",
      "execution_count": 92,
      "metadata": {
        "colab": {
          "base_uri": "https://localhost:8080/"
        },
        "id": "rPS9Uy1V6L1d",
        "outputId": "4f6526d9-1191-4a6c-8d1d-989cc6081a1d"
      },
      "outputs": [
        {
          "output_type": "execute_result",
          "data": {
            "text/plain": [
              "<function __main__.<lambda>(var)>"
            ]
          },
          "metadata": {},
          "execution_count": 92
        }
      ],
      "source": [
        "lambda var: var*2"
      ]
    },
    {
      "cell_type": "code",
      "source": [
        "cubo = lambda var: var**3\n",
        "cubo(2)"
      ],
      "metadata": {
        "id": "pwj35a1jTmpG",
        "outputId": "ef8c5c09-9541-4f6e-daa8-2ed74c0a6622",
        "colab": {
          "base_uri": "https://localhost:8080/"
        }
      },
      "execution_count": 93,
      "outputs": [
        {
          "output_type": "execute_result",
          "data": {
            "text/plain": [
              "8"
            ]
          },
          "metadata": {},
          "execution_count": 93
        }
      ]
    },
    {
      "cell_type": "markdown",
      "metadata": {
        "id": "qlJoY1Sj6L1e"
      },
      "source": [
        "## map and filter"
      ]
    },
    {
      "cell_type": "code",
      "execution_count": 94,
      "metadata": {
        "collapsed": true,
        "id": "LzSFCxaV6L1e"
      },
      "outputs": [],
      "source": [
        "seq = [1,2,3,4,5]"
      ]
    },
    {
      "cell_type": "code",
      "execution_count": 95,
      "metadata": {
        "colab": {
          "base_uri": "https://localhost:8080/"
        },
        "id": "0U7rTXEI6L1e",
        "outputId": "6c56d03e-aeb6-4cdf-c626-2281df74b22b"
      },
      "outputs": [
        {
          "output_type": "execute_result",
          "data": {
            "text/plain": [
              "<map at 0x7f7474044640>"
            ]
          },
          "metadata": {},
          "execution_count": 95
        }
      ],
      "source": [
        "map(times2, seq)"
      ]
    },
    {
      "cell_type": "code",
      "execution_count": 96,
      "metadata": {
        "colab": {
          "base_uri": "https://localhost:8080/"
        },
        "id": "Wy8RAOa36L1f",
        "outputId": "60cc51e6-ab95-4e8b-815c-4760b6b118cf"
      },
      "outputs": [
        {
          "output_type": "execute_result",
          "data": {
            "text/plain": [
              "[2, 4, 6, 8, 10]"
            ]
          },
          "metadata": {},
          "execution_count": 96
        }
      ],
      "source": [
        "list(map(times2, seq))"
      ]
    },
    {
      "cell_type": "code",
      "execution_count": 97,
      "metadata": {
        "colab": {
          "base_uri": "https://localhost:8080/"
        },
        "id": "BTUeBnoR6L1f",
        "outputId": "9b406893-4e21-473d-925f-9fab8afd75dd"
      },
      "outputs": [
        {
          "output_type": "execute_result",
          "data": {
            "text/plain": [
              "[2, 4, 6, 8, 10]"
            ]
          },
          "metadata": {},
          "execution_count": 97
        }
      ],
      "source": [
        "list(map(lambda var: var*2, seq))"
      ]
    },
    {
      "cell_type": "code",
      "execution_count": 98,
      "metadata": {
        "colab": {
          "base_uri": "https://localhost:8080/"
        },
        "id": "FoWtI0bL6L1f",
        "outputId": "d9f81407-f539-472c-b9b3-6263ea02dda8"
      },
      "outputs": [
        {
          "output_type": "execute_result",
          "data": {
            "text/plain": [
              "<filter at 0x7f74655addc0>"
            ]
          },
          "metadata": {},
          "execution_count": 98
        }
      ],
      "source": [
        "filter(lambda item: item%2 == 0, seq)"
      ]
    },
    {
      "cell_type": "code",
      "execution_count": 99,
      "metadata": {
        "colab": {
          "base_uri": "https://localhost:8080/"
        },
        "id": "FbREPAe-6L1g",
        "outputId": "ebb4c971-c7f1-427c-ab6c-ff0218f5c892"
      },
      "outputs": [
        {
          "output_type": "execute_result",
          "data": {
            "text/plain": [
              "[2, 4]"
            ]
          },
          "metadata": {},
          "execution_count": 99
        }
      ],
      "source": [
        "list(filter(lambda item: item%2 == 0,seq))"
      ]
    },
    {
      "cell_type": "code",
      "source": [
        "cubicnums = list(map(lambda num: num**3, list(range(10))))\n",
        "cubicnums"
      ],
      "metadata": {
        "id": "woY8cZOOXTXJ",
        "outputId": "e0c2520f-05a4-457e-ae26-cba230866c08",
        "colab": {
          "base_uri": "https://localhost:8080/"
        }
      },
      "execution_count": 100,
      "outputs": [
        {
          "output_type": "execute_result",
          "data": {
            "text/plain": [
              "[0, 1, 8, 27, 64, 125, 216, 343, 512, 729]"
            ]
          },
          "metadata": {},
          "execution_count": 100
        }
      ]
    },
    {
      "cell_type": "markdown",
      "metadata": {
        "id": "3Iev2HmF6L1g"
      },
      "source": [
        "## methods"
      ]
    },
    {
      "cell_type": "code",
      "execution_count": 101,
      "metadata": {
        "collapsed": true,
        "id": "8sT_uKHh6L1g"
      },
      "outputs": [],
      "source": [
        "st = 'hello my name is Sam'"
      ]
    },
    {
      "cell_type": "code",
      "execution_count": 102,
      "metadata": {
        "colab": {
          "base_uri": "https://localhost:8080/",
          "height": 35
        },
        "id": "MimUwY3A6L1g",
        "outputId": "7e53896e-ba77-4307-bdd4-cc2c1c1fe8f2"
      },
      "outputs": [
        {
          "output_type": "execute_result",
          "data": {
            "text/plain": [
              "'hello my name is sam'"
            ],
            "application/vnd.google.colaboratory.intrinsic+json": {
              "type": "string"
            }
          },
          "metadata": {},
          "execution_count": 102
        }
      ],
      "source": [
        "st.lower()"
      ]
    },
    {
      "cell_type": "code",
      "execution_count": 103,
      "metadata": {
        "colab": {
          "base_uri": "https://localhost:8080/",
          "height": 35
        },
        "id": "olSwSB_G6L1h",
        "outputId": "17bde9ff-6401-4ae3-a522-0f0df85c5f5a"
      },
      "outputs": [
        {
          "output_type": "execute_result",
          "data": {
            "text/plain": [
              "'HELLO MY NAME IS SAM'"
            ],
            "application/vnd.google.colaboratory.intrinsic+json": {
              "type": "string"
            }
          },
          "metadata": {},
          "execution_count": 103
        }
      ],
      "source": [
        "st.upper()"
      ]
    },
    {
      "cell_type": "code",
      "execution_count": 104,
      "metadata": {
        "colab": {
          "base_uri": "https://localhost:8080/"
        },
        "id": "8-32kurz6L1h",
        "outputId": "29469538-2690-4cf4-fd7a-c2cf1e3a02fd"
      },
      "outputs": [
        {
          "output_type": "execute_result",
          "data": {
            "text/plain": [
              "['hello', 'my', 'name', 'is', 'Sam']"
            ]
          },
          "metadata": {},
          "execution_count": 104
        }
      ],
      "source": [
        "st.split()"
      ]
    },
    {
      "cell_type": "code",
      "execution_count": 105,
      "metadata": {
        "collapsed": true,
        "id": "gMWLNgOs6L1h"
      },
      "outputs": [],
      "source": [
        "tweet = 'Go Sports! #Sports'"
      ]
    },
    {
      "cell_type": "code",
      "execution_count": 106,
      "metadata": {
        "colab": {
          "base_uri": "https://localhost:8080/"
        },
        "id": "gOu-JbpS6L1i",
        "outputId": "000725a9-cbc5-4088-bf4f-7d66e633e710"
      },
      "outputs": [
        {
          "output_type": "execute_result",
          "data": {
            "text/plain": [
              "['Go Sports! ', 'Sports']"
            ]
          },
          "metadata": {},
          "execution_count": 106
        }
      ],
      "source": [
        "tweet.split('#')"
      ]
    },
    {
      "cell_type": "code",
      "execution_count": 107,
      "metadata": {
        "colab": {
          "base_uri": "https://localhost:8080/",
          "height": 35
        },
        "id": "X0serPYW6L1i",
        "outputId": "29612c59-b78e-4241-c19c-ec94ec0bc543"
      },
      "outputs": [
        {
          "output_type": "execute_result",
          "data": {
            "text/plain": [
              "'Sports'"
            ],
            "application/vnd.google.colaboratory.intrinsic+json": {
              "type": "string"
            }
          },
          "metadata": {},
          "execution_count": 107
        }
      ],
      "source": [
        "tweet.split('#')[1]"
      ]
    },
    {
      "cell_type": "code",
      "execution_count": 108,
      "metadata": {
        "colab": {
          "base_uri": "https://localhost:8080/"
        },
        "id": "uEYWwXQ46L1j",
        "outputId": "be27fb8f-1d62-44ed-c7f4-598390ddbb08"
      },
      "outputs": [
        {
          "output_type": "execute_result",
          "data": {
            "text/plain": [
              "{'key1': 'item1', 'key2': 'item2'}"
            ]
          },
          "metadata": {},
          "execution_count": 108
        }
      ],
      "source": [
        "d"
      ]
    },
    {
      "cell_type": "code",
      "execution_count": 109,
      "metadata": {
        "colab": {
          "base_uri": "https://localhost:8080/"
        },
        "id": "QPsaeACr6L1k",
        "outputId": "738fa4b8-3b68-48de-f199-aeb01ee489be"
      },
      "outputs": [
        {
          "output_type": "execute_result",
          "data": {
            "text/plain": [
              "dict_keys(['key1', 'key2'])"
            ]
          },
          "metadata": {},
          "execution_count": 109
        }
      ],
      "source": [
        "d.keys()"
      ]
    },
    {
      "cell_type": "code",
      "execution_count": 110,
      "metadata": {
        "colab": {
          "base_uri": "https://localhost:8080/"
        },
        "id": "rYb2EZ3S6L1k",
        "outputId": "5e407d1a-5f28-4c70-ab80-52be56a0d9ca"
      },
      "outputs": [
        {
          "output_type": "execute_result",
          "data": {
            "text/plain": [
              "dict_items([('key1', 'item1'), ('key2', 'item2')])"
            ]
          },
          "metadata": {},
          "execution_count": 110
        }
      ],
      "source": [
        "d.items()"
      ]
    },
    {
      "cell_type": "code",
      "execution_count": 111,
      "metadata": {
        "collapsed": true,
        "id": "V6_Fi6xR6L1k"
      },
      "outputs": [],
      "source": [
        "lst = [1,2,3]"
      ]
    },
    {
      "cell_type": "code",
      "execution_count": 112,
      "metadata": {
        "colab": {
          "base_uri": "https://localhost:8080/"
        },
        "id": "0omIvqgD6L1l",
        "outputId": "781efddf-4214-4d5a-f79e-3c89df2ff8bd"
      },
      "outputs": [
        {
          "output_type": "execute_result",
          "data": {
            "text/plain": [
              "3"
            ]
          },
          "metadata": {},
          "execution_count": 112
        }
      ],
      "source": [
        "lst.pop()"
      ]
    },
    {
      "cell_type": "code",
      "execution_count": 113,
      "metadata": {
        "colab": {
          "base_uri": "https://localhost:8080/"
        },
        "id": "fAq0fu5H6L1l",
        "outputId": "f93ef45c-1359-4351-c109-2b096a6433be"
      },
      "outputs": [
        {
          "output_type": "execute_result",
          "data": {
            "text/plain": [
              "[1, 2]"
            ]
          },
          "metadata": {},
          "execution_count": 113
        }
      ],
      "source": [
        "lst"
      ]
    },
    {
      "cell_type": "code",
      "execution_count": 114,
      "metadata": {
        "colab": {
          "base_uri": "https://localhost:8080/"
        },
        "id": "EHdIb8KN6L1l",
        "outputId": "05a606e7-72e7-4ada-b243-9a8e76b02890"
      },
      "outputs": [
        {
          "output_type": "execute_result",
          "data": {
            "text/plain": [
              "False"
            ]
          },
          "metadata": {},
          "execution_count": 114
        }
      ],
      "source": [
        "'x' in [1,2,3]"
      ]
    },
    {
      "cell_type": "code",
      "execution_count": 115,
      "metadata": {
        "colab": {
          "base_uri": "https://localhost:8080/"
        },
        "id": "e_uY1vQB6L1m",
        "outputId": "79f7bed8-10a1-433f-cdf6-c6b4acfb8cc8"
      },
      "outputs": [
        {
          "output_type": "execute_result",
          "data": {
            "text/plain": [
              "True"
            ]
          },
          "metadata": {},
          "execution_count": 115
        }
      ],
      "source": [
        "'x' in ['x','y','z']"
      ]
    },
    {
      "cell_type": "markdown",
      "metadata": {
        "id": "7YK-qtRK6L1m"
      },
      "source": [
        "# Great Job!"
      ]
    }
  ],
  "metadata": {
    "kernelspec": {
      "display_name": "Python 3",
      "language": "python",
      "name": "python3"
    },
    "language_info": {
      "codemirror_mode": {
        "name": "ipython",
        "version": 3
      },
      "file_extension": ".py",
      "mimetype": "text/x-python",
      "name": "python",
      "nbconvert_exporter": "python",
      "pygments_lexer": "ipython3",
      "version": "3.6.2"
    },
    "colab": {
      "provenance": [],
      "include_colab_link": true
    }
  },
  "nbformat": 4,
  "nbformat_minor": 0
}