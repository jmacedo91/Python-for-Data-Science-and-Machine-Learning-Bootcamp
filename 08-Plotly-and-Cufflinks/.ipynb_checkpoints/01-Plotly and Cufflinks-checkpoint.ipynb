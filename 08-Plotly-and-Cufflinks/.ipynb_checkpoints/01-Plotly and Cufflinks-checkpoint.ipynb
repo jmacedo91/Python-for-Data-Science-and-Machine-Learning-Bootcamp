{
 "cells": [
  {
   "cell_type": "markdown",
   "metadata": {},
   "source": [
    "___\n",
    "\n",
    "<a href='http://www.pieriandata.com'> <img src='../Pierian_Data_Logo.png' /></a>\n",
    "___\n",
    "# Plotly and Cufflinks"
   ]
  },
  {
   "cell_type": "markdown",
   "metadata": {},
   "source": [
    "Plotly is a library that allows you to create interactive plots that you can use in dashboards or websites (you can save them as html files or static images).\n",
    "\n",
    "## Installation\n",
    "\n",
    "In order for this all to work, you'll need to install plotly and cufflinks to call plots directly off of a pandas dataframe. These libraries are not currently available through **conda** but are available through **pip**. Install the libraries at your command line/terminal using:\n",
    "\n",
    "    pip install plotly\n",
    "    pip install cufflinks\n",
    "\n",
    "** NOTE: Make sure you only have one installation of Python on your computer when you do this, otherwise the installation may not work. **\n",
    "\n",
    "## Imports and Set-up"
   ]
  },
  {
   "cell_type": "code",
   "execution_count": 1,
   "metadata": {},
   "outputs": [],
   "source": [
    "import pandas as pd\n",
    "import numpy as np\n",
    "%matplotlib inline"
   ]
  },
  {
   "cell_type": "code",
   "execution_count": 2,
   "metadata": {},
   "outputs": [
    {
     "name": "stdout",
     "output_type": "stream",
     "text": [
      "5.6.0\n"
     ]
    }
   ],
   "source": [
    "from plotly import __version__\n",
    "from plotly.offline import download_plotlyjs, init_notebook_mode, plot, iplot\n",
    "\n",
    "print(__version__) # requires version >= 1.9.0"
   ]
  },
  {
   "cell_type": "code",
   "execution_count": 3,
   "metadata": {},
   "outputs": [],
   "source": [
    "import cufflinks as cf"
   ]
  },
  {
   "cell_type": "code",
   "execution_count": 4,
   "metadata": {},
   "outputs": [
    {
     "data": {
      "text/html": [
       "        <script type=\"text/javascript\">\n",
       "        window.PlotlyConfig = {MathJaxConfig: 'local'};\n",
       "        if (window.MathJax) {MathJax.Hub.Config({SVG: {font: \"STIX-Web\"}});}\n",
       "        if (typeof require !== 'undefined') {\n",
       "        require.undef(\"plotly\");\n",
       "        requirejs.config({\n",
       "            paths: {\n",
       "                'plotly': ['https://cdn.plot.ly/plotly-2.9.0.min']\n",
       "            }\n",
       "        });\n",
       "        require(['plotly'], function(Plotly) {\n",
       "            window._Plotly = Plotly;\n",
       "        });\n",
       "        }\n",
       "        </script>\n",
       "        "
      ]
     },
     "metadata": {},
     "output_type": "display_data"
    }
   ],
   "source": [
    "# For Notebooks\n",
    "init_notebook_mode(connected=True)"
   ]
  },
  {
   "cell_type": "code",
   "execution_count": 5,
   "metadata": {},
   "outputs": [
    {
     "data": {
      "text/html": [
       "        <script type=\"text/javascript\">\n",
       "        window.PlotlyConfig = {MathJaxConfig: 'local'};\n",
       "        if (window.MathJax) {MathJax.Hub.Config({SVG: {font: \"STIX-Web\"}});}\n",
       "        if (typeof require !== 'undefined') {\n",
       "        require.undef(\"plotly\");\n",
       "        requirejs.config({\n",
       "            paths: {\n",
       "                'plotly': ['https://cdn.plot.ly/plotly-2.9.0.min']\n",
       "            }\n",
       "        });\n",
       "        require(['plotly'], function(Plotly) {\n",
       "            window._Plotly = Plotly;\n",
       "        });\n",
       "        }\n",
       "        </script>\n",
       "        "
      ]
     },
     "metadata": {},
     "output_type": "display_data"
    }
   ],
   "source": [
    "# For offline use\n",
    "cf.go_offline()"
   ]
  },
  {
   "cell_type": "markdown",
   "metadata": {},
   "source": [
    "### Fake Data"
   ]
  },
  {
   "cell_type": "code",
   "execution_count": 6,
   "metadata": {},
   "outputs": [],
   "source": [
    "df = pd.DataFrame(np.random.randn(100,4),columns='A B C D'.split())"
   ]
  },
  {
   "cell_type": "code",
   "execution_count": 7,
   "metadata": {},
   "outputs": [
    {
     "data": {
      "text/html": [
       "<div>\n",
       "<style scoped>\n",
       "    .dataframe tbody tr th:only-of-type {\n",
       "        vertical-align: middle;\n",
       "    }\n",
       "\n",
       "    .dataframe tbody tr th {\n",
       "        vertical-align: top;\n",
       "    }\n",
       "\n",
       "    .dataframe thead th {\n",
       "        text-align: right;\n",
       "    }\n",
       "</style>\n",
       "<table border=\"1\" class=\"dataframe\">\n",
       "  <thead>\n",
       "    <tr style=\"text-align: right;\">\n",
       "      <th></th>\n",
       "      <th>A</th>\n",
       "      <th>B</th>\n",
       "      <th>C</th>\n",
       "      <th>D</th>\n",
       "    </tr>\n",
       "  </thead>\n",
       "  <tbody>\n",
       "    <tr>\n",
       "      <th>0</th>\n",
       "      <td>0.386412</td>\n",
       "      <td>0.663645</td>\n",
       "      <td>-0.653812</td>\n",
       "      <td>0.475704</td>\n",
       "    </tr>\n",
       "    <tr>\n",
       "      <th>1</th>\n",
       "      <td>1.204197</td>\n",
       "      <td>0.853989</td>\n",
       "      <td>0.296322</td>\n",
       "      <td>0.590059</td>\n",
       "    </tr>\n",
       "    <tr>\n",
       "      <th>2</th>\n",
       "      <td>0.891581</td>\n",
       "      <td>0.718272</td>\n",
       "      <td>0.179406</td>\n",
       "      <td>1.489892</td>\n",
       "    </tr>\n",
       "    <tr>\n",
       "      <th>3</th>\n",
       "      <td>0.694631</td>\n",
       "      <td>-0.231317</td>\n",
       "      <td>0.647663</td>\n",
       "      <td>-0.101290</td>\n",
       "    </tr>\n",
       "    <tr>\n",
       "      <th>4</th>\n",
       "      <td>0.277653</td>\n",
       "      <td>1.052068</td>\n",
       "      <td>-0.100438</td>\n",
       "      <td>1.159799</td>\n",
       "    </tr>\n",
       "  </tbody>\n",
       "</table>\n",
       "</div>"
      ],
      "text/plain": [
       "          A         B         C         D\n",
       "0  0.386412  0.663645 -0.653812  0.475704\n",
       "1  1.204197  0.853989  0.296322  0.590059\n",
       "2  0.891581  0.718272  0.179406  1.489892\n",
       "3  0.694631 -0.231317  0.647663 -0.101290\n",
       "4  0.277653  1.052068 -0.100438  1.159799"
      ]
     },
     "execution_count": 7,
     "metadata": {},
     "output_type": "execute_result"
    }
   ],
   "source": [
    "df.head()"
   ]
  },
  {
   "cell_type": "code",
   "execution_count": 8,
   "metadata": {},
   "outputs": [],
   "source": [
    "df2 = pd.DataFrame({'Category':['A','B','C'],'Values':[32,43,50]})"
   ]
  },
  {
   "cell_type": "code",
   "execution_count": 9,
   "metadata": {},
   "outputs": [
    {
     "data": {
      "text/html": [
       "<div>\n",
       "<style scoped>\n",
       "    .dataframe tbody tr th:only-of-type {\n",
       "        vertical-align: middle;\n",
       "    }\n",
       "\n",
       "    .dataframe tbody tr th {\n",
       "        vertical-align: top;\n",
       "    }\n",
       "\n",
       "    .dataframe thead th {\n",
       "        text-align: right;\n",
       "    }\n",
       "</style>\n",
       "<table border=\"1\" class=\"dataframe\">\n",
       "  <thead>\n",
       "    <tr style=\"text-align: right;\">\n",
       "      <th></th>\n",
       "      <th>Category</th>\n",
       "      <th>Values</th>\n",
       "    </tr>\n",
       "  </thead>\n",
       "  <tbody>\n",
       "    <tr>\n",
       "      <th>0</th>\n",
       "      <td>A</td>\n",
       "      <td>32</td>\n",
       "    </tr>\n",
       "    <tr>\n",
       "      <th>1</th>\n",
       "      <td>B</td>\n",
       "      <td>43</td>\n",
       "    </tr>\n",
       "    <tr>\n",
       "      <th>2</th>\n",
       "      <td>C</td>\n",
       "      <td>50</td>\n",
       "    </tr>\n",
       "  </tbody>\n",
       "</table>\n",
       "</div>"
      ],
      "text/plain": [
       "  Category  Values\n",
       "0        A      32\n",
       "1        B      43\n",
       "2        C      50"
      ]
     },
     "execution_count": 9,
     "metadata": {},
     "output_type": "execute_result"
    }
   ],
   "source": [
    "df2.head()"
   ]
  },
  {
   "cell_type": "markdown",
   "metadata": {},
   "source": [
    "## Using Cufflinks and iplot()\n",
    "\n",
    "* scatter\n",
    "* bar\n",
    "* box\n",
    "* spread\n",
    "* ratio\n",
    "* heatmap\n",
    "* surface\n",
    "* histogram\n",
    "* bubble"
   ]
  },
  {
   "cell_type": "markdown",
   "metadata": {},
   "source": [
    "## Scatter"
   ]
  },
  {
   "cell_type": "code",
   "execution_count": 10,
   "metadata": {},
   "outputs": [
    {
     "data": {
      "application/vnd.plotly.v1+json": {
       "config": {
        "linkText": "Export to plot.ly",
        "plotlyServerURL": "https://plot.ly",
        "showLink": true
       },
       "data": [
        {
         "line": {
          "color": "rgba(255, 153, 51, 1.0)",
          "dash": "solid",
          "shape": "linear",
          "width": 1.3
         },
         "marker": {
          "size": 10,
          "symbol": "circle"
         },
         "mode": "markers",
         "name": "B",
         "text": "",
         "type": "scatter",
         "x": [
          0.3864119162303842,
          1.204197254885549,
          0.8915805046705403,
          0.6946310665445125,
          0.27765294539122676,
          0.5420527940393374,
          0.23163388502617024,
          -0.24611912165954075,
          0.1975421663222593,
          0.8306471225012765,
          -0.5947951947859332,
          0.07533484285624369,
          -0.48662233745461614,
          1.2095431597771475,
          1.4388081805724247,
          1.3213720547077155,
          -1.542678635966428,
          -0.24637024407810829,
          -0.05115857332615439,
          0.21033451070698972,
          3.1612127350544856,
          -1.3787329216099466,
          -0.39174937013067923,
          -1.464323976922046,
          -1.621593224518355,
          0.15333833029814659,
          -0.7801974870265284,
          -1.730171318650708,
          -0.1720820731605149,
          -1.4979155734855347,
          0.316666982307522,
          0.1429949741686534,
          -0.5073673656104781,
          0.8917748631288538,
          2.085554829503526,
          1.4364692534114378,
          -0.38471538218531065,
          -0.5217697385214842,
          0.17919576221160585,
          -0.1905462288446752,
          0.8396965913811204,
          -1.1132884509071437,
          0.24339161281964752,
          -1.429548270239324,
          -0.5806266492981891,
          -1.8770382428692274,
          -0.8888074513675872,
          0.24316207731286255,
          0.4982225352735528,
          -0.034273365889114026,
          -0.5825018111849762,
          -0.8798476373749529,
          1.1995589876220574,
          1.669952108825188,
          -0.3872968742445013,
          -1.0494059696781197,
          0.40754686773647897,
          -1.247921791425569,
          -0.3806257771839392,
          -0.5216481009040306,
          1.5405864399231293,
          -0.12969459449988752,
          -0.4523693590554315,
          -1.1046653902623707,
          1.6385742609526037,
          -0.541543061446402,
          0.8324264462958443,
          1.22474992003944,
          -0.09938681665143169,
          1.0468396972670604,
          -0.18671385796428455,
          -0.38257096000942087,
          0.5438194423985938,
          -0.19667430866170896,
          0.19775465238386308,
          -1.4257793282210245,
          0.23259243306741084,
          -0.7775097925144028,
          -1.0023132477348573,
          -0.2026193056462473,
          1.211440099443612,
          -1.563756949537177,
          0.5652204704929931,
          0.22997063377231486,
          0.6141551613384159,
          -0.5967768099632359,
          -0.8636424612336109,
          1.625871151332099,
          0.9218537869175375,
          0.28860763267064904,
          0.264056480265417,
          -1.7034195957732086,
          -1.2735263824434337,
          0.0453635049200079,
          1.7750461014137107,
          0.5036219550962464,
          1.659598689144155,
          0.9941880574328251,
          -0.293563658171593,
          -0.5632201905824927
         ],
         "y": [
          0.663644916668608,
          0.8539894629565865,
          0.7182721805036181,
          -0.23131728651643915,
          1.0520682868690088,
          0.512886451876651,
          0.3962742013757297,
          0.19244837036910498,
          0.6942048027893358,
          -0.2722249899358359,
          0.6634385692004368,
          0.9800891949991442,
          1.1118229049368433,
          -0.10678861848750934,
          0.4690419300255005,
          -0.9723919008515634,
          -1.8757792550845664,
          0.8625745446710906,
          -0.7827619578718803,
          1.6677033232903173,
          1.1146211902632992,
          -1.3538638195878034,
          -0.31828942591868525,
          -0.003779765834421749,
          -0.815296361103711,
          1.1123892326502263,
          -0.7845936279014872,
          -1.9797114354721983,
          -1.390372692915758,
          1.6503369920929167,
          -0.14899684895433177,
          -0.8231575334399924,
          0.16104253963553297,
          0.7836004550291542,
          -0.33153498382638535,
          0.8407689388417556,
          -0.03281131948110183,
          0.12231113887453894,
          -0.018984964617667407,
          -0.6402845786433076,
          -0.12032126474864979,
          0.7349396313531462,
          -0.8960260796006839,
          0.7576566829971076,
          1.5999888684153223,
          -1.1286716075963636,
          1.5534085433341411,
          -0.7244406208197438,
          0.9263127855310453,
          -0.5391208826579759,
          -0.22257653120121626,
          0.4034032365585807,
          1.3094635291740735,
          -0.17829845039408723,
          -0.34107945675869356,
          1.1031629412688133,
          1.1937899917993917,
          -1.3332954918220914,
          -0.008346989593206655,
          -0.6328859674322583,
          -0.7205485931175036,
          1.0154031030661033,
          -1.5408076869474618,
          -0.1865187258517424,
          -0.48252363590092134,
          1.1208765865460928,
          -0.1206576183143393,
          0.3111316770088429,
          -0.8692757764238744,
          0.2683730398176634,
          1.201520534380479,
          1.8412641038761008,
          1.1903462992361296,
          -0.0972977226935668,
          0.35613581513712733,
          1.6478213551010252,
          -0.3197494553823164,
          0.28441072498000314,
          -1.6810004114282828,
          0.2943187027071099,
          -0.8031971015880753,
          -1.0280244607883133,
          -0.3548532385182408,
          -0.2997666538463908,
          -1.0143036354426633,
          -0.45467754603306093,
          0.4520630514102458,
          -1.1233903175090119,
          -0.27233724745283466,
          -0.29285161781770586,
          -0.7418022189104699,
          -1.1562087044083964,
          -0.6457668576781612,
          0.5373550478693669,
          1.2242863244276385,
          -0.9874880065577107,
          -0.6471030553787697,
          -0.048739317504564866,
          -0.23677463664566517,
          0.42998336423142036
         ]
        }
       ],
       "layout": {
        "legend": {
         "bgcolor": "#F5F6F9",
         "font": {
          "color": "#4D5663"
         }
        },
        "paper_bgcolor": "#F5F6F9",
        "plot_bgcolor": "#F5F6F9",
        "template": {
         "data": {
          "bar": [
           {
            "error_x": {
             "color": "#2a3f5f"
            },
            "error_y": {
             "color": "#2a3f5f"
            },
            "marker": {
             "line": {
              "color": "#E5ECF6",
              "width": 0.5
             },
             "pattern": {
              "fillmode": "overlay",
              "size": 10,
              "solidity": 0.2
             }
            },
            "type": "bar"
           }
          ],
          "barpolar": [
           {
            "marker": {
             "line": {
              "color": "#E5ECF6",
              "width": 0.5
             },
             "pattern": {
              "fillmode": "overlay",
              "size": 10,
              "solidity": 0.2
             }
            },
            "type": "barpolar"
           }
          ],
          "carpet": [
           {
            "aaxis": {
             "endlinecolor": "#2a3f5f",
             "gridcolor": "white",
             "linecolor": "white",
             "minorgridcolor": "white",
             "startlinecolor": "#2a3f5f"
            },
            "baxis": {
             "endlinecolor": "#2a3f5f",
             "gridcolor": "white",
             "linecolor": "white",
             "minorgridcolor": "white",
             "startlinecolor": "#2a3f5f"
            },
            "type": "carpet"
           }
          ],
          "choropleth": [
           {
            "colorbar": {
             "outlinewidth": 0,
             "ticks": ""
            },
            "type": "choropleth"
           }
          ],
          "contour": [
           {
            "colorbar": {
             "outlinewidth": 0,
             "ticks": ""
            },
            "colorscale": [
             [
              0,
              "#0d0887"
             ],
             [
              0.1111111111111111,
              "#46039f"
             ],
             [
              0.2222222222222222,
              "#7201a8"
             ],
             [
              0.3333333333333333,
              "#9c179e"
             ],
             [
              0.4444444444444444,
              "#bd3786"
             ],
             [
              0.5555555555555556,
              "#d8576b"
             ],
             [
              0.6666666666666666,
              "#ed7953"
             ],
             [
              0.7777777777777778,
              "#fb9f3a"
             ],
             [
              0.8888888888888888,
              "#fdca26"
             ],
             [
              1,
              "#f0f921"
             ]
            ],
            "type": "contour"
           }
          ],
          "contourcarpet": [
           {
            "colorbar": {
             "outlinewidth": 0,
             "ticks": ""
            },
            "type": "contourcarpet"
           }
          ],
          "heatmap": [
           {
            "colorbar": {
             "outlinewidth": 0,
             "ticks": ""
            },
            "colorscale": [
             [
              0,
              "#0d0887"
             ],
             [
              0.1111111111111111,
              "#46039f"
             ],
             [
              0.2222222222222222,
              "#7201a8"
             ],
             [
              0.3333333333333333,
              "#9c179e"
             ],
             [
              0.4444444444444444,
              "#bd3786"
             ],
             [
              0.5555555555555556,
              "#d8576b"
             ],
             [
              0.6666666666666666,
              "#ed7953"
             ],
             [
              0.7777777777777778,
              "#fb9f3a"
             ],
             [
              0.8888888888888888,
              "#fdca26"
             ],
             [
              1,
              "#f0f921"
             ]
            ],
            "type": "heatmap"
           }
          ],
          "heatmapgl": [
           {
            "colorbar": {
             "outlinewidth": 0,
             "ticks": ""
            },
            "colorscale": [
             [
              0,
              "#0d0887"
             ],
             [
              0.1111111111111111,
              "#46039f"
             ],
             [
              0.2222222222222222,
              "#7201a8"
             ],
             [
              0.3333333333333333,
              "#9c179e"
             ],
             [
              0.4444444444444444,
              "#bd3786"
             ],
             [
              0.5555555555555556,
              "#d8576b"
             ],
             [
              0.6666666666666666,
              "#ed7953"
             ],
             [
              0.7777777777777778,
              "#fb9f3a"
             ],
             [
              0.8888888888888888,
              "#fdca26"
             ],
             [
              1,
              "#f0f921"
             ]
            ],
            "type": "heatmapgl"
           }
          ],
          "histogram": [
           {
            "marker": {
             "pattern": {
              "fillmode": "overlay",
              "size": 10,
              "solidity": 0.2
             }
            },
            "type": "histogram"
           }
          ],
          "histogram2d": [
           {
            "colorbar": {
             "outlinewidth": 0,
             "ticks": ""
            },
            "colorscale": [
             [
              0,
              "#0d0887"
             ],
             [
              0.1111111111111111,
              "#46039f"
             ],
             [
              0.2222222222222222,
              "#7201a8"
             ],
             [
              0.3333333333333333,
              "#9c179e"
             ],
             [
              0.4444444444444444,
              "#bd3786"
             ],
             [
              0.5555555555555556,
              "#d8576b"
             ],
             [
              0.6666666666666666,
              "#ed7953"
             ],
             [
              0.7777777777777778,
              "#fb9f3a"
             ],
             [
              0.8888888888888888,
              "#fdca26"
             ],
             [
              1,
              "#f0f921"
             ]
            ],
            "type": "histogram2d"
           }
          ],
          "histogram2dcontour": [
           {
            "colorbar": {
             "outlinewidth": 0,
             "ticks": ""
            },
            "colorscale": [
             [
              0,
              "#0d0887"
             ],
             [
              0.1111111111111111,
              "#46039f"
             ],
             [
              0.2222222222222222,
              "#7201a8"
             ],
             [
              0.3333333333333333,
              "#9c179e"
             ],
             [
              0.4444444444444444,
              "#bd3786"
             ],
             [
              0.5555555555555556,
              "#d8576b"
             ],
             [
              0.6666666666666666,
              "#ed7953"
             ],
             [
              0.7777777777777778,
              "#fb9f3a"
             ],
             [
              0.8888888888888888,
              "#fdca26"
             ],
             [
              1,
              "#f0f921"
             ]
            ],
            "type": "histogram2dcontour"
           }
          ],
          "mesh3d": [
           {
            "colorbar": {
             "outlinewidth": 0,
             "ticks": ""
            },
            "type": "mesh3d"
           }
          ],
          "parcoords": [
           {
            "line": {
             "colorbar": {
              "outlinewidth": 0,
              "ticks": ""
             }
            },
            "type": "parcoords"
           }
          ],
          "pie": [
           {
            "automargin": true,
            "type": "pie"
           }
          ],
          "scatter": [
           {
            "marker": {
             "colorbar": {
              "outlinewidth": 0,
              "ticks": ""
             }
            },
            "type": "scatter"
           }
          ],
          "scatter3d": [
           {
            "line": {
             "colorbar": {
              "outlinewidth": 0,
              "ticks": ""
             }
            },
            "marker": {
             "colorbar": {
              "outlinewidth": 0,
              "ticks": ""
             }
            },
            "type": "scatter3d"
           }
          ],
          "scattercarpet": [
           {
            "marker": {
             "colorbar": {
              "outlinewidth": 0,
              "ticks": ""
             }
            },
            "type": "scattercarpet"
           }
          ],
          "scattergeo": [
           {
            "marker": {
             "colorbar": {
              "outlinewidth": 0,
              "ticks": ""
             }
            },
            "type": "scattergeo"
           }
          ],
          "scattergl": [
           {
            "marker": {
             "colorbar": {
              "outlinewidth": 0,
              "ticks": ""
             }
            },
            "type": "scattergl"
           }
          ],
          "scattermapbox": [
           {
            "marker": {
             "colorbar": {
              "outlinewidth": 0,
              "ticks": ""
             }
            },
            "type": "scattermapbox"
           }
          ],
          "scatterpolar": [
           {
            "marker": {
             "colorbar": {
              "outlinewidth": 0,
              "ticks": ""
             }
            },
            "type": "scatterpolar"
           }
          ],
          "scatterpolargl": [
           {
            "marker": {
             "colorbar": {
              "outlinewidth": 0,
              "ticks": ""
             }
            },
            "type": "scatterpolargl"
           }
          ],
          "scatterternary": [
           {
            "marker": {
             "colorbar": {
              "outlinewidth": 0,
              "ticks": ""
             }
            },
            "type": "scatterternary"
           }
          ],
          "surface": [
           {
            "colorbar": {
             "outlinewidth": 0,
             "ticks": ""
            },
            "colorscale": [
             [
              0,
              "#0d0887"
             ],
             [
              0.1111111111111111,
              "#46039f"
             ],
             [
              0.2222222222222222,
              "#7201a8"
             ],
             [
              0.3333333333333333,
              "#9c179e"
             ],
             [
              0.4444444444444444,
              "#bd3786"
             ],
             [
              0.5555555555555556,
              "#d8576b"
             ],
             [
              0.6666666666666666,
              "#ed7953"
             ],
             [
              0.7777777777777778,
              "#fb9f3a"
             ],
             [
              0.8888888888888888,
              "#fdca26"
             ],
             [
              1,
              "#f0f921"
             ]
            ],
            "type": "surface"
           }
          ],
          "table": [
           {
            "cells": {
             "fill": {
              "color": "#EBF0F8"
             },
             "line": {
              "color": "white"
             }
            },
            "header": {
             "fill": {
              "color": "#C8D4E3"
             },
             "line": {
              "color": "white"
             }
            },
            "type": "table"
           }
          ]
         },
         "layout": {
          "annotationdefaults": {
           "arrowcolor": "#2a3f5f",
           "arrowhead": 0,
           "arrowwidth": 1
          },
          "autotypenumbers": "strict",
          "coloraxis": {
           "colorbar": {
            "outlinewidth": 0,
            "ticks": ""
           }
          },
          "colorscale": {
           "diverging": [
            [
             0,
             "#8e0152"
            ],
            [
             0.1,
             "#c51b7d"
            ],
            [
             0.2,
             "#de77ae"
            ],
            [
             0.3,
             "#f1b6da"
            ],
            [
             0.4,
             "#fde0ef"
            ],
            [
             0.5,
             "#f7f7f7"
            ],
            [
             0.6,
             "#e6f5d0"
            ],
            [
             0.7,
             "#b8e186"
            ],
            [
             0.8,
             "#7fbc41"
            ],
            [
             0.9,
             "#4d9221"
            ],
            [
             1,
             "#276419"
            ]
           ],
           "sequential": [
            [
             0,
             "#0d0887"
            ],
            [
             0.1111111111111111,
             "#46039f"
            ],
            [
             0.2222222222222222,
             "#7201a8"
            ],
            [
             0.3333333333333333,
             "#9c179e"
            ],
            [
             0.4444444444444444,
             "#bd3786"
            ],
            [
             0.5555555555555556,
             "#d8576b"
            ],
            [
             0.6666666666666666,
             "#ed7953"
            ],
            [
             0.7777777777777778,
             "#fb9f3a"
            ],
            [
             0.8888888888888888,
             "#fdca26"
            ],
            [
             1,
             "#f0f921"
            ]
           ],
           "sequentialminus": [
            [
             0,
             "#0d0887"
            ],
            [
             0.1111111111111111,
             "#46039f"
            ],
            [
             0.2222222222222222,
             "#7201a8"
            ],
            [
             0.3333333333333333,
             "#9c179e"
            ],
            [
             0.4444444444444444,
             "#bd3786"
            ],
            [
             0.5555555555555556,
             "#d8576b"
            ],
            [
             0.6666666666666666,
             "#ed7953"
            ],
            [
             0.7777777777777778,
             "#fb9f3a"
            ],
            [
             0.8888888888888888,
             "#fdca26"
            ],
            [
             1,
             "#f0f921"
            ]
           ]
          },
          "colorway": [
           "#636efa",
           "#EF553B",
           "#00cc96",
           "#ab63fa",
           "#FFA15A",
           "#19d3f3",
           "#FF6692",
           "#B6E880",
           "#FF97FF",
           "#FECB52"
          ],
          "font": {
           "color": "#2a3f5f"
          },
          "geo": {
           "bgcolor": "white",
           "lakecolor": "white",
           "landcolor": "#E5ECF6",
           "showlakes": true,
           "showland": true,
           "subunitcolor": "white"
          },
          "hoverlabel": {
           "align": "left"
          },
          "hovermode": "closest",
          "mapbox": {
           "style": "light"
          },
          "paper_bgcolor": "white",
          "plot_bgcolor": "#E5ECF6",
          "polar": {
           "angularaxis": {
            "gridcolor": "white",
            "linecolor": "white",
            "ticks": ""
           },
           "bgcolor": "#E5ECF6",
           "radialaxis": {
            "gridcolor": "white",
            "linecolor": "white",
            "ticks": ""
           }
          },
          "scene": {
           "xaxis": {
            "backgroundcolor": "#E5ECF6",
            "gridcolor": "white",
            "gridwidth": 2,
            "linecolor": "white",
            "showbackground": true,
            "ticks": "",
            "zerolinecolor": "white"
           },
           "yaxis": {
            "backgroundcolor": "#E5ECF6",
            "gridcolor": "white",
            "gridwidth": 2,
            "linecolor": "white",
            "showbackground": true,
            "ticks": "",
            "zerolinecolor": "white"
           },
           "zaxis": {
            "backgroundcolor": "#E5ECF6",
            "gridcolor": "white",
            "gridwidth": 2,
            "linecolor": "white",
            "showbackground": true,
            "ticks": "",
            "zerolinecolor": "white"
           }
          },
          "shapedefaults": {
           "line": {
            "color": "#2a3f5f"
           }
          },
          "ternary": {
           "aaxis": {
            "gridcolor": "white",
            "linecolor": "white",
            "ticks": ""
           },
           "baxis": {
            "gridcolor": "white",
            "linecolor": "white",
            "ticks": ""
           },
           "bgcolor": "#E5ECF6",
           "caxis": {
            "gridcolor": "white",
            "linecolor": "white",
            "ticks": ""
           }
          },
          "title": {
           "x": 0.05
          },
          "xaxis": {
           "automargin": true,
           "gridcolor": "white",
           "linecolor": "white",
           "ticks": "",
           "title": {
            "standoff": 15
           },
           "zerolinecolor": "white",
           "zerolinewidth": 2
          },
          "yaxis": {
           "automargin": true,
           "gridcolor": "white",
           "linecolor": "white",
           "ticks": "",
           "title": {
            "standoff": 15
           },
           "zerolinecolor": "white",
           "zerolinewidth": 2
          }
         }
        },
        "title": {
         "font": {
          "color": "#4D5663"
         }
        },
        "xaxis": {
         "gridcolor": "#E1E5ED",
         "showgrid": true,
         "tickfont": {
          "color": "#4D5663"
         },
         "title": {
          "font": {
           "color": "#4D5663"
          },
          "text": ""
         },
         "zerolinecolor": "#E1E5ED"
        },
        "yaxis": {
         "gridcolor": "#E1E5ED",
         "showgrid": true,
         "tickfont": {
          "color": "#4D5663"
         },
         "title": {
          "font": {
           "color": "#4D5663"
          },
          "text": ""
         },
         "zerolinecolor": "#E1E5ED"
        }
       }
      },
      "text/html": [
       "<div>                            <div id=\"e492b5ea-1584-46e6-a6e1-927039c9e63b\" class=\"plotly-graph-div\" style=\"height:525px; width:100%;\"></div>            <script type=\"text/javascript\">                require([\"plotly\"], function(Plotly) {                    window.PLOTLYENV=window.PLOTLYENV || {};\n",
       "                    window.PLOTLYENV.BASE_URL='https://plot.ly';                                    if (document.getElementById(\"e492b5ea-1584-46e6-a6e1-927039c9e63b\")) {                    Plotly.newPlot(                        \"e492b5ea-1584-46e6-a6e1-927039c9e63b\",                        [{\"line\":{\"color\":\"rgba(255, 153, 51, 1.0)\",\"dash\":\"solid\",\"shape\":\"linear\",\"width\":1.3},\"marker\":{\"size\":10,\"symbol\":\"circle\"},\"mode\":\"markers\",\"name\":\"B\",\"text\":\"\",\"x\":[0.3864119162303842,1.204197254885549,0.8915805046705403,0.6946310665445125,0.27765294539122676,0.5420527940393374,0.23163388502617024,-0.24611912165954075,0.1975421663222593,0.8306471225012765,-0.5947951947859332,0.07533484285624369,-0.48662233745461614,1.2095431597771475,1.4388081805724247,1.3213720547077155,-1.542678635966428,-0.24637024407810829,-0.05115857332615439,0.21033451070698972,3.1612127350544856,-1.3787329216099466,-0.39174937013067923,-1.464323976922046,-1.621593224518355,0.15333833029814659,-0.7801974870265284,-1.730171318650708,-0.1720820731605149,-1.4979155734855347,0.316666982307522,0.1429949741686534,-0.5073673656104781,0.8917748631288538,2.085554829503526,1.4364692534114378,-0.38471538218531065,-0.5217697385214842,0.17919576221160585,-0.1905462288446752,0.8396965913811204,-1.1132884509071437,0.24339161281964752,-1.429548270239324,-0.5806266492981891,-1.8770382428692274,-0.8888074513675872,0.24316207731286255,0.4982225352735528,-0.034273365889114026,-0.5825018111849762,-0.8798476373749529,1.1995589876220574,1.669952108825188,-0.3872968742445013,-1.0494059696781197,0.40754686773647897,-1.247921791425569,-0.3806257771839392,-0.5216481009040306,1.5405864399231293,-0.12969459449988752,-0.4523693590554315,-1.1046653902623707,1.6385742609526037,-0.541543061446402,0.8324264462958443,1.22474992003944,-0.09938681665143169,1.0468396972670604,-0.18671385796428455,-0.38257096000942087,0.5438194423985938,-0.19667430866170896,0.19775465238386308,-1.4257793282210245,0.23259243306741084,-0.7775097925144028,-1.0023132477348573,-0.2026193056462473,1.211440099443612,-1.563756949537177,0.5652204704929931,0.22997063377231486,0.6141551613384159,-0.5967768099632359,-0.8636424612336109,1.625871151332099,0.9218537869175375,0.28860763267064904,0.264056480265417,-1.7034195957732086,-1.2735263824434337,0.0453635049200079,1.7750461014137107,0.5036219550962464,1.659598689144155,0.9941880574328251,-0.293563658171593,-0.5632201905824927],\"y\":[0.663644916668608,0.8539894629565865,0.7182721805036181,-0.23131728651643915,1.0520682868690088,0.512886451876651,0.3962742013757297,0.19244837036910498,0.6942048027893358,-0.2722249899358359,0.6634385692004368,0.9800891949991442,1.1118229049368433,-0.10678861848750934,0.4690419300255005,-0.9723919008515634,-1.8757792550845664,0.8625745446710906,-0.7827619578718803,1.6677033232903173,1.1146211902632992,-1.3538638195878034,-0.31828942591868525,-0.003779765834421749,-0.815296361103711,1.1123892326502263,-0.7845936279014872,-1.9797114354721983,-1.390372692915758,1.6503369920929167,-0.14899684895433177,-0.8231575334399924,0.16104253963553297,0.7836004550291542,-0.33153498382638535,0.8407689388417556,-0.03281131948110183,0.12231113887453894,-0.018984964617667407,-0.6402845786433076,-0.12032126474864979,0.7349396313531462,-0.8960260796006839,0.7576566829971076,1.5999888684153223,-1.1286716075963636,1.5534085433341411,-0.7244406208197438,0.9263127855310453,-0.5391208826579759,-0.22257653120121626,0.4034032365585807,1.3094635291740735,-0.17829845039408723,-0.34107945675869356,1.1031629412688133,1.1937899917993917,-1.3332954918220914,-0.008346989593206655,-0.6328859674322583,-0.7205485931175036,1.0154031030661033,-1.5408076869474618,-0.1865187258517424,-0.48252363590092134,1.1208765865460928,-0.1206576183143393,0.3111316770088429,-0.8692757764238744,0.2683730398176634,1.201520534380479,1.8412641038761008,1.1903462992361296,-0.0972977226935668,0.35613581513712733,1.6478213551010252,-0.3197494553823164,0.28441072498000314,-1.6810004114282828,0.2943187027071099,-0.8031971015880753,-1.0280244607883133,-0.3548532385182408,-0.2997666538463908,-1.0143036354426633,-0.45467754603306093,0.4520630514102458,-1.1233903175090119,-0.27233724745283466,-0.29285161781770586,-0.7418022189104699,-1.1562087044083964,-0.6457668576781612,0.5373550478693669,1.2242863244276385,-0.9874880065577107,-0.6471030553787697,-0.048739317504564866,-0.23677463664566517,0.42998336423142036],\"type\":\"scatter\"}],                        {\"legend\":{\"bgcolor\":\"#F5F6F9\",\"font\":{\"color\":\"#4D5663\"}},\"paper_bgcolor\":\"#F5F6F9\",\"plot_bgcolor\":\"#F5F6F9\",\"template\":{\"data\":{\"barpolar\":[{\"marker\":{\"line\":{\"color\":\"#E5ECF6\",\"width\":0.5},\"pattern\":{\"fillmode\":\"overlay\",\"size\":10,\"solidity\":0.2}},\"type\":\"barpolar\"}],\"bar\":[{\"error_x\":{\"color\":\"#2a3f5f\"},\"error_y\":{\"color\":\"#2a3f5f\"},\"marker\":{\"line\":{\"color\":\"#E5ECF6\",\"width\":0.5},\"pattern\":{\"fillmode\":\"overlay\",\"size\":10,\"solidity\":0.2}},\"type\":\"bar\"}],\"carpet\":[{\"aaxis\":{\"endlinecolor\":\"#2a3f5f\",\"gridcolor\":\"white\",\"linecolor\":\"white\",\"minorgridcolor\":\"white\",\"startlinecolor\":\"#2a3f5f\"},\"baxis\":{\"endlinecolor\":\"#2a3f5f\",\"gridcolor\":\"white\",\"linecolor\":\"white\",\"minorgridcolor\":\"white\",\"startlinecolor\":\"#2a3f5f\"},\"type\":\"carpet\"}],\"choropleth\":[{\"colorbar\":{\"outlinewidth\":0,\"ticks\":\"\"},\"type\":\"choropleth\"}],\"contourcarpet\":[{\"colorbar\":{\"outlinewidth\":0,\"ticks\":\"\"},\"type\":\"contourcarpet\"}],\"contour\":[{\"colorbar\":{\"outlinewidth\":0,\"ticks\":\"\"},\"colorscale\":[[0.0,\"#0d0887\"],[0.1111111111111111,\"#46039f\"],[0.2222222222222222,\"#7201a8\"],[0.3333333333333333,\"#9c179e\"],[0.4444444444444444,\"#bd3786\"],[0.5555555555555556,\"#d8576b\"],[0.6666666666666666,\"#ed7953\"],[0.7777777777777778,\"#fb9f3a\"],[0.8888888888888888,\"#fdca26\"],[1.0,\"#f0f921\"]],\"type\":\"contour\"}],\"heatmapgl\":[{\"colorbar\":{\"outlinewidth\":0,\"ticks\":\"\"},\"colorscale\":[[0.0,\"#0d0887\"],[0.1111111111111111,\"#46039f\"],[0.2222222222222222,\"#7201a8\"],[0.3333333333333333,\"#9c179e\"],[0.4444444444444444,\"#bd3786\"],[0.5555555555555556,\"#d8576b\"],[0.6666666666666666,\"#ed7953\"],[0.7777777777777778,\"#fb9f3a\"],[0.8888888888888888,\"#fdca26\"],[1.0,\"#f0f921\"]],\"type\":\"heatmapgl\"}],\"heatmap\":[{\"colorbar\":{\"outlinewidth\":0,\"ticks\":\"\"},\"colorscale\":[[0.0,\"#0d0887\"],[0.1111111111111111,\"#46039f\"],[0.2222222222222222,\"#7201a8\"],[0.3333333333333333,\"#9c179e\"],[0.4444444444444444,\"#bd3786\"],[0.5555555555555556,\"#d8576b\"],[0.6666666666666666,\"#ed7953\"],[0.7777777777777778,\"#fb9f3a\"],[0.8888888888888888,\"#fdca26\"],[1.0,\"#f0f921\"]],\"type\":\"heatmap\"}],\"histogram2dcontour\":[{\"colorbar\":{\"outlinewidth\":0,\"ticks\":\"\"},\"colorscale\":[[0.0,\"#0d0887\"],[0.1111111111111111,\"#46039f\"],[0.2222222222222222,\"#7201a8\"],[0.3333333333333333,\"#9c179e\"],[0.4444444444444444,\"#bd3786\"],[0.5555555555555556,\"#d8576b\"],[0.6666666666666666,\"#ed7953\"],[0.7777777777777778,\"#fb9f3a\"],[0.8888888888888888,\"#fdca26\"],[1.0,\"#f0f921\"]],\"type\":\"histogram2dcontour\"}],\"histogram2d\":[{\"colorbar\":{\"outlinewidth\":0,\"ticks\":\"\"},\"colorscale\":[[0.0,\"#0d0887\"],[0.1111111111111111,\"#46039f\"],[0.2222222222222222,\"#7201a8\"],[0.3333333333333333,\"#9c179e\"],[0.4444444444444444,\"#bd3786\"],[0.5555555555555556,\"#d8576b\"],[0.6666666666666666,\"#ed7953\"],[0.7777777777777778,\"#fb9f3a\"],[0.8888888888888888,\"#fdca26\"],[1.0,\"#f0f921\"]],\"type\":\"histogram2d\"}],\"histogram\":[{\"marker\":{\"pattern\":{\"fillmode\":\"overlay\",\"size\":10,\"solidity\":0.2}},\"type\":\"histogram\"}],\"mesh3d\":[{\"colorbar\":{\"outlinewidth\":0,\"ticks\":\"\"},\"type\":\"mesh3d\"}],\"parcoords\":[{\"line\":{\"colorbar\":{\"outlinewidth\":0,\"ticks\":\"\"}},\"type\":\"parcoords\"}],\"pie\":[{\"automargin\":true,\"type\":\"pie\"}],\"scatter3d\":[{\"line\":{\"colorbar\":{\"outlinewidth\":0,\"ticks\":\"\"}},\"marker\":{\"colorbar\":{\"outlinewidth\":0,\"ticks\":\"\"}},\"type\":\"scatter3d\"}],\"scattercarpet\":[{\"marker\":{\"colorbar\":{\"outlinewidth\":0,\"ticks\":\"\"}},\"type\":\"scattercarpet\"}],\"scattergeo\":[{\"marker\":{\"colorbar\":{\"outlinewidth\":0,\"ticks\":\"\"}},\"type\":\"scattergeo\"}],\"scattergl\":[{\"marker\":{\"colorbar\":{\"outlinewidth\":0,\"ticks\":\"\"}},\"type\":\"scattergl\"}],\"scattermapbox\":[{\"marker\":{\"colorbar\":{\"outlinewidth\":0,\"ticks\":\"\"}},\"type\":\"scattermapbox\"}],\"scatterpolargl\":[{\"marker\":{\"colorbar\":{\"outlinewidth\":0,\"ticks\":\"\"}},\"type\":\"scatterpolargl\"}],\"scatterpolar\":[{\"marker\":{\"colorbar\":{\"outlinewidth\":0,\"ticks\":\"\"}},\"type\":\"scatterpolar\"}],\"scatter\":[{\"marker\":{\"colorbar\":{\"outlinewidth\":0,\"ticks\":\"\"}},\"type\":\"scatter\"}],\"scatterternary\":[{\"marker\":{\"colorbar\":{\"outlinewidth\":0,\"ticks\":\"\"}},\"type\":\"scatterternary\"}],\"surface\":[{\"colorbar\":{\"outlinewidth\":0,\"ticks\":\"\"},\"colorscale\":[[0.0,\"#0d0887\"],[0.1111111111111111,\"#46039f\"],[0.2222222222222222,\"#7201a8\"],[0.3333333333333333,\"#9c179e\"],[0.4444444444444444,\"#bd3786\"],[0.5555555555555556,\"#d8576b\"],[0.6666666666666666,\"#ed7953\"],[0.7777777777777778,\"#fb9f3a\"],[0.8888888888888888,\"#fdca26\"],[1.0,\"#f0f921\"]],\"type\":\"surface\"}],\"table\":[{\"cells\":{\"fill\":{\"color\":\"#EBF0F8\"},\"line\":{\"color\":\"white\"}},\"header\":{\"fill\":{\"color\":\"#C8D4E3\"},\"line\":{\"color\":\"white\"}},\"type\":\"table\"}]},\"layout\":{\"annotationdefaults\":{\"arrowcolor\":\"#2a3f5f\",\"arrowhead\":0,\"arrowwidth\":1},\"autotypenumbers\":\"strict\",\"coloraxis\":{\"colorbar\":{\"outlinewidth\":0,\"ticks\":\"\"}},\"colorscale\":{\"diverging\":[[0,\"#8e0152\"],[0.1,\"#c51b7d\"],[0.2,\"#de77ae\"],[0.3,\"#f1b6da\"],[0.4,\"#fde0ef\"],[0.5,\"#f7f7f7\"],[0.6,\"#e6f5d0\"],[0.7,\"#b8e186\"],[0.8,\"#7fbc41\"],[0.9,\"#4d9221\"],[1,\"#276419\"]],\"sequential\":[[0.0,\"#0d0887\"],[0.1111111111111111,\"#46039f\"],[0.2222222222222222,\"#7201a8\"],[0.3333333333333333,\"#9c179e\"],[0.4444444444444444,\"#bd3786\"],[0.5555555555555556,\"#d8576b\"],[0.6666666666666666,\"#ed7953\"],[0.7777777777777778,\"#fb9f3a\"],[0.8888888888888888,\"#fdca26\"],[1.0,\"#f0f921\"]],\"sequentialminus\":[[0.0,\"#0d0887\"],[0.1111111111111111,\"#46039f\"],[0.2222222222222222,\"#7201a8\"],[0.3333333333333333,\"#9c179e\"],[0.4444444444444444,\"#bd3786\"],[0.5555555555555556,\"#d8576b\"],[0.6666666666666666,\"#ed7953\"],[0.7777777777777778,\"#fb9f3a\"],[0.8888888888888888,\"#fdca26\"],[1.0,\"#f0f921\"]]},\"colorway\":[\"#636efa\",\"#EF553B\",\"#00cc96\",\"#ab63fa\",\"#FFA15A\",\"#19d3f3\",\"#FF6692\",\"#B6E880\",\"#FF97FF\",\"#FECB52\"],\"font\":{\"color\":\"#2a3f5f\"},\"geo\":{\"bgcolor\":\"white\",\"lakecolor\":\"white\",\"landcolor\":\"#E5ECF6\",\"showlakes\":true,\"showland\":true,\"subunitcolor\":\"white\"},\"hoverlabel\":{\"align\":\"left\"},\"hovermode\":\"closest\",\"mapbox\":{\"style\":\"light\"},\"paper_bgcolor\":\"white\",\"plot_bgcolor\":\"#E5ECF6\",\"polar\":{\"angularaxis\":{\"gridcolor\":\"white\",\"linecolor\":\"white\",\"ticks\":\"\"},\"bgcolor\":\"#E5ECF6\",\"radialaxis\":{\"gridcolor\":\"white\",\"linecolor\":\"white\",\"ticks\":\"\"}},\"scene\":{\"xaxis\":{\"backgroundcolor\":\"#E5ECF6\",\"gridcolor\":\"white\",\"gridwidth\":2,\"linecolor\":\"white\",\"showbackground\":true,\"ticks\":\"\",\"zerolinecolor\":\"white\"},\"yaxis\":{\"backgroundcolor\":\"#E5ECF6\",\"gridcolor\":\"white\",\"gridwidth\":2,\"linecolor\":\"white\",\"showbackground\":true,\"ticks\":\"\",\"zerolinecolor\":\"white\"},\"zaxis\":{\"backgroundcolor\":\"#E5ECF6\",\"gridcolor\":\"white\",\"gridwidth\":2,\"linecolor\":\"white\",\"showbackground\":true,\"ticks\":\"\",\"zerolinecolor\":\"white\"}},\"shapedefaults\":{\"line\":{\"color\":\"#2a3f5f\"}},\"ternary\":{\"aaxis\":{\"gridcolor\":\"white\",\"linecolor\":\"white\",\"ticks\":\"\"},\"baxis\":{\"gridcolor\":\"white\",\"linecolor\":\"white\",\"ticks\":\"\"},\"bgcolor\":\"#E5ECF6\",\"caxis\":{\"gridcolor\":\"white\",\"linecolor\":\"white\",\"ticks\":\"\"}},\"title\":{\"x\":0.05},\"xaxis\":{\"automargin\":true,\"gridcolor\":\"white\",\"linecolor\":\"white\",\"ticks\":\"\",\"title\":{\"standoff\":15},\"zerolinecolor\":\"white\",\"zerolinewidth\":2},\"yaxis\":{\"automargin\":true,\"gridcolor\":\"white\",\"linecolor\":\"white\",\"ticks\":\"\",\"title\":{\"standoff\":15},\"zerolinecolor\":\"white\",\"zerolinewidth\":2}}},\"title\":{\"font\":{\"color\":\"#4D5663\"}},\"xaxis\":{\"gridcolor\":\"#E1E5ED\",\"showgrid\":true,\"tickfont\":{\"color\":\"#4D5663\"},\"title\":{\"font\":{\"color\":\"#4D5663\"},\"text\":\"\"},\"zerolinecolor\":\"#E1E5ED\"},\"yaxis\":{\"gridcolor\":\"#E1E5ED\",\"showgrid\":true,\"tickfont\":{\"color\":\"#4D5663\"},\"title\":{\"font\":{\"color\":\"#4D5663\"},\"text\":\"\"},\"zerolinecolor\":\"#E1E5ED\"}},                        {\"showLink\": true, \"linkText\": \"Export to plot.ly\", \"plotlyServerURL\": \"https://plot.ly\", \"responsive\": true}                    ).then(function(){\n",
       "                            \n",
       "var gd = document.getElementById('e492b5ea-1584-46e6-a6e1-927039c9e63b');\n",
       "var x = new MutationObserver(function (mutations, observer) {{\n",
       "        var display = window.getComputedStyle(gd).display;\n",
       "        if (!display || display === 'none') {{\n",
       "            console.log([gd, 'removed!']);\n",
       "            Plotly.purge(gd);\n",
       "            observer.disconnect();\n",
       "        }}\n",
       "}});\n",
       "\n",
       "// Listen for the removal of the full notebook cells\n",
       "var notebookContainer = gd.closest('#notebook-container');\n",
       "if (notebookContainer) {{\n",
       "    x.observe(notebookContainer, {childList: true});\n",
       "}}\n",
       "\n",
       "// Listen for the clearing of the current output cell\n",
       "var outputEl = gd.closest('.output');\n",
       "if (outputEl) {{\n",
       "    x.observe(outputEl, {childList: true});\n",
       "}}\n",
       "\n",
       "                        })                };                });            </script>        </div>"
      ]
     },
     "metadata": {},
     "output_type": "display_data"
    }
   ],
   "source": [
    "df.iplot(kind='scatter',x='A',y='B',mode='markers',size=10)"
   ]
  },
  {
   "cell_type": "markdown",
   "metadata": {},
   "source": [
    "## Bar Plots"
   ]
  },
  {
   "cell_type": "code",
   "execution_count": 11,
   "metadata": {},
   "outputs": [
    {
     "data": {
      "application/vnd.plotly.v1+json": {
       "config": {
        "linkText": "Export to plot.ly",
        "plotlyServerURL": "https://plot.ly",
        "showLink": true
       },
       "data": [
        {
         "marker": {
          "color": "rgba(255, 153, 51, 0.6)",
          "line": {
           "color": "rgba(255, 153, 51, 1.0)",
           "width": 1
          }
         },
         "name": "Values",
         "orientation": "v",
         "text": "",
         "type": "bar",
         "x": [
          "A",
          "B",
          "C"
         ],
         "y": [
          32,
          43,
          50
         ]
        }
       ],
       "layout": {
        "legend": {
         "bgcolor": "#F5F6F9",
         "font": {
          "color": "#4D5663"
         }
        },
        "paper_bgcolor": "#F5F6F9",
        "plot_bgcolor": "#F5F6F9",
        "template": {
         "data": {
          "bar": [
           {
            "error_x": {
             "color": "#2a3f5f"
            },
            "error_y": {
             "color": "#2a3f5f"
            },
            "marker": {
             "line": {
              "color": "#E5ECF6",
              "width": 0.5
             },
             "pattern": {
              "fillmode": "overlay",
              "size": 10,
              "solidity": 0.2
             }
            },
            "type": "bar"
           }
          ],
          "barpolar": [
           {
            "marker": {
             "line": {
              "color": "#E5ECF6",
              "width": 0.5
             },
             "pattern": {
              "fillmode": "overlay",
              "size": 10,
              "solidity": 0.2
             }
            },
            "type": "barpolar"
           }
          ],
          "carpet": [
           {
            "aaxis": {
             "endlinecolor": "#2a3f5f",
             "gridcolor": "white",
             "linecolor": "white",
             "minorgridcolor": "white",
             "startlinecolor": "#2a3f5f"
            },
            "baxis": {
             "endlinecolor": "#2a3f5f",
             "gridcolor": "white",
             "linecolor": "white",
             "minorgridcolor": "white",
             "startlinecolor": "#2a3f5f"
            },
            "type": "carpet"
           }
          ],
          "choropleth": [
           {
            "colorbar": {
             "outlinewidth": 0,
             "ticks": ""
            },
            "type": "choropleth"
           }
          ],
          "contour": [
           {
            "colorbar": {
             "outlinewidth": 0,
             "ticks": ""
            },
            "colorscale": [
             [
              0,
              "#0d0887"
             ],
             [
              0.1111111111111111,
              "#46039f"
             ],
             [
              0.2222222222222222,
              "#7201a8"
             ],
             [
              0.3333333333333333,
              "#9c179e"
             ],
             [
              0.4444444444444444,
              "#bd3786"
             ],
             [
              0.5555555555555556,
              "#d8576b"
             ],
             [
              0.6666666666666666,
              "#ed7953"
             ],
             [
              0.7777777777777778,
              "#fb9f3a"
             ],
             [
              0.8888888888888888,
              "#fdca26"
             ],
             [
              1,
              "#f0f921"
             ]
            ],
            "type": "contour"
           }
          ],
          "contourcarpet": [
           {
            "colorbar": {
             "outlinewidth": 0,
             "ticks": ""
            },
            "type": "contourcarpet"
           }
          ],
          "heatmap": [
           {
            "colorbar": {
             "outlinewidth": 0,
             "ticks": ""
            },
            "colorscale": [
             [
              0,
              "#0d0887"
             ],
             [
              0.1111111111111111,
              "#46039f"
             ],
             [
              0.2222222222222222,
              "#7201a8"
             ],
             [
              0.3333333333333333,
              "#9c179e"
             ],
             [
              0.4444444444444444,
              "#bd3786"
             ],
             [
              0.5555555555555556,
              "#d8576b"
             ],
             [
              0.6666666666666666,
              "#ed7953"
             ],
             [
              0.7777777777777778,
              "#fb9f3a"
             ],
             [
              0.8888888888888888,
              "#fdca26"
             ],
             [
              1,
              "#f0f921"
             ]
            ],
            "type": "heatmap"
           }
          ],
          "heatmapgl": [
           {
            "colorbar": {
             "outlinewidth": 0,
             "ticks": ""
            },
            "colorscale": [
             [
              0,
              "#0d0887"
             ],
             [
              0.1111111111111111,
              "#46039f"
             ],
             [
              0.2222222222222222,
              "#7201a8"
             ],
             [
              0.3333333333333333,
              "#9c179e"
             ],
             [
              0.4444444444444444,
              "#bd3786"
             ],
             [
              0.5555555555555556,
              "#d8576b"
             ],
             [
              0.6666666666666666,
              "#ed7953"
             ],
             [
              0.7777777777777778,
              "#fb9f3a"
             ],
             [
              0.8888888888888888,
              "#fdca26"
             ],
             [
              1,
              "#f0f921"
             ]
            ],
            "type": "heatmapgl"
           }
          ],
          "histogram": [
           {
            "marker": {
             "pattern": {
              "fillmode": "overlay",
              "size": 10,
              "solidity": 0.2
             }
            },
            "type": "histogram"
           }
          ],
          "histogram2d": [
           {
            "colorbar": {
             "outlinewidth": 0,
             "ticks": ""
            },
            "colorscale": [
             [
              0,
              "#0d0887"
             ],
             [
              0.1111111111111111,
              "#46039f"
             ],
             [
              0.2222222222222222,
              "#7201a8"
             ],
             [
              0.3333333333333333,
              "#9c179e"
             ],
             [
              0.4444444444444444,
              "#bd3786"
             ],
             [
              0.5555555555555556,
              "#d8576b"
             ],
             [
              0.6666666666666666,
              "#ed7953"
             ],
             [
              0.7777777777777778,
              "#fb9f3a"
             ],
             [
              0.8888888888888888,
              "#fdca26"
             ],
             [
              1,
              "#f0f921"
             ]
            ],
            "type": "histogram2d"
           }
          ],
          "histogram2dcontour": [
           {
            "colorbar": {
             "outlinewidth": 0,
             "ticks": ""
            },
            "colorscale": [
             [
              0,
              "#0d0887"
             ],
             [
              0.1111111111111111,
              "#46039f"
             ],
             [
              0.2222222222222222,
              "#7201a8"
             ],
             [
              0.3333333333333333,
              "#9c179e"
             ],
             [
              0.4444444444444444,
              "#bd3786"
             ],
             [
              0.5555555555555556,
              "#d8576b"
             ],
             [
              0.6666666666666666,
              "#ed7953"
             ],
             [
              0.7777777777777778,
              "#fb9f3a"
             ],
             [
              0.8888888888888888,
              "#fdca26"
             ],
             [
              1,
              "#f0f921"
             ]
            ],
            "type": "histogram2dcontour"
           }
          ],
          "mesh3d": [
           {
            "colorbar": {
             "outlinewidth": 0,
             "ticks": ""
            },
            "type": "mesh3d"
           }
          ],
          "parcoords": [
           {
            "line": {
             "colorbar": {
              "outlinewidth": 0,
              "ticks": ""
             }
            },
            "type": "parcoords"
           }
          ],
          "pie": [
           {
            "automargin": true,
            "type": "pie"
           }
          ],
          "scatter": [
           {
            "marker": {
             "colorbar": {
              "outlinewidth": 0,
              "ticks": ""
             }
            },
            "type": "scatter"
           }
          ],
          "scatter3d": [
           {
            "line": {
             "colorbar": {
              "outlinewidth": 0,
              "ticks": ""
             }
            },
            "marker": {
             "colorbar": {
              "outlinewidth": 0,
              "ticks": ""
             }
            },
            "type": "scatter3d"
           }
          ],
          "scattercarpet": [
           {
            "marker": {
             "colorbar": {
              "outlinewidth": 0,
              "ticks": ""
             }
            },
            "type": "scattercarpet"
           }
          ],
          "scattergeo": [
           {
            "marker": {
             "colorbar": {
              "outlinewidth": 0,
              "ticks": ""
             }
            },
            "type": "scattergeo"
           }
          ],
          "scattergl": [
           {
            "marker": {
             "colorbar": {
              "outlinewidth": 0,
              "ticks": ""
             }
            },
            "type": "scattergl"
           }
          ],
          "scattermapbox": [
           {
            "marker": {
             "colorbar": {
              "outlinewidth": 0,
              "ticks": ""
             }
            },
            "type": "scattermapbox"
           }
          ],
          "scatterpolar": [
           {
            "marker": {
             "colorbar": {
              "outlinewidth": 0,
              "ticks": ""
             }
            },
            "type": "scatterpolar"
           }
          ],
          "scatterpolargl": [
           {
            "marker": {
             "colorbar": {
              "outlinewidth": 0,
              "ticks": ""
             }
            },
            "type": "scatterpolargl"
           }
          ],
          "scatterternary": [
           {
            "marker": {
             "colorbar": {
              "outlinewidth": 0,
              "ticks": ""
             }
            },
            "type": "scatterternary"
           }
          ],
          "surface": [
           {
            "colorbar": {
             "outlinewidth": 0,
             "ticks": ""
            },
            "colorscale": [
             [
              0,
              "#0d0887"
             ],
             [
              0.1111111111111111,
              "#46039f"
             ],
             [
              0.2222222222222222,
              "#7201a8"
             ],
             [
              0.3333333333333333,
              "#9c179e"
             ],
             [
              0.4444444444444444,
              "#bd3786"
             ],
             [
              0.5555555555555556,
              "#d8576b"
             ],
             [
              0.6666666666666666,
              "#ed7953"
             ],
             [
              0.7777777777777778,
              "#fb9f3a"
             ],
             [
              0.8888888888888888,
              "#fdca26"
             ],
             [
              1,
              "#f0f921"
             ]
            ],
            "type": "surface"
           }
          ],
          "table": [
           {
            "cells": {
             "fill": {
              "color": "#EBF0F8"
             },
             "line": {
              "color": "white"
             }
            },
            "header": {
             "fill": {
              "color": "#C8D4E3"
             },
             "line": {
              "color": "white"
             }
            },
            "type": "table"
           }
          ]
         },
         "layout": {
          "annotationdefaults": {
           "arrowcolor": "#2a3f5f",
           "arrowhead": 0,
           "arrowwidth": 1
          },
          "autotypenumbers": "strict",
          "coloraxis": {
           "colorbar": {
            "outlinewidth": 0,
            "ticks": ""
           }
          },
          "colorscale": {
           "diverging": [
            [
             0,
             "#8e0152"
            ],
            [
             0.1,
             "#c51b7d"
            ],
            [
             0.2,
             "#de77ae"
            ],
            [
             0.3,
             "#f1b6da"
            ],
            [
             0.4,
             "#fde0ef"
            ],
            [
             0.5,
             "#f7f7f7"
            ],
            [
             0.6,
             "#e6f5d0"
            ],
            [
             0.7,
             "#b8e186"
            ],
            [
             0.8,
             "#7fbc41"
            ],
            [
             0.9,
             "#4d9221"
            ],
            [
             1,
             "#276419"
            ]
           ],
           "sequential": [
            [
             0,
             "#0d0887"
            ],
            [
             0.1111111111111111,
             "#46039f"
            ],
            [
             0.2222222222222222,
             "#7201a8"
            ],
            [
             0.3333333333333333,
             "#9c179e"
            ],
            [
             0.4444444444444444,
             "#bd3786"
            ],
            [
             0.5555555555555556,
             "#d8576b"
            ],
            [
             0.6666666666666666,
             "#ed7953"
            ],
            [
             0.7777777777777778,
             "#fb9f3a"
            ],
            [
             0.8888888888888888,
             "#fdca26"
            ],
            [
             1,
             "#f0f921"
            ]
           ],
           "sequentialminus": [
            [
             0,
             "#0d0887"
            ],
            [
             0.1111111111111111,
             "#46039f"
            ],
            [
             0.2222222222222222,
             "#7201a8"
            ],
            [
             0.3333333333333333,
             "#9c179e"
            ],
            [
             0.4444444444444444,
             "#bd3786"
            ],
            [
             0.5555555555555556,
             "#d8576b"
            ],
            [
             0.6666666666666666,
             "#ed7953"
            ],
            [
             0.7777777777777778,
             "#fb9f3a"
            ],
            [
             0.8888888888888888,
             "#fdca26"
            ],
            [
             1,
             "#f0f921"
            ]
           ]
          },
          "colorway": [
           "#636efa",
           "#EF553B",
           "#00cc96",
           "#ab63fa",
           "#FFA15A",
           "#19d3f3",
           "#FF6692",
           "#B6E880",
           "#FF97FF",
           "#FECB52"
          ],
          "font": {
           "color": "#2a3f5f"
          },
          "geo": {
           "bgcolor": "white",
           "lakecolor": "white",
           "landcolor": "#E5ECF6",
           "showlakes": true,
           "showland": true,
           "subunitcolor": "white"
          },
          "hoverlabel": {
           "align": "left"
          },
          "hovermode": "closest",
          "mapbox": {
           "style": "light"
          },
          "paper_bgcolor": "white",
          "plot_bgcolor": "#E5ECF6",
          "polar": {
           "angularaxis": {
            "gridcolor": "white",
            "linecolor": "white",
            "ticks": ""
           },
           "bgcolor": "#E5ECF6",
           "radialaxis": {
            "gridcolor": "white",
            "linecolor": "white",
            "ticks": ""
           }
          },
          "scene": {
           "xaxis": {
            "backgroundcolor": "#E5ECF6",
            "gridcolor": "white",
            "gridwidth": 2,
            "linecolor": "white",
            "showbackground": true,
            "ticks": "",
            "zerolinecolor": "white"
           },
           "yaxis": {
            "backgroundcolor": "#E5ECF6",
            "gridcolor": "white",
            "gridwidth": 2,
            "linecolor": "white",
            "showbackground": true,
            "ticks": "",
            "zerolinecolor": "white"
           },
           "zaxis": {
            "backgroundcolor": "#E5ECF6",
            "gridcolor": "white",
            "gridwidth": 2,
            "linecolor": "white",
            "showbackground": true,
            "ticks": "",
            "zerolinecolor": "white"
           }
          },
          "shapedefaults": {
           "line": {
            "color": "#2a3f5f"
           }
          },
          "ternary": {
           "aaxis": {
            "gridcolor": "white",
            "linecolor": "white",
            "ticks": ""
           },
           "baxis": {
            "gridcolor": "white",
            "linecolor": "white",
            "ticks": ""
           },
           "bgcolor": "#E5ECF6",
           "caxis": {
            "gridcolor": "white",
            "linecolor": "white",
            "ticks": ""
           }
          },
          "title": {
           "x": 0.05
          },
          "xaxis": {
           "automargin": true,
           "gridcolor": "white",
           "linecolor": "white",
           "ticks": "",
           "title": {
            "standoff": 15
           },
           "zerolinecolor": "white",
           "zerolinewidth": 2
          },
          "yaxis": {
           "automargin": true,
           "gridcolor": "white",
           "linecolor": "white",
           "ticks": "",
           "title": {
            "standoff": 15
           },
           "zerolinecolor": "white",
           "zerolinewidth": 2
          }
         }
        },
        "title": {
         "font": {
          "color": "#4D5663"
         }
        },
        "xaxis": {
         "gridcolor": "#E1E5ED",
         "showgrid": true,
         "tickfont": {
          "color": "#4D5663"
         },
         "title": {
          "font": {
           "color": "#4D5663"
          },
          "text": ""
         },
         "zerolinecolor": "#E1E5ED"
        },
        "yaxis": {
         "gridcolor": "#E1E5ED",
         "showgrid": true,
         "tickfont": {
          "color": "#4D5663"
         },
         "title": {
          "font": {
           "color": "#4D5663"
          },
          "text": ""
         },
         "zerolinecolor": "#E1E5ED"
        }
       }
      },
      "text/html": [
       "<div>                            <div id=\"fabd5e79-551d-4b47-aa33-3fcb7f4d5547\" class=\"plotly-graph-div\" style=\"height:525px; width:100%;\"></div>            <script type=\"text/javascript\">                require([\"plotly\"], function(Plotly) {                    window.PLOTLYENV=window.PLOTLYENV || {};\n",
       "                    window.PLOTLYENV.BASE_URL='https://plot.ly';                                    if (document.getElementById(\"fabd5e79-551d-4b47-aa33-3fcb7f4d5547\")) {                    Plotly.newPlot(                        \"fabd5e79-551d-4b47-aa33-3fcb7f4d5547\",                        [{\"marker\":{\"color\":\"rgba(255, 153, 51, 0.6)\",\"line\":{\"color\":\"rgba(255, 153, 51, 1.0)\",\"width\":1}},\"name\":\"Values\",\"orientation\":\"v\",\"text\":\"\",\"x\":[\"A\",\"B\",\"C\"],\"y\":[32,43,50],\"type\":\"bar\"}],                        {\"legend\":{\"bgcolor\":\"#F5F6F9\",\"font\":{\"color\":\"#4D5663\"}},\"paper_bgcolor\":\"#F5F6F9\",\"plot_bgcolor\":\"#F5F6F9\",\"template\":{\"data\":{\"barpolar\":[{\"marker\":{\"line\":{\"color\":\"#E5ECF6\",\"width\":0.5},\"pattern\":{\"fillmode\":\"overlay\",\"size\":10,\"solidity\":0.2}},\"type\":\"barpolar\"}],\"bar\":[{\"error_x\":{\"color\":\"#2a3f5f\"},\"error_y\":{\"color\":\"#2a3f5f\"},\"marker\":{\"line\":{\"color\":\"#E5ECF6\",\"width\":0.5},\"pattern\":{\"fillmode\":\"overlay\",\"size\":10,\"solidity\":0.2}},\"type\":\"bar\"}],\"carpet\":[{\"aaxis\":{\"endlinecolor\":\"#2a3f5f\",\"gridcolor\":\"white\",\"linecolor\":\"white\",\"minorgridcolor\":\"white\",\"startlinecolor\":\"#2a3f5f\"},\"baxis\":{\"endlinecolor\":\"#2a3f5f\",\"gridcolor\":\"white\",\"linecolor\":\"white\",\"minorgridcolor\":\"white\",\"startlinecolor\":\"#2a3f5f\"},\"type\":\"carpet\"}],\"choropleth\":[{\"colorbar\":{\"outlinewidth\":0,\"ticks\":\"\"},\"type\":\"choropleth\"}],\"contourcarpet\":[{\"colorbar\":{\"outlinewidth\":0,\"ticks\":\"\"},\"type\":\"contourcarpet\"}],\"contour\":[{\"colorbar\":{\"outlinewidth\":0,\"ticks\":\"\"},\"colorscale\":[[0.0,\"#0d0887\"],[0.1111111111111111,\"#46039f\"],[0.2222222222222222,\"#7201a8\"],[0.3333333333333333,\"#9c179e\"],[0.4444444444444444,\"#bd3786\"],[0.5555555555555556,\"#d8576b\"],[0.6666666666666666,\"#ed7953\"],[0.7777777777777778,\"#fb9f3a\"],[0.8888888888888888,\"#fdca26\"],[1.0,\"#f0f921\"]],\"type\":\"contour\"}],\"heatmapgl\":[{\"colorbar\":{\"outlinewidth\":0,\"ticks\":\"\"},\"colorscale\":[[0.0,\"#0d0887\"],[0.1111111111111111,\"#46039f\"],[0.2222222222222222,\"#7201a8\"],[0.3333333333333333,\"#9c179e\"],[0.4444444444444444,\"#bd3786\"],[0.5555555555555556,\"#d8576b\"],[0.6666666666666666,\"#ed7953\"],[0.7777777777777778,\"#fb9f3a\"],[0.8888888888888888,\"#fdca26\"],[1.0,\"#f0f921\"]],\"type\":\"heatmapgl\"}],\"heatmap\":[{\"colorbar\":{\"outlinewidth\":0,\"ticks\":\"\"},\"colorscale\":[[0.0,\"#0d0887\"],[0.1111111111111111,\"#46039f\"],[0.2222222222222222,\"#7201a8\"],[0.3333333333333333,\"#9c179e\"],[0.4444444444444444,\"#bd3786\"],[0.5555555555555556,\"#d8576b\"],[0.6666666666666666,\"#ed7953\"],[0.7777777777777778,\"#fb9f3a\"],[0.8888888888888888,\"#fdca26\"],[1.0,\"#f0f921\"]],\"type\":\"heatmap\"}],\"histogram2dcontour\":[{\"colorbar\":{\"outlinewidth\":0,\"ticks\":\"\"},\"colorscale\":[[0.0,\"#0d0887\"],[0.1111111111111111,\"#46039f\"],[0.2222222222222222,\"#7201a8\"],[0.3333333333333333,\"#9c179e\"],[0.4444444444444444,\"#bd3786\"],[0.5555555555555556,\"#d8576b\"],[0.6666666666666666,\"#ed7953\"],[0.7777777777777778,\"#fb9f3a\"],[0.8888888888888888,\"#fdca26\"],[1.0,\"#f0f921\"]],\"type\":\"histogram2dcontour\"}],\"histogram2d\":[{\"colorbar\":{\"outlinewidth\":0,\"ticks\":\"\"},\"colorscale\":[[0.0,\"#0d0887\"],[0.1111111111111111,\"#46039f\"],[0.2222222222222222,\"#7201a8\"],[0.3333333333333333,\"#9c179e\"],[0.4444444444444444,\"#bd3786\"],[0.5555555555555556,\"#d8576b\"],[0.6666666666666666,\"#ed7953\"],[0.7777777777777778,\"#fb9f3a\"],[0.8888888888888888,\"#fdca26\"],[1.0,\"#f0f921\"]],\"type\":\"histogram2d\"}],\"histogram\":[{\"marker\":{\"pattern\":{\"fillmode\":\"overlay\",\"size\":10,\"solidity\":0.2}},\"type\":\"histogram\"}],\"mesh3d\":[{\"colorbar\":{\"outlinewidth\":0,\"ticks\":\"\"},\"type\":\"mesh3d\"}],\"parcoords\":[{\"line\":{\"colorbar\":{\"outlinewidth\":0,\"ticks\":\"\"}},\"type\":\"parcoords\"}],\"pie\":[{\"automargin\":true,\"type\":\"pie\"}],\"scatter3d\":[{\"line\":{\"colorbar\":{\"outlinewidth\":0,\"ticks\":\"\"}},\"marker\":{\"colorbar\":{\"outlinewidth\":0,\"ticks\":\"\"}},\"type\":\"scatter3d\"}],\"scattercarpet\":[{\"marker\":{\"colorbar\":{\"outlinewidth\":0,\"ticks\":\"\"}},\"type\":\"scattercarpet\"}],\"scattergeo\":[{\"marker\":{\"colorbar\":{\"outlinewidth\":0,\"ticks\":\"\"}},\"type\":\"scattergeo\"}],\"scattergl\":[{\"marker\":{\"colorbar\":{\"outlinewidth\":0,\"ticks\":\"\"}},\"type\":\"scattergl\"}],\"scattermapbox\":[{\"marker\":{\"colorbar\":{\"outlinewidth\":0,\"ticks\":\"\"}},\"type\":\"scattermapbox\"}],\"scatterpolargl\":[{\"marker\":{\"colorbar\":{\"outlinewidth\":0,\"ticks\":\"\"}},\"type\":\"scatterpolargl\"}],\"scatterpolar\":[{\"marker\":{\"colorbar\":{\"outlinewidth\":0,\"ticks\":\"\"}},\"type\":\"scatterpolar\"}],\"scatter\":[{\"marker\":{\"colorbar\":{\"outlinewidth\":0,\"ticks\":\"\"}},\"type\":\"scatter\"}],\"scatterternary\":[{\"marker\":{\"colorbar\":{\"outlinewidth\":0,\"ticks\":\"\"}},\"type\":\"scatterternary\"}],\"surface\":[{\"colorbar\":{\"outlinewidth\":0,\"ticks\":\"\"},\"colorscale\":[[0.0,\"#0d0887\"],[0.1111111111111111,\"#46039f\"],[0.2222222222222222,\"#7201a8\"],[0.3333333333333333,\"#9c179e\"],[0.4444444444444444,\"#bd3786\"],[0.5555555555555556,\"#d8576b\"],[0.6666666666666666,\"#ed7953\"],[0.7777777777777778,\"#fb9f3a\"],[0.8888888888888888,\"#fdca26\"],[1.0,\"#f0f921\"]],\"type\":\"surface\"}],\"table\":[{\"cells\":{\"fill\":{\"color\":\"#EBF0F8\"},\"line\":{\"color\":\"white\"}},\"header\":{\"fill\":{\"color\":\"#C8D4E3\"},\"line\":{\"color\":\"white\"}},\"type\":\"table\"}]},\"layout\":{\"annotationdefaults\":{\"arrowcolor\":\"#2a3f5f\",\"arrowhead\":0,\"arrowwidth\":1},\"autotypenumbers\":\"strict\",\"coloraxis\":{\"colorbar\":{\"outlinewidth\":0,\"ticks\":\"\"}},\"colorscale\":{\"diverging\":[[0,\"#8e0152\"],[0.1,\"#c51b7d\"],[0.2,\"#de77ae\"],[0.3,\"#f1b6da\"],[0.4,\"#fde0ef\"],[0.5,\"#f7f7f7\"],[0.6,\"#e6f5d0\"],[0.7,\"#b8e186\"],[0.8,\"#7fbc41\"],[0.9,\"#4d9221\"],[1,\"#276419\"]],\"sequential\":[[0.0,\"#0d0887\"],[0.1111111111111111,\"#46039f\"],[0.2222222222222222,\"#7201a8\"],[0.3333333333333333,\"#9c179e\"],[0.4444444444444444,\"#bd3786\"],[0.5555555555555556,\"#d8576b\"],[0.6666666666666666,\"#ed7953\"],[0.7777777777777778,\"#fb9f3a\"],[0.8888888888888888,\"#fdca26\"],[1.0,\"#f0f921\"]],\"sequentialminus\":[[0.0,\"#0d0887\"],[0.1111111111111111,\"#46039f\"],[0.2222222222222222,\"#7201a8\"],[0.3333333333333333,\"#9c179e\"],[0.4444444444444444,\"#bd3786\"],[0.5555555555555556,\"#d8576b\"],[0.6666666666666666,\"#ed7953\"],[0.7777777777777778,\"#fb9f3a\"],[0.8888888888888888,\"#fdca26\"],[1.0,\"#f0f921\"]]},\"colorway\":[\"#636efa\",\"#EF553B\",\"#00cc96\",\"#ab63fa\",\"#FFA15A\",\"#19d3f3\",\"#FF6692\",\"#B6E880\",\"#FF97FF\",\"#FECB52\"],\"font\":{\"color\":\"#2a3f5f\"},\"geo\":{\"bgcolor\":\"white\",\"lakecolor\":\"white\",\"landcolor\":\"#E5ECF6\",\"showlakes\":true,\"showland\":true,\"subunitcolor\":\"white\"},\"hoverlabel\":{\"align\":\"left\"},\"hovermode\":\"closest\",\"mapbox\":{\"style\":\"light\"},\"paper_bgcolor\":\"white\",\"plot_bgcolor\":\"#E5ECF6\",\"polar\":{\"angularaxis\":{\"gridcolor\":\"white\",\"linecolor\":\"white\",\"ticks\":\"\"},\"bgcolor\":\"#E5ECF6\",\"radialaxis\":{\"gridcolor\":\"white\",\"linecolor\":\"white\",\"ticks\":\"\"}},\"scene\":{\"xaxis\":{\"backgroundcolor\":\"#E5ECF6\",\"gridcolor\":\"white\",\"gridwidth\":2,\"linecolor\":\"white\",\"showbackground\":true,\"ticks\":\"\",\"zerolinecolor\":\"white\"},\"yaxis\":{\"backgroundcolor\":\"#E5ECF6\",\"gridcolor\":\"white\",\"gridwidth\":2,\"linecolor\":\"white\",\"showbackground\":true,\"ticks\":\"\",\"zerolinecolor\":\"white\"},\"zaxis\":{\"backgroundcolor\":\"#E5ECF6\",\"gridcolor\":\"white\",\"gridwidth\":2,\"linecolor\":\"white\",\"showbackground\":true,\"ticks\":\"\",\"zerolinecolor\":\"white\"}},\"shapedefaults\":{\"line\":{\"color\":\"#2a3f5f\"}},\"ternary\":{\"aaxis\":{\"gridcolor\":\"white\",\"linecolor\":\"white\",\"ticks\":\"\"},\"baxis\":{\"gridcolor\":\"white\",\"linecolor\":\"white\",\"ticks\":\"\"},\"bgcolor\":\"#E5ECF6\",\"caxis\":{\"gridcolor\":\"white\",\"linecolor\":\"white\",\"ticks\":\"\"}},\"title\":{\"x\":0.05},\"xaxis\":{\"automargin\":true,\"gridcolor\":\"white\",\"linecolor\":\"white\",\"ticks\":\"\",\"title\":{\"standoff\":15},\"zerolinecolor\":\"white\",\"zerolinewidth\":2},\"yaxis\":{\"automargin\":true,\"gridcolor\":\"white\",\"linecolor\":\"white\",\"ticks\":\"\",\"title\":{\"standoff\":15},\"zerolinecolor\":\"white\",\"zerolinewidth\":2}}},\"title\":{\"font\":{\"color\":\"#4D5663\"}},\"xaxis\":{\"gridcolor\":\"#E1E5ED\",\"showgrid\":true,\"tickfont\":{\"color\":\"#4D5663\"},\"title\":{\"font\":{\"color\":\"#4D5663\"},\"text\":\"\"},\"zerolinecolor\":\"#E1E5ED\"},\"yaxis\":{\"gridcolor\":\"#E1E5ED\",\"showgrid\":true,\"tickfont\":{\"color\":\"#4D5663\"},\"title\":{\"font\":{\"color\":\"#4D5663\"},\"text\":\"\"},\"zerolinecolor\":\"#E1E5ED\"}},                        {\"showLink\": true, \"linkText\": \"Export to plot.ly\", \"plotlyServerURL\": \"https://plot.ly\", \"responsive\": true}                    ).then(function(){\n",
       "                            \n",
       "var gd = document.getElementById('fabd5e79-551d-4b47-aa33-3fcb7f4d5547');\n",
       "var x = new MutationObserver(function (mutations, observer) {{\n",
       "        var display = window.getComputedStyle(gd).display;\n",
       "        if (!display || display === 'none') {{\n",
       "            console.log([gd, 'removed!']);\n",
       "            Plotly.purge(gd);\n",
       "            observer.disconnect();\n",
       "        }}\n",
       "}});\n",
       "\n",
       "// Listen for the removal of the full notebook cells\n",
       "var notebookContainer = gd.closest('#notebook-container');\n",
       "if (notebookContainer) {{\n",
       "    x.observe(notebookContainer, {childList: true});\n",
       "}}\n",
       "\n",
       "// Listen for the clearing of the current output cell\n",
       "var outputEl = gd.closest('.output');\n",
       "if (outputEl) {{\n",
       "    x.observe(outputEl, {childList: true});\n",
       "}}\n",
       "\n",
       "                        })                };                });            </script>        </div>"
      ]
     },
     "metadata": {},
     "output_type": "display_data"
    }
   ],
   "source": [
    "df2.iplot(kind='bar',x='Category',y='Values')"
   ]
  },
  {
   "cell_type": "code",
   "execution_count": 12,
   "metadata": {},
   "outputs": [
    {
     "data": {
      "application/vnd.plotly.v1+json": {
       "config": {
        "linkText": "Export to plot.ly",
        "plotlyServerURL": "https://plot.ly",
        "showLink": true
       },
       "data": [
        {
         "marker": {
          "color": "rgba(255, 153, 51, 0.6)",
          "line": {
           "color": "rgba(255, 153, 51, 1.0)",
           "width": 1
          }
         },
         "name": "None",
         "orientation": "v",
         "text": "",
         "type": "bar",
         "x": [
          "A",
          "B",
          "C",
          "D"
         ],
         "y": [
          2.7953327009789066,
          3.24727661693671,
          -2.495259983076717,
          4.748583527110698
         ]
        }
       ],
       "layout": {
        "legend": {
         "bgcolor": "#F5F6F9",
         "font": {
          "color": "#4D5663"
         }
        },
        "paper_bgcolor": "#F5F6F9",
        "plot_bgcolor": "#F5F6F9",
        "template": {
         "data": {
          "bar": [
           {
            "error_x": {
             "color": "#2a3f5f"
            },
            "error_y": {
             "color": "#2a3f5f"
            },
            "marker": {
             "line": {
              "color": "#E5ECF6",
              "width": 0.5
             },
             "pattern": {
              "fillmode": "overlay",
              "size": 10,
              "solidity": 0.2
             }
            },
            "type": "bar"
           }
          ],
          "barpolar": [
           {
            "marker": {
             "line": {
              "color": "#E5ECF6",
              "width": 0.5
             },
             "pattern": {
              "fillmode": "overlay",
              "size": 10,
              "solidity": 0.2
             }
            },
            "type": "barpolar"
           }
          ],
          "carpet": [
           {
            "aaxis": {
             "endlinecolor": "#2a3f5f",
             "gridcolor": "white",
             "linecolor": "white",
             "minorgridcolor": "white",
             "startlinecolor": "#2a3f5f"
            },
            "baxis": {
             "endlinecolor": "#2a3f5f",
             "gridcolor": "white",
             "linecolor": "white",
             "minorgridcolor": "white",
             "startlinecolor": "#2a3f5f"
            },
            "type": "carpet"
           }
          ],
          "choropleth": [
           {
            "colorbar": {
             "outlinewidth": 0,
             "ticks": ""
            },
            "type": "choropleth"
           }
          ],
          "contour": [
           {
            "colorbar": {
             "outlinewidth": 0,
             "ticks": ""
            },
            "colorscale": [
             [
              0,
              "#0d0887"
             ],
             [
              0.1111111111111111,
              "#46039f"
             ],
             [
              0.2222222222222222,
              "#7201a8"
             ],
             [
              0.3333333333333333,
              "#9c179e"
             ],
             [
              0.4444444444444444,
              "#bd3786"
             ],
             [
              0.5555555555555556,
              "#d8576b"
             ],
             [
              0.6666666666666666,
              "#ed7953"
             ],
             [
              0.7777777777777778,
              "#fb9f3a"
             ],
             [
              0.8888888888888888,
              "#fdca26"
             ],
             [
              1,
              "#f0f921"
             ]
            ],
            "type": "contour"
           }
          ],
          "contourcarpet": [
           {
            "colorbar": {
             "outlinewidth": 0,
             "ticks": ""
            },
            "type": "contourcarpet"
           }
          ],
          "heatmap": [
           {
            "colorbar": {
             "outlinewidth": 0,
             "ticks": ""
            },
            "colorscale": [
             [
              0,
              "#0d0887"
             ],
             [
              0.1111111111111111,
              "#46039f"
             ],
             [
              0.2222222222222222,
              "#7201a8"
             ],
             [
              0.3333333333333333,
              "#9c179e"
             ],
             [
              0.4444444444444444,
              "#bd3786"
             ],
             [
              0.5555555555555556,
              "#d8576b"
             ],
             [
              0.6666666666666666,
              "#ed7953"
             ],
             [
              0.7777777777777778,
              "#fb9f3a"
             ],
             [
              0.8888888888888888,
              "#fdca26"
             ],
             [
              1,
              "#f0f921"
             ]
            ],
            "type": "heatmap"
           }
          ],
          "heatmapgl": [
           {
            "colorbar": {
             "outlinewidth": 0,
             "ticks": ""
            },
            "colorscale": [
             [
              0,
              "#0d0887"
             ],
             [
              0.1111111111111111,
              "#46039f"
             ],
             [
              0.2222222222222222,
              "#7201a8"
             ],
             [
              0.3333333333333333,
              "#9c179e"
             ],
             [
              0.4444444444444444,
              "#bd3786"
             ],
             [
              0.5555555555555556,
              "#d8576b"
             ],
             [
              0.6666666666666666,
              "#ed7953"
             ],
             [
              0.7777777777777778,
              "#fb9f3a"
             ],
             [
              0.8888888888888888,
              "#fdca26"
             ],
             [
              1,
              "#f0f921"
             ]
            ],
            "type": "heatmapgl"
           }
          ],
          "histogram": [
           {
            "marker": {
             "pattern": {
              "fillmode": "overlay",
              "size": 10,
              "solidity": 0.2
             }
            },
            "type": "histogram"
           }
          ],
          "histogram2d": [
           {
            "colorbar": {
             "outlinewidth": 0,
             "ticks": ""
            },
            "colorscale": [
             [
              0,
              "#0d0887"
             ],
             [
              0.1111111111111111,
              "#46039f"
             ],
             [
              0.2222222222222222,
              "#7201a8"
             ],
             [
              0.3333333333333333,
              "#9c179e"
             ],
             [
              0.4444444444444444,
              "#bd3786"
             ],
             [
              0.5555555555555556,
              "#d8576b"
             ],
             [
              0.6666666666666666,
              "#ed7953"
             ],
             [
              0.7777777777777778,
              "#fb9f3a"
             ],
             [
              0.8888888888888888,
              "#fdca26"
             ],
             [
              1,
              "#f0f921"
             ]
            ],
            "type": "histogram2d"
           }
          ],
          "histogram2dcontour": [
           {
            "colorbar": {
             "outlinewidth": 0,
             "ticks": ""
            },
            "colorscale": [
             [
              0,
              "#0d0887"
             ],
             [
              0.1111111111111111,
              "#46039f"
             ],
             [
              0.2222222222222222,
              "#7201a8"
             ],
             [
              0.3333333333333333,
              "#9c179e"
             ],
             [
              0.4444444444444444,
              "#bd3786"
             ],
             [
              0.5555555555555556,
              "#d8576b"
             ],
             [
              0.6666666666666666,
              "#ed7953"
             ],
             [
              0.7777777777777778,
              "#fb9f3a"
             ],
             [
              0.8888888888888888,
              "#fdca26"
             ],
             [
              1,
              "#f0f921"
             ]
            ],
            "type": "histogram2dcontour"
           }
          ],
          "mesh3d": [
           {
            "colorbar": {
             "outlinewidth": 0,
             "ticks": ""
            },
            "type": "mesh3d"
           }
          ],
          "parcoords": [
           {
            "line": {
             "colorbar": {
              "outlinewidth": 0,
              "ticks": ""
             }
            },
            "type": "parcoords"
           }
          ],
          "pie": [
           {
            "automargin": true,
            "type": "pie"
           }
          ],
          "scatter": [
           {
            "marker": {
             "colorbar": {
              "outlinewidth": 0,
              "ticks": ""
             }
            },
            "type": "scatter"
           }
          ],
          "scatter3d": [
           {
            "line": {
             "colorbar": {
              "outlinewidth": 0,
              "ticks": ""
             }
            },
            "marker": {
             "colorbar": {
              "outlinewidth": 0,
              "ticks": ""
             }
            },
            "type": "scatter3d"
           }
          ],
          "scattercarpet": [
           {
            "marker": {
             "colorbar": {
              "outlinewidth": 0,
              "ticks": ""
             }
            },
            "type": "scattercarpet"
           }
          ],
          "scattergeo": [
           {
            "marker": {
             "colorbar": {
              "outlinewidth": 0,
              "ticks": ""
             }
            },
            "type": "scattergeo"
           }
          ],
          "scattergl": [
           {
            "marker": {
             "colorbar": {
              "outlinewidth": 0,
              "ticks": ""
             }
            },
            "type": "scattergl"
           }
          ],
          "scattermapbox": [
           {
            "marker": {
             "colorbar": {
              "outlinewidth": 0,
              "ticks": ""
             }
            },
            "type": "scattermapbox"
           }
          ],
          "scatterpolar": [
           {
            "marker": {
             "colorbar": {
              "outlinewidth": 0,
              "ticks": ""
             }
            },
            "type": "scatterpolar"
           }
          ],
          "scatterpolargl": [
           {
            "marker": {
             "colorbar": {
              "outlinewidth": 0,
              "ticks": ""
             }
            },
            "type": "scatterpolargl"
           }
          ],
          "scatterternary": [
           {
            "marker": {
             "colorbar": {
              "outlinewidth": 0,
              "ticks": ""
             }
            },
            "type": "scatterternary"
           }
          ],
          "surface": [
           {
            "colorbar": {
             "outlinewidth": 0,
             "ticks": ""
            },
            "colorscale": [
             [
              0,
              "#0d0887"
             ],
             [
              0.1111111111111111,
              "#46039f"
             ],
             [
              0.2222222222222222,
              "#7201a8"
             ],
             [
              0.3333333333333333,
              "#9c179e"
             ],
             [
              0.4444444444444444,
              "#bd3786"
             ],
             [
              0.5555555555555556,
              "#d8576b"
             ],
             [
              0.6666666666666666,
              "#ed7953"
             ],
             [
              0.7777777777777778,
              "#fb9f3a"
             ],
             [
              0.8888888888888888,
              "#fdca26"
             ],
             [
              1,
              "#f0f921"
             ]
            ],
            "type": "surface"
           }
          ],
          "table": [
           {
            "cells": {
             "fill": {
              "color": "#EBF0F8"
             },
             "line": {
              "color": "white"
             }
            },
            "header": {
             "fill": {
              "color": "#C8D4E3"
             },
             "line": {
              "color": "white"
             }
            },
            "type": "table"
           }
          ]
         },
         "layout": {
          "annotationdefaults": {
           "arrowcolor": "#2a3f5f",
           "arrowhead": 0,
           "arrowwidth": 1
          },
          "autotypenumbers": "strict",
          "coloraxis": {
           "colorbar": {
            "outlinewidth": 0,
            "ticks": ""
           }
          },
          "colorscale": {
           "diverging": [
            [
             0,
             "#8e0152"
            ],
            [
             0.1,
             "#c51b7d"
            ],
            [
             0.2,
             "#de77ae"
            ],
            [
             0.3,
             "#f1b6da"
            ],
            [
             0.4,
             "#fde0ef"
            ],
            [
             0.5,
             "#f7f7f7"
            ],
            [
             0.6,
             "#e6f5d0"
            ],
            [
             0.7,
             "#b8e186"
            ],
            [
             0.8,
             "#7fbc41"
            ],
            [
             0.9,
             "#4d9221"
            ],
            [
             1,
             "#276419"
            ]
           ],
           "sequential": [
            [
             0,
             "#0d0887"
            ],
            [
             0.1111111111111111,
             "#46039f"
            ],
            [
             0.2222222222222222,
             "#7201a8"
            ],
            [
             0.3333333333333333,
             "#9c179e"
            ],
            [
             0.4444444444444444,
             "#bd3786"
            ],
            [
             0.5555555555555556,
             "#d8576b"
            ],
            [
             0.6666666666666666,
             "#ed7953"
            ],
            [
             0.7777777777777778,
             "#fb9f3a"
            ],
            [
             0.8888888888888888,
             "#fdca26"
            ],
            [
             1,
             "#f0f921"
            ]
           ],
           "sequentialminus": [
            [
             0,
             "#0d0887"
            ],
            [
             0.1111111111111111,
             "#46039f"
            ],
            [
             0.2222222222222222,
             "#7201a8"
            ],
            [
             0.3333333333333333,
             "#9c179e"
            ],
            [
             0.4444444444444444,
             "#bd3786"
            ],
            [
             0.5555555555555556,
             "#d8576b"
            ],
            [
             0.6666666666666666,
             "#ed7953"
            ],
            [
             0.7777777777777778,
             "#fb9f3a"
            ],
            [
             0.8888888888888888,
             "#fdca26"
            ],
            [
             1,
             "#f0f921"
            ]
           ]
          },
          "colorway": [
           "#636efa",
           "#EF553B",
           "#00cc96",
           "#ab63fa",
           "#FFA15A",
           "#19d3f3",
           "#FF6692",
           "#B6E880",
           "#FF97FF",
           "#FECB52"
          ],
          "font": {
           "color": "#2a3f5f"
          },
          "geo": {
           "bgcolor": "white",
           "lakecolor": "white",
           "landcolor": "#E5ECF6",
           "showlakes": true,
           "showland": true,
           "subunitcolor": "white"
          },
          "hoverlabel": {
           "align": "left"
          },
          "hovermode": "closest",
          "mapbox": {
           "style": "light"
          },
          "paper_bgcolor": "white",
          "plot_bgcolor": "#E5ECF6",
          "polar": {
           "angularaxis": {
            "gridcolor": "white",
            "linecolor": "white",
            "ticks": ""
           },
           "bgcolor": "#E5ECF6",
           "radialaxis": {
            "gridcolor": "white",
            "linecolor": "white",
            "ticks": ""
           }
          },
          "scene": {
           "xaxis": {
            "backgroundcolor": "#E5ECF6",
            "gridcolor": "white",
            "gridwidth": 2,
            "linecolor": "white",
            "showbackground": true,
            "ticks": "",
            "zerolinecolor": "white"
           },
           "yaxis": {
            "backgroundcolor": "#E5ECF6",
            "gridcolor": "white",
            "gridwidth": 2,
            "linecolor": "white",
            "showbackground": true,
            "ticks": "",
            "zerolinecolor": "white"
           },
           "zaxis": {
            "backgroundcolor": "#E5ECF6",
            "gridcolor": "white",
            "gridwidth": 2,
            "linecolor": "white",
            "showbackground": true,
            "ticks": "",
            "zerolinecolor": "white"
           }
          },
          "shapedefaults": {
           "line": {
            "color": "#2a3f5f"
           }
          },
          "ternary": {
           "aaxis": {
            "gridcolor": "white",
            "linecolor": "white",
            "ticks": ""
           },
           "baxis": {
            "gridcolor": "white",
            "linecolor": "white",
            "ticks": ""
           },
           "bgcolor": "#E5ECF6",
           "caxis": {
            "gridcolor": "white",
            "linecolor": "white",
            "ticks": ""
           }
          },
          "title": {
           "x": 0.05
          },
          "xaxis": {
           "automargin": true,
           "gridcolor": "white",
           "linecolor": "white",
           "ticks": "",
           "title": {
            "standoff": 15
           },
           "zerolinecolor": "white",
           "zerolinewidth": 2
          },
          "yaxis": {
           "automargin": true,
           "gridcolor": "white",
           "linecolor": "white",
           "ticks": "",
           "title": {
            "standoff": 15
           },
           "zerolinecolor": "white",
           "zerolinewidth": 2
          }
         }
        },
        "title": {
         "font": {
          "color": "#4D5663"
         }
        },
        "xaxis": {
         "gridcolor": "#E1E5ED",
         "showgrid": true,
         "tickfont": {
          "color": "#4D5663"
         },
         "title": {
          "font": {
           "color": "#4D5663"
          },
          "text": ""
         },
         "zerolinecolor": "#E1E5ED"
        },
        "yaxis": {
         "gridcolor": "#E1E5ED",
         "showgrid": true,
         "tickfont": {
          "color": "#4D5663"
         },
         "title": {
          "font": {
           "color": "#4D5663"
          },
          "text": ""
         },
         "zerolinecolor": "#E1E5ED"
        }
       }
      },
      "text/html": [
       "<div>                            <div id=\"6b4908c8-4f22-4b6e-a11b-d7c10c28c625\" class=\"plotly-graph-div\" style=\"height:525px; width:100%;\"></div>            <script type=\"text/javascript\">                require([\"plotly\"], function(Plotly) {                    window.PLOTLYENV=window.PLOTLYENV || {};\n",
       "                    window.PLOTLYENV.BASE_URL='https://plot.ly';                                    if (document.getElementById(\"6b4908c8-4f22-4b6e-a11b-d7c10c28c625\")) {                    Plotly.newPlot(                        \"6b4908c8-4f22-4b6e-a11b-d7c10c28c625\",                        [{\"marker\":{\"color\":\"rgba(255, 153, 51, 0.6)\",\"line\":{\"color\":\"rgba(255, 153, 51, 1.0)\",\"width\":1}},\"name\":\"None\",\"orientation\":\"v\",\"text\":\"\",\"x\":[\"A\",\"B\",\"C\",\"D\"],\"y\":[2.7953327009789066,3.24727661693671,-2.495259983076717,4.748583527110698],\"type\":\"bar\"}],                        {\"legend\":{\"bgcolor\":\"#F5F6F9\",\"font\":{\"color\":\"#4D5663\"}},\"paper_bgcolor\":\"#F5F6F9\",\"plot_bgcolor\":\"#F5F6F9\",\"template\":{\"data\":{\"barpolar\":[{\"marker\":{\"line\":{\"color\":\"#E5ECF6\",\"width\":0.5},\"pattern\":{\"fillmode\":\"overlay\",\"size\":10,\"solidity\":0.2}},\"type\":\"barpolar\"}],\"bar\":[{\"error_x\":{\"color\":\"#2a3f5f\"},\"error_y\":{\"color\":\"#2a3f5f\"},\"marker\":{\"line\":{\"color\":\"#E5ECF6\",\"width\":0.5},\"pattern\":{\"fillmode\":\"overlay\",\"size\":10,\"solidity\":0.2}},\"type\":\"bar\"}],\"carpet\":[{\"aaxis\":{\"endlinecolor\":\"#2a3f5f\",\"gridcolor\":\"white\",\"linecolor\":\"white\",\"minorgridcolor\":\"white\",\"startlinecolor\":\"#2a3f5f\"},\"baxis\":{\"endlinecolor\":\"#2a3f5f\",\"gridcolor\":\"white\",\"linecolor\":\"white\",\"minorgridcolor\":\"white\",\"startlinecolor\":\"#2a3f5f\"},\"type\":\"carpet\"}],\"choropleth\":[{\"colorbar\":{\"outlinewidth\":0,\"ticks\":\"\"},\"type\":\"choropleth\"}],\"contourcarpet\":[{\"colorbar\":{\"outlinewidth\":0,\"ticks\":\"\"},\"type\":\"contourcarpet\"}],\"contour\":[{\"colorbar\":{\"outlinewidth\":0,\"ticks\":\"\"},\"colorscale\":[[0.0,\"#0d0887\"],[0.1111111111111111,\"#46039f\"],[0.2222222222222222,\"#7201a8\"],[0.3333333333333333,\"#9c179e\"],[0.4444444444444444,\"#bd3786\"],[0.5555555555555556,\"#d8576b\"],[0.6666666666666666,\"#ed7953\"],[0.7777777777777778,\"#fb9f3a\"],[0.8888888888888888,\"#fdca26\"],[1.0,\"#f0f921\"]],\"type\":\"contour\"}],\"heatmapgl\":[{\"colorbar\":{\"outlinewidth\":0,\"ticks\":\"\"},\"colorscale\":[[0.0,\"#0d0887\"],[0.1111111111111111,\"#46039f\"],[0.2222222222222222,\"#7201a8\"],[0.3333333333333333,\"#9c179e\"],[0.4444444444444444,\"#bd3786\"],[0.5555555555555556,\"#d8576b\"],[0.6666666666666666,\"#ed7953\"],[0.7777777777777778,\"#fb9f3a\"],[0.8888888888888888,\"#fdca26\"],[1.0,\"#f0f921\"]],\"type\":\"heatmapgl\"}],\"heatmap\":[{\"colorbar\":{\"outlinewidth\":0,\"ticks\":\"\"},\"colorscale\":[[0.0,\"#0d0887\"],[0.1111111111111111,\"#46039f\"],[0.2222222222222222,\"#7201a8\"],[0.3333333333333333,\"#9c179e\"],[0.4444444444444444,\"#bd3786\"],[0.5555555555555556,\"#d8576b\"],[0.6666666666666666,\"#ed7953\"],[0.7777777777777778,\"#fb9f3a\"],[0.8888888888888888,\"#fdca26\"],[1.0,\"#f0f921\"]],\"type\":\"heatmap\"}],\"histogram2dcontour\":[{\"colorbar\":{\"outlinewidth\":0,\"ticks\":\"\"},\"colorscale\":[[0.0,\"#0d0887\"],[0.1111111111111111,\"#46039f\"],[0.2222222222222222,\"#7201a8\"],[0.3333333333333333,\"#9c179e\"],[0.4444444444444444,\"#bd3786\"],[0.5555555555555556,\"#d8576b\"],[0.6666666666666666,\"#ed7953\"],[0.7777777777777778,\"#fb9f3a\"],[0.8888888888888888,\"#fdca26\"],[1.0,\"#f0f921\"]],\"type\":\"histogram2dcontour\"}],\"histogram2d\":[{\"colorbar\":{\"outlinewidth\":0,\"ticks\":\"\"},\"colorscale\":[[0.0,\"#0d0887\"],[0.1111111111111111,\"#46039f\"],[0.2222222222222222,\"#7201a8\"],[0.3333333333333333,\"#9c179e\"],[0.4444444444444444,\"#bd3786\"],[0.5555555555555556,\"#d8576b\"],[0.6666666666666666,\"#ed7953\"],[0.7777777777777778,\"#fb9f3a\"],[0.8888888888888888,\"#fdca26\"],[1.0,\"#f0f921\"]],\"type\":\"histogram2d\"}],\"histogram\":[{\"marker\":{\"pattern\":{\"fillmode\":\"overlay\",\"size\":10,\"solidity\":0.2}},\"type\":\"histogram\"}],\"mesh3d\":[{\"colorbar\":{\"outlinewidth\":0,\"ticks\":\"\"},\"type\":\"mesh3d\"}],\"parcoords\":[{\"line\":{\"colorbar\":{\"outlinewidth\":0,\"ticks\":\"\"}},\"type\":\"parcoords\"}],\"pie\":[{\"automargin\":true,\"type\":\"pie\"}],\"scatter3d\":[{\"line\":{\"colorbar\":{\"outlinewidth\":0,\"ticks\":\"\"}},\"marker\":{\"colorbar\":{\"outlinewidth\":0,\"ticks\":\"\"}},\"type\":\"scatter3d\"}],\"scattercarpet\":[{\"marker\":{\"colorbar\":{\"outlinewidth\":0,\"ticks\":\"\"}},\"type\":\"scattercarpet\"}],\"scattergeo\":[{\"marker\":{\"colorbar\":{\"outlinewidth\":0,\"ticks\":\"\"}},\"type\":\"scattergeo\"}],\"scattergl\":[{\"marker\":{\"colorbar\":{\"outlinewidth\":0,\"ticks\":\"\"}},\"type\":\"scattergl\"}],\"scattermapbox\":[{\"marker\":{\"colorbar\":{\"outlinewidth\":0,\"ticks\":\"\"}},\"type\":\"scattermapbox\"}],\"scatterpolargl\":[{\"marker\":{\"colorbar\":{\"outlinewidth\":0,\"ticks\":\"\"}},\"type\":\"scatterpolargl\"}],\"scatterpolar\":[{\"marker\":{\"colorbar\":{\"outlinewidth\":0,\"ticks\":\"\"}},\"type\":\"scatterpolar\"}],\"scatter\":[{\"marker\":{\"colorbar\":{\"outlinewidth\":0,\"ticks\":\"\"}},\"type\":\"scatter\"}],\"scatterternary\":[{\"marker\":{\"colorbar\":{\"outlinewidth\":0,\"ticks\":\"\"}},\"type\":\"scatterternary\"}],\"surface\":[{\"colorbar\":{\"outlinewidth\":0,\"ticks\":\"\"},\"colorscale\":[[0.0,\"#0d0887\"],[0.1111111111111111,\"#46039f\"],[0.2222222222222222,\"#7201a8\"],[0.3333333333333333,\"#9c179e\"],[0.4444444444444444,\"#bd3786\"],[0.5555555555555556,\"#d8576b\"],[0.6666666666666666,\"#ed7953\"],[0.7777777777777778,\"#fb9f3a\"],[0.8888888888888888,\"#fdca26\"],[1.0,\"#f0f921\"]],\"type\":\"surface\"}],\"table\":[{\"cells\":{\"fill\":{\"color\":\"#EBF0F8\"},\"line\":{\"color\":\"white\"}},\"header\":{\"fill\":{\"color\":\"#C8D4E3\"},\"line\":{\"color\":\"white\"}},\"type\":\"table\"}]},\"layout\":{\"annotationdefaults\":{\"arrowcolor\":\"#2a3f5f\",\"arrowhead\":0,\"arrowwidth\":1},\"autotypenumbers\":\"strict\",\"coloraxis\":{\"colorbar\":{\"outlinewidth\":0,\"ticks\":\"\"}},\"colorscale\":{\"diverging\":[[0,\"#8e0152\"],[0.1,\"#c51b7d\"],[0.2,\"#de77ae\"],[0.3,\"#f1b6da\"],[0.4,\"#fde0ef\"],[0.5,\"#f7f7f7\"],[0.6,\"#e6f5d0\"],[0.7,\"#b8e186\"],[0.8,\"#7fbc41\"],[0.9,\"#4d9221\"],[1,\"#276419\"]],\"sequential\":[[0.0,\"#0d0887\"],[0.1111111111111111,\"#46039f\"],[0.2222222222222222,\"#7201a8\"],[0.3333333333333333,\"#9c179e\"],[0.4444444444444444,\"#bd3786\"],[0.5555555555555556,\"#d8576b\"],[0.6666666666666666,\"#ed7953\"],[0.7777777777777778,\"#fb9f3a\"],[0.8888888888888888,\"#fdca26\"],[1.0,\"#f0f921\"]],\"sequentialminus\":[[0.0,\"#0d0887\"],[0.1111111111111111,\"#46039f\"],[0.2222222222222222,\"#7201a8\"],[0.3333333333333333,\"#9c179e\"],[0.4444444444444444,\"#bd3786\"],[0.5555555555555556,\"#d8576b\"],[0.6666666666666666,\"#ed7953\"],[0.7777777777777778,\"#fb9f3a\"],[0.8888888888888888,\"#fdca26\"],[1.0,\"#f0f921\"]]},\"colorway\":[\"#636efa\",\"#EF553B\",\"#00cc96\",\"#ab63fa\",\"#FFA15A\",\"#19d3f3\",\"#FF6692\",\"#B6E880\",\"#FF97FF\",\"#FECB52\"],\"font\":{\"color\":\"#2a3f5f\"},\"geo\":{\"bgcolor\":\"white\",\"lakecolor\":\"white\",\"landcolor\":\"#E5ECF6\",\"showlakes\":true,\"showland\":true,\"subunitcolor\":\"white\"},\"hoverlabel\":{\"align\":\"left\"},\"hovermode\":\"closest\",\"mapbox\":{\"style\":\"light\"},\"paper_bgcolor\":\"white\",\"plot_bgcolor\":\"#E5ECF6\",\"polar\":{\"angularaxis\":{\"gridcolor\":\"white\",\"linecolor\":\"white\",\"ticks\":\"\"},\"bgcolor\":\"#E5ECF6\",\"radialaxis\":{\"gridcolor\":\"white\",\"linecolor\":\"white\",\"ticks\":\"\"}},\"scene\":{\"xaxis\":{\"backgroundcolor\":\"#E5ECF6\",\"gridcolor\":\"white\",\"gridwidth\":2,\"linecolor\":\"white\",\"showbackground\":true,\"ticks\":\"\",\"zerolinecolor\":\"white\"},\"yaxis\":{\"backgroundcolor\":\"#E5ECF6\",\"gridcolor\":\"white\",\"gridwidth\":2,\"linecolor\":\"white\",\"showbackground\":true,\"ticks\":\"\",\"zerolinecolor\":\"white\"},\"zaxis\":{\"backgroundcolor\":\"#E5ECF6\",\"gridcolor\":\"white\",\"gridwidth\":2,\"linecolor\":\"white\",\"showbackground\":true,\"ticks\":\"\",\"zerolinecolor\":\"white\"}},\"shapedefaults\":{\"line\":{\"color\":\"#2a3f5f\"}},\"ternary\":{\"aaxis\":{\"gridcolor\":\"white\",\"linecolor\":\"white\",\"ticks\":\"\"},\"baxis\":{\"gridcolor\":\"white\",\"linecolor\":\"white\",\"ticks\":\"\"},\"bgcolor\":\"#E5ECF6\",\"caxis\":{\"gridcolor\":\"white\",\"linecolor\":\"white\",\"ticks\":\"\"}},\"title\":{\"x\":0.05},\"xaxis\":{\"automargin\":true,\"gridcolor\":\"white\",\"linecolor\":\"white\",\"ticks\":\"\",\"title\":{\"standoff\":15},\"zerolinecolor\":\"white\",\"zerolinewidth\":2},\"yaxis\":{\"automargin\":true,\"gridcolor\":\"white\",\"linecolor\":\"white\",\"ticks\":\"\",\"title\":{\"standoff\":15},\"zerolinecolor\":\"white\",\"zerolinewidth\":2}}},\"title\":{\"font\":{\"color\":\"#4D5663\"}},\"xaxis\":{\"gridcolor\":\"#E1E5ED\",\"showgrid\":true,\"tickfont\":{\"color\":\"#4D5663\"},\"title\":{\"font\":{\"color\":\"#4D5663\"},\"text\":\"\"},\"zerolinecolor\":\"#E1E5ED\"},\"yaxis\":{\"gridcolor\":\"#E1E5ED\",\"showgrid\":true,\"tickfont\":{\"color\":\"#4D5663\"},\"title\":{\"font\":{\"color\":\"#4D5663\"},\"text\":\"\"},\"zerolinecolor\":\"#E1E5ED\"}},                        {\"showLink\": true, \"linkText\": \"Export to plot.ly\", \"plotlyServerURL\": \"https://plot.ly\", \"responsive\": true}                    ).then(function(){\n",
       "                            \n",
       "var gd = document.getElementById('6b4908c8-4f22-4b6e-a11b-d7c10c28c625');\n",
       "var x = new MutationObserver(function (mutations, observer) {{\n",
       "        var display = window.getComputedStyle(gd).display;\n",
       "        if (!display || display === 'none') {{\n",
       "            console.log([gd, 'removed!']);\n",
       "            Plotly.purge(gd);\n",
       "            observer.disconnect();\n",
       "        }}\n",
       "}});\n",
       "\n",
       "// Listen for the removal of the full notebook cells\n",
       "var notebookContainer = gd.closest('#notebook-container');\n",
       "if (notebookContainer) {{\n",
       "    x.observe(notebookContainer, {childList: true});\n",
       "}}\n",
       "\n",
       "// Listen for the clearing of the current output cell\n",
       "var outputEl = gd.closest('.output');\n",
       "if (outputEl) {{\n",
       "    x.observe(outputEl, {childList: true});\n",
       "}}\n",
       "\n",
       "                        })                };                });            </script>        </div>"
      ]
     },
     "metadata": {},
     "output_type": "display_data"
    }
   ],
   "source": [
    "df.sum().iplot(kind='bar')"
   ]
  },
  {
   "cell_type": "markdown",
   "metadata": {},
   "source": [
    "## Boxplots"
   ]
  },
  {
   "cell_type": "code",
   "execution_count": 13,
   "metadata": {},
   "outputs": [
    {
     "data": {
      "application/vnd.plotly.v1+json": {
       "config": {
        "linkText": "Export to plot.ly",
        "plotlyServerURL": "https://plot.ly",
        "showLink": true
       },
       "data": [
        {
         "boxpoints": false,
         "line": {
          "width": 1.3
         },
         "marker": {
          "color": "rgba(255, 153, 51, 1.0)"
         },
         "name": "A",
         "orientation": "v",
         "type": "box",
         "y": [
          0.3864119162303842,
          1.204197254885549,
          0.8915805046705403,
          0.6946310665445125,
          0.27765294539122676,
          0.5420527940393374,
          0.23163388502617024,
          -0.24611912165954075,
          0.1975421663222593,
          0.8306471225012765,
          -0.5947951947859332,
          0.07533484285624369,
          -0.48662233745461614,
          1.2095431597771475,
          1.4388081805724247,
          1.3213720547077155,
          -1.542678635966428,
          -0.24637024407810829,
          -0.05115857332615439,
          0.21033451070698972,
          3.1612127350544856,
          -1.3787329216099466,
          -0.39174937013067923,
          -1.464323976922046,
          -1.621593224518355,
          0.15333833029814659,
          -0.7801974870265284,
          -1.730171318650708,
          -0.1720820731605149,
          -1.4979155734855347,
          0.316666982307522,
          0.1429949741686534,
          -0.5073673656104781,
          0.8917748631288538,
          2.085554829503526,
          1.4364692534114378,
          -0.38471538218531065,
          -0.5217697385214842,
          0.17919576221160585,
          -0.1905462288446752,
          0.8396965913811204,
          -1.1132884509071437,
          0.24339161281964752,
          -1.429548270239324,
          -0.5806266492981891,
          -1.8770382428692274,
          -0.8888074513675872,
          0.24316207731286255,
          0.4982225352735528,
          -0.034273365889114026,
          -0.5825018111849762,
          -0.8798476373749529,
          1.1995589876220574,
          1.669952108825188,
          -0.3872968742445013,
          -1.0494059696781197,
          0.40754686773647897,
          -1.247921791425569,
          -0.3806257771839392,
          -0.5216481009040306,
          1.5405864399231293,
          -0.12969459449988752,
          -0.4523693590554315,
          -1.1046653902623707,
          1.6385742609526037,
          -0.541543061446402,
          0.8324264462958443,
          1.22474992003944,
          -0.09938681665143169,
          1.0468396972670604,
          -0.18671385796428455,
          -0.38257096000942087,
          0.5438194423985938,
          -0.19667430866170896,
          0.19775465238386308,
          -1.4257793282210245,
          0.23259243306741084,
          -0.7775097925144028,
          -1.0023132477348573,
          -0.2026193056462473,
          1.211440099443612,
          -1.563756949537177,
          0.5652204704929931,
          0.22997063377231486,
          0.6141551613384159,
          -0.5967768099632359,
          -0.8636424612336109,
          1.625871151332099,
          0.9218537869175375,
          0.28860763267064904,
          0.264056480265417,
          -1.7034195957732086,
          -1.2735263824434337,
          0.0453635049200079,
          1.7750461014137107,
          0.5036219550962464,
          1.659598689144155,
          0.9941880574328251,
          -0.293563658171593,
          -0.5632201905824927
         ]
        },
        {
         "boxpoints": false,
         "line": {
          "width": 1.3
         },
         "marker": {
          "color": "rgba(55, 128, 191, 1.0)"
         },
         "name": "B",
         "orientation": "v",
         "type": "box",
         "y": [
          0.663644916668608,
          0.8539894629565865,
          0.7182721805036181,
          -0.23131728651643915,
          1.0520682868690088,
          0.512886451876651,
          0.3962742013757297,
          0.19244837036910498,
          0.6942048027893358,
          -0.2722249899358359,
          0.6634385692004368,
          0.9800891949991442,
          1.1118229049368433,
          -0.10678861848750934,
          0.4690419300255005,
          -0.9723919008515634,
          -1.8757792550845664,
          0.8625745446710906,
          -0.7827619578718803,
          1.6677033232903173,
          1.1146211902632992,
          -1.3538638195878034,
          -0.31828942591868525,
          -0.003779765834421749,
          -0.815296361103711,
          1.1123892326502263,
          -0.7845936279014872,
          -1.9797114354721983,
          -1.390372692915758,
          1.6503369920929167,
          -0.14899684895433177,
          -0.8231575334399924,
          0.16104253963553297,
          0.7836004550291542,
          -0.33153498382638535,
          0.8407689388417556,
          -0.03281131948110183,
          0.12231113887453894,
          -0.018984964617667407,
          -0.6402845786433076,
          -0.12032126474864979,
          0.7349396313531462,
          -0.8960260796006839,
          0.7576566829971076,
          1.5999888684153223,
          -1.1286716075963636,
          1.5534085433341411,
          -0.7244406208197438,
          0.9263127855310453,
          -0.5391208826579759,
          -0.22257653120121626,
          0.4034032365585807,
          1.3094635291740735,
          -0.17829845039408723,
          -0.34107945675869356,
          1.1031629412688133,
          1.1937899917993917,
          -1.3332954918220914,
          -0.008346989593206655,
          -0.6328859674322583,
          -0.7205485931175036,
          1.0154031030661033,
          -1.5408076869474618,
          -0.1865187258517424,
          -0.48252363590092134,
          1.1208765865460928,
          -0.1206576183143393,
          0.3111316770088429,
          -0.8692757764238744,
          0.2683730398176634,
          1.201520534380479,
          1.8412641038761008,
          1.1903462992361296,
          -0.0972977226935668,
          0.35613581513712733,
          1.6478213551010252,
          -0.3197494553823164,
          0.28441072498000314,
          -1.6810004114282828,
          0.2943187027071099,
          -0.8031971015880753,
          -1.0280244607883133,
          -0.3548532385182408,
          -0.2997666538463908,
          -1.0143036354426633,
          -0.45467754603306093,
          0.4520630514102458,
          -1.1233903175090119,
          -0.27233724745283466,
          -0.29285161781770586,
          -0.7418022189104699,
          -1.1562087044083964,
          -0.6457668576781612,
          0.5373550478693669,
          1.2242863244276385,
          -0.9874880065577107,
          -0.6471030553787697,
          -0.048739317504564866,
          -0.23677463664566517,
          0.42998336423142036
         ]
        },
        {
         "boxpoints": false,
         "line": {
          "width": 1.3
         },
         "marker": {
          "color": "rgba(50, 171, 96, 1.0)"
         },
         "name": "C",
         "orientation": "v",
         "type": "box",
         "y": [
          -0.6538122694356095,
          0.29632246647545535,
          0.17940594091991843,
          0.6476627486246456,
          -0.10043811437228084,
          0.11338010465450052,
          -0.08356160498701343,
          -0.7316754573876626,
          -1.2365039762262189,
          -0.6386337749042802,
          -0.7926064521593136,
          -0.742671479208652,
          -0.3370161800707922,
          1.1897598509216165,
          0.7242630798740226,
          0.12021300751943033,
          -1.5541924942579035,
          1.5028214113878702,
          0.760501650197293,
          0.7515986114830532,
          -1.2686451344996938,
          0.01609558960139597,
          -1.6128707827272581,
          0.6903498423641136,
          0.7602651962954348,
          0.0673948377388364,
          -0.9775168899165652,
          0.5585404568888361,
          0.8523224276827606,
          -1.0041705242290733,
          0.5914262277861494,
          -0.5496136621526938,
          0.7017726636910391,
          0.15870469356872455,
          -2.4273620027153555,
          -0.5864254688778012,
          -0.0289089911443751,
          -0.8291195208456038,
          -0.9096062411979251,
          -1.1314170041692238,
          -0.5186793448446886,
          0.3108681995737991,
          -0.8378873764383811,
          0.158880930094833,
          0.7031221132836886,
          0.6505719191055622,
          0.43745761711076453,
          0.45318431224770556,
          -0.6414398264092175,
          0.523073885686085,
          0.12734147164046977,
          -0.770936570781369,
          -1.6151182596614424,
          0.9540473104491346,
          1.67023663497916,
          0.574762895692311,
          -0.8667434406776809,
          -1.2863033897237754,
          1.614402266304719,
          -1.8034959885421769,
          -1.3636443614651592,
          -0.4933435802573463,
          -0.6394587059741395,
          -2.2718745671441094,
          0.553289670910159,
          -1.0078069494814215,
          0.6043589606740618,
          1.4229283648169193,
          -0.179323294635072,
          0.2538061840793955,
          1.0263302945895039,
          0.394082382521719,
          3.121232497730125,
          1.3303969625222654,
          -1.1541522860639097,
          -0.23166102490887022,
          -0.7608722899456053,
          0.8666182729219869,
          0.5350322672866142,
          -1.4602188149153486,
          1.3344993116679742,
          -1.6617774845100284,
          0.42361503860653943,
          1.0908923129569281,
          -0.5303449319476716,
          1.2150687585703044,
          0.7158276442576861,
          -1.9543227706481956,
          -0.33939479342369694,
          0.4821056907373301,
          1.9533934250885414,
          -0.8069952996393184,
          0.7918551373589061,
          -0.17608519122254984,
          -0.30426593014751024,
          1.6164723943168042,
          -0.45506196261105936,
          0.3152484690447127,
          1.647266342350233,
          -0.7223542684237176
         ]
        },
        {
         "boxpoints": false,
         "line": {
          "width": 1.3
         },
         "marker": {
          "color": "rgba(128, 0, 128, 1.0)"
         },
         "name": "D",
         "orientation": "v",
         "type": "box",
         "y": [
          0.4757041776816243,
          0.590059346810028,
          1.4898915294795725,
          -0.10129042263276683,
          1.1597985080190125,
          0.0724982860361312,
          0.2619252841036569,
          0.061469576277574184,
          0.8196718590872685,
          0.01240778778894669,
          -0.17978598192692227,
          0.7752167917400364,
          -0.7883907933883273,
          -0.5913088626844035,
          0.840354822847208,
          0.2033445961535619,
          -0.5372586713560256,
          0.4232216389089505,
          -0.2528325544163104,
          1.3249290964393545,
          -0.40583222858635587,
          0.21658564791370435,
          0.11080851452461021,
          -1.510576937964176,
          0.44917619312760176,
          0.7236215239497839,
          1.3401738752050207,
          -0.5284184494366296,
          0.5168797933043524,
          0.27983750198876206,
          0.6462227083234211,
          -1.6537132076782313,
          0.6353620784452373,
          -1.886652937081722,
          1.492870807314742,
          -0.08148994426046148,
          0.9983669181816184,
          -0.19043088811464584,
          -0.5688184865474755,
          0.5624134837235857,
          -0.3210101968912109,
          1.213691522496094,
          -0.6308343201304198,
          -0.26552273071010934,
          0.0382706171539293,
          -0.42471459773090114,
          -1.2553973083616052,
          0.22693857017483704,
          -0.09986680003889419,
          -1.1171045042039667,
          -1.7636923232057913,
          -0.8078679446482997,
          -0.5113036700437527,
          0.13352748397932704,
          -0.481125035670177,
          -0.3364057735395534,
          0.5550899769272462,
          0.5876780577788043,
          -1.2003862841996797,
          1.6471280758452198,
          0.20112173315908158,
          1.2654140663662488,
          -0.8893935549005481,
          1.5474457958694703,
          -0.9223180706019465,
          -1.990699220593327,
          -0.312954805627847,
          0.19046176478033308,
          0.8584044198133884,
          -0.8279642354823153,
          -0.8110986924038266,
          -1.749313401583035,
          -0.5130068061780467,
          0.2557293226317499,
          1.9607498420411158,
          0.8220431076067412,
          0.6229318544142777,
          0.6659824134676142,
          -1.53152263813704,
          0.4644195955382767,
          0.8911958385726465,
          0.26943097640536046,
          0.711729257448235,
          0.7924413057554689,
          0.42979066547023326,
          0.8931354553398241,
          -1.9331873902697487,
          0.5555385587552265,
          -0.9853819496872513,
          0.161249515605386,
          1.9759695910147321,
          1.4093690275179895,
          -1.1299357517823005,
          2.3298930325014813,
          -1.1510253706195832,
          -0.8203802944899652,
          -0.42983926404297373,
          -0.13911929398213121,
          -0.019621435532456055,
          -0.7622062333318493
         ]
        }
       ],
       "layout": {
        "legend": {
         "bgcolor": "#F5F6F9",
         "font": {
          "color": "#4D5663"
         }
        },
        "paper_bgcolor": "#F5F6F9",
        "plot_bgcolor": "#F5F6F9",
        "template": {
         "data": {
          "bar": [
           {
            "error_x": {
             "color": "#2a3f5f"
            },
            "error_y": {
             "color": "#2a3f5f"
            },
            "marker": {
             "line": {
              "color": "#E5ECF6",
              "width": 0.5
             },
             "pattern": {
              "fillmode": "overlay",
              "size": 10,
              "solidity": 0.2
             }
            },
            "type": "bar"
           }
          ],
          "barpolar": [
           {
            "marker": {
             "line": {
              "color": "#E5ECF6",
              "width": 0.5
             },
             "pattern": {
              "fillmode": "overlay",
              "size": 10,
              "solidity": 0.2
             }
            },
            "type": "barpolar"
           }
          ],
          "carpet": [
           {
            "aaxis": {
             "endlinecolor": "#2a3f5f",
             "gridcolor": "white",
             "linecolor": "white",
             "minorgridcolor": "white",
             "startlinecolor": "#2a3f5f"
            },
            "baxis": {
             "endlinecolor": "#2a3f5f",
             "gridcolor": "white",
             "linecolor": "white",
             "minorgridcolor": "white",
             "startlinecolor": "#2a3f5f"
            },
            "type": "carpet"
           }
          ],
          "choropleth": [
           {
            "colorbar": {
             "outlinewidth": 0,
             "ticks": ""
            },
            "type": "choropleth"
           }
          ],
          "contour": [
           {
            "colorbar": {
             "outlinewidth": 0,
             "ticks": ""
            },
            "colorscale": [
             [
              0,
              "#0d0887"
             ],
             [
              0.1111111111111111,
              "#46039f"
             ],
             [
              0.2222222222222222,
              "#7201a8"
             ],
             [
              0.3333333333333333,
              "#9c179e"
             ],
             [
              0.4444444444444444,
              "#bd3786"
             ],
             [
              0.5555555555555556,
              "#d8576b"
             ],
             [
              0.6666666666666666,
              "#ed7953"
             ],
             [
              0.7777777777777778,
              "#fb9f3a"
             ],
             [
              0.8888888888888888,
              "#fdca26"
             ],
             [
              1,
              "#f0f921"
             ]
            ],
            "type": "contour"
           }
          ],
          "contourcarpet": [
           {
            "colorbar": {
             "outlinewidth": 0,
             "ticks": ""
            },
            "type": "contourcarpet"
           }
          ],
          "heatmap": [
           {
            "colorbar": {
             "outlinewidth": 0,
             "ticks": ""
            },
            "colorscale": [
             [
              0,
              "#0d0887"
             ],
             [
              0.1111111111111111,
              "#46039f"
             ],
             [
              0.2222222222222222,
              "#7201a8"
             ],
             [
              0.3333333333333333,
              "#9c179e"
             ],
             [
              0.4444444444444444,
              "#bd3786"
             ],
             [
              0.5555555555555556,
              "#d8576b"
             ],
             [
              0.6666666666666666,
              "#ed7953"
             ],
             [
              0.7777777777777778,
              "#fb9f3a"
             ],
             [
              0.8888888888888888,
              "#fdca26"
             ],
             [
              1,
              "#f0f921"
             ]
            ],
            "type": "heatmap"
           }
          ],
          "heatmapgl": [
           {
            "colorbar": {
             "outlinewidth": 0,
             "ticks": ""
            },
            "colorscale": [
             [
              0,
              "#0d0887"
             ],
             [
              0.1111111111111111,
              "#46039f"
             ],
             [
              0.2222222222222222,
              "#7201a8"
             ],
             [
              0.3333333333333333,
              "#9c179e"
             ],
             [
              0.4444444444444444,
              "#bd3786"
             ],
             [
              0.5555555555555556,
              "#d8576b"
             ],
             [
              0.6666666666666666,
              "#ed7953"
             ],
             [
              0.7777777777777778,
              "#fb9f3a"
             ],
             [
              0.8888888888888888,
              "#fdca26"
             ],
             [
              1,
              "#f0f921"
             ]
            ],
            "type": "heatmapgl"
           }
          ],
          "histogram": [
           {
            "marker": {
             "pattern": {
              "fillmode": "overlay",
              "size": 10,
              "solidity": 0.2
             }
            },
            "type": "histogram"
           }
          ],
          "histogram2d": [
           {
            "colorbar": {
             "outlinewidth": 0,
             "ticks": ""
            },
            "colorscale": [
             [
              0,
              "#0d0887"
             ],
             [
              0.1111111111111111,
              "#46039f"
             ],
             [
              0.2222222222222222,
              "#7201a8"
             ],
             [
              0.3333333333333333,
              "#9c179e"
             ],
             [
              0.4444444444444444,
              "#bd3786"
             ],
             [
              0.5555555555555556,
              "#d8576b"
             ],
             [
              0.6666666666666666,
              "#ed7953"
             ],
             [
              0.7777777777777778,
              "#fb9f3a"
             ],
             [
              0.8888888888888888,
              "#fdca26"
             ],
             [
              1,
              "#f0f921"
             ]
            ],
            "type": "histogram2d"
           }
          ],
          "histogram2dcontour": [
           {
            "colorbar": {
             "outlinewidth": 0,
             "ticks": ""
            },
            "colorscale": [
             [
              0,
              "#0d0887"
             ],
             [
              0.1111111111111111,
              "#46039f"
             ],
             [
              0.2222222222222222,
              "#7201a8"
             ],
             [
              0.3333333333333333,
              "#9c179e"
             ],
             [
              0.4444444444444444,
              "#bd3786"
             ],
             [
              0.5555555555555556,
              "#d8576b"
             ],
             [
              0.6666666666666666,
              "#ed7953"
             ],
             [
              0.7777777777777778,
              "#fb9f3a"
             ],
             [
              0.8888888888888888,
              "#fdca26"
             ],
             [
              1,
              "#f0f921"
             ]
            ],
            "type": "histogram2dcontour"
           }
          ],
          "mesh3d": [
           {
            "colorbar": {
             "outlinewidth": 0,
             "ticks": ""
            },
            "type": "mesh3d"
           }
          ],
          "parcoords": [
           {
            "line": {
             "colorbar": {
              "outlinewidth": 0,
              "ticks": ""
             }
            },
            "type": "parcoords"
           }
          ],
          "pie": [
           {
            "automargin": true,
            "type": "pie"
           }
          ],
          "scatter": [
           {
            "marker": {
             "colorbar": {
              "outlinewidth": 0,
              "ticks": ""
             }
            },
            "type": "scatter"
           }
          ],
          "scatter3d": [
           {
            "line": {
             "colorbar": {
              "outlinewidth": 0,
              "ticks": ""
             }
            },
            "marker": {
             "colorbar": {
              "outlinewidth": 0,
              "ticks": ""
             }
            },
            "type": "scatter3d"
           }
          ],
          "scattercarpet": [
           {
            "marker": {
             "colorbar": {
              "outlinewidth": 0,
              "ticks": ""
             }
            },
            "type": "scattercarpet"
           }
          ],
          "scattergeo": [
           {
            "marker": {
             "colorbar": {
              "outlinewidth": 0,
              "ticks": ""
             }
            },
            "type": "scattergeo"
           }
          ],
          "scattergl": [
           {
            "marker": {
             "colorbar": {
              "outlinewidth": 0,
              "ticks": ""
             }
            },
            "type": "scattergl"
           }
          ],
          "scattermapbox": [
           {
            "marker": {
             "colorbar": {
              "outlinewidth": 0,
              "ticks": ""
             }
            },
            "type": "scattermapbox"
           }
          ],
          "scatterpolar": [
           {
            "marker": {
             "colorbar": {
              "outlinewidth": 0,
              "ticks": ""
             }
            },
            "type": "scatterpolar"
           }
          ],
          "scatterpolargl": [
           {
            "marker": {
             "colorbar": {
              "outlinewidth": 0,
              "ticks": ""
             }
            },
            "type": "scatterpolargl"
           }
          ],
          "scatterternary": [
           {
            "marker": {
             "colorbar": {
              "outlinewidth": 0,
              "ticks": ""
             }
            },
            "type": "scatterternary"
           }
          ],
          "surface": [
           {
            "colorbar": {
             "outlinewidth": 0,
             "ticks": ""
            },
            "colorscale": [
             [
              0,
              "#0d0887"
             ],
             [
              0.1111111111111111,
              "#46039f"
             ],
             [
              0.2222222222222222,
              "#7201a8"
             ],
             [
              0.3333333333333333,
              "#9c179e"
             ],
             [
              0.4444444444444444,
              "#bd3786"
             ],
             [
              0.5555555555555556,
              "#d8576b"
             ],
             [
              0.6666666666666666,
              "#ed7953"
             ],
             [
              0.7777777777777778,
              "#fb9f3a"
             ],
             [
              0.8888888888888888,
              "#fdca26"
             ],
             [
              1,
              "#f0f921"
             ]
            ],
            "type": "surface"
           }
          ],
          "table": [
           {
            "cells": {
             "fill": {
              "color": "#EBF0F8"
             },
             "line": {
              "color": "white"
             }
            },
            "header": {
             "fill": {
              "color": "#C8D4E3"
             },
             "line": {
              "color": "white"
             }
            },
            "type": "table"
           }
          ]
         },
         "layout": {
          "annotationdefaults": {
           "arrowcolor": "#2a3f5f",
           "arrowhead": 0,
           "arrowwidth": 1
          },
          "autotypenumbers": "strict",
          "coloraxis": {
           "colorbar": {
            "outlinewidth": 0,
            "ticks": ""
           }
          },
          "colorscale": {
           "diverging": [
            [
             0,
             "#8e0152"
            ],
            [
             0.1,
             "#c51b7d"
            ],
            [
             0.2,
             "#de77ae"
            ],
            [
             0.3,
             "#f1b6da"
            ],
            [
             0.4,
             "#fde0ef"
            ],
            [
             0.5,
             "#f7f7f7"
            ],
            [
             0.6,
             "#e6f5d0"
            ],
            [
             0.7,
             "#b8e186"
            ],
            [
             0.8,
             "#7fbc41"
            ],
            [
             0.9,
             "#4d9221"
            ],
            [
             1,
             "#276419"
            ]
           ],
           "sequential": [
            [
             0,
             "#0d0887"
            ],
            [
             0.1111111111111111,
             "#46039f"
            ],
            [
             0.2222222222222222,
             "#7201a8"
            ],
            [
             0.3333333333333333,
             "#9c179e"
            ],
            [
             0.4444444444444444,
             "#bd3786"
            ],
            [
             0.5555555555555556,
             "#d8576b"
            ],
            [
             0.6666666666666666,
             "#ed7953"
            ],
            [
             0.7777777777777778,
             "#fb9f3a"
            ],
            [
             0.8888888888888888,
             "#fdca26"
            ],
            [
             1,
             "#f0f921"
            ]
           ],
           "sequentialminus": [
            [
             0,
             "#0d0887"
            ],
            [
             0.1111111111111111,
             "#46039f"
            ],
            [
             0.2222222222222222,
             "#7201a8"
            ],
            [
             0.3333333333333333,
             "#9c179e"
            ],
            [
             0.4444444444444444,
             "#bd3786"
            ],
            [
             0.5555555555555556,
             "#d8576b"
            ],
            [
             0.6666666666666666,
             "#ed7953"
            ],
            [
             0.7777777777777778,
             "#fb9f3a"
            ],
            [
             0.8888888888888888,
             "#fdca26"
            ],
            [
             1,
             "#f0f921"
            ]
           ]
          },
          "colorway": [
           "#636efa",
           "#EF553B",
           "#00cc96",
           "#ab63fa",
           "#FFA15A",
           "#19d3f3",
           "#FF6692",
           "#B6E880",
           "#FF97FF",
           "#FECB52"
          ],
          "font": {
           "color": "#2a3f5f"
          },
          "geo": {
           "bgcolor": "white",
           "lakecolor": "white",
           "landcolor": "#E5ECF6",
           "showlakes": true,
           "showland": true,
           "subunitcolor": "white"
          },
          "hoverlabel": {
           "align": "left"
          },
          "hovermode": "closest",
          "mapbox": {
           "style": "light"
          },
          "paper_bgcolor": "white",
          "plot_bgcolor": "#E5ECF6",
          "polar": {
           "angularaxis": {
            "gridcolor": "white",
            "linecolor": "white",
            "ticks": ""
           },
           "bgcolor": "#E5ECF6",
           "radialaxis": {
            "gridcolor": "white",
            "linecolor": "white",
            "ticks": ""
           }
          },
          "scene": {
           "xaxis": {
            "backgroundcolor": "#E5ECF6",
            "gridcolor": "white",
            "gridwidth": 2,
            "linecolor": "white",
            "showbackground": true,
            "ticks": "",
            "zerolinecolor": "white"
           },
           "yaxis": {
            "backgroundcolor": "#E5ECF6",
            "gridcolor": "white",
            "gridwidth": 2,
            "linecolor": "white",
            "showbackground": true,
            "ticks": "",
            "zerolinecolor": "white"
           },
           "zaxis": {
            "backgroundcolor": "#E5ECF6",
            "gridcolor": "white",
            "gridwidth": 2,
            "linecolor": "white",
            "showbackground": true,
            "ticks": "",
            "zerolinecolor": "white"
           }
          },
          "shapedefaults": {
           "line": {
            "color": "#2a3f5f"
           }
          },
          "ternary": {
           "aaxis": {
            "gridcolor": "white",
            "linecolor": "white",
            "ticks": ""
           },
           "baxis": {
            "gridcolor": "white",
            "linecolor": "white",
            "ticks": ""
           },
           "bgcolor": "#E5ECF6",
           "caxis": {
            "gridcolor": "white",
            "linecolor": "white",
            "ticks": ""
           }
          },
          "title": {
           "x": 0.05
          },
          "xaxis": {
           "automargin": true,
           "gridcolor": "white",
           "linecolor": "white",
           "ticks": "",
           "title": {
            "standoff": 15
           },
           "zerolinecolor": "white",
           "zerolinewidth": 2
          },
          "yaxis": {
           "automargin": true,
           "gridcolor": "white",
           "linecolor": "white",
           "ticks": "",
           "title": {
            "standoff": 15
           },
           "zerolinecolor": "white",
           "zerolinewidth": 2
          }
         }
        },
        "title": {
         "font": {
          "color": "#4D5663"
         }
        },
        "xaxis": {
         "gridcolor": "#E1E5ED",
         "showgrid": true,
         "tickfont": {
          "color": "#4D5663"
         },
         "title": {
          "font": {
           "color": "#4D5663"
          },
          "text": ""
         },
         "zerolinecolor": "#E1E5ED"
        },
        "yaxis": {
         "gridcolor": "#E1E5ED",
         "showgrid": true,
         "tickfont": {
          "color": "#4D5663"
         },
         "title": {
          "font": {
           "color": "#4D5663"
          },
          "text": ""
         },
         "zerolinecolor": "#E1E5ED"
        }
       }
      },
      "text/html": [
       "<div>                            <div id=\"adb51506-4c12-478f-84b9-5d54f4e25e2c\" class=\"plotly-graph-div\" style=\"height:525px; width:100%;\"></div>            <script type=\"text/javascript\">                require([\"plotly\"], function(Plotly) {                    window.PLOTLYENV=window.PLOTLYENV || {};\n",
       "                    window.PLOTLYENV.BASE_URL='https://plot.ly';                                    if (document.getElementById(\"adb51506-4c12-478f-84b9-5d54f4e25e2c\")) {                    Plotly.newPlot(                        \"adb51506-4c12-478f-84b9-5d54f4e25e2c\",                        [{\"boxpoints\":false,\"line\":{\"width\":1.3},\"marker\":{\"color\":\"rgba(255, 153, 51, 1.0)\"},\"name\":\"A\",\"orientation\":\"v\",\"y\":[0.3864119162303842,1.204197254885549,0.8915805046705403,0.6946310665445125,0.27765294539122676,0.5420527940393374,0.23163388502617024,-0.24611912165954075,0.1975421663222593,0.8306471225012765,-0.5947951947859332,0.07533484285624369,-0.48662233745461614,1.2095431597771475,1.4388081805724247,1.3213720547077155,-1.542678635966428,-0.24637024407810829,-0.05115857332615439,0.21033451070698972,3.1612127350544856,-1.3787329216099466,-0.39174937013067923,-1.464323976922046,-1.621593224518355,0.15333833029814659,-0.7801974870265284,-1.730171318650708,-0.1720820731605149,-1.4979155734855347,0.316666982307522,0.1429949741686534,-0.5073673656104781,0.8917748631288538,2.085554829503526,1.4364692534114378,-0.38471538218531065,-0.5217697385214842,0.17919576221160585,-0.1905462288446752,0.8396965913811204,-1.1132884509071437,0.24339161281964752,-1.429548270239324,-0.5806266492981891,-1.8770382428692274,-0.8888074513675872,0.24316207731286255,0.4982225352735528,-0.034273365889114026,-0.5825018111849762,-0.8798476373749529,1.1995589876220574,1.669952108825188,-0.3872968742445013,-1.0494059696781197,0.40754686773647897,-1.247921791425569,-0.3806257771839392,-0.5216481009040306,1.5405864399231293,-0.12969459449988752,-0.4523693590554315,-1.1046653902623707,1.6385742609526037,-0.541543061446402,0.8324264462958443,1.22474992003944,-0.09938681665143169,1.0468396972670604,-0.18671385796428455,-0.38257096000942087,0.5438194423985938,-0.19667430866170896,0.19775465238386308,-1.4257793282210245,0.23259243306741084,-0.7775097925144028,-1.0023132477348573,-0.2026193056462473,1.211440099443612,-1.563756949537177,0.5652204704929931,0.22997063377231486,0.6141551613384159,-0.5967768099632359,-0.8636424612336109,1.625871151332099,0.9218537869175375,0.28860763267064904,0.264056480265417,-1.7034195957732086,-1.2735263824434337,0.0453635049200079,1.7750461014137107,0.5036219550962464,1.659598689144155,0.9941880574328251,-0.293563658171593,-0.5632201905824927],\"type\":\"box\"},{\"boxpoints\":false,\"line\":{\"width\":1.3},\"marker\":{\"color\":\"rgba(55, 128, 191, 1.0)\"},\"name\":\"B\",\"orientation\":\"v\",\"y\":[0.663644916668608,0.8539894629565865,0.7182721805036181,-0.23131728651643915,1.0520682868690088,0.512886451876651,0.3962742013757297,0.19244837036910498,0.6942048027893358,-0.2722249899358359,0.6634385692004368,0.9800891949991442,1.1118229049368433,-0.10678861848750934,0.4690419300255005,-0.9723919008515634,-1.8757792550845664,0.8625745446710906,-0.7827619578718803,1.6677033232903173,1.1146211902632992,-1.3538638195878034,-0.31828942591868525,-0.003779765834421749,-0.815296361103711,1.1123892326502263,-0.7845936279014872,-1.9797114354721983,-1.390372692915758,1.6503369920929167,-0.14899684895433177,-0.8231575334399924,0.16104253963553297,0.7836004550291542,-0.33153498382638535,0.8407689388417556,-0.03281131948110183,0.12231113887453894,-0.018984964617667407,-0.6402845786433076,-0.12032126474864979,0.7349396313531462,-0.8960260796006839,0.7576566829971076,1.5999888684153223,-1.1286716075963636,1.5534085433341411,-0.7244406208197438,0.9263127855310453,-0.5391208826579759,-0.22257653120121626,0.4034032365585807,1.3094635291740735,-0.17829845039408723,-0.34107945675869356,1.1031629412688133,1.1937899917993917,-1.3332954918220914,-0.008346989593206655,-0.6328859674322583,-0.7205485931175036,1.0154031030661033,-1.5408076869474618,-0.1865187258517424,-0.48252363590092134,1.1208765865460928,-0.1206576183143393,0.3111316770088429,-0.8692757764238744,0.2683730398176634,1.201520534380479,1.8412641038761008,1.1903462992361296,-0.0972977226935668,0.35613581513712733,1.6478213551010252,-0.3197494553823164,0.28441072498000314,-1.6810004114282828,0.2943187027071099,-0.8031971015880753,-1.0280244607883133,-0.3548532385182408,-0.2997666538463908,-1.0143036354426633,-0.45467754603306093,0.4520630514102458,-1.1233903175090119,-0.27233724745283466,-0.29285161781770586,-0.7418022189104699,-1.1562087044083964,-0.6457668576781612,0.5373550478693669,1.2242863244276385,-0.9874880065577107,-0.6471030553787697,-0.048739317504564866,-0.23677463664566517,0.42998336423142036],\"type\":\"box\"},{\"boxpoints\":false,\"line\":{\"width\":1.3},\"marker\":{\"color\":\"rgba(50, 171, 96, 1.0)\"},\"name\":\"C\",\"orientation\":\"v\",\"y\":[-0.6538122694356095,0.29632246647545535,0.17940594091991843,0.6476627486246456,-0.10043811437228084,0.11338010465450052,-0.08356160498701343,-0.7316754573876626,-1.2365039762262189,-0.6386337749042802,-0.7926064521593136,-0.742671479208652,-0.3370161800707922,1.1897598509216165,0.7242630798740226,0.12021300751943033,-1.5541924942579035,1.5028214113878702,0.760501650197293,0.7515986114830532,-1.2686451344996938,0.01609558960139597,-1.6128707827272581,0.6903498423641136,0.7602651962954348,0.0673948377388364,-0.9775168899165652,0.5585404568888361,0.8523224276827606,-1.0041705242290733,0.5914262277861494,-0.5496136621526938,0.7017726636910391,0.15870469356872455,-2.4273620027153555,-0.5864254688778012,-0.0289089911443751,-0.8291195208456038,-0.9096062411979251,-1.1314170041692238,-0.5186793448446886,0.3108681995737991,-0.8378873764383811,0.158880930094833,0.7031221132836886,0.6505719191055622,0.43745761711076453,0.45318431224770556,-0.6414398264092175,0.523073885686085,0.12734147164046977,-0.770936570781369,-1.6151182596614424,0.9540473104491346,1.67023663497916,0.574762895692311,-0.8667434406776809,-1.2863033897237754,1.614402266304719,-1.8034959885421769,-1.3636443614651592,-0.4933435802573463,-0.6394587059741395,-2.2718745671441094,0.553289670910159,-1.0078069494814215,0.6043589606740618,1.4229283648169193,-0.179323294635072,0.2538061840793955,1.0263302945895039,0.394082382521719,3.121232497730125,1.3303969625222654,-1.1541522860639097,-0.23166102490887022,-0.7608722899456053,0.8666182729219869,0.5350322672866142,-1.4602188149153486,1.3344993116679742,-1.6617774845100284,0.42361503860653943,1.0908923129569281,-0.5303449319476716,1.2150687585703044,0.7158276442576861,-1.9543227706481956,-0.33939479342369694,0.4821056907373301,1.9533934250885414,-0.8069952996393184,0.7918551373589061,-0.17608519122254984,-0.30426593014751024,1.6164723943168042,-0.45506196261105936,0.3152484690447127,1.647266342350233,-0.7223542684237176],\"type\":\"box\"},{\"boxpoints\":false,\"line\":{\"width\":1.3},\"marker\":{\"color\":\"rgba(128, 0, 128, 1.0)\"},\"name\":\"D\",\"orientation\":\"v\",\"y\":[0.4757041776816243,0.590059346810028,1.4898915294795725,-0.10129042263276683,1.1597985080190125,0.0724982860361312,0.2619252841036569,0.061469576277574184,0.8196718590872685,0.01240778778894669,-0.17978598192692227,0.7752167917400364,-0.7883907933883273,-0.5913088626844035,0.840354822847208,0.2033445961535619,-0.5372586713560256,0.4232216389089505,-0.2528325544163104,1.3249290964393545,-0.40583222858635587,0.21658564791370435,0.11080851452461021,-1.510576937964176,0.44917619312760176,0.7236215239497839,1.3401738752050207,-0.5284184494366296,0.5168797933043524,0.27983750198876206,0.6462227083234211,-1.6537132076782313,0.6353620784452373,-1.886652937081722,1.492870807314742,-0.08148994426046148,0.9983669181816184,-0.19043088811464584,-0.5688184865474755,0.5624134837235857,-0.3210101968912109,1.213691522496094,-0.6308343201304198,-0.26552273071010934,0.0382706171539293,-0.42471459773090114,-1.2553973083616052,0.22693857017483704,-0.09986680003889419,-1.1171045042039667,-1.7636923232057913,-0.8078679446482997,-0.5113036700437527,0.13352748397932704,-0.481125035670177,-0.3364057735395534,0.5550899769272462,0.5876780577788043,-1.2003862841996797,1.6471280758452198,0.20112173315908158,1.2654140663662488,-0.8893935549005481,1.5474457958694703,-0.9223180706019465,-1.990699220593327,-0.312954805627847,0.19046176478033308,0.8584044198133884,-0.8279642354823153,-0.8110986924038266,-1.749313401583035,-0.5130068061780467,0.2557293226317499,1.9607498420411158,0.8220431076067412,0.6229318544142777,0.6659824134676142,-1.53152263813704,0.4644195955382767,0.8911958385726465,0.26943097640536046,0.711729257448235,0.7924413057554689,0.42979066547023326,0.8931354553398241,-1.9331873902697487,0.5555385587552265,-0.9853819496872513,0.161249515605386,1.9759695910147321,1.4093690275179895,-1.1299357517823005,2.3298930325014813,-1.1510253706195832,-0.8203802944899652,-0.42983926404297373,-0.13911929398213121,-0.019621435532456055,-0.7622062333318493],\"type\":\"box\"}],                        {\"legend\":{\"bgcolor\":\"#F5F6F9\",\"font\":{\"color\":\"#4D5663\"}},\"paper_bgcolor\":\"#F5F6F9\",\"plot_bgcolor\":\"#F5F6F9\",\"template\":{\"data\":{\"barpolar\":[{\"marker\":{\"line\":{\"color\":\"#E5ECF6\",\"width\":0.5},\"pattern\":{\"fillmode\":\"overlay\",\"size\":10,\"solidity\":0.2}},\"type\":\"barpolar\"}],\"bar\":[{\"error_x\":{\"color\":\"#2a3f5f\"},\"error_y\":{\"color\":\"#2a3f5f\"},\"marker\":{\"line\":{\"color\":\"#E5ECF6\",\"width\":0.5},\"pattern\":{\"fillmode\":\"overlay\",\"size\":10,\"solidity\":0.2}},\"type\":\"bar\"}],\"carpet\":[{\"aaxis\":{\"endlinecolor\":\"#2a3f5f\",\"gridcolor\":\"white\",\"linecolor\":\"white\",\"minorgridcolor\":\"white\",\"startlinecolor\":\"#2a3f5f\"},\"baxis\":{\"endlinecolor\":\"#2a3f5f\",\"gridcolor\":\"white\",\"linecolor\":\"white\",\"minorgridcolor\":\"white\",\"startlinecolor\":\"#2a3f5f\"},\"type\":\"carpet\"}],\"choropleth\":[{\"colorbar\":{\"outlinewidth\":0,\"ticks\":\"\"},\"type\":\"choropleth\"}],\"contourcarpet\":[{\"colorbar\":{\"outlinewidth\":0,\"ticks\":\"\"},\"type\":\"contourcarpet\"}],\"contour\":[{\"colorbar\":{\"outlinewidth\":0,\"ticks\":\"\"},\"colorscale\":[[0.0,\"#0d0887\"],[0.1111111111111111,\"#46039f\"],[0.2222222222222222,\"#7201a8\"],[0.3333333333333333,\"#9c179e\"],[0.4444444444444444,\"#bd3786\"],[0.5555555555555556,\"#d8576b\"],[0.6666666666666666,\"#ed7953\"],[0.7777777777777778,\"#fb9f3a\"],[0.8888888888888888,\"#fdca26\"],[1.0,\"#f0f921\"]],\"type\":\"contour\"}],\"heatmapgl\":[{\"colorbar\":{\"outlinewidth\":0,\"ticks\":\"\"},\"colorscale\":[[0.0,\"#0d0887\"],[0.1111111111111111,\"#46039f\"],[0.2222222222222222,\"#7201a8\"],[0.3333333333333333,\"#9c179e\"],[0.4444444444444444,\"#bd3786\"],[0.5555555555555556,\"#d8576b\"],[0.6666666666666666,\"#ed7953\"],[0.7777777777777778,\"#fb9f3a\"],[0.8888888888888888,\"#fdca26\"],[1.0,\"#f0f921\"]],\"type\":\"heatmapgl\"}],\"heatmap\":[{\"colorbar\":{\"outlinewidth\":0,\"ticks\":\"\"},\"colorscale\":[[0.0,\"#0d0887\"],[0.1111111111111111,\"#46039f\"],[0.2222222222222222,\"#7201a8\"],[0.3333333333333333,\"#9c179e\"],[0.4444444444444444,\"#bd3786\"],[0.5555555555555556,\"#d8576b\"],[0.6666666666666666,\"#ed7953\"],[0.7777777777777778,\"#fb9f3a\"],[0.8888888888888888,\"#fdca26\"],[1.0,\"#f0f921\"]],\"type\":\"heatmap\"}],\"histogram2dcontour\":[{\"colorbar\":{\"outlinewidth\":0,\"ticks\":\"\"},\"colorscale\":[[0.0,\"#0d0887\"],[0.1111111111111111,\"#46039f\"],[0.2222222222222222,\"#7201a8\"],[0.3333333333333333,\"#9c179e\"],[0.4444444444444444,\"#bd3786\"],[0.5555555555555556,\"#d8576b\"],[0.6666666666666666,\"#ed7953\"],[0.7777777777777778,\"#fb9f3a\"],[0.8888888888888888,\"#fdca26\"],[1.0,\"#f0f921\"]],\"type\":\"histogram2dcontour\"}],\"histogram2d\":[{\"colorbar\":{\"outlinewidth\":0,\"ticks\":\"\"},\"colorscale\":[[0.0,\"#0d0887\"],[0.1111111111111111,\"#46039f\"],[0.2222222222222222,\"#7201a8\"],[0.3333333333333333,\"#9c179e\"],[0.4444444444444444,\"#bd3786\"],[0.5555555555555556,\"#d8576b\"],[0.6666666666666666,\"#ed7953\"],[0.7777777777777778,\"#fb9f3a\"],[0.8888888888888888,\"#fdca26\"],[1.0,\"#f0f921\"]],\"type\":\"histogram2d\"}],\"histogram\":[{\"marker\":{\"pattern\":{\"fillmode\":\"overlay\",\"size\":10,\"solidity\":0.2}},\"type\":\"histogram\"}],\"mesh3d\":[{\"colorbar\":{\"outlinewidth\":0,\"ticks\":\"\"},\"type\":\"mesh3d\"}],\"parcoords\":[{\"line\":{\"colorbar\":{\"outlinewidth\":0,\"ticks\":\"\"}},\"type\":\"parcoords\"}],\"pie\":[{\"automargin\":true,\"type\":\"pie\"}],\"scatter3d\":[{\"line\":{\"colorbar\":{\"outlinewidth\":0,\"ticks\":\"\"}},\"marker\":{\"colorbar\":{\"outlinewidth\":0,\"ticks\":\"\"}},\"type\":\"scatter3d\"}],\"scattercarpet\":[{\"marker\":{\"colorbar\":{\"outlinewidth\":0,\"ticks\":\"\"}},\"type\":\"scattercarpet\"}],\"scattergeo\":[{\"marker\":{\"colorbar\":{\"outlinewidth\":0,\"ticks\":\"\"}},\"type\":\"scattergeo\"}],\"scattergl\":[{\"marker\":{\"colorbar\":{\"outlinewidth\":0,\"ticks\":\"\"}},\"type\":\"scattergl\"}],\"scattermapbox\":[{\"marker\":{\"colorbar\":{\"outlinewidth\":0,\"ticks\":\"\"}},\"type\":\"scattermapbox\"}],\"scatterpolargl\":[{\"marker\":{\"colorbar\":{\"outlinewidth\":0,\"ticks\":\"\"}},\"type\":\"scatterpolargl\"}],\"scatterpolar\":[{\"marker\":{\"colorbar\":{\"outlinewidth\":0,\"ticks\":\"\"}},\"type\":\"scatterpolar\"}],\"scatter\":[{\"marker\":{\"colorbar\":{\"outlinewidth\":0,\"ticks\":\"\"}},\"type\":\"scatter\"}],\"scatterternary\":[{\"marker\":{\"colorbar\":{\"outlinewidth\":0,\"ticks\":\"\"}},\"type\":\"scatterternary\"}],\"surface\":[{\"colorbar\":{\"outlinewidth\":0,\"ticks\":\"\"},\"colorscale\":[[0.0,\"#0d0887\"],[0.1111111111111111,\"#46039f\"],[0.2222222222222222,\"#7201a8\"],[0.3333333333333333,\"#9c179e\"],[0.4444444444444444,\"#bd3786\"],[0.5555555555555556,\"#d8576b\"],[0.6666666666666666,\"#ed7953\"],[0.7777777777777778,\"#fb9f3a\"],[0.8888888888888888,\"#fdca26\"],[1.0,\"#f0f921\"]],\"type\":\"surface\"}],\"table\":[{\"cells\":{\"fill\":{\"color\":\"#EBF0F8\"},\"line\":{\"color\":\"white\"}},\"header\":{\"fill\":{\"color\":\"#C8D4E3\"},\"line\":{\"color\":\"white\"}},\"type\":\"table\"}]},\"layout\":{\"annotationdefaults\":{\"arrowcolor\":\"#2a3f5f\",\"arrowhead\":0,\"arrowwidth\":1},\"autotypenumbers\":\"strict\",\"coloraxis\":{\"colorbar\":{\"outlinewidth\":0,\"ticks\":\"\"}},\"colorscale\":{\"diverging\":[[0,\"#8e0152\"],[0.1,\"#c51b7d\"],[0.2,\"#de77ae\"],[0.3,\"#f1b6da\"],[0.4,\"#fde0ef\"],[0.5,\"#f7f7f7\"],[0.6,\"#e6f5d0\"],[0.7,\"#b8e186\"],[0.8,\"#7fbc41\"],[0.9,\"#4d9221\"],[1,\"#276419\"]],\"sequential\":[[0.0,\"#0d0887\"],[0.1111111111111111,\"#46039f\"],[0.2222222222222222,\"#7201a8\"],[0.3333333333333333,\"#9c179e\"],[0.4444444444444444,\"#bd3786\"],[0.5555555555555556,\"#d8576b\"],[0.6666666666666666,\"#ed7953\"],[0.7777777777777778,\"#fb9f3a\"],[0.8888888888888888,\"#fdca26\"],[1.0,\"#f0f921\"]],\"sequentialminus\":[[0.0,\"#0d0887\"],[0.1111111111111111,\"#46039f\"],[0.2222222222222222,\"#7201a8\"],[0.3333333333333333,\"#9c179e\"],[0.4444444444444444,\"#bd3786\"],[0.5555555555555556,\"#d8576b\"],[0.6666666666666666,\"#ed7953\"],[0.7777777777777778,\"#fb9f3a\"],[0.8888888888888888,\"#fdca26\"],[1.0,\"#f0f921\"]]},\"colorway\":[\"#636efa\",\"#EF553B\",\"#00cc96\",\"#ab63fa\",\"#FFA15A\",\"#19d3f3\",\"#FF6692\",\"#B6E880\",\"#FF97FF\",\"#FECB52\"],\"font\":{\"color\":\"#2a3f5f\"},\"geo\":{\"bgcolor\":\"white\",\"lakecolor\":\"white\",\"landcolor\":\"#E5ECF6\",\"showlakes\":true,\"showland\":true,\"subunitcolor\":\"white\"},\"hoverlabel\":{\"align\":\"left\"},\"hovermode\":\"closest\",\"mapbox\":{\"style\":\"light\"},\"paper_bgcolor\":\"white\",\"plot_bgcolor\":\"#E5ECF6\",\"polar\":{\"angularaxis\":{\"gridcolor\":\"white\",\"linecolor\":\"white\",\"ticks\":\"\"},\"bgcolor\":\"#E5ECF6\",\"radialaxis\":{\"gridcolor\":\"white\",\"linecolor\":\"white\",\"ticks\":\"\"}},\"scene\":{\"xaxis\":{\"backgroundcolor\":\"#E5ECF6\",\"gridcolor\":\"white\",\"gridwidth\":2,\"linecolor\":\"white\",\"showbackground\":true,\"ticks\":\"\",\"zerolinecolor\":\"white\"},\"yaxis\":{\"backgroundcolor\":\"#E5ECF6\",\"gridcolor\":\"white\",\"gridwidth\":2,\"linecolor\":\"white\",\"showbackground\":true,\"ticks\":\"\",\"zerolinecolor\":\"white\"},\"zaxis\":{\"backgroundcolor\":\"#E5ECF6\",\"gridcolor\":\"white\",\"gridwidth\":2,\"linecolor\":\"white\",\"showbackground\":true,\"ticks\":\"\",\"zerolinecolor\":\"white\"}},\"shapedefaults\":{\"line\":{\"color\":\"#2a3f5f\"}},\"ternary\":{\"aaxis\":{\"gridcolor\":\"white\",\"linecolor\":\"white\",\"ticks\":\"\"},\"baxis\":{\"gridcolor\":\"white\",\"linecolor\":\"white\",\"ticks\":\"\"},\"bgcolor\":\"#E5ECF6\",\"caxis\":{\"gridcolor\":\"white\",\"linecolor\":\"white\",\"ticks\":\"\"}},\"title\":{\"x\":0.05},\"xaxis\":{\"automargin\":true,\"gridcolor\":\"white\",\"linecolor\":\"white\",\"ticks\":\"\",\"title\":{\"standoff\":15},\"zerolinecolor\":\"white\",\"zerolinewidth\":2},\"yaxis\":{\"automargin\":true,\"gridcolor\":\"white\",\"linecolor\":\"white\",\"ticks\":\"\",\"title\":{\"standoff\":15},\"zerolinecolor\":\"white\",\"zerolinewidth\":2}}},\"title\":{\"font\":{\"color\":\"#4D5663\"}},\"xaxis\":{\"gridcolor\":\"#E1E5ED\",\"showgrid\":true,\"tickfont\":{\"color\":\"#4D5663\"},\"title\":{\"font\":{\"color\":\"#4D5663\"},\"text\":\"\"},\"zerolinecolor\":\"#E1E5ED\"},\"yaxis\":{\"gridcolor\":\"#E1E5ED\",\"showgrid\":true,\"tickfont\":{\"color\":\"#4D5663\"},\"title\":{\"font\":{\"color\":\"#4D5663\"},\"text\":\"\"},\"zerolinecolor\":\"#E1E5ED\"}},                        {\"showLink\": true, \"linkText\": \"Export to plot.ly\", \"plotlyServerURL\": \"https://plot.ly\", \"responsive\": true}                    ).then(function(){\n",
       "                            \n",
       "var gd = document.getElementById('adb51506-4c12-478f-84b9-5d54f4e25e2c');\n",
       "var x = new MutationObserver(function (mutations, observer) {{\n",
       "        var display = window.getComputedStyle(gd).display;\n",
       "        if (!display || display === 'none') {{\n",
       "            console.log([gd, 'removed!']);\n",
       "            Plotly.purge(gd);\n",
       "            observer.disconnect();\n",
       "        }}\n",
       "}});\n",
       "\n",
       "// Listen for the removal of the full notebook cells\n",
       "var notebookContainer = gd.closest('#notebook-container');\n",
       "if (notebookContainer) {{\n",
       "    x.observe(notebookContainer, {childList: true});\n",
       "}}\n",
       "\n",
       "// Listen for the clearing of the current output cell\n",
       "var outputEl = gd.closest('.output');\n",
       "if (outputEl) {{\n",
       "    x.observe(outputEl, {childList: true});\n",
       "}}\n",
       "\n",
       "                        })                };                });            </script>        </div>"
      ]
     },
     "metadata": {},
     "output_type": "display_data"
    }
   ],
   "source": [
    "df.iplot(kind='box')"
   ]
  },
  {
   "cell_type": "markdown",
   "metadata": {},
   "source": [
    "## 3d Surface"
   ]
  },
  {
   "cell_type": "code",
   "execution_count": 14,
   "metadata": {},
   "outputs": [
    {
     "data": {
      "text/html": [
       "<div>\n",
       "<style scoped>\n",
       "    .dataframe tbody tr th:only-of-type {\n",
       "        vertical-align: middle;\n",
       "    }\n",
       "\n",
       "    .dataframe tbody tr th {\n",
       "        vertical-align: top;\n",
       "    }\n",
       "\n",
       "    .dataframe thead th {\n",
       "        text-align: right;\n",
       "    }\n",
       "</style>\n",
       "<table border=\"1\" class=\"dataframe\">\n",
       "  <thead>\n",
       "    <tr style=\"text-align: right;\">\n",
       "      <th></th>\n",
       "      <th>x</th>\n",
       "      <th>y</th>\n",
       "      <th>z</th>\n",
       "    </tr>\n",
       "  </thead>\n",
       "  <tbody>\n",
       "    <tr>\n",
       "      <th>0</th>\n",
       "      <td>1</td>\n",
       "      <td>10</td>\n",
       "      <td>5</td>\n",
       "    </tr>\n",
       "    <tr>\n",
       "      <th>1</th>\n",
       "      <td>2</td>\n",
       "      <td>20</td>\n",
       "      <td>4</td>\n",
       "    </tr>\n",
       "    <tr>\n",
       "      <th>2</th>\n",
       "      <td>3</td>\n",
       "      <td>30</td>\n",
       "      <td>3</td>\n",
       "    </tr>\n",
       "    <tr>\n",
       "      <th>3</th>\n",
       "      <td>4</td>\n",
       "      <td>20</td>\n",
       "      <td>2</td>\n",
       "    </tr>\n",
       "    <tr>\n",
       "      <th>4</th>\n",
       "      <td>5</td>\n",
       "      <td>10</td>\n",
       "      <td>1</td>\n",
       "    </tr>\n",
       "  </tbody>\n",
       "</table>\n",
       "</div>"
      ],
      "text/plain": [
       "   x   y  z\n",
       "0  1  10  5\n",
       "1  2  20  4\n",
       "2  3  30  3\n",
       "3  4  20  2\n",
       "4  5  10  1"
      ]
     },
     "execution_count": 14,
     "metadata": {},
     "output_type": "execute_result"
    }
   ],
   "source": [
    "df3 = pd.DataFrame({'x':[1,2,3,4,5],'y':[10,20,30,20,10],'z':[5,4,3,2,1]})\n",
    "df3"
   ]
  },
  {
   "cell_type": "code",
   "execution_count": 15,
   "metadata": {},
   "outputs": [
    {
     "data": {
      "application/vnd.plotly.v1+json": {
       "config": {
        "linkText": "Export to plot.ly",
        "plotlyServerURL": "https://plot.ly",
        "showLink": true
       },
       "data": [
        {
         "colorscale": [
          [
           0,
           "rgb(165,0,38)"
          ],
          [
           0.1,
           "rgb(215,48,39)"
          ],
          [
           0.2,
           "rgb(244,109,67)"
          ],
          [
           0.3,
           "rgb(253,174,97)"
          ],
          [
           0.4,
           "rgb(254,224,144)"
          ],
          [
           0.5,
           "rgb(255,255,191)"
          ],
          [
           0.6,
           "rgb(224,243,248)"
          ],
          [
           0.7,
           "rgb(171,217,233)"
          ],
          [
           0.8,
           "rgb(116,173,209)"
          ],
          [
           0.9,
           "rgb(69,117,180)"
          ],
          [
           1,
           "rgb(49,54,149)"
          ]
         ],
         "type": "surface",
         "x": [
          0,
          1,
          2,
          3,
          4
         ],
         "y": [
          "x",
          "y",
          "z"
         ],
         "z": [
          [
           1,
           2,
           3,
           4,
           5
          ],
          [
           10,
           20,
           30,
           20,
           10
          ],
          [
           5,
           4,
           3,
           2,
           1
          ]
         ]
        }
       ],
       "layout": {
        "legend": {
         "bgcolor": "#F5F6F9",
         "font": {
          "color": "#4D5663"
         }
        },
        "paper_bgcolor": "#F5F6F9",
        "plot_bgcolor": "#F5F6F9",
        "template": {
         "data": {
          "bar": [
           {
            "error_x": {
             "color": "#2a3f5f"
            },
            "error_y": {
             "color": "#2a3f5f"
            },
            "marker": {
             "line": {
              "color": "#E5ECF6",
              "width": 0.5
             },
             "pattern": {
              "fillmode": "overlay",
              "size": 10,
              "solidity": 0.2
             }
            },
            "type": "bar"
           }
          ],
          "barpolar": [
           {
            "marker": {
             "line": {
              "color": "#E5ECF6",
              "width": 0.5
             },
             "pattern": {
              "fillmode": "overlay",
              "size": 10,
              "solidity": 0.2
             }
            },
            "type": "barpolar"
           }
          ],
          "carpet": [
           {
            "aaxis": {
             "endlinecolor": "#2a3f5f",
             "gridcolor": "white",
             "linecolor": "white",
             "minorgridcolor": "white",
             "startlinecolor": "#2a3f5f"
            },
            "baxis": {
             "endlinecolor": "#2a3f5f",
             "gridcolor": "white",
             "linecolor": "white",
             "minorgridcolor": "white",
             "startlinecolor": "#2a3f5f"
            },
            "type": "carpet"
           }
          ],
          "choropleth": [
           {
            "colorbar": {
             "outlinewidth": 0,
             "ticks": ""
            },
            "type": "choropleth"
           }
          ],
          "contour": [
           {
            "colorbar": {
             "outlinewidth": 0,
             "ticks": ""
            },
            "colorscale": [
             [
              0,
              "#0d0887"
             ],
             [
              0.1111111111111111,
              "#46039f"
             ],
             [
              0.2222222222222222,
              "#7201a8"
             ],
             [
              0.3333333333333333,
              "#9c179e"
             ],
             [
              0.4444444444444444,
              "#bd3786"
             ],
             [
              0.5555555555555556,
              "#d8576b"
             ],
             [
              0.6666666666666666,
              "#ed7953"
             ],
             [
              0.7777777777777778,
              "#fb9f3a"
             ],
             [
              0.8888888888888888,
              "#fdca26"
             ],
             [
              1,
              "#f0f921"
             ]
            ],
            "type": "contour"
           }
          ],
          "contourcarpet": [
           {
            "colorbar": {
             "outlinewidth": 0,
             "ticks": ""
            },
            "type": "contourcarpet"
           }
          ],
          "heatmap": [
           {
            "colorbar": {
             "outlinewidth": 0,
             "ticks": ""
            },
            "colorscale": [
             [
              0,
              "#0d0887"
             ],
             [
              0.1111111111111111,
              "#46039f"
             ],
             [
              0.2222222222222222,
              "#7201a8"
             ],
             [
              0.3333333333333333,
              "#9c179e"
             ],
             [
              0.4444444444444444,
              "#bd3786"
             ],
             [
              0.5555555555555556,
              "#d8576b"
             ],
             [
              0.6666666666666666,
              "#ed7953"
             ],
             [
              0.7777777777777778,
              "#fb9f3a"
             ],
             [
              0.8888888888888888,
              "#fdca26"
             ],
             [
              1,
              "#f0f921"
             ]
            ],
            "type": "heatmap"
           }
          ],
          "heatmapgl": [
           {
            "colorbar": {
             "outlinewidth": 0,
             "ticks": ""
            },
            "colorscale": [
             [
              0,
              "#0d0887"
             ],
             [
              0.1111111111111111,
              "#46039f"
             ],
             [
              0.2222222222222222,
              "#7201a8"
             ],
             [
              0.3333333333333333,
              "#9c179e"
             ],
             [
              0.4444444444444444,
              "#bd3786"
             ],
             [
              0.5555555555555556,
              "#d8576b"
             ],
             [
              0.6666666666666666,
              "#ed7953"
             ],
             [
              0.7777777777777778,
              "#fb9f3a"
             ],
             [
              0.8888888888888888,
              "#fdca26"
             ],
             [
              1,
              "#f0f921"
             ]
            ],
            "type": "heatmapgl"
           }
          ],
          "histogram": [
           {
            "marker": {
             "pattern": {
              "fillmode": "overlay",
              "size": 10,
              "solidity": 0.2
             }
            },
            "type": "histogram"
           }
          ],
          "histogram2d": [
           {
            "colorbar": {
             "outlinewidth": 0,
             "ticks": ""
            },
            "colorscale": [
             [
              0,
              "#0d0887"
             ],
             [
              0.1111111111111111,
              "#46039f"
             ],
             [
              0.2222222222222222,
              "#7201a8"
             ],
             [
              0.3333333333333333,
              "#9c179e"
             ],
             [
              0.4444444444444444,
              "#bd3786"
             ],
             [
              0.5555555555555556,
              "#d8576b"
             ],
             [
              0.6666666666666666,
              "#ed7953"
             ],
             [
              0.7777777777777778,
              "#fb9f3a"
             ],
             [
              0.8888888888888888,
              "#fdca26"
             ],
             [
              1,
              "#f0f921"
             ]
            ],
            "type": "histogram2d"
           }
          ],
          "histogram2dcontour": [
           {
            "colorbar": {
             "outlinewidth": 0,
             "ticks": ""
            },
            "colorscale": [
             [
              0,
              "#0d0887"
             ],
             [
              0.1111111111111111,
              "#46039f"
             ],
             [
              0.2222222222222222,
              "#7201a8"
             ],
             [
              0.3333333333333333,
              "#9c179e"
             ],
             [
              0.4444444444444444,
              "#bd3786"
             ],
             [
              0.5555555555555556,
              "#d8576b"
             ],
             [
              0.6666666666666666,
              "#ed7953"
             ],
             [
              0.7777777777777778,
              "#fb9f3a"
             ],
             [
              0.8888888888888888,
              "#fdca26"
             ],
             [
              1,
              "#f0f921"
             ]
            ],
            "type": "histogram2dcontour"
           }
          ],
          "mesh3d": [
           {
            "colorbar": {
             "outlinewidth": 0,
             "ticks": ""
            },
            "type": "mesh3d"
           }
          ],
          "parcoords": [
           {
            "line": {
             "colorbar": {
              "outlinewidth": 0,
              "ticks": ""
             }
            },
            "type": "parcoords"
           }
          ],
          "pie": [
           {
            "automargin": true,
            "type": "pie"
           }
          ],
          "scatter": [
           {
            "marker": {
             "colorbar": {
              "outlinewidth": 0,
              "ticks": ""
             }
            },
            "type": "scatter"
           }
          ],
          "scatter3d": [
           {
            "line": {
             "colorbar": {
              "outlinewidth": 0,
              "ticks": ""
             }
            },
            "marker": {
             "colorbar": {
              "outlinewidth": 0,
              "ticks": ""
             }
            },
            "type": "scatter3d"
           }
          ],
          "scattercarpet": [
           {
            "marker": {
             "colorbar": {
              "outlinewidth": 0,
              "ticks": ""
             }
            },
            "type": "scattercarpet"
           }
          ],
          "scattergeo": [
           {
            "marker": {
             "colorbar": {
              "outlinewidth": 0,
              "ticks": ""
             }
            },
            "type": "scattergeo"
           }
          ],
          "scattergl": [
           {
            "marker": {
             "colorbar": {
              "outlinewidth": 0,
              "ticks": ""
             }
            },
            "type": "scattergl"
           }
          ],
          "scattermapbox": [
           {
            "marker": {
             "colorbar": {
              "outlinewidth": 0,
              "ticks": ""
             }
            },
            "type": "scattermapbox"
           }
          ],
          "scatterpolar": [
           {
            "marker": {
             "colorbar": {
              "outlinewidth": 0,
              "ticks": ""
             }
            },
            "type": "scatterpolar"
           }
          ],
          "scatterpolargl": [
           {
            "marker": {
             "colorbar": {
              "outlinewidth": 0,
              "ticks": ""
             }
            },
            "type": "scatterpolargl"
           }
          ],
          "scatterternary": [
           {
            "marker": {
             "colorbar": {
              "outlinewidth": 0,
              "ticks": ""
             }
            },
            "type": "scatterternary"
           }
          ],
          "surface": [
           {
            "colorbar": {
             "outlinewidth": 0,
             "ticks": ""
            },
            "colorscale": [
             [
              0,
              "#0d0887"
             ],
             [
              0.1111111111111111,
              "#46039f"
             ],
             [
              0.2222222222222222,
              "#7201a8"
             ],
             [
              0.3333333333333333,
              "#9c179e"
             ],
             [
              0.4444444444444444,
              "#bd3786"
             ],
             [
              0.5555555555555556,
              "#d8576b"
             ],
             [
              0.6666666666666666,
              "#ed7953"
             ],
             [
              0.7777777777777778,
              "#fb9f3a"
             ],
             [
              0.8888888888888888,
              "#fdca26"
             ],
             [
              1,
              "#f0f921"
             ]
            ],
            "type": "surface"
           }
          ],
          "table": [
           {
            "cells": {
             "fill": {
              "color": "#EBF0F8"
             },
             "line": {
              "color": "white"
             }
            },
            "header": {
             "fill": {
              "color": "#C8D4E3"
             },
             "line": {
              "color": "white"
             }
            },
            "type": "table"
           }
          ]
         },
         "layout": {
          "annotationdefaults": {
           "arrowcolor": "#2a3f5f",
           "arrowhead": 0,
           "arrowwidth": 1
          },
          "autotypenumbers": "strict",
          "coloraxis": {
           "colorbar": {
            "outlinewidth": 0,
            "ticks": ""
           }
          },
          "colorscale": {
           "diverging": [
            [
             0,
             "#8e0152"
            ],
            [
             0.1,
             "#c51b7d"
            ],
            [
             0.2,
             "#de77ae"
            ],
            [
             0.3,
             "#f1b6da"
            ],
            [
             0.4,
             "#fde0ef"
            ],
            [
             0.5,
             "#f7f7f7"
            ],
            [
             0.6,
             "#e6f5d0"
            ],
            [
             0.7,
             "#b8e186"
            ],
            [
             0.8,
             "#7fbc41"
            ],
            [
             0.9,
             "#4d9221"
            ],
            [
             1,
             "#276419"
            ]
           ],
           "sequential": [
            [
             0,
             "#0d0887"
            ],
            [
             0.1111111111111111,
             "#46039f"
            ],
            [
             0.2222222222222222,
             "#7201a8"
            ],
            [
             0.3333333333333333,
             "#9c179e"
            ],
            [
             0.4444444444444444,
             "#bd3786"
            ],
            [
             0.5555555555555556,
             "#d8576b"
            ],
            [
             0.6666666666666666,
             "#ed7953"
            ],
            [
             0.7777777777777778,
             "#fb9f3a"
            ],
            [
             0.8888888888888888,
             "#fdca26"
            ],
            [
             1,
             "#f0f921"
            ]
           ],
           "sequentialminus": [
            [
             0,
             "#0d0887"
            ],
            [
             0.1111111111111111,
             "#46039f"
            ],
            [
             0.2222222222222222,
             "#7201a8"
            ],
            [
             0.3333333333333333,
             "#9c179e"
            ],
            [
             0.4444444444444444,
             "#bd3786"
            ],
            [
             0.5555555555555556,
             "#d8576b"
            ],
            [
             0.6666666666666666,
             "#ed7953"
            ],
            [
             0.7777777777777778,
             "#fb9f3a"
            ],
            [
             0.8888888888888888,
             "#fdca26"
            ],
            [
             1,
             "#f0f921"
            ]
           ]
          },
          "colorway": [
           "#636efa",
           "#EF553B",
           "#00cc96",
           "#ab63fa",
           "#FFA15A",
           "#19d3f3",
           "#FF6692",
           "#B6E880",
           "#FF97FF",
           "#FECB52"
          ],
          "font": {
           "color": "#2a3f5f"
          },
          "geo": {
           "bgcolor": "white",
           "lakecolor": "white",
           "landcolor": "#E5ECF6",
           "showlakes": true,
           "showland": true,
           "subunitcolor": "white"
          },
          "hoverlabel": {
           "align": "left"
          },
          "hovermode": "closest",
          "mapbox": {
           "style": "light"
          },
          "paper_bgcolor": "white",
          "plot_bgcolor": "#E5ECF6",
          "polar": {
           "angularaxis": {
            "gridcolor": "white",
            "linecolor": "white",
            "ticks": ""
           },
           "bgcolor": "#E5ECF6",
           "radialaxis": {
            "gridcolor": "white",
            "linecolor": "white",
            "ticks": ""
           }
          },
          "scene": {
           "xaxis": {
            "backgroundcolor": "#E5ECF6",
            "gridcolor": "white",
            "gridwidth": 2,
            "linecolor": "white",
            "showbackground": true,
            "ticks": "",
            "zerolinecolor": "white"
           },
           "yaxis": {
            "backgroundcolor": "#E5ECF6",
            "gridcolor": "white",
            "gridwidth": 2,
            "linecolor": "white",
            "showbackground": true,
            "ticks": "",
            "zerolinecolor": "white"
           },
           "zaxis": {
            "backgroundcolor": "#E5ECF6",
            "gridcolor": "white",
            "gridwidth": 2,
            "linecolor": "white",
            "showbackground": true,
            "ticks": "",
            "zerolinecolor": "white"
           }
          },
          "shapedefaults": {
           "line": {
            "color": "#2a3f5f"
           }
          },
          "ternary": {
           "aaxis": {
            "gridcolor": "white",
            "linecolor": "white",
            "ticks": ""
           },
           "baxis": {
            "gridcolor": "white",
            "linecolor": "white",
            "ticks": ""
           },
           "bgcolor": "#E5ECF6",
           "caxis": {
            "gridcolor": "white",
            "linecolor": "white",
            "ticks": ""
           }
          },
          "title": {
           "x": 0.05
          },
          "xaxis": {
           "automargin": true,
           "gridcolor": "white",
           "linecolor": "white",
           "ticks": "",
           "title": {
            "standoff": 15
           },
           "zerolinecolor": "white",
           "zerolinewidth": 2
          },
          "yaxis": {
           "automargin": true,
           "gridcolor": "white",
           "linecolor": "white",
           "ticks": "",
           "title": {
            "standoff": 15
           },
           "zerolinecolor": "white",
           "zerolinewidth": 2
          }
         }
        },
        "title": {
         "font": {
          "color": "#4D5663"
         }
        },
        "xaxis": {
         "gridcolor": "#E1E5ED",
         "showgrid": true,
         "tickfont": {
          "color": "#4D5663"
         },
         "title": {
          "font": {
           "color": "#4D5663"
          },
          "text": ""
         },
         "zerolinecolor": "#E1E5ED"
        },
        "yaxis": {
         "gridcolor": "#E1E5ED",
         "showgrid": true,
         "tickfont": {
          "color": "#4D5663"
         },
         "title": {
          "font": {
           "color": "#4D5663"
          },
          "text": ""
         },
         "zerolinecolor": "#E1E5ED"
        }
       }
      },
      "text/html": [
       "<div>                            <div id=\"042d7e08-4948-4664-b4aa-81c6c1d59b0c\" class=\"plotly-graph-div\" style=\"height:525px; width:100%;\"></div>            <script type=\"text/javascript\">                require([\"plotly\"], function(Plotly) {                    window.PLOTLYENV=window.PLOTLYENV || {};\n",
       "                    window.PLOTLYENV.BASE_URL='https://plot.ly';                                    if (document.getElementById(\"042d7e08-4948-4664-b4aa-81c6c1d59b0c\")) {                    Plotly.newPlot(                        \"042d7e08-4948-4664-b4aa-81c6c1d59b0c\",                        [{\"colorscale\":[[0.0,\"rgb(165,0,38)\"],[0.1,\"rgb(215,48,39)\"],[0.2,\"rgb(244,109,67)\"],[0.3,\"rgb(253,174,97)\"],[0.4,\"rgb(254,224,144)\"],[0.5,\"rgb(255,255,191)\"],[0.6,\"rgb(224,243,248)\"],[0.7,\"rgb(171,217,233)\"],[0.8,\"rgb(116,173,209)\"],[0.9,\"rgb(69,117,180)\"],[1.0,\"rgb(49,54,149)\"]],\"x\":[0,1,2,3,4],\"y\":[\"x\",\"y\",\"z\"],\"z\":[[1,2,3,4,5],[10,20,30,20,10],[5,4,3,2,1]],\"type\":\"surface\"}],                        {\"legend\":{\"bgcolor\":\"#F5F6F9\",\"font\":{\"color\":\"#4D5663\"}},\"paper_bgcolor\":\"#F5F6F9\",\"plot_bgcolor\":\"#F5F6F9\",\"template\":{\"data\":{\"barpolar\":[{\"marker\":{\"line\":{\"color\":\"#E5ECF6\",\"width\":0.5},\"pattern\":{\"fillmode\":\"overlay\",\"size\":10,\"solidity\":0.2}},\"type\":\"barpolar\"}],\"bar\":[{\"error_x\":{\"color\":\"#2a3f5f\"},\"error_y\":{\"color\":\"#2a3f5f\"},\"marker\":{\"line\":{\"color\":\"#E5ECF6\",\"width\":0.5},\"pattern\":{\"fillmode\":\"overlay\",\"size\":10,\"solidity\":0.2}},\"type\":\"bar\"}],\"carpet\":[{\"aaxis\":{\"endlinecolor\":\"#2a3f5f\",\"gridcolor\":\"white\",\"linecolor\":\"white\",\"minorgridcolor\":\"white\",\"startlinecolor\":\"#2a3f5f\"},\"baxis\":{\"endlinecolor\":\"#2a3f5f\",\"gridcolor\":\"white\",\"linecolor\":\"white\",\"minorgridcolor\":\"white\",\"startlinecolor\":\"#2a3f5f\"},\"type\":\"carpet\"}],\"choropleth\":[{\"colorbar\":{\"outlinewidth\":0,\"ticks\":\"\"},\"type\":\"choropleth\"}],\"contourcarpet\":[{\"colorbar\":{\"outlinewidth\":0,\"ticks\":\"\"},\"type\":\"contourcarpet\"}],\"contour\":[{\"colorbar\":{\"outlinewidth\":0,\"ticks\":\"\"},\"colorscale\":[[0.0,\"#0d0887\"],[0.1111111111111111,\"#46039f\"],[0.2222222222222222,\"#7201a8\"],[0.3333333333333333,\"#9c179e\"],[0.4444444444444444,\"#bd3786\"],[0.5555555555555556,\"#d8576b\"],[0.6666666666666666,\"#ed7953\"],[0.7777777777777778,\"#fb9f3a\"],[0.8888888888888888,\"#fdca26\"],[1.0,\"#f0f921\"]],\"type\":\"contour\"}],\"heatmapgl\":[{\"colorbar\":{\"outlinewidth\":0,\"ticks\":\"\"},\"colorscale\":[[0.0,\"#0d0887\"],[0.1111111111111111,\"#46039f\"],[0.2222222222222222,\"#7201a8\"],[0.3333333333333333,\"#9c179e\"],[0.4444444444444444,\"#bd3786\"],[0.5555555555555556,\"#d8576b\"],[0.6666666666666666,\"#ed7953\"],[0.7777777777777778,\"#fb9f3a\"],[0.8888888888888888,\"#fdca26\"],[1.0,\"#f0f921\"]],\"type\":\"heatmapgl\"}],\"heatmap\":[{\"colorbar\":{\"outlinewidth\":0,\"ticks\":\"\"},\"colorscale\":[[0.0,\"#0d0887\"],[0.1111111111111111,\"#46039f\"],[0.2222222222222222,\"#7201a8\"],[0.3333333333333333,\"#9c179e\"],[0.4444444444444444,\"#bd3786\"],[0.5555555555555556,\"#d8576b\"],[0.6666666666666666,\"#ed7953\"],[0.7777777777777778,\"#fb9f3a\"],[0.8888888888888888,\"#fdca26\"],[1.0,\"#f0f921\"]],\"type\":\"heatmap\"}],\"histogram2dcontour\":[{\"colorbar\":{\"outlinewidth\":0,\"ticks\":\"\"},\"colorscale\":[[0.0,\"#0d0887\"],[0.1111111111111111,\"#46039f\"],[0.2222222222222222,\"#7201a8\"],[0.3333333333333333,\"#9c179e\"],[0.4444444444444444,\"#bd3786\"],[0.5555555555555556,\"#d8576b\"],[0.6666666666666666,\"#ed7953\"],[0.7777777777777778,\"#fb9f3a\"],[0.8888888888888888,\"#fdca26\"],[1.0,\"#f0f921\"]],\"type\":\"histogram2dcontour\"}],\"histogram2d\":[{\"colorbar\":{\"outlinewidth\":0,\"ticks\":\"\"},\"colorscale\":[[0.0,\"#0d0887\"],[0.1111111111111111,\"#46039f\"],[0.2222222222222222,\"#7201a8\"],[0.3333333333333333,\"#9c179e\"],[0.4444444444444444,\"#bd3786\"],[0.5555555555555556,\"#d8576b\"],[0.6666666666666666,\"#ed7953\"],[0.7777777777777778,\"#fb9f3a\"],[0.8888888888888888,\"#fdca26\"],[1.0,\"#f0f921\"]],\"type\":\"histogram2d\"}],\"histogram\":[{\"marker\":{\"pattern\":{\"fillmode\":\"overlay\",\"size\":10,\"solidity\":0.2}},\"type\":\"histogram\"}],\"mesh3d\":[{\"colorbar\":{\"outlinewidth\":0,\"ticks\":\"\"},\"type\":\"mesh3d\"}],\"parcoords\":[{\"line\":{\"colorbar\":{\"outlinewidth\":0,\"ticks\":\"\"}},\"type\":\"parcoords\"}],\"pie\":[{\"automargin\":true,\"type\":\"pie\"}],\"scatter3d\":[{\"line\":{\"colorbar\":{\"outlinewidth\":0,\"ticks\":\"\"}},\"marker\":{\"colorbar\":{\"outlinewidth\":0,\"ticks\":\"\"}},\"type\":\"scatter3d\"}],\"scattercarpet\":[{\"marker\":{\"colorbar\":{\"outlinewidth\":0,\"ticks\":\"\"}},\"type\":\"scattercarpet\"}],\"scattergeo\":[{\"marker\":{\"colorbar\":{\"outlinewidth\":0,\"ticks\":\"\"}},\"type\":\"scattergeo\"}],\"scattergl\":[{\"marker\":{\"colorbar\":{\"outlinewidth\":0,\"ticks\":\"\"}},\"type\":\"scattergl\"}],\"scattermapbox\":[{\"marker\":{\"colorbar\":{\"outlinewidth\":0,\"ticks\":\"\"}},\"type\":\"scattermapbox\"}],\"scatterpolargl\":[{\"marker\":{\"colorbar\":{\"outlinewidth\":0,\"ticks\":\"\"}},\"type\":\"scatterpolargl\"}],\"scatterpolar\":[{\"marker\":{\"colorbar\":{\"outlinewidth\":0,\"ticks\":\"\"}},\"type\":\"scatterpolar\"}],\"scatter\":[{\"marker\":{\"colorbar\":{\"outlinewidth\":0,\"ticks\":\"\"}},\"type\":\"scatter\"}],\"scatterternary\":[{\"marker\":{\"colorbar\":{\"outlinewidth\":0,\"ticks\":\"\"}},\"type\":\"scatterternary\"}],\"surface\":[{\"colorbar\":{\"outlinewidth\":0,\"ticks\":\"\"},\"colorscale\":[[0.0,\"#0d0887\"],[0.1111111111111111,\"#46039f\"],[0.2222222222222222,\"#7201a8\"],[0.3333333333333333,\"#9c179e\"],[0.4444444444444444,\"#bd3786\"],[0.5555555555555556,\"#d8576b\"],[0.6666666666666666,\"#ed7953\"],[0.7777777777777778,\"#fb9f3a\"],[0.8888888888888888,\"#fdca26\"],[1.0,\"#f0f921\"]],\"type\":\"surface\"}],\"table\":[{\"cells\":{\"fill\":{\"color\":\"#EBF0F8\"},\"line\":{\"color\":\"white\"}},\"header\":{\"fill\":{\"color\":\"#C8D4E3\"},\"line\":{\"color\":\"white\"}},\"type\":\"table\"}]},\"layout\":{\"annotationdefaults\":{\"arrowcolor\":\"#2a3f5f\",\"arrowhead\":0,\"arrowwidth\":1},\"autotypenumbers\":\"strict\",\"coloraxis\":{\"colorbar\":{\"outlinewidth\":0,\"ticks\":\"\"}},\"colorscale\":{\"diverging\":[[0,\"#8e0152\"],[0.1,\"#c51b7d\"],[0.2,\"#de77ae\"],[0.3,\"#f1b6da\"],[0.4,\"#fde0ef\"],[0.5,\"#f7f7f7\"],[0.6,\"#e6f5d0\"],[0.7,\"#b8e186\"],[0.8,\"#7fbc41\"],[0.9,\"#4d9221\"],[1,\"#276419\"]],\"sequential\":[[0.0,\"#0d0887\"],[0.1111111111111111,\"#46039f\"],[0.2222222222222222,\"#7201a8\"],[0.3333333333333333,\"#9c179e\"],[0.4444444444444444,\"#bd3786\"],[0.5555555555555556,\"#d8576b\"],[0.6666666666666666,\"#ed7953\"],[0.7777777777777778,\"#fb9f3a\"],[0.8888888888888888,\"#fdca26\"],[1.0,\"#f0f921\"]],\"sequentialminus\":[[0.0,\"#0d0887\"],[0.1111111111111111,\"#46039f\"],[0.2222222222222222,\"#7201a8\"],[0.3333333333333333,\"#9c179e\"],[0.4444444444444444,\"#bd3786\"],[0.5555555555555556,\"#d8576b\"],[0.6666666666666666,\"#ed7953\"],[0.7777777777777778,\"#fb9f3a\"],[0.8888888888888888,\"#fdca26\"],[1.0,\"#f0f921\"]]},\"colorway\":[\"#636efa\",\"#EF553B\",\"#00cc96\",\"#ab63fa\",\"#FFA15A\",\"#19d3f3\",\"#FF6692\",\"#B6E880\",\"#FF97FF\",\"#FECB52\"],\"font\":{\"color\":\"#2a3f5f\"},\"geo\":{\"bgcolor\":\"white\",\"lakecolor\":\"white\",\"landcolor\":\"#E5ECF6\",\"showlakes\":true,\"showland\":true,\"subunitcolor\":\"white\"},\"hoverlabel\":{\"align\":\"left\"},\"hovermode\":\"closest\",\"mapbox\":{\"style\":\"light\"},\"paper_bgcolor\":\"white\",\"plot_bgcolor\":\"#E5ECF6\",\"polar\":{\"angularaxis\":{\"gridcolor\":\"white\",\"linecolor\":\"white\",\"ticks\":\"\"},\"bgcolor\":\"#E5ECF6\",\"radialaxis\":{\"gridcolor\":\"white\",\"linecolor\":\"white\",\"ticks\":\"\"}},\"scene\":{\"xaxis\":{\"backgroundcolor\":\"#E5ECF6\",\"gridcolor\":\"white\",\"gridwidth\":2,\"linecolor\":\"white\",\"showbackground\":true,\"ticks\":\"\",\"zerolinecolor\":\"white\"},\"yaxis\":{\"backgroundcolor\":\"#E5ECF6\",\"gridcolor\":\"white\",\"gridwidth\":2,\"linecolor\":\"white\",\"showbackground\":true,\"ticks\":\"\",\"zerolinecolor\":\"white\"},\"zaxis\":{\"backgroundcolor\":\"#E5ECF6\",\"gridcolor\":\"white\",\"gridwidth\":2,\"linecolor\":\"white\",\"showbackground\":true,\"ticks\":\"\",\"zerolinecolor\":\"white\"}},\"shapedefaults\":{\"line\":{\"color\":\"#2a3f5f\"}},\"ternary\":{\"aaxis\":{\"gridcolor\":\"white\",\"linecolor\":\"white\",\"ticks\":\"\"},\"baxis\":{\"gridcolor\":\"white\",\"linecolor\":\"white\",\"ticks\":\"\"},\"bgcolor\":\"#E5ECF6\",\"caxis\":{\"gridcolor\":\"white\",\"linecolor\":\"white\",\"ticks\":\"\"}},\"title\":{\"x\":0.05},\"xaxis\":{\"automargin\":true,\"gridcolor\":\"white\",\"linecolor\":\"white\",\"ticks\":\"\",\"title\":{\"standoff\":15},\"zerolinecolor\":\"white\",\"zerolinewidth\":2},\"yaxis\":{\"automargin\":true,\"gridcolor\":\"white\",\"linecolor\":\"white\",\"ticks\":\"\",\"title\":{\"standoff\":15},\"zerolinecolor\":\"white\",\"zerolinewidth\":2}}},\"title\":{\"font\":{\"color\":\"#4D5663\"}},\"xaxis\":{\"gridcolor\":\"#E1E5ED\",\"showgrid\":true,\"tickfont\":{\"color\":\"#4D5663\"},\"title\":{\"font\":{\"color\":\"#4D5663\"},\"text\":\"\"},\"zerolinecolor\":\"#E1E5ED\"},\"yaxis\":{\"gridcolor\":\"#E1E5ED\",\"showgrid\":true,\"tickfont\":{\"color\":\"#4D5663\"},\"title\":{\"font\":{\"color\":\"#4D5663\"},\"text\":\"\"},\"zerolinecolor\":\"#E1E5ED\"}},                        {\"showLink\": true, \"linkText\": \"Export to plot.ly\", \"plotlyServerURL\": \"https://plot.ly\", \"responsive\": true}                    ).then(function(){\n",
       "                            \n",
       "var gd = document.getElementById('042d7e08-4948-4664-b4aa-81c6c1d59b0c');\n",
       "var x = new MutationObserver(function (mutations, observer) {{\n",
       "        var display = window.getComputedStyle(gd).display;\n",
       "        if (!display || display === 'none') {{\n",
       "            console.log([gd, 'removed!']);\n",
       "            Plotly.purge(gd);\n",
       "            observer.disconnect();\n",
       "        }}\n",
       "}});\n",
       "\n",
       "// Listen for the removal of the full notebook cells\n",
       "var notebookContainer = gd.closest('#notebook-container');\n",
       "if (notebookContainer) {{\n",
       "    x.observe(notebookContainer, {childList: true});\n",
       "}}\n",
       "\n",
       "// Listen for the clearing of the current output cell\n",
       "var outputEl = gd.closest('.output');\n",
       "if (outputEl) {{\n",
       "    x.observe(outputEl, {childList: true});\n",
       "}}\n",
       "\n",
       "                        })                };                });            </script>        </div>"
      ]
     },
     "metadata": {},
     "output_type": "display_data"
    }
   ],
   "source": [
    "df3.iplot(kind='surface',colorscale='rdylbu')"
   ]
  },
  {
   "cell_type": "markdown",
   "metadata": {},
   "source": [
    "## Spread"
   ]
  },
  {
   "cell_type": "code",
   "execution_count": 16,
   "metadata": {},
   "outputs": [
    {
     "name": "stderr",
     "output_type": "stream",
     "text": [
      "C:\\Users\\jhonn\\anaconda3\\lib\\site-packages\\cufflinks\\plotlytools.py:849: FutureWarning:\n",
      "\n",
      "The pandas.np module is deprecated and will be removed from pandas in a future version. Import numpy directly instead.\n",
      "\n",
      "C:\\Users\\jhonn\\anaconda3\\lib\\site-packages\\cufflinks\\plotlytools.py:850: FutureWarning:\n",
      "\n",
      "The pandas.np module is deprecated and will be removed from pandas in a future version. Import numpy directly instead.\n",
      "\n"
     ]
    },
    {
     "data": {
      "application/vnd.plotly.v1+json": {
       "config": {
        "linkText": "Export to plot.ly",
        "plotlyServerURL": "https://plot.ly",
        "showLink": true
       },
       "data": [
        {
         "line": {
          "color": "rgba(255, 153, 51, 1.0)",
          "dash": "solid",
          "shape": "linear",
          "width": 1.3
         },
         "mode": "lines",
         "name": "A",
         "text": "",
         "type": "scatter",
         "x": [
          0,
          1,
          2,
          3,
          4,
          5,
          6,
          7,
          8,
          9,
          10,
          11,
          12,
          13,
          14,
          15,
          16,
          17,
          18,
          19,
          20,
          21,
          22,
          23,
          24,
          25,
          26,
          27,
          28,
          29,
          30,
          31,
          32,
          33,
          34,
          35,
          36,
          37,
          38,
          39,
          40,
          41,
          42,
          43,
          44,
          45,
          46,
          47,
          48,
          49,
          50,
          51,
          52,
          53,
          54,
          55,
          56,
          57,
          58,
          59,
          60,
          61,
          62,
          63,
          64,
          65,
          66,
          67,
          68,
          69,
          70,
          71,
          72,
          73,
          74,
          75,
          76,
          77,
          78,
          79,
          80,
          81,
          82,
          83,
          84,
          85,
          86,
          87,
          88,
          89,
          90,
          91,
          92,
          93,
          94,
          95,
          96,
          97,
          98,
          99
         ],
         "y": [
          0.3864119162303842,
          1.204197254885549,
          0.8915805046705403,
          0.6946310665445125,
          0.27765294539122676,
          0.5420527940393374,
          0.23163388502617024,
          -0.24611912165954075,
          0.1975421663222593,
          0.8306471225012765,
          -0.5947951947859332,
          0.07533484285624369,
          -0.48662233745461614,
          1.2095431597771475,
          1.4388081805724247,
          1.3213720547077155,
          -1.542678635966428,
          -0.24637024407810829,
          -0.05115857332615439,
          0.21033451070698972,
          3.1612127350544856,
          -1.3787329216099466,
          -0.39174937013067923,
          -1.464323976922046,
          -1.621593224518355,
          0.15333833029814659,
          -0.7801974870265284,
          -1.730171318650708,
          -0.1720820731605149,
          -1.4979155734855347,
          0.316666982307522,
          0.1429949741686534,
          -0.5073673656104781,
          0.8917748631288538,
          2.085554829503526,
          1.4364692534114378,
          -0.38471538218531065,
          -0.5217697385214842,
          0.17919576221160585,
          -0.1905462288446752,
          0.8396965913811204,
          -1.1132884509071437,
          0.24339161281964752,
          -1.429548270239324,
          -0.5806266492981891,
          -1.8770382428692274,
          -0.8888074513675872,
          0.24316207731286255,
          0.4982225352735528,
          -0.034273365889114026,
          -0.5825018111849762,
          -0.8798476373749529,
          1.1995589876220574,
          1.669952108825188,
          -0.3872968742445013,
          -1.0494059696781197,
          0.40754686773647897,
          -1.247921791425569,
          -0.3806257771839392,
          -0.5216481009040306,
          1.5405864399231293,
          -0.12969459449988752,
          -0.4523693590554315,
          -1.1046653902623707,
          1.6385742609526037,
          -0.541543061446402,
          0.8324264462958443,
          1.22474992003944,
          -0.09938681665143169,
          1.0468396972670604,
          -0.18671385796428455,
          -0.38257096000942087,
          0.5438194423985938,
          -0.19667430866170896,
          0.19775465238386308,
          -1.4257793282210245,
          0.23259243306741084,
          -0.7775097925144028,
          -1.0023132477348573,
          -0.2026193056462473,
          1.211440099443612,
          -1.563756949537177,
          0.5652204704929931,
          0.22997063377231486,
          0.6141551613384159,
          -0.5967768099632359,
          -0.8636424612336109,
          1.625871151332099,
          0.9218537869175375,
          0.28860763267064904,
          0.264056480265417,
          -1.7034195957732086,
          -1.2735263824434337,
          0.0453635049200079,
          1.7750461014137107,
          0.5036219550962464,
          1.659598689144155,
          0.9941880574328251,
          -0.293563658171593,
          -0.5632201905824927
         ]
        },
        {
         "line": {
          "color": "rgba(55, 128, 191, 1.0)",
          "dash": "solid",
          "shape": "linear",
          "width": 1.3
         },
         "mode": "lines",
         "name": "B",
         "text": "",
         "type": "scatter",
         "x": [
          0,
          1,
          2,
          3,
          4,
          5,
          6,
          7,
          8,
          9,
          10,
          11,
          12,
          13,
          14,
          15,
          16,
          17,
          18,
          19,
          20,
          21,
          22,
          23,
          24,
          25,
          26,
          27,
          28,
          29,
          30,
          31,
          32,
          33,
          34,
          35,
          36,
          37,
          38,
          39,
          40,
          41,
          42,
          43,
          44,
          45,
          46,
          47,
          48,
          49,
          50,
          51,
          52,
          53,
          54,
          55,
          56,
          57,
          58,
          59,
          60,
          61,
          62,
          63,
          64,
          65,
          66,
          67,
          68,
          69,
          70,
          71,
          72,
          73,
          74,
          75,
          76,
          77,
          78,
          79,
          80,
          81,
          82,
          83,
          84,
          85,
          86,
          87,
          88,
          89,
          90,
          91,
          92,
          93,
          94,
          95,
          96,
          97,
          98,
          99
         ],
         "y": [
          0.663644916668608,
          0.8539894629565865,
          0.7182721805036181,
          -0.23131728651643915,
          1.0520682868690088,
          0.512886451876651,
          0.3962742013757297,
          0.19244837036910498,
          0.6942048027893358,
          -0.2722249899358359,
          0.6634385692004368,
          0.9800891949991442,
          1.1118229049368433,
          -0.10678861848750934,
          0.4690419300255005,
          -0.9723919008515634,
          -1.8757792550845664,
          0.8625745446710906,
          -0.7827619578718803,
          1.6677033232903173,
          1.1146211902632992,
          -1.3538638195878034,
          -0.31828942591868525,
          -0.003779765834421749,
          -0.815296361103711,
          1.1123892326502263,
          -0.7845936279014872,
          -1.9797114354721983,
          -1.390372692915758,
          1.6503369920929167,
          -0.14899684895433177,
          -0.8231575334399924,
          0.16104253963553297,
          0.7836004550291542,
          -0.33153498382638535,
          0.8407689388417556,
          -0.03281131948110183,
          0.12231113887453894,
          -0.018984964617667407,
          -0.6402845786433076,
          -0.12032126474864979,
          0.7349396313531462,
          -0.8960260796006839,
          0.7576566829971076,
          1.5999888684153223,
          -1.1286716075963636,
          1.5534085433341411,
          -0.7244406208197438,
          0.9263127855310453,
          -0.5391208826579759,
          -0.22257653120121626,
          0.4034032365585807,
          1.3094635291740735,
          -0.17829845039408723,
          -0.34107945675869356,
          1.1031629412688133,
          1.1937899917993917,
          -1.3332954918220914,
          -0.008346989593206655,
          -0.6328859674322583,
          -0.7205485931175036,
          1.0154031030661033,
          -1.5408076869474618,
          -0.1865187258517424,
          -0.48252363590092134,
          1.1208765865460928,
          -0.1206576183143393,
          0.3111316770088429,
          -0.8692757764238744,
          0.2683730398176634,
          1.201520534380479,
          1.8412641038761008,
          1.1903462992361296,
          -0.0972977226935668,
          0.35613581513712733,
          1.6478213551010252,
          -0.3197494553823164,
          0.28441072498000314,
          -1.6810004114282828,
          0.2943187027071099,
          -0.8031971015880753,
          -1.0280244607883133,
          -0.3548532385182408,
          -0.2997666538463908,
          -1.0143036354426633,
          -0.45467754603306093,
          0.4520630514102458,
          -1.1233903175090119,
          -0.27233724745283466,
          -0.29285161781770586,
          -0.7418022189104699,
          -1.1562087044083964,
          -0.6457668576781612,
          0.5373550478693669,
          1.2242863244276385,
          -0.9874880065577107,
          -0.6471030553787697,
          -0.048739317504564866,
          -0.23677463664566517,
          0.42998336423142036
         ]
        },
        {
         "connectgaps": false,
         "fill": "tozeroy",
         "line": {
          "color": "green",
          "dash": "solid",
          "shape": "linear",
          "width": 0.5
         },
         "mode": "lines",
         "name": "Spread",
         "showlegend": false,
         "type": "scatter",
         "x": [
          0,
          1,
          2,
          3,
          4,
          5,
          6,
          7,
          8,
          9,
          10,
          11,
          12,
          13,
          14,
          15,
          16,
          17,
          18,
          19,
          20,
          21,
          22,
          23,
          24,
          25,
          26,
          27,
          28,
          29,
          30,
          31,
          32,
          33,
          34,
          35,
          36,
          37,
          38,
          39,
          40,
          41,
          42,
          43,
          44,
          45,
          46,
          47,
          48,
          49,
          50,
          51,
          52,
          53,
          54,
          55,
          56,
          57,
          58,
          59,
          60,
          61,
          62,
          63,
          64,
          65,
          66,
          67,
          68,
          69,
          70,
          71,
          72,
          73,
          74,
          75,
          76,
          77,
          78,
          79,
          80,
          81,
          82,
          83,
          84,
          85,
          86,
          87,
          88,
          89,
          90,
          91,
          92,
          93,
          94,
          95,
          96,
          97,
          98,
          99
         ],
         "xaxis": "x2",
         "y": [
          "",
          0.35020779192896256,
          0.1733083241669222,
          0.9259483530609516,
          "",
          0.02916634216268632,
          "",
          "",
          "",
          1.1028721124371124,
          "",
          "",
          "",
          1.3163317782646569,
          0.9697662505469242,
          2.293763955559279,
          0.3331006191181385,
          "",
          0.7316033845457259,
          "",
          2.0465915447911867,
          "",
          "",
          "",
          "",
          "",
          0.004396140874958876,
          0.24954011682149035,
          1.2182906197552432,
          "",
          0.46566383126185373,
          0.9661525076086458,
          "",
          0.10817440809969958,
          2.4170898133299112,
          0.5957003145696822,
          "",
          "",
          0.19818072682927326,
          0.44973834979863236,
          0.9600178561297702,
          "",
          1.1394176924203314,
          "",
          "",
          "",
          "",
          0.9676026981326064,
          "",
          0.5048475167688619,
          "",
          "",
          "",
          1.8482505592192753,
          "",
          "",
          "",
          0.08537370039652248,
          "",
          0.11123786652822776,
          2.261135033040633,
          "",
          1.0884383278920304,
          "",
          2.121097896853525,
          "",
          0.9530840646101836,
          0.9136182430305971,
          0.7698889597724428,
          0.778466657449397,
          "",
          "",
          "",
          "",
          "",
          "",
          0.5523418884497273,
          "",
          0.6786871636934255,
          "",
          2.0146372010316873,
          "",
          0.9200737090112339,
          0.5297372876187056,
          1.628458796781079,
          "",
          "",
          2.7492614688411106,
          1.194191034370372,
          0.5814592504883549,
          1.0058586991758869,
          "",
          "",
          "",
          0.5507597769860721,
          1.4911099616539571,
          2.3067017445229245,
          1.04292737493739,
          "",
          ""
         ],
         "yaxis": "y2"
        },
        {
         "connectgaps": false,
         "fill": "tozeroy",
         "line": {
          "color": "red",
          "dash": "solid",
          "shape": "linear",
          "width": 0.5
         },
         "mode": "lines",
         "name": "Spread",
         "showlegend": false,
         "type": "scatter",
         "x": [
          0,
          1,
          2,
          3,
          4,
          5,
          6,
          7,
          8,
          9,
          10,
          11,
          12,
          13,
          14,
          15,
          16,
          17,
          18,
          19,
          20,
          21,
          22,
          23,
          24,
          25,
          26,
          27,
          28,
          29,
          30,
          31,
          32,
          33,
          34,
          35,
          36,
          37,
          38,
          39,
          40,
          41,
          42,
          43,
          44,
          45,
          46,
          47,
          48,
          49,
          50,
          51,
          52,
          53,
          54,
          55,
          56,
          57,
          58,
          59,
          60,
          61,
          62,
          63,
          64,
          65,
          66,
          67,
          68,
          69,
          70,
          71,
          72,
          73,
          74,
          75,
          76,
          77,
          78,
          79,
          80,
          81,
          82,
          83,
          84,
          85,
          86,
          87,
          88,
          89,
          90,
          91,
          92,
          93,
          94,
          95,
          96,
          97,
          98,
          99
         ],
         "xaxis": "x2",
         "y": [
          -0.27723300043822385,
          "",
          "",
          "",
          -0.774415341477782,
          "",
          -0.16464031634955947,
          -0.43856749202864576,
          -0.49666263646707653,
          "",
          -1.2582337639863699,
          -0.9047543521429005,
          -1.5984452423914595,
          "",
          "",
          "",
          "",
          -1.108944788749199,
          "",
          -1.4573688125833275,
          "",
          -0.024869102022143208,
          -0.07345994421199398,
          -1.4605442110876241,
          -0.8062968634146441,
          -0.9590509023520797,
          "",
          "",
          "",
          -3.1482525655784515,
          "",
          "",
          -0.6684099052460111,
          "",
          "",
          "",
          -0.3519040627042088,
          -0.6440808773960232,
          "",
          "",
          "",
          -1.84822808226029,
          "",
          -2.1872049532364315,
          -2.1806155177135116,
          -0.7483666352728637,
          -2.442215994701728,
          "",
          -0.42809025025749253,
          "",
          -0.35992527998376,
          -1.2832508739335335,
          -0.10990454155201612,
          "",
          -0.046217417485807766,
          -2.152568910946933,
          -0.7862431240629127,
          "",
          -0.3722787875907325,
          "",
          "",
          -1.1450976975659908,
          "",
          -0.9181466644106282,
          "",
          -1.6624196479924946,
          "",
          "",
          "",
          "",
          -1.3882343923447635,
          -2.2238350638855215,
          -0.6465268568375357,
          -0.09937658596814215,
          -0.15838116275326425,
          -3.0736006833220495,
          "",
          -1.061920517494406,
          "",
          -0.4969380083533572,
          "",
          -0.5357324887488637,
          "",
          "",
          "",
          -0.14209926393017497,
          -1.3157055126438566,
          "",
          "",
          "",
          "",
          -0.5472108913648122,
          -0.6277595247652725,
          -0.49199154294935904,
          "",
          "",
          "",
          "",
          -0.05678902152592785,
          -0.9932035548139131
         ],
         "yaxis": "y2"
        }
       ],
       "layout": {
        "hovermode": "x",
        "legend": {
         "bgcolor": "#F5F6F9",
         "font": {
          "color": "#4D5663"
         }
        },
        "paper_bgcolor": "#F5F6F9",
        "plot_bgcolor": "#F5F6F9",
        "template": {
         "data": {
          "bar": [
           {
            "error_x": {
             "color": "#2a3f5f"
            },
            "error_y": {
             "color": "#2a3f5f"
            },
            "marker": {
             "line": {
              "color": "#E5ECF6",
              "width": 0.5
             },
             "pattern": {
              "fillmode": "overlay",
              "size": 10,
              "solidity": 0.2
             }
            },
            "type": "bar"
           }
          ],
          "barpolar": [
           {
            "marker": {
             "line": {
              "color": "#E5ECF6",
              "width": 0.5
             },
             "pattern": {
              "fillmode": "overlay",
              "size": 10,
              "solidity": 0.2
             }
            },
            "type": "barpolar"
           }
          ],
          "carpet": [
           {
            "aaxis": {
             "endlinecolor": "#2a3f5f",
             "gridcolor": "white",
             "linecolor": "white",
             "minorgridcolor": "white",
             "startlinecolor": "#2a3f5f"
            },
            "baxis": {
             "endlinecolor": "#2a3f5f",
             "gridcolor": "white",
             "linecolor": "white",
             "minorgridcolor": "white",
             "startlinecolor": "#2a3f5f"
            },
            "type": "carpet"
           }
          ],
          "choropleth": [
           {
            "colorbar": {
             "outlinewidth": 0,
             "ticks": ""
            },
            "type": "choropleth"
           }
          ],
          "contour": [
           {
            "colorbar": {
             "outlinewidth": 0,
             "ticks": ""
            },
            "colorscale": [
             [
              0,
              "#0d0887"
             ],
             [
              0.1111111111111111,
              "#46039f"
             ],
             [
              0.2222222222222222,
              "#7201a8"
             ],
             [
              0.3333333333333333,
              "#9c179e"
             ],
             [
              0.4444444444444444,
              "#bd3786"
             ],
             [
              0.5555555555555556,
              "#d8576b"
             ],
             [
              0.6666666666666666,
              "#ed7953"
             ],
             [
              0.7777777777777778,
              "#fb9f3a"
             ],
             [
              0.8888888888888888,
              "#fdca26"
             ],
             [
              1,
              "#f0f921"
             ]
            ],
            "type": "contour"
           }
          ],
          "contourcarpet": [
           {
            "colorbar": {
             "outlinewidth": 0,
             "ticks": ""
            },
            "type": "contourcarpet"
           }
          ],
          "heatmap": [
           {
            "colorbar": {
             "outlinewidth": 0,
             "ticks": ""
            },
            "colorscale": [
             [
              0,
              "#0d0887"
             ],
             [
              0.1111111111111111,
              "#46039f"
             ],
             [
              0.2222222222222222,
              "#7201a8"
             ],
             [
              0.3333333333333333,
              "#9c179e"
             ],
             [
              0.4444444444444444,
              "#bd3786"
             ],
             [
              0.5555555555555556,
              "#d8576b"
             ],
             [
              0.6666666666666666,
              "#ed7953"
             ],
             [
              0.7777777777777778,
              "#fb9f3a"
             ],
             [
              0.8888888888888888,
              "#fdca26"
             ],
             [
              1,
              "#f0f921"
             ]
            ],
            "type": "heatmap"
           }
          ],
          "heatmapgl": [
           {
            "colorbar": {
             "outlinewidth": 0,
             "ticks": ""
            },
            "colorscale": [
             [
              0,
              "#0d0887"
             ],
             [
              0.1111111111111111,
              "#46039f"
             ],
             [
              0.2222222222222222,
              "#7201a8"
             ],
             [
              0.3333333333333333,
              "#9c179e"
             ],
             [
              0.4444444444444444,
              "#bd3786"
             ],
             [
              0.5555555555555556,
              "#d8576b"
             ],
             [
              0.6666666666666666,
              "#ed7953"
             ],
             [
              0.7777777777777778,
              "#fb9f3a"
             ],
             [
              0.8888888888888888,
              "#fdca26"
             ],
             [
              1,
              "#f0f921"
             ]
            ],
            "type": "heatmapgl"
           }
          ],
          "histogram": [
           {
            "marker": {
             "pattern": {
              "fillmode": "overlay",
              "size": 10,
              "solidity": 0.2
             }
            },
            "type": "histogram"
           }
          ],
          "histogram2d": [
           {
            "colorbar": {
             "outlinewidth": 0,
             "ticks": ""
            },
            "colorscale": [
             [
              0,
              "#0d0887"
             ],
             [
              0.1111111111111111,
              "#46039f"
             ],
             [
              0.2222222222222222,
              "#7201a8"
             ],
             [
              0.3333333333333333,
              "#9c179e"
             ],
             [
              0.4444444444444444,
              "#bd3786"
             ],
             [
              0.5555555555555556,
              "#d8576b"
             ],
             [
              0.6666666666666666,
              "#ed7953"
             ],
             [
              0.7777777777777778,
              "#fb9f3a"
             ],
             [
              0.8888888888888888,
              "#fdca26"
             ],
             [
              1,
              "#f0f921"
             ]
            ],
            "type": "histogram2d"
           }
          ],
          "histogram2dcontour": [
           {
            "colorbar": {
             "outlinewidth": 0,
             "ticks": ""
            },
            "colorscale": [
             [
              0,
              "#0d0887"
             ],
             [
              0.1111111111111111,
              "#46039f"
             ],
             [
              0.2222222222222222,
              "#7201a8"
             ],
             [
              0.3333333333333333,
              "#9c179e"
             ],
             [
              0.4444444444444444,
              "#bd3786"
             ],
             [
              0.5555555555555556,
              "#d8576b"
             ],
             [
              0.6666666666666666,
              "#ed7953"
             ],
             [
              0.7777777777777778,
              "#fb9f3a"
             ],
             [
              0.8888888888888888,
              "#fdca26"
             ],
             [
              1,
              "#f0f921"
             ]
            ],
            "type": "histogram2dcontour"
           }
          ],
          "mesh3d": [
           {
            "colorbar": {
             "outlinewidth": 0,
             "ticks": ""
            },
            "type": "mesh3d"
           }
          ],
          "parcoords": [
           {
            "line": {
             "colorbar": {
              "outlinewidth": 0,
              "ticks": ""
             }
            },
            "type": "parcoords"
           }
          ],
          "pie": [
           {
            "automargin": true,
            "type": "pie"
           }
          ],
          "scatter": [
           {
            "marker": {
             "colorbar": {
              "outlinewidth": 0,
              "ticks": ""
             }
            },
            "type": "scatter"
           }
          ],
          "scatter3d": [
           {
            "line": {
             "colorbar": {
              "outlinewidth": 0,
              "ticks": ""
             }
            },
            "marker": {
             "colorbar": {
              "outlinewidth": 0,
              "ticks": ""
             }
            },
            "type": "scatter3d"
           }
          ],
          "scattercarpet": [
           {
            "marker": {
             "colorbar": {
              "outlinewidth": 0,
              "ticks": ""
             }
            },
            "type": "scattercarpet"
           }
          ],
          "scattergeo": [
           {
            "marker": {
             "colorbar": {
              "outlinewidth": 0,
              "ticks": ""
             }
            },
            "type": "scattergeo"
           }
          ],
          "scattergl": [
           {
            "marker": {
             "colorbar": {
              "outlinewidth": 0,
              "ticks": ""
             }
            },
            "type": "scattergl"
           }
          ],
          "scattermapbox": [
           {
            "marker": {
             "colorbar": {
              "outlinewidth": 0,
              "ticks": ""
             }
            },
            "type": "scattermapbox"
           }
          ],
          "scatterpolar": [
           {
            "marker": {
             "colorbar": {
              "outlinewidth": 0,
              "ticks": ""
             }
            },
            "type": "scatterpolar"
           }
          ],
          "scatterpolargl": [
           {
            "marker": {
             "colorbar": {
              "outlinewidth": 0,
              "ticks": ""
             }
            },
            "type": "scatterpolargl"
           }
          ],
          "scatterternary": [
           {
            "marker": {
             "colorbar": {
              "outlinewidth": 0,
              "ticks": ""
             }
            },
            "type": "scatterternary"
           }
          ],
          "surface": [
           {
            "colorbar": {
             "outlinewidth": 0,
             "ticks": ""
            },
            "colorscale": [
             [
              0,
              "#0d0887"
             ],
             [
              0.1111111111111111,
              "#46039f"
             ],
             [
              0.2222222222222222,
              "#7201a8"
             ],
             [
              0.3333333333333333,
              "#9c179e"
             ],
             [
              0.4444444444444444,
              "#bd3786"
             ],
             [
              0.5555555555555556,
              "#d8576b"
             ],
             [
              0.6666666666666666,
              "#ed7953"
             ],
             [
              0.7777777777777778,
              "#fb9f3a"
             ],
             [
              0.8888888888888888,
              "#fdca26"
             ],
             [
              1,
              "#f0f921"
             ]
            ],
            "type": "surface"
           }
          ],
          "table": [
           {
            "cells": {
             "fill": {
              "color": "#EBF0F8"
             },
             "line": {
              "color": "white"
             }
            },
            "header": {
             "fill": {
              "color": "#C8D4E3"
             },
             "line": {
              "color": "white"
             }
            },
            "type": "table"
           }
          ]
         },
         "layout": {
          "annotationdefaults": {
           "arrowcolor": "#2a3f5f",
           "arrowhead": 0,
           "arrowwidth": 1
          },
          "autotypenumbers": "strict",
          "coloraxis": {
           "colorbar": {
            "outlinewidth": 0,
            "ticks": ""
           }
          },
          "colorscale": {
           "diverging": [
            [
             0,
             "#8e0152"
            ],
            [
             0.1,
             "#c51b7d"
            ],
            [
             0.2,
             "#de77ae"
            ],
            [
             0.3,
             "#f1b6da"
            ],
            [
             0.4,
             "#fde0ef"
            ],
            [
             0.5,
             "#f7f7f7"
            ],
            [
             0.6,
             "#e6f5d0"
            ],
            [
             0.7,
             "#b8e186"
            ],
            [
             0.8,
             "#7fbc41"
            ],
            [
             0.9,
             "#4d9221"
            ],
            [
             1,
             "#276419"
            ]
           ],
           "sequential": [
            [
             0,
             "#0d0887"
            ],
            [
             0.1111111111111111,
             "#46039f"
            ],
            [
             0.2222222222222222,
             "#7201a8"
            ],
            [
             0.3333333333333333,
             "#9c179e"
            ],
            [
             0.4444444444444444,
             "#bd3786"
            ],
            [
             0.5555555555555556,
             "#d8576b"
            ],
            [
             0.6666666666666666,
             "#ed7953"
            ],
            [
             0.7777777777777778,
             "#fb9f3a"
            ],
            [
             0.8888888888888888,
             "#fdca26"
            ],
            [
             1,
             "#f0f921"
            ]
           ],
           "sequentialminus": [
            [
             0,
             "#0d0887"
            ],
            [
             0.1111111111111111,
             "#46039f"
            ],
            [
             0.2222222222222222,
             "#7201a8"
            ],
            [
             0.3333333333333333,
             "#9c179e"
            ],
            [
             0.4444444444444444,
             "#bd3786"
            ],
            [
             0.5555555555555556,
             "#d8576b"
            ],
            [
             0.6666666666666666,
             "#ed7953"
            ],
            [
             0.7777777777777778,
             "#fb9f3a"
            ],
            [
             0.8888888888888888,
             "#fdca26"
            ],
            [
             1,
             "#f0f921"
            ]
           ]
          },
          "colorway": [
           "#636efa",
           "#EF553B",
           "#00cc96",
           "#ab63fa",
           "#FFA15A",
           "#19d3f3",
           "#FF6692",
           "#B6E880",
           "#FF97FF",
           "#FECB52"
          ],
          "font": {
           "color": "#2a3f5f"
          },
          "geo": {
           "bgcolor": "white",
           "lakecolor": "white",
           "landcolor": "#E5ECF6",
           "showlakes": true,
           "showland": true,
           "subunitcolor": "white"
          },
          "hoverlabel": {
           "align": "left"
          },
          "hovermode": "closest",
          "mapbox": {
           "style": "light"
          },
          "paper_bgcolor": "white",
          "plot_bgcolor": "#E5ECF6",
          "polar": {
           "angularaxis": {
            "gridcolor": "white",
            "linecolor": "white",
            "ticks": ""
           },
           "bgcolor": "#E5ECF6",
           "radialaxis": {
            "gridcolor": "white",
            "linecolor": "white",
            "ticks": ""
           }
          },
          "scene": {
           "xaxis": {
            "backgroundcolor": "#E5ECF6",
            "gridcolor": "white",
            "gridwidth": 2,
            "linecolor": "white",
            "showbackground": true,
            "ticks": "",
            "zerolinecolor": "white"
           },
           "yaxis": {
            "backgroundcolor": "#E5ECF6",
            "gridcolor": "white",
            "gridwidth": 2,
            "linecolor": "white",
            "showbackground": true,
            "ticks": "",
            "zerolinecolor": "white"
           },
           "zaxis": {
            "backgroundcolor": "#E5ECF6",
            "gridcolor": "white",
            "gridwidth": 2,
            "linecolor": "white",
            "showbackground": true,
            "ticks": "",
            "zerolinecolor": "white"
           }
          },
          "shapedefaults": {
           "line": {
            "color": "#2a3f5f"
           }
          },
          "ternary": {
           "aaxis": {
            "gridcolor": "white",
            "linecolor": "white",
            "ticks": ""
           },
           "baxis": {
            "gridcolor": "white",
            "linecolor": "white",
            "ticks": ""
           },
           "bgcolor": "#E5ECF6",
           "caxis": {
            "gridcolor": "white",
            "linecolor": "white",
            "ticks": ""
           }
          },
          "title": {
           "x": 0.05
          },
          "xaxis": {
           "automargin": true,
           "gridcolor": "white",
           "linecolor": "white",
           "ticks": "",
           "title": {
            "standoff": 15
           },
           "zerolinecolor": "white",
           "zerolinewidth": 2
          },
          "yaxis": {
           "automargin": true,
           "gridcolor": "white",
           "linecolor": "white",
           "ticks": "",
           "title": {
            "standoff": 15
           },
           "zerolinecolor": "white",
           "zerolinewidth": 2
          }
         }
        },
        "title": {
         "font": {
          "color": "#4D5663"
         }
        },
        "xaxis": {
         "gridcolor": "#E1E5ED",
         "showgrid": true,
         "tickfont": {
          "color": "#4D5663"
         },
         "title": {
          "font": {
           "color": "#4D5663"
          },
          "text": ""
         },
         "zerolinecolor": "#E1E5ED"
        },
        "xaxis2": {
         "anchor": "y2",
         "gridcolor": "#E1E5ED",
         "showgrid": true,
         "showticklabels": false,
         "tickfont": {
          "color": "#4D5663"
         },
         "title": {
          "font": {
           "color": "#4D5663"
          },
          "text": ""
         },
         "zerolinecolor": "#E1E5ED"
        },
        "yaxis": {
         "domain": [
          0.3,
          1
         ],
         "gridcolor": "#E1E5ED",
         "showgrid": true,
         "tickfont": {
          "color": "#4D5663"
         },
         "title": {
          "font": {
           "color": "#4D5663"
          },
          "text": ""
         },
         "zerolinecolor": "#E1E5ED"
        },
        "yaxis2": {
         "domain": [
          0,
          0.25
         ],
         "gridcolor": "#E1E5ED",
         "showgrid": true,
         "tickfont": {
          "color": "#4D5663"
         },
         "title": {
          "font": {
           "color": "#4D5663"
          },
          "text": "Spread"
         },
         "zerolinecolor": "#E1E5ED"
        }
       }
      },
      "text/html": [
       "<div>                            <div id=\"31c1c94c-af25-4d34-95a1-5760b16aeae9\" class=\"plotly-graph-div\" style=\"height:525px; width:100%;\"></div>            <script type=\"text/javascript\">                require([\"plotly\"], function(Plotly) {                    window.PLOTLYENV=window.PLOTLYENV || {};\n",
       "                    window.PLOTLYENV.BASE_URL='https://plot.ly';                                    if (document.getElementById(\"31c1c94c-af25-4d34-95a1-5760b16aeae9\")) {                    Plotly.newPlot(                        \"31c1c94c-af25-4d34-95a1-5760b16aeae9\",                        [{\"line\":{\"color\":\"rgba(255, 153, 51, 1.0)\",\"dash\":\"solid\",\"shape\":\"linear\",\"width\":1.3},\"mode\":\"lines\",\"name\":\"A\",\"text\":\"\",\"x\":[0,1,2,3,4,5,6,7,8,9,10,11,12,13,14,15,16,17,18,19,20,21,22,23,24,25,26,27,28,29,30,31,32,33,34,35,36,37,38,39,40,41,42,43,44,45,46,47,48,49,50,51,52,53,54,55,56,57,58,59,60,61,62,63,64,65,66,67,68,69,70,71,72,73,74,75,76,77,78,79,80,81,82,83,84,85,86,87,88,89,90,91,92,93,94,95,96,97,98,99],\"y\":[0.3864119162303842,1.204197254885549,0.8915805046705403,0.6946310665445125,0.27765294539122676,0.5420527940393374,0.23163388502617024,-0.24611912165954075,0.1975421663222593,0.8306471225012765,-0.5947951947859332,0.07533484285624369,-0.48662233745461614,1.2095431597771475,1.4388081805724247,1.3213720547077155,-1.542678635966428,-0.24637024407810829,-0.05115857332615439,0.21033451070698972,3.1612127350544856,-1.3787329216099466,-0.39174937013067923,-1.464323976922046,-1.621593224518355,0.15333833029814659,-0.7801974870265284,-1.730171318650708,-0.1720820731605149,-1.4979155734855347,0.316666982307522,0.1429949741686534,-0.5073673656104781,0.8917748631288538,2.085554829503526,1.4364692534114378,-0.38471538218531065,-0.5217697385214842,0.17919576221160585,-0.1905462288446752,0.8396965913811204,-1.1132884509071437,0.24339161281964752,-1.429548270239324,-0.5806266492981891,-1.8770382428692274,-0.8888074513675872,0.24316207731286255,0.4982225352735528,-0.034273365889114026,-0.5825018111849762,-0.8798476373749529,1.1995589876220574,1.669952108825188,-0.3872968742445013,-1.0494059696781197,0.40754686773647897,-1.247921791425569,-0.3806257771839392,-0.5216481009040306,1.5405864399231293,-0.12969459449988752,-0.4523693590554315,-1.1046653902623707,1.6385742609526037,-0.541543061446402,0.8324264462958443,1.22474992003944,-0.09938681665143169,1.0468396972670604,-0.18671385796428455,-0.38257096000942087,0.5438194423985938,-0.19667430866170896,0.19775465238386308,-1.4257793282210245,0.23259243306741084,-0.7775097925144028,-1.0023132477348573,-0.2026193056462473,1.211440099443612,-1.563756949537177,0.5652204704929931,0.22997063377231486,0.6141551613384159,-0.5967768099632359,-0.8636424612336109,1.625871151332099,0.9218537869175375,0.28860763267064904,0.264056480265417,-1.7034195957732086,-1.2735263824434337,0.0453635049200079,1.7750461014137107,0.5036219550962464,1.659598689144155,0.9941880574328251,-0.293563658171593,-0.5632201905824927],\"type\":\"scatter\"},{\"line\":{\"color\":\"rgba(55, 128, 191, 1.0)\",\"dash\":\"solid\",\"shape\":\"linear\",\"width\":1.3},\"mode\":\"lines\",\"name\":\"B\",\"text\":\"\",\"x\":[0,1,2,3,4,5,6,7,8,9,10,11,12,13,14,15,16,17,18,19,20,21,22,23,24,25,26,27,28,29,30,31,32,33,34,35,36,37,38,39,40,41,42,43,44,45,46,47,48,49,50,51,52,53,54,55,56,57,58,59,60,61,62,63,64,65,66,67,68,69,70,71,72,73,74,75,76,77,78,79,80,81,82,83,84,85,86,87,88,89,90,91,92,93,94,95,96,97,98,99],\"y\":[0.663644916668608,0.8539894629565865,0.7182721805036181,-0.23131728651643915,1.0520682868690088,0.512886451876651,0.3962742013757297,0.19244837036910498,0.6942048027893358,-0.2722249899358359,0.6634385692004368,0.9800891949991442,1.1118229049368433,-0.10678861848750934,0.4690419300255005,-0.9723919008515634,-1.8757792550845664,0.8625745446710906,-0.7827619578718803,1.6677033232903173,1.1146211902632992,-1.3538638195878034,-0.31828942591868525,-0.003779765834421749,-0.815296361103711,1.1123892326502263,-0.7845936279014872,-1.9797114354721983,-1.390372692915758,1.6503369920929167,-0.14899684895433177,-0.8231575334399924,0.16104253963553297,0.7836004550291542,-0.33153498382638535,0.8407689388417556,-0.03281131948110183,0.12231113887453894,-0.018984964617667407,-0.6402845786433076,-0.12032126474864979,0.7349396313531462,-0.8960260796006839,0.7576566829971076,1.5999888684153223,-1.1286716075963636,1.5534085433341411,-0.7244406208197438,0.9263127855310453,-0.5391208826579759,-0.22257653120121626,0.4034032365585807,1.3094635291740735,-0.17829845039408723,-0.34107945675869356,1.1031629412688133,1.1937899917993917,-1.3332954918220914,-0.008346989593206655,-0.6328859674322583,-0.7205485931175036,1.0154031030661033,-1.5408076869474618,-0.1865187258517424,-0.48252363590092134,1.1208765865460928,-0.1206576183143393,0.3111316770088429,-0.8692757764238744,0.2683730398176634,1.201520534380479,1.8412641038761008,1.1903462992361296,-0.0972977226935668,0.35613581513712733,1.6478213551010252,-0.3197494553823164,0.28441072498000314,-1.6810004114282828,0.2943187027071099,-0.8031971015880753,-1.0280244607883133,-0.3548532385182408,-0.2997666538463908,-1.0143036354426633,-0.45467754603306093,0.4520630514102458,-1.1233903175090119,-0.27233724745283466,-0.29285161781770586,-0.7418022189104699,-1.1562087044083964,-0.6457668576781612,0.5373550478693669,1.2242863244276385,-0.9874880065577107,-0.6471030553787697,-0.048739317504564866,-0.23677463664566517,0.42998336423142036],\"type\":\"scatter\"},{\"connectgaps\":false,\"fill\":\"tozeroy\",\"line\":{\"color\":\"green\",\"dash\":\"solid\",\"shape\":\"linear\",\"width\":0.5},\"mode\":\"lines\",\"name\":\"Spread\",\"showlegend\":false,\"x\":[0,1,2,3,4,5,6,7,8,9,10,11,12,13,14,15,16,17,18,19,20,21,22,23,24,25,26,27,28,29,30,31,32,33,34,35,36,37,38,39,40,41,42,43,44,45,46,47,48,49,50,51,52,53,54,55,56,57,58,59,60,61,62,63,64,65,66,67,68,69,70,71,72,73,74,75,76,77,78,79,80,81,82,83,84,85,86,87,88,89,90,91,92,93,94,95,96,97,98,99],\"xaxis\":\"x2\",\"y\":[\"\",0.35020779192896256,0.1733083241669222,0.9259483530609516,\"\",0.02916634216268632,\"\",\"\",\"\",1.1028721124371124,\"\",\"\",\"\",1.3163317782646569,0.9697662505469242,2.293763955559279,0.3331006191181385,\"\",0.7316033845457259,\"\",2.0465915447911867,\"\",\"\",\"\",\"\",\"\",0.004396140874958876,0.24954011682149035,1.2182906197552432,\"\",0.46566383126185373,0.9661525076086458,\"\",0.10817440809969958,2.4170898133299112,0.5957003145696822,\"\",\"\",0.19818072682927326,0.44973834979863236,0.9600178561297702,\"\",1.1394176924203314,\"\",\"\",\"\",\"\",0.9676026981326064,\"\",0.5048475167688619,\"\",\"\",\"\",1.8482505592192753,\"\",\"\",\"\",0.08537370039652248,\"\",0.11123786652822776,2.261135033040633,\"\",1.0884383278920304,\"\",2.121097896853525,\"\",0.9530840646101836,0.9136182430305971,0.7698889597724428,0.778466657449397,\"\",\"\",\"\",\"\",\"\",\"\",0.5523418884497273,\"\",0.6786871636934255,\"\",2.0146372010316873,\"\",0.9200737090112339,0.5297372876187056,1.628458796781079,\"\",\"\",2.7492614688411106,1.194191034370372,0.5814592504883549,1.0058586991758869,\"\",\"\",\"\",0.5507597769860721,1.4911099616539571,2.3067017445229245,1.04292737493739,\"\",\"\"],\"yaxis\":\"y2\",\"type\":\"scatter\"},{\"connectgaps\":false,\"fill\":\"tozeroy\",\"line\":{\"color\":\"red\",\"dash\":\"solid\",\"shape\":\"linear\",\"width\":0.5},\"mode\":\"lines\",\"name\":\"Spread\",\"showlegend\":false,\"x\":[0,1,2,3,4,5,6,7,8,9,10,11,12,13,14,15,16,17,18,19,20,21,22,23,24,25,26,27,28,29,30,31,32,33,34,35,36,37,38,39,40,41,42,43,44,45,46,47,48,49,50,51,52,53,54,55,56,57,58,59,60,61,62,63,64,65,66,67,68,69,70,71,72,73,74,75,76,77,78,79,80,81,82,83,84,85,86,87,88,89,90,91,92,93,94,95,96,97,98,99],\"xaxis\":\"x2\",\"y\":[-0.27723300043822385,\"\",\"\",\"\",-0.774415341477782,\"\",-0.16464031634955947,-0.43856749202864576,-0.49666263646707653,\"\",-1.2582337639863699,-0.9047543521429005,-1.5984452423914595,\"\",\"\",\"\",\"\",-1.108944788749199,\"\",-1.4573688125833275,\"\",-0.024869102022143208,-0.07345994421199398,-1.4605442110876241,-0.8062968634146441,-0.9590509023520797,\"\",\"\",\"\",-3.1482525655784515,\"\",\"\",-0.6684099052460111,\"\",\"\",\"\",-0.3519040627042088,-0.6440808773960232,\"\",\"\",\"\",-1.84822808226029,\"\",-2.1872049532364315,-2.1806155177135116,-0.7483666352728637,-2.442215994701728,\"\",-0.42809025025749253,\"\",-0.35992527998376,-1.2832508739335335,-0.10990454155201612,\"\",-0.046217417485807766,-2.152568910946933,-0.7862431240629127,\"\",-0.3722787875907325,\"\",\"\",-1.1450976975659908,\"\",-0.9181466644106282,\"\",-1.6624196479924946,\"\",\"\",\"\",\"\",-1.3882343923447635,-2.2238350638855215,-0.6465268568375357,-0.09937658596814215,-0.15838116275326425,-3.0736006833220495,\"\",-1.061920517494406,\"\",-0.4969380083533572,\"\",-0.5357324887488637,\"\",\"\",\"\",-0.14209926393017497,-1.3157055126438566,\"\",\"\",\"\",\"\",-0.5472108913648122,-0.6277595247652725,-0.49199154294935904,\"\",\"\",\"\",\"\",-0.05678902152592785,-0.9932035548139131],\"yaxis\":\"y2\",\"type\":\"scatter\"}],                        {\"hovermode\":\"x\",\"legend\":{\"bgcolor\":\"#F5F6F9\",\"font\":{\"color\":\"#4D5663\"}},\"paper_bgcolor\":\"#F5F6F9\",\"plot_bgcolor\":\"#F5F6F9\",\"template\":{\"data\":{\"barpolar\":[{\"marker\":{\"line\":{\"color\":\"#E5ECF6\",\"width\":0.5},\"pattern\":{\"fillmode\":\"overlay\",\"size\":10,\"solidity\":0.2}},\"type\":\"barpolar\"}],\"bar\":[{\"error_x\":{\"color\":\"#2a3f5f\"},\"error_y\":{\"color\":\"#2a3f5f\"},\"marker\":{\"line\":{\"color\":\"#E5ECF6\",\"width\":0.5},\"pattern\":{\"fillmode\":\"overlay\",\"size\":10,\"solidity\":0.2}},\"type\":\"bar\"}],\"carpet\":[{\"aaxis\":{\"endlinecolor\":\"#2a3f5f\",\"gridcolor\":\"white\",\"linecolor\":\"white\",\"minorgridcolor\":\"white\",\"startlinecolor\":\"#2a3f5f\"},\"baxis\":{\"endlinecolor\":\"#2a3f5f\",\"gridcolor\":\"white\",\"linecolor\":\"white\",\"minorgridcolor\":\"white\",\"startlinecolor\":\"#2a3f5f\"},\"type\":\"carpet\"}],\"choropleth\":[{\"colorbar\":{\"outlinewidth\":0,\"ticks\":\"\"},\"type\":\"choropleth\"}],\"contourcarpet\":[{\"colorbar\":{\"outlinewidth\":0,\"ticks\":\"\"},\"type\":\"contourcarpet\"}],\"contour\":[{\"colorbar\":{\"outlinewidth\":0,\"ticks\":\"\"},\"colorscale\":[[0.0,\"#0d0887\"],[0.1111111111111111,\"#46039f\"],[0.2222222222222222,\"#7201a8\"],[0.3333333333333333,\"#9c179e\"],[0.4444444444444444,\"#bd3786\"],[0.5555555555555556,\"#d8576b\"],[0.6666666666666666,\"#ed7953\"],[0.7777777777777778,\"#fb9f3a\"],[0.8888888888888888,\"#fdca26\"],[1.0,\"#f0f921\"]],\"type\":\"contour\"}],\"heatmapgl\":[{\"colorbar\":{\"outlinewidth\":0,\"ticks\":\"\"},\"colorscale\":[[0.0,\"#0d0887\"],[0.1111111111111111,\"#46039f\"],[0.2222222222222222,\"#7201a8\"],[0.3333333333333333,\"#9c179e\"],[0.4444444444444444,\"#bd3786\"],[0.5555555555555556,\"#d8576b\"],[0.6666666666666666,\"#ed7953\"],[0.7777777777777778,\"#fb9f3a\"],[0.8888888888888888,\"#fdca26\"],[1.0,\"#f0f921\"]],\"type\":\"heatmapgl\"}],\"heatmap\":[{\"colorbar\":{\"outlinewidth\":0,\"ticks\":\"\"},\"colorscale\":[[0.0,\"#0d0887\"],[0.1111111111111111,\"#46039f\"],[0.2222222222222222,\"#7201a8\"],[0.3333333333333333,\"#9c179e\"],[0.4444444444444444,\"#bd3786\"],[0.5555555555555556,\"#d8576b\"],[0.6666666666666666,\"#ed7953\"],[0.7777777777777778,\"#fb9f3a\"],[0.8888888888888888,\"#fdca26\"],[1.0,\"#f0f921\"]],\"type\":\"heatmap\"}],\"histogram2dcontour\":[{\"colorbar\":{\"outlinewidth\":0,\"ticks\":\"\"},\"colorscale\":[[0.0,\"#0d0887\"],[0.1111111111111111,\"#46039f\"],[0.2222222222222222,\"#7201a8\"],[0.3333333333333333,\"#9c179e\"],[0.4444444444444444,\"#bd3786\"],[0.5555555555555556,\"#d8576b\"],[0.6666666666666666,\"#ed7953\"],[0.7777777777777778,\"#fb9f3a\"],[0.8888888888888888,\"#fdca26\"],[1.0,\"#f0f921\"]],\"type\":\"histogram2dcontour\"}],\"histogram2d\":[{\"colorbar\":{\"outlinewidth\":0,\"ticks\":\"\"},\"colorscale\":[[0.0,\"#0d0887\"],[0.1111111111111111,\"#46039f\"],[0.2222222222222222,\"#7201a8\"],[0.3333333333333333,\"#9c179e\"],[0.4444444444444444,\"#bd3786\"],[0.5555555555555556,\"#d8576b\"],[0.6666666666666666,\"#ed7953\"],[0.7777777777777778,\"#fb9f3a\"],[0.8888888888888888,\"#fdca26\"],[1.0,\"#f0f921\"]],\"type\":\"histogram2d\"}],\"histogram\":[{\"marker\":{\"pattern\":{\"fillmode\":\"overlay\",\"size\":10,\"solidity\":0.2}},\"type\":\"histogram\"}],\"mesh3d\":[{\"colorbar\":{\"outlinewidth\":0,\"ticks\":\"\"},\"type\":\"mesh3d\"}],\"parcoords\":[{\"line\":{\"colorbar\":{\"outlinewidth\":0,\"ticks\":\"\"}},\"type\":\"parcoords\"}],\"pie\":[{\"automargin\":true,\"type\":\"pie\"}],\"scatter3d\":[{\"line\":{\"colorbar\":{\"outlinewidth\":0,\"ticks\":\"\"}},\"marker\":{\"colorbar\":{\"outlinewidth\":0,\"ticks\":\"\"}},\"type\":\"scatter3d\"}],\"scattercarpet\":[{\"marker\":{\"colorbar\":{\"outlinewidth\":0,\"ticks\":\"\"}},\"type\":\"scattercarpet\"}],\"scattergeo\":[{\"marker\":{\"colorbar\":{\"outlinewidth\":0,\"ticks\":\"\"}},\"type\":\"scattergeo\"}],\"scattergl\":[{\"marker\":{\"colorbar\":{\"outlinewidth\":0,\"ticks\":\"\"}},\"type\":\"scattergl\"}],\"scattermapbox\":[{\"marker\":{\"colorbar\":{\"outlinewidth\":0,\"ticks\":\"\"}},\"type\":\"scattermapbox\"}],\"scatterpolargl\":[{\"marker\":{\"colorbar\":{\"outlinewidth\":0,\"ticks\":\"\"}},\"type\":\"scatterpolargl\"}],\"scatterpolar\":[{\"marker\":{\"colorbar\":{\"outlinewidth\":0,\"ticks\":\"\"}},\"type\":\"scatterpolar\"}],\"scatter\":[{\"marker\":{\"colorbar\":{\"outlinewidth\":0,\"ticks\":\"\"}},\"type\":\"scatter\"}],\"scatterternary\":[{\"marker\":{\"colorbar\":{\"outlinewidth\":0,\"ticks\":\"\"}},\"type\":\"scatterternary\"}],\"surface\":[{\"colorbar\":{\"outlinewidth\":0,\"ticks\":\"\"},\"colorscale\":[[0.0,\"#0d0887\"],[0.1111111111111111,\"#46039f\"],[0.2222222222222222,\"#7201a8\"],[0.3333333333333333,\"#9c179e\"],[0.4444444444444444,\"#bd3786\"],[0.5555555555555556,\"#d8576b\"],[0.6666666666666666,\"#ed7953\"],[0.7777777777777778,\"#fb9f3a\"],[0.8888888888888888,\"#fdca26\"],[1.0,\"#f0f921\"]],\"type\":\"surface\"}],\"table\":[{\"cells\":{\"fill\":{\"color\":\"#EBF0F8\"},\"line\":{\"color\":\"white\"}},\"header\":{\"fill\":{\"color\":\"#C8D4E3\"},\"line\":{\"color\":\"white\"}},\"type\":\"table\"}]},\"layout\":{\"annotationdefaults\":{\"arrowcolor\":\"#2a3f5f\",\"arrowhead\":0,\"arrowwidth\":1},\"autotypenumbers\":\"strict\",\"coloraxis\":{\"colorbar\":{\"outlinewidth\":0,\"ticks\":\"\"}},\"colorscale\":{\"diverging\":[[0,\"#8e0152\"],[0.1,\"#c51b7d\"],[0.2,\"#de77ae\"],[0.3,\"#f1b6da\"],[0.4,\"#fde0ef\"],[0.5,\"#f7f7f7\"],[0.6,\"#e6f5d0\"],[0.7,\"#b8e186\"],[0.8,\"#7fbc41\"],[0.9,\"#4d9221\"],[1,\"#276419\"]],\"sequential\":[[0.0,\"#0d0887\"],[0.1111111111111111,\"#46039f\"],[0.2222222222222222,\"#7201a8\"],[0.3333333333333333,\"#9c179e\"],[0.4444444444444444,\"#bd3786\"],[0.5555555555555556,\"#d8576b\"],[0.6666666666666666,\"#ed7953\"],[0.7777777777777778,\"#fb9f3a\"],[0.8888888888888888,\"#fdca26\"],[1.0,\"#f0f921\"]],\"sequentialminus\":[[0.0,\"#0d0887\"],[0.1111111111111111,\"#46039f\"],[0.2222222222222222,\"#7201a8\"],[0.3333333333333333,\"#9c179e\"],[0.4444444444444444,\"#bd3786\"],[0.5555555555555556,\"#d8576b\"],[0.6666666666666666,\"#ed7953\"],[0.7777777777777778,\"#fb9f3a\"],[0.8888888888888888,\"#fdca26\"],[1.0,\"#f0f921\"]]},\"colorway\":[\"#636efa\",\"#EF553B\",\"#00cc96\",\"#ab63fa\",\"#FFA15A\",\"#19d3f3\",\"#FF6692\",\"#B6E880\",\"#FF97FF\",\"#FECB52\"],\"font\":{\"color\":\"#2a3f5f\"},\"geo\":{\"bgcolor\":\"white\",\"lakecolor\":\"white\",\"landcolor\":\"#E5ECF6\",\"showlakes\":true,\"showland\":true,\"subunitcolor\":\"white\"},\"hoverlabel\":{\"align\":\"left\"},\"hovermode\":\"closest\",\"mapbox\":{\"style\":\"light\"},\"paper_bgcolor\":\"white\",\"plot_bgcolor\":\"#E5ECF6\",\"polar\":{\"angularaxis\":{\"gridcolor\":\"white\",\"linecolor\":\"white\",\"ticks\":\"\"},\"bgcolor\":\"#E5ECF6\",\"radialaxis\":{\"gridcolor\":\"white\",\"linecolor\":\"white\",\"ticks\":\"\"}},\"scene\":{\"xaxis\":{\"backgroundcolor\":\"#E5ECF6\",\"gridcolor\":\"white\",\"gridwidth\":2,\"linecolor\":\"white\",\"showbackground\":true,\"ticks\":\"\",\"zerolinecolor\":\"white\"},\"yaxis\":{\"backgroundcolor\":\"#E5ECF6\",\"gridcolor\":\"white\",\"gridwidth\":2,\"linecolor\":\"white\",\"showbackground\":true,\"ticks\":\"\",\"zerolinecolor\":\"white\"},\"zaxis\":{\"backgroundcolor\":\"#E5ECF6\",\"gridcolor\":\"white\",\"gridwidth\":2,\"linecolor\":\"white\",\"showbackground\":true,\"ticks\":\"\",\"zerolinecolor\":\"white\"}},\"shapedefaults\":{\"line\":{\"color\":\"#2a3f5f\"}},\"ternary\":{\"aaxis\":{\"gridcolor\":\"white\",\"linecolor\":\"white\",\"ticks\":\"\"},\"baxis\":{\"gridcolor\":\"white\",\"linecolor\":\"white\",\"ticks\":\"\"},\"bgcolor\":\"#E5ECF6\",\"caxis\":{\"gridcolor\":\"white\",\"linecolor\":\"white\",\"ticks\":\"\"}},\"title\":{\"x\":0.05},\"xaxis\":{\"automargin\":true,\"gridcolor\":\"white\",\"linecolor\":\"white\",\"ticks\":\"\",\"title\":{\"standoff\":15},\"zerolinecolor\":\"white\",\"zerolinewidth\":2},\"yaxis\":{\"automargin\":true,\"gridcolor\":\"white\",\"linecolor\":\"white\",\"ticks\":\"\",\"title\":{\"standoff\":15},\"zerolinecolor\":\"white\",\"zerolinewidth\":2}}},\"title\":{\"font\":{\"color\":\"#4D5663\"}},\"xaxis\":{\"gridcolor\":\"#E1E5ED\",\"showgrid\":true,\"tickfont\":{\"color\":\"#4D5663\"},\"title\":{\"font\":{\"color\":\"#4D5663\"},\"text\":\"\"},\"zerolinecolor\":\"#E1E5ED\"},\"yaxis\":{\"domain\":[0.3,1],\"gridcolor\":\"#E1E5ED\",\"showgrid\":true,\"tickfont\":{\"color\":\"#4D5663\"},\"title\":{\"font\":{\"color\":\"#4D5663\"},\"text\":\"\"},\"zerolinecolor\":\"#E1E5ED\"},\"yaxis2\":{\"domain\":[0,0.25],\"gridcolor\":\"#E1E5ED\",\"showgrid\":true,\"tickfont\":{\"color\":\"#4D5663\"},\"title\":{\"font\":{\"color\":\"#4D5663\"},\"text\":\"Spread\"},\"zerolinecolor\":\"#E1E5ED\"},\"xaxis2\":{\"anchor\":\"y2\",\"gridcolor\":\"#E1E5ED\",\"showgrid\":true,\"showticklabels\":false,\"tickfont\":{\"color\":\"#4D5663\"},\"title\":{\"font\":{\"color\":\"#4D5663\"},\"text\":\"\"},\"zerolinecolor\":\"#E1E5ED\"}},                        {\"showLink\": true, \"linkText\": \"Export to plot.ly\", \"plotlyServerURL\": \"https://plot.ly\", \"responsive\": true}                    ).then(function(){\n",
       "                            \n",
       "var gd = document.getElementById('31c1c94c-af25-4d34-95a1-5760b16aeae9');\n",
       "var x = new MutationObserver(function (mutations, observer) {{\n",
       "        var display = window.getComputedStyle(gd).display;\n",
       "        if (!display || display === 'none') {{\n",
       "            console.log([gd, 'removed!']);\n",
       "            Plotly.purge(gd);\n",
       "            observer.disconnect();\n",
       "        }}\n",
       "}});\n",
       "\n",
       "// Listen for the removal of the full notebook cells\n",
       "var notebookContainer = gd.closest('#notebook-container');\n",
       "if (notebookContainer) {{\n",
       "    x.observe(notebookContainer, {childList: true});\n",
       "}}\n",
       "\n",
       "// Listen for the clearing of the current output cell\n",
       "var outputEl = gd.closest('.output');\n",
       "if (outputEl) {{\n",
       "    x.observe(outputEl, {childList: true});\n",
       "}}\n",
       "\n",
       "                        })                };                });            </script>        </div>"
      ]
     },
     "metadata": {},
     "output_type": "display_data"
    }
   ],
   "source": [
    "df[['A','B']].iplot(kind='spread')"
   ]
  },
  {
   "cell_type": "markdown",
   "metadata": {},
   "source": [
    "## histogram"
   ]
  },
  {
   "cell_type": "code",
   "execution_count": 17,
   "metadata": {},
   "outputs": [
    {
     "data": {
      "application/vnd.plotly.v1+json": {
       "config": {
        "linkText": "Export to plot.ly",
        "plotlyServerURL": "https://plot.ly",
        "showLink": true
       },
       "data": [
        {
         "histfunc": "count",
         "histnorm": "",
         "marker": {
          "color": "rgba(255, 153, 51, 1.0)",
          "line": {
           "color": "#4D5663",
           "width": 1.3
          }
         },
         "name": "A",
         "nbinsx": 25,
         "opacity": 0.8,
         "orientation": "v",
         "type": "histogram",
         "x": [
          0.3864119162303842,
          1.204197254885549,
          0.8915805046705403,
          0.6946310665445125,
          0.27765294539122676,
          0.5420527940393374,
          0.23163388502617024,
          -0.24611912165954075,
          0.1975421663222593,
          0.8306471225012765,
          -0.5947951947859332,
          0.07533484285624369,
          -0.48662233745461614,
          1.2095431597771475,
          1.4388081805724247,
          1.3213720547077155,
          -1.542678635966428,
          -0.24637024407810829,
          -0.05115857332615439,
          0.21033451070698972,
          3.1612127350544856,
          -1.3787329216099466,
          -0.39174937013067923,
          -1.464323976922046,
          -1.621593224518355,
          0.15333833029814659,
          -0.7801974870265284,
          -1.730171318650708,
          -0.1720820731605149,
          -1.4979155734855347,
          0.316666982307522,
          0.1429949741686534,
          -0.5073673656104781,
          0.8917748631288538,
          2.085554829503526,
          1.4364692534114378,
          -0.38471538218531065,
          -0.5217697385214842,
          0.17919576221160585,
          -0.1905462288446752,
          0.8396965913811204,
          -1.1132884509071437,
          0.24339161281964752,
          -1.429548270239324,
          -0.5806266492981891,
          -1.8770382428692274,
          -0.8888074513675872,
          0.24316207731286255,
          0.4982225352735528,
          -0.034273365889114026,
          -0.5825018111849762,
          -0.8798476373749529,
          1.1995589876220574,
          1.669952108825188,
          -0.3872968742445013,
          -1.0494059696781197,
          0.40754686773647897,
          -1.247921791425569,
          -0.3806257771839392,
          -0.5216481009040306,
          1.5405864399231293,
          -0.12969459449988752,
          -0.4523693590554315,
          -1.1046653902623707,
          1.6385742609526037,
          -0.541543061446402,
          0.8324264462958443,
          1.22474992003944,
          -0.09938681665143169,
          1.0468396972670604,
          -0.18671385796428455,
          -0.38257096000942087,
          0.5438194423985938,
          -0.19667430866170896,
          0.19775465238386308,
          -1.4257793282210245,
          0.23259243306741084,
          -0.7775097925144028,
          -1.0023132477348573,
          -0.2026193056462473,
          1.211440099443612,
          -1.563756949537177,
          0.5652204704929931,
          0.22997063377231486,
          0.6141551613384159,
          -0.5967768099632359,
          -0.8636424612336109,
          1.625871151332099,
          0.9218537869175375,
          0.28860763267064904,
          0.264056480265417,
          -1.7034195957732086,
          -1.2735263824434337,
          0.0453635049200079,
          1.7750461014137107,
          0.5036219550962464,
          1.659598689144155,
          0.9941880574328251,
          -0.293563658171593,
          -0.5632201905824927
         ]
        }
       ],
       "layout": {
        "barmode": "overlay",
        "legend": {
         "bgcolor": "#F5F6F9",
         "font": {
          "color": "#4D5663"
         }
        },
        "paper_bgcolor": "#F5F6F9",
        "plot_bgcolor": "#F5F6F9",
        "template": {
         "data": {
          "bar": [
           {
            "error_x": {
             "color": "#2a3f5f"
            },
            "error_y": {
             "color": "#2a3f5f"
            },
            "marker": {
             "line": {
              "color": "#E5ECF6",
              "width": 0.5
             },
             "pattern": {
              "fillmode": "overlay",
              "size": 10,
              "solidity": 0.2
             }
            },
            "type": "bar"
           }
          ],
          "barpolar": [
           {
            "marker": {
             "line": {
              "color": "#E5ECF6",
              "width": 0.5
             },
             "pattern": {
              "fillmode": "overlay",
              "size": 10,
              "solidity": 0.2
             }
            },
            "type": "barpolar"
           }
          ],
          "carpet": [
           {
            "aaxis": {
             "endlinecolor": "#2a3f5f",
             "gridcolor": "white",
             "linecolor": "white",
             "minorgridcolor": "white",
             "startlinecolor": "#2a3f5f"
            },
            "baxis": {
             "endlinecolor": "#2a3f5f",
             "gridcolor": "white",
             "linecolor": "white",
             "minorgridcolor": "white",
             "startlinecolor": "#2a3f5f"
            },
            "type": "carpet"
           }
          ],
          "choropleth": [
           {
            "colorbar": {
             "outlinewidth": 0,
             "ticks": ""
            },
            "type": "choropleth"
           }
          ],
          "contour": [
           {
            "colorbar": {
             "outlinewidth": 0,
             "ticks": ""
            },
            "colorscale": [
             [
              0,
              "#0d0887"
             ],
             [
              0.1111111111111111,
              "#46039f"
             ],
             [
              0.2222222222222222,
              "#7201a8"
             ],
             [
              0.3333333333333333,
              "#9c179e"
             ],
             [
              0.4444444444444444,
              "#bd3786"
             ],
             [
              0.5555555555555556,
              "#d8576b"
             ],
             [
              0.6666666666666666,
              "#ed7953"
             ],
             [
              0.7777777777777778,
              "#fb9f3a"
             ],
             [
              0.8888888888888888,
              "#fdca26"
             ],
             [
              1,
              "#f0f921"
             ]
            ],
            "type": "contour"
           }
          ],
          "contourcarpet": [
           {
            "colorbar": {
             "outlinewidth": 0,
             "ticks": ""
            },
            "type": "contourcarpet"
           }
          ],
          "heatmap": [
           {
            "colorbar": {
             "outlinewidth": 0,
             "ticks": ""
            },
            "colorscale": [
             [
              0,
              "#0d0887"
             ],
             [
              0.1111111111111111,
              "#46039f"
             ],
             [
              0.2222222222222222,
              "#7201a8"
             ],
             [
              0.3333333333333333,
              "#9c179e"
             ],
             [
              0.4444444444444444,
              "#bd3786"
             ],
             [
              0.5555555555555556,
              "#d8576b"
             ],
             [
              0.6666666666666666,
              "#ed7953"
             ],
             [
              0.7777777777777778,
              "#fb9f3a"
             ],
             [
              0.8888888888888888,
              "#fdca26"
             ],
             [
              1,
              "#f0f921"
             ]
            ],
            "type": "heatmap"
           }
          ],
          "heatmapgl": [
           {
            "colorbar": {
             "outlinewidth": 0,
             "ticks": ""
            },
            "colorscale": [
             [
              0,
              "#0d0887"
             ],
             [
              0.1111111111111111,
              "#46039f"
             ],
             [
              0.2222222222222222,
              "#7201a8"
             ],
             [
              0.3333333333333333,
              "#9c179e"
             ],
             [
              0.4444444444444444,
              "#bd3786"
             ],
             [
              0.5555555555555556,
              "#d8576b"
             ],
             [
              0.6666666666666666,
              "#ed7953"
             ],
             [
              0.7777777777777778,
              "#fb9f3a"
             ],
             [
              0.8888888888888888,
              "#fdca26"
             ],
             [
              1,
              "#f0f921"
             ]
            ],
            "type": "heatmapgl"
           }
          ],
          "histogram": [
           {
            "marker": {
             "pattern": {
              "fillmode": "overlay",
              "size": 10,
              "solidity": 0.2
             }
            },
            "type": "histogram"
           }
          ],
          "histogram2d": [
           {
            "colorbar": {
             "outlinewidth": 0,
             "ticks": ""
            },
            "colorscale": [
             [
              0,
              "#0d0887"
             ],
             [
              0.1111111111111111,
              "#46039f"
             ],
             [
              0.2222222222222222,
              "#7201a8"
             ],
             [
              0.3333333333333333,
              "#9c179e"
             ],
             [
              0.4444444444444444,
              "#bd3786"
             ],
             [
              0.5555555555555556,
              "#d8576b"
             ],
             [
              0.6666666666666666,
              "#ed7953"
             ],
             [
              0.7777777777777778,
              "#fb9f3a"
             ],
             [
              0.8888888888888888,
              "#fdca26"
             ],
             [
              1,
              "#f0f921"
             ]
            ],
            "type": "histogram2d"
           }
          ],
          "histogram2dcontour": [
           {
            "colorbar": {
             "outlinewidth": 0,
             "ticks": ""
            },
            "colorscale": [
             [
              0,
              "#0d0887"
             ],
             [
              0.1111111111111111,
              "#46039f"
             ],
             [
              0.2222222222222222,
              "#7201a8"
             ],
             [
              0.3333333333333333,
              "#9c179e"
             ],
             [
              0.4444444444444444,
              "#bd3786"
             ],
             [
              0.5555555555555556,
              "#d8576b"
             ],
             [
              0.6666666666666666,
              "#ed7953"
             ],
             [
              0.7777777777777778,
              "#fb9f3a"
             ],
             [
              0.8888888888888888,
              "#fdca26"
             ],
             [
              1,
              "#f0f921"
             ]
            ],
            "type": "histogram2dcontour"
           }
          ],
          "mesh3d": [
           {
            "colorbar": {
             "outlinewidth": 0,
             "ticks": ""
            },
            "type": "mesh3d"
           }
          ],
          "parcoords": [
           {
            "line": {
             "colorbar": {
              "outlinewidth": 0,
              "ticks": ""
             }
            },
            "type": "parcoords"
           }
          ],
          "pie": [
           {
            "automargin": true,
            "type": "pie"
           }
          ],
          "scatter": [
           {
            "marker": {
             "colorbar": {
              "outlinewidth": 0,
              "ticks": ""
             }
            },
            "type": "scatter"
           }
          ],
          "scatter3d": [
           {
            "line": {
             "colorbar": {
              "outlinewidth": 0,
              "ticks": ""
             }
            },
            "marker": {
             "colorbar": {
              "outlinewidth": 0,
              "ticks": ""
             }
            },
            "type": "scatter3d"
           }
          ],
          "scattercarpet": [
           {
            "marker": {
             "colorbar": {
              "outlinewidth": 0,
              "ticks": ""
             }
            },
            "type": "scattercarpet"
           }
          ],
          "scattergeo": [
           {
            "marker": {
             "colorbar": {
              "outlinewidth": 0,
              "ticks": ""
             }
            },
            "type": "scattergeo"
           }
          ],
          "scattergl": [
           {
            "marker": {
             "colorbar": {
              "outlinewidth": 0,
              "ticks": ""
             }
            },
            "type": "scattergl"
           }
          ],
          "scattermapbox": [
           {
            "marker": {
             "colorbar": {
              "outlinewidth": 0,
              "ticks": ""
             }
            },
            "type": "scattermapbox"
           }
          ],
          "scatterpolar": [
           {
            "marker": {
             "colorbar": {
              "outlinewidth": 0,
              "ticks": ""
             }
            },
            "type": "scatterpolar"
           }
          ],
          "scatterpolargl": [
           {
            "marker": {
             "colorbar": {
              "outlinewidth": 0,
              "ticks": ""
             }
            },
            "type": "scatterpolargl"
           }
          ],
          "scatterternary": [
           {
            "marker": {
             "colorbar": {
              "outlinewidth": 0,
              "ticks": ""
             }
            },
            "type": "scatterternary"
           }
          ],
          "surface": [
           {
            "colorbar": {
             "outlinewidth": 0,
             "ticks": ""
            },
            "colorscale": [
             [
              0,
              "#0d0887"
             ],
             [
              0.1111111111111111,
              "#46039f"
             ],
             [
              0.2222222222222222,
              "#7201a8"
             ],
             [
              0.3333333333333333,
              "#9c179e"
             ],
             [
              0.4444444444444444,
              "#bd3786"
             ],
             [
              0.5555555555555556,
              "#d8576b"
             ],
             [
              0.6666666666666666,
              "#ed7953"
             ],
             [
              0.7777777777777778,
              "#fb9f3a"
             ],
             [
              0.8888888888888888,
              "#fdca26"
             ],
             [
              1,
              "#f0f921"
             ]
            ],
            "type": "surface"
           }
          ],
          "table": [
           {
            "cells": {
             "fill": {
              "color": "#EBF0F8"
             },
             "line": {
              "color": "white"
             }
            },
            "header": {
             "fill": {
              "color": "#C8D4E3"
             },
             "line": {
              "color": "white"
             }
            },
            "type": "table"
           }
          ]
         },
         "layout": {
          "annotationdefaults": {
           "arrowcolor": "#2a3f5f",
           "arrowhead": 0,
           "arrowwidth": 1
          },
          "autotypenumbers": "strict",
          "coloraxis": {
           "colorbar": {
            "outlinewidth": 0,
            "ticks": ""
           }
          },
          "colorscale": {
           "diverging": [
            [
             0,
             "#8e0152"
            ],
            [
             0.1,
             "#c51b7d"
            ],
            [
             0.2,
             "#de77ae"
            ],
            [
             0.3,
             "#f1b6da"
            ],
            [
             0.4,
             "#fde0ef"
            ],
            [
             0.5,
             "#f7f7f7"
            ],
            [
             0.6,
             "#e6f5d0"
            ],
            [
             0.7,
             "#b8e186"
            ],
            [
             0.8,
             "#7fbc41"
            ],
            [
             0.9,
             "#4d9221"
            ],
            [
             1,
             "#276419"
            ]
           ],
           "sequential": [
            [
             0,
             "#0d0887"
            ],
            [
             0.1111111111111111,
             "#46039f"
            ],
            [
             0.2222222222222222,
             "#7201a8"
            ],
            [
             0.3333333333333333,
             "#9c179e"
            ],
            [
             0.4444444444444444,
             "#bd3786"
            ],
            [
             0.5555555555555556,
             "#d8576b"
            ],
            [
             0.6666666666666666,
             "#ed7953"
            ],
            [
             0.7777777777777778,
             "#fb9f3a"
            ],
            [
             0.8888888888888888,
             "#fdca26"
            ],
            [
             1,
             "#f0f921"
            ]
           ],
           "sequentialminus": [
            [
             0,
             "#0d0887"
            ],
            [
             0.1111111111111111,
             "#46039f"
            ],
            [
             0.2222222222222222,
             "#7201a8"
            ],
            [
             0.3333333333333333,
             "#9c179e"
            ],
            [
             0.4444444444444444,
             "#bd3786"
            ],
            [
             0.5555555555555556,
             "#d8576b"
            ],
            [
             0.6666666666666666,
             "#ed7953"
            ],
            [
             0.7777777777777778,
             "#fb9f3a"
            ],
            [
             0.8888888888888888,
             "#fdca26"
            ],
            [
             1,
             "#f0f921"
            ]
           ]
          },
          "colorway": [
           "#636efa",
           "#EF553B",
           "#00cc96",
           "#ab63fa",
           "#FFA15A",
           "#19d3f3",
           "#FF6692",
           "#B6E880",
           "#FF97FF",
           "#FECB52"
          ],
          "font": {
           "color": "#2a3f5f"
          },
          "geo": {
           "bgcolor": "white",
           "lakecolor": "white",
           "landcolor": "#E5ECF6",
           "showlakes": true,
           "showland": true,
           "subunitcolor": "white"
          },
          "hoverlabel": {
           "align": "left"
          },
          "hovermode": "closest",
          "mapbox": {
           "style": "light"
          },
          "paper_bgcolor": "white",
          "plot_bgcolor": "#E5ECF6",
          "polar": {
           "angularaxis": {
            "gridcolor": "white",
            "linecolor": "white",
            "ticks": ""
           },
           "bgcolor": "#E5ECF6",
           "radialaxis": {
            "gridcolor": "white",
            "linecolor": "white",
            "ticks": ""
           }
          },
          "scene": {
           "xaxis": {
            "backgroundcolor": "#E5ECF6",
            "gridcolor": "white",
            "gridwidth": 2,
            "linecolor": "white",
            "showbackground": true,
            "ticks": "",
            "zerolinecolor": "white"
           },
           "yaxis": {
            "backgroundcolor": "#E5ECF6",
            "gridcolor": "white",
            "gridwidth": 2,
            "linecolor": "white",
            "showbackground": true,
            "ticks": "",
            "zerolinecolor": "white"
           },
           "zaxis": {
            "backgroundcolor": "#E5ECF6",
            "gridcolor": "white",
            "gridwidth": 2,
            "linecolor": "white",
            "showbackground": true,
            "ticks": "",
            "zerolinecolor": "white"
           }
          },
          "shapedefaults": {
           "line": {
            "color": "#2a3f5f"
           }
          },
          "ternary": {
           "aaxis": {
            "gridcolor": "white",
            "linecolor": "white",
            "ticks": ""
           },
           "baxis": {
            "gridcolor": "white",
            "linecolor": "white",
            "ticks": ""
           },
           "bgcolor": "#E5ECF6",
           "caxis": {
            "gridcolor": "white",
            "linecolor": "white",
            "ticks": ""
           }
          },
          "title": {
           "x": 0.05
          },
          "xaxis": {
           "automargin": true,
           "gridcolor": "white",
           "linecolor": "white",
           "ticks": "",
           "title": {
            "standoff": 15
           },
           "zerolinecolor": "white",
           "zerolinewidth": 2
          },
          "yaxis": {
           "automargin": true,
           "gridcolor": "white",
           "linecolor": "white",
           "ticks": "",
           "title": {
            "standoff": 15
           },
           "zerolinecolor": "white",
           "zerolinewidth": 2
          }
         }
        },
        "title": {
         "font": {
          "color": "#4D5663"
         }
        },
        "xaxis": {
         "gridcolor": "#E1E5ED",
         "showgrid": true,
         "tickfont": {
          "color": "#4D5663"
         },
         "title": {
          "font": {
           "color": "#4D5663"
          },
          "text": ""
         },
         "zerolinecolor": "#E1E5ED"
        },
        "yaxis": {
         "gridcolor": "#E1E5ED",
         "showgrid": true,
         "tickfont": {
          "color": "#4D5663"
         },
         "title": {
          "font": {
           "color": "#4D5663"
          },
          "text": ""
         },
         "zerolinecolor": "#E1E5ED"
        }
       }
      },
      "text/html": [
       "<div>                            <div id=\"5cc6007d-c809-470a-9d61-057dcaea6c18\" class=\"plotly-graph-div\" style=\"height:525px; width:100%;\"></div>            <script type=\"text/javascript\">                require([\"plotly\"], function(Plotly) {                    window.PLOTLYENV=window.PLOTLYENV || {};\n",
       "                    window.PLOTLYENV.BASE_URL='https://plot.ly';                                    if (document.getElementById(\"5cc6007d-c809-470a-9d61-057dcaea6c18\")) {                    Plotly.newPlot(                        \"5cc6007d-c809-470a-9d61-057dcaea6c18\",                        [{\"histfunc\":\"count\",\"histnorm\":\"\",\"marker\":{\"color\":\"rgba(255, 153, 51, 1.0)\",\"line\":{\"color\":\"#4D5663\",\"width\":1.3}},\"name\":\"A\",\"nbinsx\":25,\"opacity\":0.8,\"orientation\":\"v\",\"x\":[0.3864119162303842,1.204197254885549,0.8915805046705403,0.6946310665445125,0.27765294539122676,0.5420527940393374,0.23163388502617024,-0.24611912165954075,0.1975421663222593,0.8306471225012765,-0.5947951947859332,0.07533484285624369,-0.48662233745461614,1.2095431597771475,1.4388081805724247,1.3213720547077155,-1.542678635966428,-0.24637024407810829,-0.05115857332615439,0.21033451070698972,3.1612127350544856,-1.3787329216099466,-0.39174937013067923,-1.464323976922046,-1.621593224518355,0.15333833029814659,-0.7801974870265284,-1.730171318650708,-0.1720820731605149,-1.4979155734855347,0.316666982307522,0.1429949741686534,-0.5073673656104781,0.8917748631288538,2.085554829503526,1.4364692534114378,-0.38471538218531065,-0.5217697385214842,0.17919576221160585,-0.1905462288446752,0.8396965913811204,-1.1132884509071437,0.24339161281964752,-1.429548270239324,-0.5806266492981891,-1.8770382428692274,-0.8888074513675872,0.24316207731286255,0.4982225352735528,-0.034273365889114026,-0.5825018111849762,-0.8798476373749529,1.1995589876220574,1.669952108825188,-0.3872968742445013,-1.0494059696781197,0.40754686773647897,-1.247921791425569,-0.3806257771839392,-0.5216481009040306,1.5405864399231293,-0.12969459449988752,-0.4523693590554315,-1.1046653902623707,1.6385742609526037,-0.541543061446402,0.8324264462958443,1.22474992003944,-0.09938681665143169,1.0468396972670604,-0.18671385796428455,-0.38257096000942087,0.5438194423985938,-0.19667430866170896,0.19775465238386308,-1.4257793282210245,0.23259243306741084,-0.7775097925144028,-1.0023132477348573,-0.2026193056462473,1.211440099443612,-1.563756949537177,0.5652204704929931,0.22997063377231486,0.6141551613384159,-0.5967768099632359,-0.8636424612336109,1.625871151332099,0.9218537869175375,0.28860763267064904,0.264056480265417,-1.7034195957732086,-1.2735263824434337,0.0453635049200079,1.7750461014137107,0.5036219550962464,1.659598689144155,0.9941880574328251,-0.293563658171593,-0.5632201905824927],\"type\":\"histogram\"}],                        {\"barmode\":\"overlay\",\"legend\":{\"bgcolor\":\"#F5F6F9\",\"font\":{\"color\":\"#4D5663\"}},\"paper_bgcolor\":\"#F5F6F9\",\"plot_bgcolor\":\"#F5F6F9\",\"template\":{\"data\":{\"barpolar\":[{\"marker\":{\"line\":{\"color\":\"#E5ECF6\",\"width\":0.5},\"pattern\":{\"fillmode\":\"overlay\",\"size\":10,\"solidity\":0.2}},\"type\":\"barpolar\"}],\"bar\":[{\"error_x\":{\"color\":\"#2a3f5f\"},\"error_y\":{\"color\":\"#2a3f5f\"},\"marker\":{\"line\":{\"color\":\"#E5ECF6\",\"width\":0.5},\"pattern\":{\"fillmode\":\"overlay\",\"size\":10,\"solidity\":0.2}},\"type\":\"bar\"}],\"carpet\":[{\"aaxis\":{\"endlinecolor\":\"#2a3f5f\",\"gridcolor\":\"white\",\"linecolor\":\"white\",\"minorgridcolor\":\"white\",\"startlinecolor\":\"#2a3f5f\"},\"baxis\":{\"endlinecolor\":\"#2a3f5f\",\"gridcolor\":\"white\",\"linecolor\":\"white\",\"minorgridcolor\":\"white\",\"startlinecolor\":\"#2a3f5f\"},\"type\":\"carpet\"}],\"choropleth\":[{\"colorbar\":{\"outlinewidth\":0,\"ticks\":\"\"},\"type\":\"choropleth\"}],\"contourcarpet\":[{\"colorbar\":{\"outlinewidth\":0,\"ticks\":\"\"},\"type\":\"contourcarpet\"}],\"contour\":[{\"colorbar\":{\"outlinewidth\":0,\"ticks\":\"\"},\"colorscale\":[[0.0,\"#0d0887\"],[0.1111111111111111,\"#46039f\"],[0.2222222222222222,\"#7201a8\"],[0.3333333333333333,\"#9c179e\"],[0.4444444444444444,\"#bd3786\"],[0.5555555555555556,\"#d8576b\"],[0.6666666666666666,\"#ed7953\"],[0.7777777777777778,\"#fb9f3a\"],[0.8888888888888888,\"#fdca26\"],[1.0,\"#f0f921\"]],\"type\":\"contour\"}],\"heatmapgl\":[{\"colorbar\":{\"outlinewidth\":0,\"ticks\":\"\"},\"colorscale\":[[0.0,\"#0d0887\"],[0.1111111111111111,\"#46039f\"],[0.2222222222222222,\"#7201a8\"],[0.3333333333333333,\"#9c179e\"],[0.4444444444444444,\"#bd3786\"],[0.5555555555555556,\"#d8576b\"],[0.6666666666666666,\"#ed7953\"],[0.7777777777777778,\"#fb9f3a\"],[0.8888888888888888,\"#fdca26\"],[1.0,\"#f0f921\"]],\"type\":\"heatmapgl\"}],\"heatmap\":[{\"colorbar\":{\"outlinewidth\":0,\"ticks\":\"\"},\"colorscale\":[[0.0,\"#0d0887\"],[0.1111111111111111,\"#46039f\"],[0.2222222222222222,\"#7201a8\"],[0.3333333333333333,\"#9c179e\"],[0.4444444444444444,\"#bd3786\"],[0.5555555555555556,\"#d8576b\"],[0.6666666666666666,\"#ed7953\"],[0.7777777777777778,\"#fb9f3a\"],[0.8888888888888888,\"#fdca26\"],[1.0,\"#f0f921\"]],\"type\":\"heatmap\"}],\"histogram2dcontour\":[{\"colorbar\":{\"outlinewidth\":0,\"ticks\":\"\"},\"colorscale\":[[0.0,\"#0d0887\"],[0.1111111111111111,\"#46039f\"],[0.2222222222222222,\"#7201a8\"],[0.3333333333333333,\"#9c179e\"],[0.4444444444444444,\"#bd3786\"],[0.5555555555555556,\"#d8576b\"],[0.6666666666666666,\"#ed7953\"],[0.7777777777777778,\"#fb9f3a\"],[0.8888888888888888,\"#fdca26\"],[1.0,\"#f0f921\"]],\"type\":\"histogram2dcontour\"}],\"histogram2d\":[{\"colorbar\":{\"outlinewidth\":0,\"ticks\":\"\"},\"colorscale\":[[0.0,\"#0d0887\"],[0.1111111111111111,\"#46039f\"],[0.2222222222222222,\"#7201a8\"],[0.3333333333333333,\"#9c179e\"],[0.4444444444444444,\"#bd3786\"],[0.5555555555555556,\"#d8576b\"],[0.6666666666666666,\"#ed7953\"],[0.7777777777777778,\"#fb9f3a\"],[0.8888888888888888,\"#fdca26\"],[1.0,\"#f0f921\"]],\"type\":\"histogram2d\"}],\"histogram\":[{\"marker\":{\"pattern\":{\"fillmode\":\"overlay\",\"size\":10,\"solidity\":0.2}},\"type\":\"histogram\"}],\"mesh3d\":[{\"colorbar\":{\"outlinewidth\":0,\"ticks\":\"\"},\"type\":\"mesh3d\"}],\"parcoords\":[{\"line\":{\"colorbar\":{\"outlinewidth\":0,\"ticks\":\"\"}},\"type\":\"parcoords\"}],\"pie\":[{\"automargin\":true,\"type\":\"pie\"}],\"scatter3d\":[{\"line\":{\"colorbar\":{\"outlinewidth\":0,\"ticks\":\"\"}},\"marker\":{\"colorbar\":{\"outlinewidth\":0,\"ticks\":\"\"}},\"type\":\"scatter3d\"}],\"scattercarpet\":[{\"marker\":{\"colorbar\":{\"outlinewidth\":0,\"ticks\":\"\"}},\"type\":\"scattercarpet\"}],\"scattergeo\":[{\"marker\":{\"colorbar\":{\"outlinewidth\":0,\"ticks\":\"\"}},\"type\":\"scattergeo\"}],\"scattergl\":[{\"marker\":{\"colorbar\":{\"outlinewidth\":0,\"ticks\":\"\"}},\"type\":\"scattergl\"}],\"scattermapbox\":[{\"marker\":{\"colorbar\":{\"outlinewidth\":0,\"ticks\":\"\"}},\"type\":\"scattermapbox\"}],\"scatterpolargl\":[{\"marker\":{\"colorbar\":{\"outlinewidth\":0,\"ticks\":\"\"}},\"type\":\"scatterpolargl\"}],\"scatterpolar\":[{\"marker\":{\"colorbar\":{\"outlinewidth\":0,\"ticks\":\"\"}},\"type\":\"scatterpolar\"}],\"scatter\":[{\"marker\":{\"colorbar\":{\"outlinewidth\":0,\"ticks\":\"\"}},\"type\":\"scatter\"}],\"scatterternary\":[{\"marker\":{\"colorbar\":{\"outlinewidth\":0,\"ticks\":\"\"}},\"type\":\"scatterternary\"}],\"surface\":[{\"colorbar\":{\"outlinewidth\":0,\"ticks\":\"\"},\"colorscale\":[[0.0,\"#0d0887\"],[0.1111111111111111,\"#46039f\"],[0.2222222222222222,\"#7201a8\"],[0.3333333333333333,\"#9c179e\"],[0.4444444444444444,\"#bd3786\"],[0.5555555555555556,\"#d8576b\"],[0.6666666666666666,\"#ed7953\"],[0.7777777777777778,\"#fb9f3a\"],[0.8888888888888888,\"#fdca26\"],[1.0,\"#f0f921\"]],\"type\":\"surface\"}],\"table\":[{\"cells\":{\"fill\":{\"color\":\"#EBF0F8\"},\"line\":{\"color\":\"white\"}},\"header\":{\"fill\":{\"color\":\"#C8D4E3\"},\"line\":{\"color\":\"white\"}},\"type\":\"table\"}]},\"layout\":{\"annotationdefaults\":{\"arrowcolor\":\"#2a3f5f\",\"arrowhead\":0,\"arrowwidth\":1},\"autotypenumbers\":\"strict\",\"coloraxis\":{\"colorbar\":{\"outlinewidth\":0,\"ticks\":\"\"}},\"colorscale\":{\"diverging\":[[0,\"#8e0152\"],[0.1,\"#c51b7d\"],[0.2,\"#de77ae\"],[0.3,\"#f1b6da\"],[0.4,\"#fde0ef\"],[0.5,\"#f7f7f7\"],[0.6,\"#e6f5d0\"],[0.7,\"#b8e186\"],[0.8,\"#7fbc41\"],[0.9,\"#4d9221\"],[1,\"#276419\"]],\"sequential\":[[0.0,\"#0d0887\"],[0.1111111111111111,\"#46039f\"],[0.2222222222222222,\"#7201a8\"],[0.3333333333333333,\"#9c179e\"],[0.4444444444444444,\"#bd3786\"],[0.5555555555555556,\"#d8576b\"],[0.6666666666666666,\"#ed7953\"],[0.7777777777777778,\"#fb9f3a\"],[0.8888888888888888,\"#fdca26\"],[1.0,\"#f0f921\"]],\"sequentialminus\":[[0.0,\"#0d0887\"],[0.1111111111111111,\"#46039f\"],[0.2222222222222222,\"#7201a8\"],[0.3333333333333333,\"#9c179e\"],[0.4444444444444444,\"#bd3786\"],[0.5555555555555556,\"#d8576b\"],[0.6666666666666666,\"#ed7953\"],[0.7777777777777778,\"#fb9f3a\"],[0.8888888888888888,\"#fdca26\"],[1.0,\"#f0f921\"]]},\"colorway\":[\"#636efa\",\"#EF553B\",\"#00cc96\",\"#ab63fa\",\"#FFA15A\",\"#19d3f3\",\"#FF6692\",\"#B6E880\",\"#FF97FF\",\"#FECB52\"],\"font\":{\"color\":\"#2a3f5f\"},\"geo\":{\"bgcolor\":\"white\",\"lakecolor\":\"white\",\"landcolor\":\"#E5ECF6\",\"showlakes\":true,\"showland\":true,\"subunitcolor\":\"white\"},\"hoverlabel\":{\"align\":\"left\"},\"hovermode\":\"closest\",\"mapbox\":{\"style\":\"light\"},\"paper_bgcolor\":\"white\",\"plot_bgcolor\":\"#E5ECF6\",\"polar\":{\"angularaxis\":{\"gridcolor\":\"white\",\"linecolor\":\"white\",\"ticks\":\"\"},\"bgcolor\":\"#E5ECF6\",\"radialaxis\":{\"gridcolor\":\"white\",\"linecolor\":\"white\",\"ticks\":\"\"}},\"scene\":{\"xaxis\":{\"backgroundcolor\":\"#E5ECF6\",\"gridcolor\":\"white\",\"gridwidth\":2,\"linecolor\":\"white\",\"showbackground\":true,\"ticks\":\"\",\"zerolinecolor\":\"white\"},\"yaxis\":{\"backgroundcolor\":\"#E5ECF6\",\"gridcolor\":\"white\",\"gridwidth\":2,\"linecolor\":\"white\",\"showbackground\":true,\"ticks\":\"\",\"zerolinecolor\":\"white\"},\"zaxis\":{\"backgroundcolor\":\"#E5ECF6\",\"gridcolor\":\"white\",\"gridwidth\":2,\"linecolor\":\"white\",\"showbackground\":true,\"ticks\":\"\",\"zerolinecolor\":\"white\"}},\"shapedefaults\":{\"line\":{\"color\":\"#2a3f5f\"}},\"ternary\":{\"aaxis\":{\"gridcolor\":\"white\",\"linecolor\":\"white\",\"ticks\":\"\"},\"baxis\":{\"gridcolor\":\"white\",\"linecolor\":\"white\",\"ticks\":\"\"},\"bgcolor\":\"#E5ECF6\",\"caxis\":{\"gridcolor\":\"white\",\"linecolor\":\"white\",\"ticks\":\"\"}},\"title\":{\"x\":0.05},\"xaxis\":{\"automargin\":true,\"gridcolor\":\"white\",\"linecolor\":\"white\",\"ticks\":\"\",\"title\":{\"standoff\":15},\"zerolinecolor\":\"white\",\"zerolinewidth\":2},\"yaxis\":{\"automargin\":true,\"gridcolor\":\"white\",\"linecolor\":\"white\",\"ticks\":\"\",\"title\":{\"standoff\":15},\"zerolinecolor\":\"white\",\"zerolinewidth\":2}}},\"title\":{\"font\":{\"color\":\"#4D5663\"}},\"xaxis\":{\"gridcolor\":\"#E1E5ED\",\"showgrid\":true,\"tickfont\":{\"color\":\"#4D5663\"},\"title\":{\"font\":{\"color\":\"#4D5663\"},\"text\":\"\"},\"zerolinecolor\":\"#E1E5ED\"},\"yaxis\":{\"gridcolor\":\"#E1E5ED\",\"showgrid\":true,\"tickfont\":{\"color\":\"#4D5663\"},\"title\":{\"font\":{\"color\":\"#4D5663\"},\"text\":\"\"},\"zerolinecolor\":\"#E1E5ED\"}},                        {\"showLink\": true, \"linkText\": \"Export to plot.ly\", \"plotlyServerURL\": \"https://plot.ly\", \"responsive\": true}                    ).then(function(){\n",
       "                            \n",
       "var gd = document.getElementById('5cc6007d-c809-470a-9d61-057dcaea6c18');\n",
       "var x = new MutationObserver(function (mutations, observer) {{\n",
       "        var display = window.getComputedStyle(gd).display;\n",
       "        if (!display || display === 'none') {{\n",
       "            console.log([gd, 'removed!']);\n",
       "            Plotly.purge(gd);\n",
       "            observer.disconnect();\n",
       "        }}\n",
       "}});\n",
       "\n",
       "// Listen for the removal of the full notebook cells\n",
       "var notebookContainer = gd.closest('#notebook-container');\n",
       "if (notebookContainer) {{\n",
       "    x.observe(notebookContainer, {childList: true});\n",
       "}}\n",
       "\n",
       "// Listen for the clearing of the current output cell\n",
       "var outputEl = gd.closest('.output');\n",
       "if (outputEl) {{\n",
       "    x.observe(outputEl, {childList: true});\n",
       "}}\n",
       "\n",
       "                        })                };                });            </script>        </div>"
      ]
     },
     "metadata": {},
     "output_type": "display_data"
    }
   ],
   "source": [
    "df['A'].iplot(kind='hist',bins=25)"
   ]
  },
  {
   "cell_type": "code",
   "execution_count": 18,
   "metadata": {},
   "outputs": [
    {
     "data": {
      "application/vnd.plotly.v1+json": {
       "config": {
        "linkText": "Export to plot.ly",
        "plotlyServerURL": "https://plot.ly",
        "showLink": true
       },
       "data": [
        {
         "marker": {
          "color": [
           "rgb(255, 153, 51)",
           "rgb(55, 128, 191)",
           "rgb(50, 171, 96)",
           "rgb(128, 0, 128)",
           "rgb(219, 64, 82)",
           "rgb(0, 128, 128)",
           "rgb(255, 255, 51)",
           "rgb(128, 128, 0)",
           "rgb(251, 128, 114)",
           "rgb(128, 177, 211)"
          ],
          "line": {
           "width": 1.3
          },
          "size": [
           43,
           61,
           58,
           67,
           53,
           57,
           54,
           42,
           33,
           44,
           41,
           42,
           49,
           77,
           68,
           57,
           27,
           82,
           69,
           69,
           32,
           56,
           26,
           68,
           69,
           56,
           38,
           65,
           71,
           37,
           66,
           45,
           68,
           58,
           12,
           45,
           55,
           40,
           39,
           35,
           46,
           61,
           40,
           58,
           68,
           67,
           63,
           63,
           44,
           65,
           58,
           41,
           26,
           72,
           85,
           66,
           40,
           32,
           84,
           23,
           31,
           46,
           44,
           14,
           65,
           37,
           66,
           81,
           52,
           60,
           74,
           62,
           112,
           79,
           34,
           51,
           42,
           71,
           65,
           29,
           79,
           25,
           63,
           75,
           46,
           77,
           68,
           20,
           49,
           64,
           90,
           41,
           70,
           52,
           50,
           84,
           47,
           61,
           85,
           42
          ],
          "symbol": "circle"
         },
         "mode": "markers",
         "text": "",
         "type": "scatter",
         "x": [
          0.3864119162303842,
          1.204197254885549,
          0.8915805046705403,
          0.6946310665445125,
          0.27765294539122676,
          0.5420527940393374,
          0.23163388502617024,
          -0.24611912165954075,
          0.1975421663222593,
          0.8306471225012765,
          -0.5947951947859332,
          0.07533484285624369,
          -0.48662233745461614,
          1.2095431597771475,
          1.4388081805724247,
          1.3213720547077155,
          -1.542678635966428,
          -0.24637024407810829,
          -0.05115857332615439,
          0.21033451070698972,
          3.1612127350544856,
          -1.3787329216099466,
          -0.39174937013067923,
          -1.464323976922046,
          -1.621593224518355,
          0.15333833029814659,
          -0.7801974870265284,
          -1.730171318650708,
          -0.1720820731605149,
          -1.4979155734855347,
          0.316666982307522,
          0.1429949741686534,
          -0.5073673656104781,
          0.8917748631288538,
          2.085554829503526,
          1.4364692534114378,
          -0.38471538218531065,
          -0.5217697385214842,
          0.17919576221160585,
          -0.1905462288446752,
          0.8396965913811204,
          -1.1132884509071437,
          0.24339161281964752,
          -1.429548270239324,
          -0.5806266492981891,
          -1.8770382428692274,
          -0.8888074513675872,
          0.24316207731286255,
          0.4982225352735528,
          -0.034273365889114026,
          -0.5825018111849762,
          -0.8798476373749529,
          1.1995589876220574,
          1.669952108825188,
          -0.3872968742445013,
          -1.0494059696781197,
          0.40754686773647897,
          -1.247921791425569,
          -0.3806257771839392,
          -0.5216481009040306,
          1.5405864399231293,
          -0.12969459449988752,
          -0.4523693590554315,
          -1.1046653902623707,
          1.6385742609526037,
          -0.541543061446402,
          0.8324264462958443,
          1.22474992003944,
          -0.09938681665143169,
          1.0468396972670604,
          -0.18671385796428455,
          -0.38257096000942087,
          0.5438194423985938,
          -0.19667430866170896,
          0.19775465238386308,
          -1.4257793282210245,
          0.23259243306741084,
          -0.7775097925144028,
          -1.0023132477348573,
          -0.2026193056462473,
          1.211440099443612,
          -1.563756949537177,
          0.5652204704929931,
          0.22997063377231486,
          0.6141551613384159,
          -0.5967768099632359,
          -0.8636424612336109,
          1.625871151332099,
          0.9218537869175375,
          0.28860763267064904,
          0.264056480265417,
          -1.7034195957732086,
          -1.2735263824434337,
          0.0453635049200079,
          1.7750461014137107,
          0.5036219550962464,
          1.659598689144155,
          0.9941880574328251,
          -0.293563658171593,
          -0.5632201905824927
         ],
         "y": [
          0.663644916668608,
          0.8539894629565865,
          0.7182721805036181,
          -0.23131728651643915,
          1.0520682868690088,
          0.512886451876651,
          0.3962742013757297,
          0.19244837036910498,
          0.6942048027893358,
          -0.2722249899358359,
          0.6634385692004368,
          0.9800891949991442,
          1.1118229049368433,
          -0.10678861848750934,
          0.4690419300255005,
          -0.9723919008515634,
          -1.8757792550845664,
          0.8625745446710906,
          -0.7827619578718803,
          1.6677033232903173,
          1.1146211902632992,
          -1.3538638195878034,
          -0.31828942591868525,
          -0.003779765834421749,
          -0.815296361103711,
          1.1123892326502263,
          -0.7845936279014872,
          -1.9797114354721983,
          -1.390372692915758,
          1.6503369920929167,
          -0.14899684895433177,
          -0.8231575334399924,
          0.16104253963553297,
          0.7836004550291542,
          -0.33153498382638535,
          0.8407689388417556,
          -0.03281131948110183,
          0.12231113887453894,
          -0.018984964617667407,
          -0.6402845786433076,
          -0.12032126474864979,
          0.7349396313531462,
          -0.8960260796006839,
          0.7576566829971076,
          1.5999888684153223,
          -1.1286716075963636,
          1.5534085433341411,
          -0.7244406208197438,
          0.9263127855310453,
          -0.5391208826579759,
          -0.22257653120121626,
          0.4034032365585807,
          1.3094635291740735,
          -0.17829845039408723,
          -0.34107945675869356,
          1.1031629412688133,
          1.1937899917993917,
          -1.3332954918220914,
          -0.008346989593206655,
          -0.6328859674322583,
          -0.7205485931175036,
          1.0154031030661033,
          -1.5408076869474618,
          -0.1865187258517424,
          -0.48252363590092134,
          1.1208765865460928,
          -0.1206576183143393,
          0.3111316770088429,
          -0.8692757764238744,
          0.2683730398176634,
          1.201520534380479,
          1.8412641038761008,
          1.1903462992361296,
          -0.0972977226935668,
          0.35613581513712733,
          1.6478213551010252,
          -0.3197494553823164,
          0.28441072498000314,
          -1.6810004114282828,
          0.2943187027071099,
          -0.8031971015880753,
          -1.0280244607883133,
          -0.3548532385182408,
          -0.2997666538463908,
          -1.0143036354426633,
          -0.45467754603306093,
          0.4520630514102458,
          -1.1233903175090119,
          -0.27233724745283466,
          -0.29285161781770586,
          -0.7418022189104699,
          -1.1562087044083964,
          -0.6457668576781612,
          0.5373550478693669,
          1.2242863244276385,
          -0.9874880065577107,
          -0.6471030553787697,
          -0.048739317504564866,
          -0.23677463664566517,
          0.42998336423142036
         ]
        }
       ],
       "layout": {
        "legend": {
         "bgcolor": "#F5F6F9",
         "font": {
          "color": "#4D5663"
         }
        },
        "paper_bgcolor": "#F5F6F9",
        "plot_bgcolor": "#F5F6F9",
        "template": {
         "data": {
          "bar": [
           {
            "error_x": {
             "color": "#2a3f5f"
            },
            "error_y": {
             "color": "#2a3f5f"
            },
            "marker": {
             "line": {
              "color": "#E5ECF6",
              "width": 0.5
             },
             "pattern": {
              "fillmode": "overlay",
              "size": 10,
              "solidity": 0.2
             }
            },
            "type": "bar"
           }
          ],
          "barpolar": [
           {
            "marker": {
             "line": {
              "color": "#E5ECF6",
              "width": 0.5
             },
             "pattern": {
              "fillmode": "overlay",
              "size": 10,
              "solidity": 0.2
             }
            },
            "type": "barpolar"
           }
          ],
          "carpet": [
           {
            "aaxis": {
             "endlinecolor": "#2a3f5f",
             "gridcolor": "white",
             "linecolor": "white",
             "minorgridcolor": "white",
             "startlinecolor": "#2a3f5f"
            },
            "baxis": {
             "endlinecolor": "#2a3f5f",
             "gridcolor": "white",
             "linecolor": "white",
             "minorgridcolor": "white",
             "startlinecolor": "#2a3f5f"
            },
            "type": "carpet"
           }
          ],
          "choropleth": [
           {
            "colorbar": {
             "outlinewidth": 0,
             "ticks": ""
            },
            "type": "choropleth"
           }
          ],
          "contour": [
           {
            "colorbar": {
             "outlinewidth": 0,
             "ticks": ""
            },
            "colorscale": [
             [
              0,
              "#0d0887"
             ],
             [
              0.1111111111111111,
              "#46039f"
             ],
             [
              0.2222222222222222,
              "#7201a8"
             ],
             [
              0.3333333333333333,
              "#9c179e"
             ],
             [
              0.4444444444444444,
              "#bd3786"
             ],
             [
              0.5555555555555556,
              "#d8576b"
             ],
             [
              0.6666666666666666,
              "#ed7953"
             ],
             [
              0.7777777777777778,
              "#fb9f3a"
             ],
             [
              0.8888888888888888,
              "#fdca26"
             ],
             [
              1,
              "#f0f921"
             ]
            ],
            "type": "contour"
           }
          ],
          "contourcarpet": [
           {
            "colorbar": {
             "outlinewidth": 0,
             "ticks": ""
            },
            "type": "contourcarpet"
           }
          ],
          "heatmap": [
           {
            "colorbar": {
             "outlinewidth": 0,
             "ticks": ""
            },
            "colorscale": [
             [
              0,
              "#0d0887"
             ],
             [
              0.1111111111111111,
              "#46039f"
             ],
             [
              0.2222222222222222,
              "#7201a8"
             ],
             [
              0.3333333333333333,
              "#9c179e"
             ],
             [
              0.4444444444444444,
              "#bd3786"
             ],
             [
              0.5555555555555556,
              "#d8576b"
             ],
             [
              0.6666666666666666,
              "#ed7953"
             ],
             [
              0.7777777777777778,
              "#fb9f3a"
             ],
             [
              0.8888888888888888,
              "#fdca26"
             ],
             [
              1,
              "#f0f921"
             ]
            ],
            "type": "heatmap"
           }
          ],
          "heatmapgl": [
           {
            "colorbar": {
             "outlinewidth": 0,
             "ticks": ""
            },
            "colorscale": [
             [
              0,
              "#0d0887"
             ],
             [
              0.1111111111111111,
              "#46039f"
             ],
             [
              0.2222222222222222,
              "#7201a8"
             ],
             [
              0.3333333333333333,
              "#9c179e"
             ],
             [
              0.4444444444444444,
              "#bd3786"
             ],
             [
              0.5555555555555556,
              "#d8576b"
             ],
             [
              0.6666666666666666,
              "#ed7953"
             ],
             [
              0.7777777777777778,
              "#fb9f3a"
             ],
             [
              0.8888888888888888,
              "#fdca26"
             ],
             [
              1,
              "#f0f921"
             ]
            ],
            "type": "heatmapgl"
           }
          ],
          "histogram": [
           {
            "marker": {
             "pattern": {
              "fillmode": "overlay",
              "size": 10,
              "solidity": 0.2
             }
            },
            "type": "histogram"
           }
          ],
          "histogram2d": [
           {
            "colorbar": {
             "outlinewidth": 0,
             "ticks": ""
            },
            "colorscale": [
             [
              0,
              "#0d0887"
             ],
             [
              0.1111111111111111,
              "#46039f"
             ],
             [
              0.2222222222222222,
              "#7201a8"
             ],
             [
              0.3333333333333333,
              "#9c179e"
             ],
             [
              0.4444444444444444,
              "#bd3786"
             ],
             [
              0.5555555555555556,
              "#d8576b"
             ],
             [
              0.6666666666666666,
              "#ed7953"
             ],
             [
              0.7777777777777778,
              "#fb9f3a"
             ],
             [
              0.8888888888888888,
              "#fdca26"
             ],
             [
              1,
              "#f0f921"
             ]
            ],
            "type": "histogram2d"
           }
          ],
          "histogram2dcontour": [
           {
            "colorbar": {
             "outlinewidth": 0,
             "ticks": ""
            },
            "colorscale": [
             [
              0,
              "#0d0887"
             ],
             [
              0.1111111111111111,
              "#46039f"
             ],
             [
              0.2222222222222222,
              "#7201a8"
             ],
             [
              0.3333333333333333,
              "#9c179e"
             ],
             [
              0.4444444444444444,
              "#bd3786"
             ],
             [
              0.5555555555555556,
              "#d8576b"
             ],
             [
              0.6666666666666666,
              "#ed7953"
             ],
             [
              0.7777777777777778,
              "#fb9f3a"
             ],
             [
              0.8888888888888888,
              "#fdca26"
             ],
             [
              1,
              "#f0f921"
             ]
            ],
            "type": "histogram2dcontour"
           }
          ],
          "mesh3d": [
           {
            "colorbar": {
             "outlinewidth": 0,
             "ticks": ""
            },
            "type": "mesh3d"
           }
          ],
          "parcoords": [
           {
            "line": {
             "colorbar": {
              "outlinewidth": 0,
              "ticks": ""
             }
            },
            "type": "parcoords"
           }
          ],
          "pie": [
           {
            "automargin": true,
            "type": "pie"
           }
          ],
          "scatter": [
           {
            "marker": {
             "colorbar": {
              "outlinewidth": 0,
              "ticks": ""
             }
            },
            "type": "scatter"
           }
          ],
          "scatter3d": [
           {
            "line": {
             "colorbar": {
              "outlinewidth": 0,
              "ticks": ""
             }
            },
            "marker": {
             "colorbar": {
              "outlinewidth": 0,
              "ticks": ""
             }
            },
            "type": "scatter3d"
           }
          ],
          "scattercarpet": [
           {
            "marker": {
             "colorbar": {
              "outlinewidth": 0,
              "ticks": ""
             }
            },
            "type": "scattercarpet"
           }
          ],
          "scattergeo": [
           {
            "marker": {
             "colorbar": {
              "outlinewidth": 0,
              "ticks": ""
             }
            },
            "type": "scattergeo"
           }
          ],
          "scattergl": [
           {
            "marker": {
             "colorbar": {
              "outlinewidth": 0,
              "ticks": ""
             }
            },
            "type": "scattergl"
           }
          ],
          "scattermapbox": [
           {
            "marker": {
             "colorbar": {
              "outlinewidth": 0,
              "ticks": ""
             }
            },
            "type": "scattermapbox"
           }
          ],
          "scatterpolar": [
           {
            "marker": {
             "colorbar": {
              "outlinewidth": 0,
              "ticks": ""
             }
            },
            "type": "scatterpolar"
           }
          ],
          "scatterpolargl": [
           {
            "marker": {
             "colorbar": {
              "outlinewidth": 0,
              "ticks": ""
             }
            },
            "type": "scatterpolargl"
           }
          ],
          "scatterternary": [
           {
            "marker": {
             "colorbar": {
              "outlinewidth": 0,
              "ticks": ""
             }
            },
            "type": "scatterternary"
           }
          ],
          "surface": [
           {
            "colorbar": {
             "outlinewidth": 0,
             "ticks": ""
            },
            "colorscale": [
             [
              0,
              "#0d0887"
             ],
             [
              0.1111111111111111,
              "#46039f"
             ],
             [
              0.2222222222222222,
              "#7201a8"
             ],
             [
              0.3333333333333333,
              "#9c179e"
             ],
             [
              0.4444444444444444,
              "#bd3786"
             ],
             [
              0.5555555555555556,
              "#d8576b"
             ],
             [
              0.6666666666666666,
              "#ed7953"
             ],
             [
              0.7777777777777778,
              "#fb9f3a"
             ],
             [
              0.8888888888888888,
              "#fdca26"
             ],
             [
              1,
              "#f0f921"
             ]
            ],
            "type": "surface"
           }
          ],
          "table": [
           {
            "cells": {
             "fill": {
              "color": "#EBF0F8"
             },
             "line": {
              "color": "white"
             }
            },
            "header": {
             "fill": {
              "color": "#C8D4E3"
             },
             "line": {
              "color": "white"
             }
            },
            "type": "table"
           }
          ]
         },
         "layout": {
          "annotationdefaults": {
           "arrowcolor": "#2a3f5f",
           "arrowhead": 0,
           "arrowwidth": 1
          },
          "autotypenumbers": "strict",
          "coloraxis": {
           "colorbar": {
            "outlinewidth": 0,
            "ticks": ""
           }
          },
          "colorscale": {
           "diverging": [
            [
             0,
             "#8e0152"
            ],
            [
             0.1,
             "#c51b7d"
            ],
            [
             0.2,
             "#de77ae"
            ],
            [
             0.3,
             "#f1b6da"
            ],
            [
             0.4,
             "#fde0ef"
            ],
            [
             0.5,
             "#f7f7f7"
            ],
            [
             0.6,
             "#e6f5d0"
            ],
            [
             0.7,
             "#b8e186"
            ],
            [
             0.8,
             "#7fbc41"
            ],
            [
             0.9,
             "#4d9221"
            ],
            [
             1,
             "#276419"
            ]
           ],
           "sequential": [
            [
             0,
             "#0d0887"
            ],
            [
             0.1111111111111111,
             "#46039f"
            ],
            [
             0.2222222222222222,
             "#7201a8"
            ],
            [
             0.3333333333333333,
             "#9c179e"
            ],
            [
             0.4444444444444444,
             "#bd3786"
            ],
            [
             0.5555555555555556,
             "#d8576b"
            ],
            [
             0.6666666666666666,
             "#ed7953"
            ],
            [
             0.7777777777777778,
             "#fb9f3a"
            ],
            [
             0.8888888888888888,
             "#fdca26"
            ],
            [
             1,
             "#f0f921"
            ]
           ],
           "sequentialminus": [
            [
             0,
             "#0d0887"
            ],
            [
             0.1111111111111111,
             "#46039f"
            ],
            [
             0.2222222222222222,
             "#7201a8"
            ],
            [
             0.3333333333333333,
             "#9c179e"
            ],
            [
             0.4444444444444444,
             "#bd3786"
            ],
            [
             0.5555555555555556,
             "#d8576b"
            ],
            [
             0.6666666666666666,
             "#ed7953"
            ],
            [
             0.7777777777777778,
             "#fb9f3a"
            ],
            [
             0.8888888888888888,
             "#fdca26"
            ],
            [
             1,
             "#f0f921"
            ]
           ]
          },
          "colorway": [
           "#636efa",
           "#EF553B",
           "#00cc96",
           "#ab63fa",
           "#FFA15A",
           "#19d3f3",
           "#FF6692",
           "#B6E880",
           "#FF97FF",
           "#FECB52"
          ],
          "font": {
           "color": "#2a3f5f"
          },
          "geo": {
           "bgcolor": "white",
           "lakecolor": "white",
           "landcolor": "#E5ECF6",
           "showlakes": true,
           "showland": true,
           "subunitcolor": "white"
          },
          "hoverlabel": {
           "align": "left"
          },
          "hovermode": "closest",
          "mapbox": {
           "style": "light"
          },
          "paper_bgcolor": "white",
          "plot_bgcolor": "#E5ECF6",
          "polar": {
           "angularaxis": {
            "gridcolor": "white",
            "linecolor": "white",
            "ticks": ""
           },
           "bgcolor": "#E5ECF6",
           "radialaxis": {
            "gridcolor": "white",
            "linecolor": "white",
            "ticks": ""
           }
          },
          "scene": {
           "xaxis": {
            "backgroundcolor": "#E5ECF6",
            "gridcolor": "white",
            "gridwidth": 2,
            "linecolor": "white",
            "showbackground": true,
            "ticks": "",
            "zerolinecolor": "white"
           },
           "yaxis": {
            "backgroundcolor": "#E5ECF6",
            "gridcolor": "white",
            "gridwidth": 2,
            "linecolor": "white",
            "showbackground": true,
            "ticks": "",
            "zerolinecolor": "white"
           },
           "zaxis": {
            "backgroundcolor": "#E5ECF6",
            "gridcolor": "white",
            "gridwidth": 2,
            "linecolor": "white",
            "showbackground": true,
            "ticks": "",
            "zerolinecolor": "white"
           }
          },
          "shapedefaults": {
           "line": {
            "color": "#2a3f5f"
           }
          },
          "ternary": {
           "aaxis": {
            "gridcolor": "white",
            "linecolor": "white",
            "ticks": ""
           },
           "baxis": {
            "gridcolor": "white",
            "linecolor": "white",
            "ticks": ""
           },
           "bgcolor": "#E5ECF6",
           "caxis": {
            "gridcolor": "white",
            "linecolor": "white",
            "ticks": ""
           }
          },
          "title": {
           "x": 0.05
          },
          "xaxis": {
           "automargin": true,
           "gridcolor": "white",
           "linecolor": "white",
           "ticks": "",
           "title": {
            "standoff": 15
           },
           "zerolinecolor": "white",
           "zerolinewidth": 2
          },
          "yaxis": {
           "automargin": true,
           "gridcolor": "white",
           "linecolor": "white",
           "ticks": "",
           "title": {
            "standoff": 15
           },
           "zerolinecolor": "white",
           "zerolinewidth": 2
          }
         }
        },
        "title": {
         "font": {
          "color": "#4D5663"
         }
        },
        "xaxis": {
         "gridcolor": "#E1E5ED",
         "showgrid": true,
         "tickfont": {
          "color": "#4D5663"
         },
         "title": {
          "font": {
           "color": "#4D5663"
          },
          "text": ""
         },
         "zerolinecolor": "#E1E5ED"
        },
        "yaxis": {
         "gridcolor": "#E1E5ED",
         "showgrid": true,
         "tickfont": {
          "color": "#4D5663"
         },
         "title": {
          "font": {
           "color": "#4D5663"
          },
          "text": ""
         },
         "zerolinecolor": "#E1E5ED"
        }
       }
      },
      "text/html": [
       "<div>                            <div id=\"5961783c-a2fd-4410-bdd9-66b668fdc6e2\" class=\"plotly-graph-div\" style=\"height:525px; width:100%;\"></div>            <script type=\"text/javascript\">                require([\"plotly\"], function(Plotly) {                    window.PLOTLYENV=window.PLOTLYENV || {};\n",
       "                    window.PLOTLYENV.BASE_URL='https://plot.ly';                                    if (document.getElementById(\"5961783c-a2fd-4410-bdd9-66b668fdc6e2\")) {                    Plotly.newPlot(                        \"5961783c-a2fd-4410-bdd9-66b668fdc6e2\",                        [{\"marker\":{\"color\":[\"rgb(255, 153, 51)\",\"rgb(55, 128, 191)\",\"rgb(50, 171, 96)\",\"rgb(128, 0, 128)\",\"rgb(219, 64, 82)\",\"rgb(0, 128, 128)\",\"rgb(255, 255, 51)\",\"rgb(128, 128, 0)\",\"rgb(251, 128, 114)\",\"rgb(128, 177, 211)\"],\"line\":{\"width\":1.3},\"size\":[43,61,58,67,53,57,54,42,33,44,41,42,49,77,68,57,27,82,69,69,32,56,26,68,69,56,38,65,71,37,66,45,68,58,12,45,55,40,39,35,46,61,40,58,68,67,63,63,44,65,58,41,26,72,85,66,40,32,84,23,31,46,44,14,65,37,66,81,52,60,74,62,112,79,34,51,42,71,65,29,79,25,63,75,46,77,68,20,49,64,90,41,70,52,50,84,47,61,85,42],\"symbol\":\"circle\"},\"mode\":\"markers\",\"text\":\"\",\"x\":[0.3864119162303842,1.204197254885549,0.8915805046705403,0.6946310665445125,0.27765294539122676,0.5420527940393374,0.23163388502617024,-0.24611912165954075,0.1975421663222593,0.8306471225012765,-0.5947951947859332,0.07533484285624369,-0.48662233745461614,1.2095431597771475,1.4388081805724247,1.3213720547077155,-1.542678635966428,-0.24637024407810829,-0.05115857332615439,0.21033451070698972,3.1612127350544856,-1.3787329216099466,-0.39174937013067923,-1.464323976922046,-1.621593224518355,0.15333833029814659,-0.7801974870265284,-1.730171318650708,-0.1720820731605149,-1.4979155734855347,0.316666982307522,0.1429949741686534,-0.5073673656104781,0.8917748631288538,2.085554829503526,1.4364692534114378,-0.38471538218531065,-0.5217697385214842,0.17919576221160585,-0.1905462288446752,0.8396965913811204,-1.1132884509071437,0.24339161281964752,-1.429548270239324,-0.5806266492981891,-1.8770382428692274,-0.8888074513675872,0.24316207731286255,0.4982225352735528,-0.034273365889114026,-0.5825018111849762,-0.8798476373749529,1.1995589876220574,1.669952108825188,-0.3872968742445013,-1.0494059696781197,0.40754686773647897,-1.247921791425569,-0.3806257771839392,-0.5216481009040306,1.5405864399231293,-0.12969459449988752,-0.4523693590554315,-1.1046653902623707,1.6385742609526037,-0.541543061446402,0.8324264462958443,1.22474992003944,-0.09938681665143169,1.0468396972670604,-0.18671385796428455,-0.38257096000942087,0.5438194423985938,-0.19667430866170896,0.19775465238386308,-1.4257793282210245,0.23259243306741084,-0.7775097925144028,-1.0023132477348573,-0.2026193056462473,1.211440099443612,-1.563756949537177,0.5652204704929931,0.22997063377231486,0.6141551613384159,-0.5967768099632359,-0.8636424612336109,1.625871151332099,0.9218537869175375,0.28860763267064904,0.264056480265417,-1.7034195957732086,-1.2735263824434337,0.0453635049200079,1.7750461014137107,0.5036219550962464,1.659598689144155,0.9941880574328251,-0.293563658171593,-0.5632201905824927],\"y\":[0.663644916668608,0.8539894629565865,0.7182721805036181,-0.23131728651643915,1.0520682868690088,0.512886451876651,0.3962742013757297,0.19244837036910498,0.6942048027893358,-0.2722249899358359,0.6634385692004368,0.9800891949991442,1.1118229049368433,-0.10678861848750934,0.4690419300255005,-0.9723919008515634,-1.8757792550845664,0.8625745446710906,-0.7827619578718803,1.6677033232903173,1.1146211902632992,-1.3538638195878034,-0.31828942591868525,-0.003779765834421749,-0.815296361103711,1.1123892326502263,-0.7845936279014872,-1.9797114354721983,-1.390372692915758,1.6503369920929167,-0.14899684895433177,-0.8231575334399924,0.16104253963553297,0.7836004550291542,-0.33153498382638535,0.8407689388417556,-0.03281131948110183,0.12231113887453894,-0.018984964617667407,-0.6402845786433076,-0.12032126474864979,0.7349396313531462,-0.8960260796006839,0.7576566829971076,1.5999888684153223,-1.1286716075963636,1.5534085433341411,-0.7244406208197438,0.9263127855310453,-0.5391208826579759,-0.22257653120121626,0.4034032365585807,1.3094635291740735,-0.17829845039408723,-0.34107945675869356,1.1031629412688133,1.1937899917993917,-1.3332954918220914,-0.008346989593206655,-0.6328859674322583,-0.7205485931175036,1.0154031030661033,-1.5408076869474618,-0.1865187258517424,-0.48252363590092134,1.1208765865460928,-0.1206576183143393,0.3111316770088429,-0.8692757764238744,0.2683730398176634,1.201520534380479,1.8412641038761008,1.1903462992361296,-0.0972977226935668,0.35613581513712733,1.6478213551010252,-0.3197494553823164,0.28441072498000314,-1.6810004114282828,0.2943187027071099,-0.8031971015880753,-1.0280244607883133,-0.3548532385182408,-0.2997666538463908,-1.0143036354426633,-0.45467754603306093,0.4520630514102458,-1.1233903175090119,-0.27233724745283466,-0.29285161781770586,-0.7418022189104699,-1.1562087044083964,-0.6457668576781612,0.5373550478693669,1.2242863244276385,-0.9874880065577107,-0.6471030553787697,-0.048739317504564866,-0.23677463664566517,0.42998336423142036],\"type\":\"scatter\"}],                        {\"legend\":{\"bgcolor\":\"#F5F6F9\",\"font\":{\"color\":\"#4D5663\"}},\"paper_bgcolor\":\"#F5F6F9\",\"plot_bgcolor\":\"#F5F6F9\",\"template\":{\"data\":{\"barpolar\":[{\"marker\":{\"line\":{\"color\":\"#E5ECF6\",\"width\":0.5},\"pattern\":{\"fillmode\":\"overlay\",\"size\":10,\"solidity\":0.2}},\"type\":\"barpolar\"}],\"bar\":[{\"error_x\":{\"color\":\"#2a3f5f\"},\"error_y\":{\"color\":\"#2a3f5f\"},\"marker\":{\"line\":{\"color\":\"#E5ECF6\",\"width\":0.5},\"pattern\":{\"fillmode\":\"overlay\",\"size\":10,\"solidity\":0.2}},\"type\":\"bar\"}],\"carpet\":[{\"aaxis\":{\"endlinecolor\":\"#2a3f5f\",\"gridcolor\":\"white\",\"linecolor\":\"white\",\"minorgridcolor\":\"white\",\"startlinecolor\":\"#2a3f5f\"},\"baxis\":{\"endlinecolor\":\"#2a3f5f\",\"gridcolor\":\"white\",\"linecolor\":\"white\",\"minorgridcolor\":\"white\",\"startlinecolor\":\"#2a3f5f\"},\"type\":\"carpet\"}],\"choropleth\":[{\"colorbar\":{\"outlinewidth\":0,\"ticks\":\"\"},\"type\":\"choropleth\"}],\"contourcarpet\":[{\"colorbar\":{\"outlinewidth\":0,\"ticks\":\"\"},\"type\":\"contourcarpet\"}],\"contour\":[{\"colorbar\":{\"outlinewidth\":0,\"ticks\":\"\"},\"colorscale\":[[0.0,\"#0d0887\"],[0.1111111111111111,\"#46039f\"],[0.2222222222222222,\"#7201a8\"],[0.3333333333333333,\"#9c179e\"],[0.4444444444444444,\"#bd3786\"],[0.5555555555555556,\"#d8576b\"],[0.6666666666666666,\"#ed7953\"],[0.7777777777777778,\"#fb9f3a\"],[0.8888888888888888,\"#fdca26\"],[1.0,\"#f0f921\"]],\"type\":\"contour\"}],\"heatmapgl\":[{\"colorbar\":{\"outlinewidth\":0,\"ticks\":\"\"},\"colorscale\":[[0.0,\"#0d0887\"],[0.1111111111111111,\"#46039f\"],[0.2222222222222222,\"#7201a8\"],[0.3333333333333333,\"#9c179e\"],[0.4444444444444444,\"#bd3786\"],[0.5555555555555556,\"#d8576b\"],[0.6666666666666666,\"#ed7953\"],[0.7777777777777778,\"#fb9f3a\"],[0.8888888888888888,\"#fdca26\"],[1.0,\"#f0f921\"]],\"type\":\"heatmapgl\"}],\"heatmap\":[{\"colorbar\":{\"outlinewidth\":0,\"ticks\":\"\"},\"colorscale\":[[0.0,\"#0d0887\"],[0.1111111111111111,\"#46039f\"],[0.2222222222222222,\"#7201a8\"],[0.3333333333333333,\"#9c179e\"],[0.4444444444444444,\"#bd3786\"],[0.5555555555555556,\"#d8576b\"],[0.6666666666666666,\"#ed7953\"],[0.7777777777777778,\"#fb9f3a\"],[0.8888888888888888,\"#fdca26\"],[1.0,\"#f0f921\"]],\"type\":\"heatmap\"}],\"histogram2dcontour\":[{\"colorbar\":{\"outlinewidth\":0,\"ticks\":\"\"},\"colorscale\":[[0.0,\"#0d0887\"],[0.1111111111111111,\"#46039f\"],[0.2222222222222222,\"#7201a8\"],[0.3333333333333333,\"#9c179e\"],[0.4444444444444444,\"#bd3786\"],[0.5555555555555556,\"#d8576b\"],[0.6666666666666666,\"#ed7953\"],[0.7777777777777778,\"#fb9f3a\"],[0.8888888888888888,\"#fdca26\"],[1.0,\"#f0f921\"]],\"type\":\"histogram2dcontour\"}],\"histogram2d\":[{\"colorbar\":{\"outlinewidth\":0,\"ticks\":\"\"},\"colorscale\":[[0.0,\"#0d0887\"],[0.1111111111111111,\"#46039f\"],[0.2222222222222222,\"#7201a8\"],[0.3333333333333333,\"#9c179e\"],[0.4444444444444444,\"#bd3786\"],[0.5555555555555556,\"#d8576b\"],[0.6666666666666666,\"#ed7953\"],[0.7777777777777778,\"#fb9f3a\"],[0.8888888888888888,\"#fdca26\"],[1.0,\"#f0f921\"]],\"type\":\"histogram2d\"}],\"histogram\":[{\"marker\":{\"pattern\":{\"fillmode\":\"overlay\",\"size\":10,\"solidity\":0.2}},\"type\":\"histogram\"}],\"mesh3d\":[{\"colorbar\":{\"outlinewidth\":0,\"ticks\":\"\"},\"type\":\"mesh3d\"}],\"parcoords\":[{\"line\":{\"colorbar\":{\"outlinewidth\":0,\"ticks\":\"\"}},\"type\":\"parcoords\"}],\"pie\":[{\"automargin\":true,\"type\":\"pie\"}],\"scatter3d\":[{\"line\":{\"colorbar\":{\"outlinewidth\":0,\"ticks\":\"\"}},\"marker\":{\"colorbar\":{\"outlinewidth\":0,\"ticks\":\"\"}},\"type\":\"scatter3d\"}],\"scattercarpet\":[{\"marker\":{\"colorbar\":{\"outlinewidth\":0,\"ticks\":\"\"}},\"type\":\"scattercarpet\"}],\"scattergeo\":[{\"marker\":{\"colorbar\":{\"outlinewidth\":0,\"ticks\":\"\"}},\"type\":\"scattergeo\"}],\"scattergl\":[{\"marker\":{\"colorbar\":{\"outlinewidth\":0,\"ticks\":\"\"}},\"type\":\"scattergl\"}],\"scattermapbox\":[{\"marker\":{\"colorbar\":{\"outlinewidth\":0,\"ticks\":\"\"}},\"type\":\"scattermapbox\"}],\"scatterpolargl\":[{\"marker\":{\"colorbar\":{\"outlinewidth\":0,\"ticks\":\"\"}},\"type\":\"scatterpolargl\"}],\"scatterpolar\":[{\"marker\":{\"colorbar\":{\"outlinewidth\":0,\"ticks\":\"\"}},\"type\":\"scatterpolar\"}],\"scatter\":[{\"marker\":{\"colorbar\":{\"outlinewidth\":0,\"ticks\":\"\"}},\"type\":\"scatter\"}],\"scatterternary\":[{\"marker\":{\"colorbar\":{\"outlinewidth\":0,\"ticks\":\"\"}},\"type\":\"scatterternary\"}],\"surface\":[{\"colorbar\":{\"outlinewidth\":0,\"ticks\":\"\"},\"colorscale\":[[0.0,\"#0d0887\"],[0.1111111111111111,\"#46039f\"],[0.2222222222222222,\"#7201a8\"],[0.3333333333333333,\"#9c179e\"],[0.4444444444444444,\"#bd3786\"],[0.5555555555555556,\"#d8576b\"],[0.6666666666666666,\"#ed7953\"],[0.7777777777777778,\"#fb9f3a\"],[0.8888888888888888,\"#fdca26\"],[1.0,\"#f0f921\"]],\"type\":\"surface\"}],\"table\":[{\"cells\":{\"fill\":{\"color\":\"#EBF0F8\"},\"line\":{\"color\":\"white\"}},\"header\":{\"fill\":{\"color\":\"#C8D4E3\"},\"line\":{\"color\":\"white\"}},\"type\":\"table\"}]},\"layout\":{\"annotationdefaults\":{\"arrowcolor\":\"#2a3f5f\",\"arrowhead\":0,\"arrowwidth\":1},\"autotypenumbers\":\"strict\",\"coloraxis\":{\"colorbar\":{\"outlinewidth\":0,\"ticks\":\"\"}},\"colorscale\":{\"diverging\":[[0,\"#8e0152\"],[0.1,\"#c51b7d\"],[0.2,\"#de77ae\"],[0.3,\"#f1b6da\"],[0.4,\"#fde0ef\"],[0.5,\"#f7f7f7\"],[0.6,\"#e6f5d0\"],[0.7,\"#b8e186\"],[0.8,\"#7fbc41\"],[0.9,\"#4d9221\"],[1,\"#276419\"]],\"sequential\":[[0.0,\"#0d0887\"],[0.1111111111111111,\"#46039f\"],[0.2222222222222222,\"#7201a8\"],[0.3333333333333333,\"#9c179e\"],[0.4444444444444444,\"#bd3786\"],[0.5555555555555556,\"#d8576b\"],[0.6666666666666666,\"#ed7953\"],[0.7777777777777778,\"#fb9f3a\"],[0.8888888888888888,\"#fdca26\"],[1.0,\"#f0f921\"]],\"sequentialminus\":[[0.0,\"#0d0887\"],[0.1111111111111111,\"#46039f\"],[0.2222222222222222,\"#7201a8\"],[0.3333333333333333,\"#9c179e\"],[0.4444444444444444,\"#bd3786\"],[0.5555555555555556,\"#d8576b\"],[0.6666666666666666,\"#ed7953\"],[0.7777777777777778,\"#fb9f3a\"],[0.8888888888888888,\"#fdca26\"],[1.0,\"#f0f921\"]]},\"colorway\":[\"#636efa\",\"#EF553B\",\"#00cc96\",\"#ab63fa\",\"#FFA15A\",\"#19d3f3\",\"#FF6692\",\"#B6E880\",\"#FF97FF\",\"#FECB52\"],\"font\":{\"color\":\"#2a3f5f\"},\"geo\":{\"bgcolor\":\"white\",\"lakecolor\":\"white\",\"landcolor\":\"#E5ECF6\",\"showlakes\":true,\"showland\":true,\"subunitcolor\":\"white\"},\"hoverlabel\":{\"align\":\"left\"},\"hovermode\":\"closest\",\"mapbox\":{\"style\":\"light\"},\"paper_bgcolor\":\"white\",\"plot_bgcolor\":\"#E5ECF6\",\"polar\":{\"angularaxis\":{\"gridcolor\":\"white\",\"linecolor\":\"white\",\"ticks\":\"\"},\"bgcolor\":\"#E5ECF6\",\"radialaxis\":{\"gridcolor\":\"white\",\"linecolor\":\"white\",\"ticks\":\"\"}},\"scene\":{\"xaxis\":{\"backgroundcolor\":\"#E5ECF6\",\"gridcolor\":\"white\",\"gridwidth\":2,\"linecolor\":\"white\",\"showbackground\":true,\"ticks\":\"\",\"zerolinecolor\":\"white\"},\"yaxis\":{\"backgroundcolor\":\"#E5ECF6\",\"gridcolor\":\"white\",\"gridwidth\":2,\"linecolor\":\"white\",\"showbackground\":true,\"ticks\":\"\",\"zerolinecolor\":\"white\"},\"zaxis\":{\"backgroundcolor\":\"#E5ECF6\",\"gridcolor\":\"white\",\"gridwidth\":2,\"linecolor\":\"white\",\"showbackground\":true,\"ticks\":\"\",\"zerolinecolor\":\"white\"}},\"shapedefaults\":{\"line\":{\"color\":\"#2a3f5f\"}},\"ternary\":{\"aaxis\":{\"gridcolor\":\"white\",\"linecolor\":\"white\",\"ticks\":\"\"},\"baxis\":{\"gridcolor\":\"white\",\"linecolor\":\"white\",\"ticks\":\"\"},\"bgcolor\":\"#E5ECF6\",\"caxis\":{\"gridcolor\":\"white\",\"linecolor\":\"white\",\"ticks\":\"\"}},\"title\":{\"x\":0.05},\"xaxis\":{\"automargin\":true,\"gridcolor\":\"white\",\"linecolor\":\"white\",\"ticks\":\"\",\"title\":{\"standoff\":15},\"zerolinecolor\":\"white\",\"zerolinewidth\":2},\"yaxis\":{\"automargin\":true,\"gridcolor\":\"white\",\"linecolor\":\"white\",\"ticks\":\"\",\"title\":{\"standoff\":15},\"zerolinecolor\":\"white\",\"zerolinewidth\":2}}},\"title\":{\"font\":{\"color\":\"#4D5663\"}},\"xaxis\":{\"gridcolor\":\"#E1E5ED\",\"showgrid\":true,\"tickfont\":{\"color\":\"#4D5663\"},\"title\":{\"font\":{\"color\":\"#4D5663\"},\"text\":\"\"},\"zerolinecolor\":\"#E1E5ED\"},\"yaxis\":{\"gridcolor\":\"#E1E5ED\",\"showgrid\":true,\"tickfont\":{\"color\":\"#4D5663\"},\"title\":{\"font\":{\"color\":\"#4D5663\"},\"text\":\"\"},\"zerolinecolor\":\"#E1E5ED\"}},                        {\"showLink\": true, \"linkText\": \"Export to plot.ly\", \"plotlyServerURL\": \"https://plot.ly\", \"responsive\": true}                    ).then(function(){\n",
       "                            \n",
       "var gd = document.getElementById('5961783c-a2fd-4410-bdd9-66b668fdc6e2');\n",
       "var x = new MutationObserver(function (mutations, observer) {{\n",
       "        var display = window.getComputedStyle(gd).display;\n",
       "        if (!display || display === 'none') {{\n",
       "            console.log([gd, 'removed!']);\n",
       "            Plotly.purge(gd);\n",
       "            observer.disconnect();\n",
       "        }}\n",
       "}});\n",
       "\n",
       "// Listen for the removal of the full notebook cells\n",
       "var notebookContainer = gd.closest('#notebook-container');\n",
       "if (notebookContainer) {{\n",
       "    x.observe(notebookContainer, {childList: true});\n",
       "}}\n",
       "\n",
       "// Listen for the clearing of the current output cell\n",
       "var outputEl = gd.closest('.output');\n",
       "if (outputEl) {{\n",
       "    x.observe(outputEl, {childList: true});\n",
       "}}\n",
       "\n",
       "                        })                };                });            </script>        </div>"
      ]
     },
     "metadata": {},
     "output_type": "display_data"
    }
   ],
   "source": [
    "df.iplot(kind='bubble',x='A',y='B',size='C')"
   ]
  },
  {
   "cell_type": "markdown",
   "metadata": {},
   "source": [
    "## scatter_matrix()\n",
    "\n",
    "Similar to sns.pairplot()"
   ]
  },
  {
   "cell_type": "code",
   "execution_count": 19,
   "metadata": {
    "scrolled": true
   },
   "outputs": [
    {
     "data": {
      "application/vnd.plotly.v1+json": {
       "config": {
        "linkText": "Export to plot.ly",
        "plotlyServerURL": "https://plot.ly",
        "showLink": true
       },
       "data": [
        {
         "histfunc": "count",
         "histnorm": "",
         "marker": {
          "color": "rgba(255, 153, 51, 1.0)",
          "line": {
           "color": "#4D5663",
           "width": 1.3
          }
         },
         "name": "A",
         "nbinsx": 10,
         "opacity": 0.8,
         "orientation": "v",
         "type": "histogram",
         "x": [
          0.3864119162303842,
          1.204197254885549,
          0.8915805046705403,
          0.6946310665445125,
          0.27765294539122676,
          0.5420527940393374,
          0.23163388502617024,
          -0.24611912165954075,
          0.1975421663222593,
          0.8306471225012765,
          -0.5947951947859332,
          0.07533484285624369,
          -0.48662233745461614,
          1.2095431597771475,
          1.4388081805724247,
          1.3213720547077155,
          -1.542678635966428,
          -0.24637024407810829,
          -0.05115857332615439,
          0.21033451070698972,
          3.1612127350544856,
          -1.3787329216099466,
          -0.39174937013067923,
          -1.464323976922046,
          -1.621593224518355,
          0.15333833029814659,
          -0.7801974870265284,
          -1.730171318650708,
          -0.1720820731605149,
          -1.4979155734855347,
          0.316666982307522,
          0.1429949741686534,
          -0.5073673656104781,
          0.8917748631288538,
          2.085554829503526,
          1.4364692534114378,
          -0.38471538218531065,
          -0.5217697385214842,
          0.17919576221160585,
          -0.1905462288446752,
          0.8396965913811204,
          -1.1132884509071437,
          0.24339161281964752,
          -1.429548270239324,
          -0.5806266492981891,
          -1.8770382428692274,
          -0.8888074513675872,
          0.24316207731286255,
          0.4982225352735528,
          -0.034273365889114026,
          -0.5825018111849762,
          -0.8798476373749529,
          1.1995589876220574,
          1.669952108825188,
          -0.3872968742445013,
          -1.0494059696781197,
          0.40754686773647897,
          -1.247921791425569,
          -0.3806257771839392,
          -0.5216481009040306,
          1.5405864399231293,
          -0.12969459449988752,
          -0.4523693590554315,
          -1.1046653902623707,
          1.6385742609526037,
          -0.541543061446402,
          0.8324264462958443,
          1.22474992003944,
          -0.09938681665143169,
          1.0468396972670604,
          -0.18671385796428455,
          -0.38257096000942087,
          0.5438194423985938,
          -0.19667430866170896,
          0.19775465238386308,
          -1.4257793282210245,
          0.23259243306741084,
          -0.7775097925144028,
          -1.0023132477348573,
          -0.2026193056462473,
          1.211440099443612,
          -1.563756949537177,
          0.5652204704929931,
          0.22997063377231486,
          0.6141551613384159,
          -0.5967768099632359,
          -0.8636424612336109,
          1.625871151332099,
          0.9218537869175375,
          0.28860763267064904,
          0.264056480265417,
          -1.7034195957732086,
          -1.2735263824434337,
          0.0453635049200079,
          1.7750461014137107,
          0.5036219550962464,
          1.659598689144155,
          0.9941880574328251,
          -0.293563658171593,
          -0.5632201905824927
         ],
         "xaxis": "x",
         "yaxis": "y"
        },
        {
         "line": {
          "color": "rgba(128, 128, 128, 1.0)",
          "dash": "solid",
          "shape": "linear",
          "width": 1.3
         },
         "marker": {
          "size": 2,
          "symbol": "circle"
         },
         "mode": "markers",
         "name": "A",
         "text": "",
         "type": "scatter",
         "x": [
          0.663644916668608,
          0.8539894629565865,
          0.7182721805036181,
          -0.23131728651643915,
          1.0520682868690088,
          0.512886451876651,
          0.3962742013757297,
          0.19244837036910498,
          0.6942048027893358,
          -0.2722249899358359,
          0.6634385692004368,
          0.9800891949991442,
          1.1118229049368433,
          -0.10678861848750934,
          0.4690419300255005,
          -0.9723919008515634,
          -1.8757792550845664,
          0.8625745446710906,
          -0.7827619578718803,
          1.6677033232903173,
          1.1146211902632992,
          -1.3538638195878034,
          -0.31828942591868525,
          -0.003779765834421749,
          -0.815296361103711,
          1.1123892326502263,
          -0.7845936279014872,
          -1.9797114354721983,
          -1.390372692915758,
          1.6503369920929167,
          -0.14899684895433177,
          -0.8231575334399924,
          0.16104253963553297,
          0.7836004550291542,
          -0.33153498382638535,
          0.8407689388417556,
          -0.03281131948110183,
          0.12231113887453894,
          -0.018984964617667407,
          -0.6402845786433076,
          -0.12032126474864979,
          0.7349396313531462,
          -0.8960260796006839,
          0.7576566829971076,
          1.5999888684153223,
          -1.1286716075963636,
          1.5534085433341411,
          -0.7244406208197438,
          0.9263127855310453,
          -0.5391208826579759,
          -0.22257653120121626,
          0.4034032365585807,
          1.3094635291740735,
          -0.17829845039408723,
          -0.34107945675869356,
          1.1031629412688133,
          1.1937899917993917,
          -1.3332954918220914,
          -0.008346989593206655,
          -0.6328859674322583,
          -0.7205485931175036,
          1.0154031030661033,
          -1.5408076869474618,
          -0.1865187258517424,
          -0.48252363590092134,
          1.1208765865460928,
          -0.1206576183143393,
          0.3111316770088429,
          -0.8692757764238744,
          0.2683730398176634,
          1.201520534380479,
          1.8412641038761008,
          1.1903462992361296,
          -0.0972977226935668,
          0.35613581513712733,
          1.6478213551010252,
          -0.3197494553823164,
          0.28441072498000314,
          -1.6810004114282828,
          0.2943187027071099,
          -0.8031971015880753,
          -1.0280244607883133,
          -0.3548532385182408,
          -0.2997666538463908,
          -1.0143036354426633,
          -0.45467754603306093,
          0.4520630514102458,
          -1.1233903175090119,
          -0.27233724745283466,
          -0.29285161781770586,
          -0.7418022189104699,
          -1.1562087044083964,
          -0.6457668576781612,
          0.5373550478693669,
          1.2242863244276385,
          -0.9874880065577107,
          -0.6471030553787697,
          -0.048739317504564866,
          -0.23677463664566517,
          0.42998336423142036
         ],
         "xaxis": "x2",
         "y": [
          0.3864119162303842,
          1.204197254885549,
          0.8915805046705403,
          0.6946310665445125,
          0.27765294539122676,
          0.5420527940393374,
          0.23163388502617024,
          -0.24611912165954075,
          0.1975421663222593,
          0.8306471225012765,
          -0.5947951947859332,
          0.07533484285624369,
          -0.48662233745461614,
          1.2095431597771475,
          1.4388081805724247,
          1.3213720547077155,
          -1.542678635966428,
          -0.24637024407810829,
          -0.05115857332615439,
          0.21033451070698972,
          3.1612127350544856,
          -1.3787329216099466,
          -0.39174937013067923,
          -1.464323976922046,
          -1.621593224518355,
          0.15333833029814659,
          -0.7801974870265284,
          -1.730171318650708,
          -0.1720820731605149,
          -1.4979155734855347,
          0.316666982307522,
          0.1429949741686534,
          -0.5073673656104781,
          0.8917748631288538,
          2.085554829503526,
          1.4364692534114378,
          -0.38471538218531065,
          -0.5217697385214842,
          0.17919576221160585,
          -0.1905462288446752,
          0.8396965913811204,
          -1.1132884509071437,
          0.24339161281964752,
          -1.429548270239324,
          -0.5806266492981891,
          -1.8770382428692274,
          -0.8888074513675872,
          0.24316207731286255,
          0.4982225352735528,
          -0.034273365889114026,
          -0.5825018111849762,
          -0.8798476373749529,
          1.1995589876220574,
          1.669952108825188,
          -0.3872968742445013,
          -1.0494059696781197,
          0.40754686773647897,
          -1.247921791425569,
          -0.3806257771839392,
          -0.5216481009040306,
          1.5405864399231293,
          -0.12969459449988752,
          -0.4523693590554315,
          -1.1046653902623707,
          1.6385742609526037,
          -0.541543061446402,
          0.8324264462958443,
          1.22474992003944,
          -0.09938681665143169,
          1.0468396972670604,
          -0.18671385796428455,
          -0.38257096000942087,
          0.5438194423985938,
          -0.19667430866170896,
          0.19775465238386308,
          -1.4257793282210245,
          0.23259243306741084,
          -0.7775097925144028,
          -1.0023132477348573,
          -0.2026193056462473,
          1.211440099443612,
          -1.563756949537177,
          0.5652204704929931,
          0.22997063377231486,
          0.6141551613384159,
          -0.5967768099632359,
          -0.8636424612336109,
          1.625871151332099,
          0.9218537869175375,
          0.28860763267064904,
          0.264056480265417,
          -1.7034195957732086,
          -1.2735263824434337,
          0.0453635049200079,
          1.7750461014137107,
          0.5036219550962464,
          1.659598689144155,
          0.9941880574328251,
          -0.293563658171593,
          -0.5632201905824927
         ],
         "yaxis": "y2"
        },
        {
         "line": {
          "color": "rgba(128, 128, 128, 1.0)",
          "dash": "solid",
          "shape": "linear",
          "width": 1.3
         },
         "marker": {
          "size": 2,
          "symbol": "circle"
         },
         "mode": "markers",
         "name": "A",
         "text": "",
         "type": "scatter",
         "x": [
          -0.6538122694356095,
          0.29632246647545535,
          0.17940594091991843,
          0.6476627486246456,
          -0.10043811437228084,
          0.11338010465450052,
          -0.08356160498701343,
          -0.7316754573876626,
          -1.2365039762262189,
          -0.6386337749042802,
          -0.7926064521593136,
          -0.742671479208652,
          -0.3370161800707922,
          1.1897598509216165,
          0.7242630798740226,
          0.12021300751943033,
          -1.5541924942579035,
          1.5028214113878702,
          0.760501650197293,
          0.7515986114830532,
          -1.2686451344996938,
          0.01609558960139597,
          -1.6128707827272581,
          0.6903498423641136,
          0.7602651962954348,
          0.0673948377388364,
          -0.9775168899165652,
          0.5585404568888361,
          0.8523224276827606,
          -1.0041705242290733,
          0.5914262277861494,
          -0.5496136621526938,
          0.7017726636910391,
          0.15870469356872455,
          -2.4273620027153555,
          -0.5864254688778012,
          -0.0289089911443751,
          -0.8291195208456038,
          -0.9096062411979251,
          -1.1314170041692238,
          -0.5186793448446886,
          0.3108681995737991,
          -0.8378873764383811,
          0.158880930094833,
          0.7031221132836886,
          0.6505719191055622,
          0.43745761711076453,
          0.45318431224770556,
          -0.6414398264092175,
          0.523073885686085,
          0.12734147164046977,
          -0.770936570781369,
          -1.6151182596614424,
          0.9540473104491346,
          1.67023663497916,
          0.574762895692311,
          -0.8667434406776809,
          -1.2863033897237754,
          1.614402266304719,
          -1.8034959885421769,
          -1.3636443614651592,
          -0.4933435802573463,
          -0.6394587059741395,
          -2.2718745671441094,
          0.553289670910159,
          -1.0078069494814215,
          0.6043589606740618,
          1.4229283648169193,
          -0.179323294635072,
          0.2538061840793955,
          1.0263302945895039,
          0.394082382521719,
          3.121232497730125,
          1.3303969625222654,
          -1.1541522860639097,
          -0.23166102490887022,
          -0.7608722899456053,
          0.8666182729219869,
          0.5350322672866142,
          -1.4602188149153486,
          1.3344993116679742,
          -1.6617774845100284,
          0.42361503860653943,
          1.0908923129569281,
          -0.5303449319476716,
          1.2150687585703044,
          0.7158276442576861,
          -1.9543227706481956,
          -0.33939479342369694,
          0.4821056907373301,
          1.9533934250885414,
          -0.8069952996393184,
          0.7918551373589061,
          -0.17608519122254984,
          -0.30426593014751024,
          1.6164723943168042,
          -0.45506196261105936,
          0.3152484690447127,
          1.647266342350233,
          -0.7223542684237176
         ],
         "xaxis": "x3",
         "y": [
          0.3864119162303842,
          1.204197254885549,
          0.8915805046705403,
          0.6946310665445125,
          0.27765294539122676,
          0.5420527940393374,
          0.23163388502617024,
          -0.24611912165954075,
          0.1975421663222593,
          0.8306471225012765,
          -0.5947951947859332,
          0.07533484285624369,
          -0.48662233745461614,
          1.2095431597771475,
          1.4388081805724247,
          1.3213720547077155,
          -1.542678635966428,
          -0.24637024407810829,
          -0.05115857332615439,
          0.21033451070698972,
          3.1612127350544856,
          -1.3787329216099466,
          -0.39174937013067923,
          -1.464323976922046,
          -1.621593224518355,
          0.15333833029814659,
          -0.7801974870265284,
          -1.730171318650708,
          -0.1720820731605149,
          -1.4979155734855347,
          0.316666982307522,
          0.1429949741686534,
          -0.5073673656104781,
          0.8917748631288538,
          2.085554829503526,
          1.4364692534114378,
          -0.38471538218531065,
          -0.5217697385214842,
          0.17919576221160585,
          -0.1905462288446752,
          0.8396965913811204,
          -1.1132884509071437,
          0.24339161281964752,
          -1.429548270239324,
          -0.5806266492981891,
          -1.8770382428692274,
          -0.8888074513675872,
          0.24316207731286255,
          0.4982225352735528,
          -0.034273365889114026,
          -0.5825018111849762,
          -0.8798476373749529,
          1.1995589876220574,
          1.669952108825188,
          -0.3872968742445013,
          -1.0494059696781197,
          0.40754686773647897,
          -1.247921791425569,
          -0.3806257771839392,
          -0.5216481009040306,
          1.5405864399231293,
          -0.12969459449988752,
          -0.4523693590554315,
          -1.1046653902623707,
          1.6385742609526037,
          -0.541543061446402,
          0.8324264462958443,
          1.22474992003944,
          -0.09938681665143169,
          1.0468396972670604,
          -0.18671385796428455,
          -0.38257096000942087,
          0.5438194423985938,
          -0.19667430866170896,
          0.19775465238386308,
          -1.4257793282210245,
          0.23259243306741084,
          -0.7775097925144028,
          -1.0023132477348573,
          -0.2026193056462473,
          1.211440099443612,
          -1.563756949537177,
          0.5652204704929931,
          0.22997063377231486,
          0.6141551613384159,
          -0.5967768099632359,
          -0.8636424612336109,
          1.625871151332099,
          0.9218537869175375,
          0.28860763267064904,
          0.264056480265417,
          -1.7034195957732086,
          -1.2735263824434337,
          0.0453635049200079,
          1.7750461014137107,
          0.5036219550962464,
          1.659598689144155,
          0.9941880574328251,
          -0.293563658171593,
          -0.5632201905824927
         ],
         "yaxis": "y3"
        },
        {
         "line": {
          "color": "rgba(128, 128, 128, 1.0)",
          "dash": "solid",
          "shape": "linear",
          "width": 1.3
         },
         "marker": {
          "size": 2,
          "symbol": "circle"
         },
         "mode": "markers",
         "name": "A",
         "text": "",
         "type": "scatter",
         "x": [
          0.4757041776816243,
          0.590059346810028,
          1.4898915294795725,
          -0.10129042263276683,
          1.1597985080190125,
          0.0724982860361312,
          0.2619252841036569,
          0.061469576277574184,
          0.8196718590872685,
          0.01240778778894669,
          -0.17978598192692227,
          0.7752167917400364,
          -0.7883907933883273,
          -0.5913088626844035,
          0.840354822847208,
          0.2033445961535619,
          -0.5372586713560256,
          0.4232216389089505,
          -0.2528325544163104,
          1.3249290964393545,
          -0.40583222858635587,
          0.21658564791370435,
          0.11080851452461021,
          -1.510576937964176,
          0.44917619312760176,
          0.7236215239497839,
          1.3401738752050207,
          -0.5284184494366296,
          0.5168797933043524,
          0.27983750198876206,
          0.6462227083234211,
          -1.6537132076782313,
          0.6353620784452373,
          -1.886652937081722,
          1.492870807314742,
          -0.08148994426046148,
          0.9983669181816184,
          -0.19043088811464584,
          -0.5688184865474755,
          0.5624134837235857,
          -0.3210101968912109,
          1.213691522496094,
          -0.6308343201304198,
          -0.26552273071010934,
          0.0382706171539293,
          -0.42471459773090114,
          -1.2553973083616052,
          0.22693857017483704,
          -0.09986680003889419,
          -1.1171045042039667,
          -1.7636923232057913,
          -0.8078679446482997,
          -0.5113036700437527,
          0.13352748397932704,
          -0.481125035670177,
          -0.3364057735395534,
          0.5550899769272462,
          0.5876780577788043,
          -1.2003862841996797,
          1.6471280758452198,
          0.20112173315908158,
          1.2654140663662488,
          -0.8893935549005481,
          1.5474457958694703,
          -0.9223180706019465,
          -1.990699220593327,
          -0.312954805627847,
          0.19046176478033308,
          0.8584044198133884,
          -0.8279642354823153,
          -0.8110986924038266,
          -1.749313401583035,
          -0.5130068061780467,
          0.2557293226317499,
          1.9607498420411158,
          0.8220431076067412,
          0.6229318544142777,
          0.6659824134676142,
          -1.53152263813704,
          0.4644195955382767,
          0.8911958385726465,
          0.26943097640536046,
          0.711729257448235,
          0.7924413057554689,
          0.42979066547023326,
          0.8931354553398241,
          -1.9331873902697487,
          0.5555385587552265,
          -0.9853819496872513,
          0.161249515605386,
          1.9759695910147321,
          1.4093690275179895,
          -1.1299357517823005,
          2.3298930325014813,
          -1.1510253706195832,
          -0.8203802944899652,
          -0.42983926404297373,
          -0.13911929398213121,
          -0.019621435532456055,
          -0.7622062333318493
         ],
         "xaxis": "x4",
         "y": [
          0.3864119162303842,
          1.204197254885549,
          0.8915805046705403,
          0.6946310665445125,
          0.27765294539122676,
          0.5420527940393374,
          0.23163388502617024,
          -0.24611912165954075,
          0.1975421663222593,
          0.8306471225012765,
          -0.5947951947859332,
          0.07533484285624369,
          -0.48662233745461614,
          1.2095431597771475,
          1.4388081805724247,
          1.3213720547077155,
          -1.542678635966428,
          -0.24637024407810829,
          -0.05115857332615439,
          0.21033451070698972,
          3.1612127350544856,
          -1.3787329216099466,
          -0.39174937013067923,
          -1.464323976922046,
          -1.621593224518355,
          0.15333833029814659,
          -0.7801974870265284,
          -1.730171318650708,
          -0.1720820731605149,
          -1.4979155734855347,
          0.316666982307522,
          0.1429949741686534,
          -0.5073673656104781,
          0.8917748631288538,
          2.085554829503526,
          1.4364692534114378,
          -0.38471538218531065,
          -0.5217697385214842,
          0.17919576221160585,
          -0.1905462288446752,
          0.8396965913811204,
          -1.1132884509071437,
          0.24339161281964752,
          -1.429548270239324,
          -0.5806266492981891,
          -1.8770382428692274,
          -0.8888074513675872,
          0.24316207731286255,
          0.4982225352735528,
          -0.034273365889114026,
          -0.5825018111849762,
          -0.8798476373749529,
          1.1995589876220574,
          1.669952108825188,
          -0.3872968742445013,
          -1.0494059696781197,
          0.40754686773647897,
          -1.247921791425569,
          -0.3806257771839392,
          -0.5216481009040306,
          1.5405864399231293,
          -0.12969459449988752,
          -0.4523693590554315,
          -1.1046653902623707,
          1.6385742609526037,
          -0.541543061446402,
          0.8324264462958443,
          1.22474992003944,
          -0.09938681665143169,
          1.0468396972670604,
          -0.18671385796428455,
          -0.38257096000942087,
          0.5438194423985938,
          -0.19667430866170896,
          0.19775465238386308,
          -1.4257793282210245,
          0.23259243306741084,
          -0.7775097925144028,
          -1.0023132477348573,
          -0.2026193056462473,
          1.211440099443612,
          -1.563756949537177,
          0.5652204704929931,
          0.22997063377231486,
          0.6141551613384159,
          -0.5967768099632359,
          -0.8636424612336109,
          1.625871151332099,
          0.9218537869175375,
          0.28860763267064904,
          0.264056480265417,
          -1.7034195957732086,
          -1.2735263824434337,
          0.0453635049200079,
          1.7750461014137107,
          0.5036219550962464,
          1.659598689144155,
          0.9941880574328251,
          -0.293563658171593,
          -0.5632201905824927
         ],
         "yaxis": "y4"
        },
        {
         "line": {
          "color": "rgba(128, 128, 128, 1.0)",
          "dash": "solid",
          "shape": "linear",
          "width": 1.3
         },
         "marker": {
          "size": 2,
          "symbol": "circle"
         },
         "mode": "markers",
         "name": "B",
         "text": "",
         "type": "scatter",
         "x": [
          0.3864119162303842,
          1.204197254885549,
          0.8915805046705403,
          0.6946310665445125,
          0.27765294539122676,
          0.5420527940393374,
          0.23163388502617024,
          -0.24611912165954075,
          0.1975421663222593,
          0.8306471225012765,
          -0.5947951947859332,
          0.07533484285624369,
          -0.48662233745461614,
          1.2095431597771475,
          1.4388081805724247,
          1.3213720547077155,
          -1.542678635966428,
          -0.24637024407810829,
          -0.05115857332615439,
          0.21033451070698972,
          3.1612127350544856,
          -1.3787329216099466,
          -0.39174937013067923,
          -1.464323976922046,
          -1.621593224518355,
          0.15333833029814659,
          -0.7801974870265284,
          -1.730171318650708,
          -0.1720820731605149,
          -1.4979155734855347,
          0.316666982307522,
          0.1429949741686534,
          -0.5073673656104781,
          0.8917748631288538,
          2.085554829503526,
          1.4364692534114378,
          -0.38471538218531065,
          -0.5217697385214842,
          0.17919576221160585,
          -0.1905462288446752,
          0.8396965913811204,
          -1.1132884509071437,
          0.24339161281964752,
          -1.429548270239324,
          -0.5806266492981891,
          -1.8770382428692274,
          -0.8888074513675872,
          0.24316207731286255,
          0.4982225352735528,
          -0.034273365889114026,
          -0.5825018111849762,
          -0.8798476373749529,
          1.1995589876220574,
          1.669952108825188,
          -0.3872968742445013,
          -1.0494059696781197,
          0.40754686773647897,
          -1.247921791425569,
          -0.3806257771839392,
          -0.5216481009040306,
          1.5405864399231293,
          -0.12969459449988752,
          -0.4523693590554315,
          -1.1046653902623707,
          1.6385742609526037,
          -0.541543061446402,
          0.8324264462958443,
          1.22474992003944,
          -0.09938681665143169,
          1.0468396972670604,
          -0.18671385796428455,
          -0.38257096000942087,
          0.5438194423985938,
          -0.19667430866170896,
          0.19775465238386308,
          -1.4257793282210245,
          0.23259243306741084,
          -0.7775097925144028,
          -1.0023132477348573,
          -0.2026193056462473,
          1.211440099443612,
          -1.563756949537177,
          0.5652204704929931,
          0.22997063377231486,
          0.6141551613384159,
          -0.5967768099632359,
          -0.8636424612336109,
          1.625871151332099,
          0.9218537869175375,
          0.28860763267064904,
          0.264056480265417,
          -1.7034195957732086,
          -1.2735263824434337,
          0.0453635049200079,
          1.7750461014137107,
          0.5036219550962464,
          1.659598689144155,
          0.9941880574328251,
          -0.293563658171593,
          -0.5632201905824927
         ],
         "xaxis": "x5",
         "y": [
          0.663644916668608,
          0.8539894629565865,
          0.7182721805036181,
          -0.23131728651643915,
          1.0520682868690088,
          0.512886451876651,
          0.3962742013757297,
          0.19244837036910498,
          0.6942048027893358,
          -0.2722249899358359,
          0.6634385692004368,
          0.9800891949991442,
          1.1118229049368433,
          -0.10678861848750934,
          0.4690419300255005,
          -0.9723919008515634,
          -1.8757792550845664,
          0.8625745446710906,
          -0.7827619578718803,
          1.6677033232903173,
          1.1146211902632992,
          -1.3538638195878034,
          -0.31828942591868525,
          -0.003779765834421749,
          -0.815296361103711,
          1.1123892326502263,
          -0.7845936279014872,
          -1.9797114354721983,
          -1.390372692915758,
          1.6503369920929167,
          -0.14899684895433177,
          -0.8231575334399924,
          0.16104253963553297,
          0.7836004550291542,
          -0.33153498382638535,
          0.8407689388417556,
          -0.03281131948110183,
          0.12231113887453894,
          -0.018984964617667407,
          -0.6402845786433076,
          -0.12032126474864979,
          0.7349396313531462,
          -0.8960260796006839,
          0.7576566829971076,
          1.5999888684153223,
          -1.1286716075963636,
          1.5534085433341411,
          -0.7244406208197438,
          0.9263127855310453,
          -0.5391208826579759,
          -0.22257653120121626,
          0.4034032365585807,
          1.3094635291740735,
          -0.17829845039408723,
          -0.34107945675869356,
          1.1031629412688133,
          1.1937899917993917,
          -1.3332954918220914,
          -0.008346989593206655,
          -0.6328859674322583,
          -0.7205485931175036,
          1.0154031030661033,
          -1.5408076869474618,
          -0.1865187258517424,
          -0.48252363590092134,
          1.1208765865460928,
          -0.1206576183143393,
          0.3111316770088429,
          -0.8692757764238744,
          0.2683730398176634,
          1.201520534380479,
          1.8412641038761008,
          1.1903462992361296,
          -0.0972977226935668,
          0.35613581513712733,
          1.6478213551010252,
          -0.3197494553823164,
          0.28441072498000314,
          -1.6810004114282828,
          0.2943187027071099,
          -0.8031971015880753,
          -1.0280244607883133,
          -0.3548532385182408,
          -0.2997666538463908,
          -1.0143036354426633,
          -0.45467754603306093,
          0.4520630514102458,
          -1.1233903175090119,
          -0.27233724745283466,
          -0.29285161781770586,
          -0.7418022189104699,
          -1.1562087044083964,
          -0.6457668576781612,
          0.5373550478693669,
          1.2242863244276385,
          -0.9874880065577107,
          -0.6471030553787697,
          -0.048739317504564866,
          -0.23677463664566517,
          0.42998336423142036
         ],
         "yaxis": "y5"
        },
        {
         "histfunc": "count",
         "histnorm": "",
         "marker": {
          "color": "rgba(55, 128, 191, 1.0)",
          "line": {
           "color": "#4D5663",
           "width": 1.3
          }
         },
         "name": "B",
         "nbinsx": 10,
         "opacity": 0.8,
         "orientation": "v",
         "type": "histogram",
         "x": [
          0.663644916668608,
          0.8539894629565865,
          0.7182721805036181,
          -0.23131728651643915,
          1.0520682868690088,
          0.512886451876651,
          0.3962742013757297,
          0.19244837036910498,
          0.6942048027893358,
          -0.2722249899358359,
          0.6634385692004368,
          0.9800891949991442,
          1.1118229049368433,
          -0.10678861848750934,
          0.4690419300255005,
          -0.9723919008515634,
          -1.8757792550845664,
          0.8625745446710906,
          -0.7827619578718803,
          1.6677033232903173,
          1.1146211902632992,
          -1.3538638195878034,
          -0.31828942591868525,
          -0.003779765834421749,
          -0.815296361103711,
          1.1123892326502263,
          -0.7845936279014872,
          -1.9797114354721983,
          -1.390372692915758,
          1.6503369920929167,
          -0.14899684895433177,
          -0.8231575334399924,
          0.16104253963553297,
          0.7836004550291542,
          -0.33153498382638535,
          0.8407689388417556,
          -0.03281131948110183,
          0.12231113887453894,
          -0.018984964617667407,
          -0.6402845786433076,
          -0.12032126474864979,
          0.7349396313531462,
          -0.8960260796006839,
          0.7576566829971076,
          1.5999888684153223,
          -1.1286716075963636,
          1.5534085433341411,
          -0.7244406208197438,
          0.9263127855310453,
          -0.5391208826579759,
          -0.22257653120121626,
          0.4034032365585807,
          1.3094635291740735,
          -0.17829845039408723,
          -0.34107945675869356,
          1.1031629412688133,
          1.1937899917993917,
          -1.3332954918220914,
          -0.008346989593206655,
          -0.6328859674322583,
          -0.7205485931175036,
          1.0154031030661033,
          -1.5408076869474618,
          -0.1865187258517424,
          -0.48252363590092134,
          1.1208765865460928,
          -0.1206576183143393,
          0.3111316770088429,
          -0.8692757764238744,
          0.2683730398176634,
          1.201520534380479,
          1.8412641038761008,
          1.1903462992361296,
          -0.0972977226935668,
          0.35613581513712733,
          1.6478213551010252,
          -0.3197494553823164,
          0.28441072498000314,
          -1.6810004114282828,
          0.2943187027071099,
          -0.8031971015880753,
          -1.0280244607883133,
          -0.3548532385182408,
          -0.2997666538463908,
          -1.0143036354426633,
          -0.45467754603306093,
          0.4520630514102458,
          -1.1233903175090119,
          -0.27233724745283466,
          -0.29285161781770586,
          -0.7418022189104699,
          -1.1562087044083964,
          -0.6457668576781612,
          0.5373550478693669,
          1.2242863244276385,
          -0.9874880065577107,
          -0.6471030553787697,
          -0.048739317504564866,
          -0.23677463664566517,
          0.42998336423142036
         ],
         "xaxis": "x6",
         "yaxis": "y6"
        },
        {
         "line": {
          "color": "rgba(128, 128, 128, 1.0)",
          "dash": "solid",
          "shape": "linear",
          "width": 1.3
         },
         "marker": {
          "size": 2,
          "symbol": "circle"
         },
         "mode": "markers",
         "name": "B",
         "text": "",
         "type": "scatter",
         "x": [
          -0.6538122694356095,
          0.29632246647545535,
          0.17940594091991843,
          0.6476627486246456,
          -0.10043811437228084,
          0.11338010465450052,
          -0.08356160498701343,
          -0.7316754573876626,
          -1.2365039762262189,
          -0.6386337749042802,
          -0.7926064521593136,
          -0.742671479208652,
          -0.3370161800707922,
          1.1897598509216165,
          0.7242630798740226,
          0.12021300751943033,
          -1.5541924942579035,
          1.5028214113878702,
          0.760501650197293,
          0.7515986114830532,
          -1.2686451344996938,
          0.01609558960139597,
          -1.6128707827272581,
          0.6903498423641136,
          0.7602651962954348,
          0.0673948377388364,
          -0.9775168899165652,
          0.5585404568888361,
          0.8523224276827606,
          -1.0041705242290733,
          0.5914262277861494,
          -0.5496136621526938,
          0.7017726636910391,
          0.15870469356872455,
          -2.4273620027153555,
          -0.5864254688778012,
          -0.0289089911443751,
          -0.8291195208456038,
          -0.9096062411979251,
          -1.1314170041692238,
          -0.5186793448446886,
          0.3108681995737991,
          -0.8378873764383811,
          0.158880930094833,
          0.7031221132836886,
          0.6505719191055622,
          0.43745761711076453,
          0.45318431224770556,
          -0.6414398264092175,
          0.523073885686085,
          0.12734147164046977,
          -0.770936570781369,
          -1.6151182596614424,
          0.9540473104491346,
          1.67023663497916,
          0.574762895692311,
          -0.8667434406776809,
          -1.2863033897237754,
          1.614402266304719,
          -1.8034959885421769,
          -1.3636443614651592,
          -0.4933435802573463,
          -0.6394587059741395,
          -2.2718745671441094,
          0.553289670910159,
          -1.0078069494814215,
          0.6043589606740618,
          1.4229283648169193,
          -0.179323294635072,
          0.2538061840793955,
          1.0263302945895039,
          0.394082382521719,
          3.121232497730125,
          1.3303969625222654,
          -1.1541522860639097,
          -0.23166102490887022,
          -0.7608722899456053,
          0.8666182729219869,
          0.5350322672866142,
          -1.4602188149153486,
          1.3344993116679742,
          -1.6617774845100284,
          0.42361503860653943,
          1.0908923129569281,
          -0.5303449319476716,
          1.2150687585703044,
          0.7158276442576861,
          -1.9543227706481956,
          -0.33939479342369694,
          0.4821056907373301,
          1.9533934250885414,
          -0.8069952996393184,
          0.7918551373589061,
          -0.17608519122254984,
          -0.30426593014751024,
          1.6164723943168042,
          -0.45506196261105936,
          0.3152484690447127,
          1.647266342350233,
          -0.7223542684237176
         ],
         "xaxis": "x7",
         "y": [
          0.663644916668608,
          0.8539894629565865,
          0.7182721805036181,
          -0.23131728651643915,
          1.0520682868690088,
          0.512886451876651,
          0.3962742013757297,
          0.19244837036910498,
          0.6942048027893358,
          -0.2722249899358359,
          0.6634385692004368,
          0.9800891949991442,
          1.1118229049368433,
          -0.10678861848750934,
          0.4690419300255005,
          -0.9723919008515634,
          -1.8757792550845664,
          0.8625745446710906,
          -0.7827619578718803,
          1.6677033232903173,
          1.1146211902632992,
          -1.3538638195878034,
          -0.31828942591868525,
          -0.003779765834421749,
          -0.815296361103711,
          1.1123892326502263,
          -0.7845936279014872,
          -1.9797114354721983,
          -1.390372692915758,
          1.6503369920929167,
          -0.14899684895433177,
          -0.8231575334399924,
          0.16104253963553297,
          0.7836004550291542,
          -0.33153498382638535,
          0.8407689388417556,
          -0.03281131948110183,
          0.12231113887453894,
          -0.018984964617667407,
          -0.6402845786433076,
          -0.12032126474864979,
          0.7349396313531462,
          -0.8960260796006839,
          0.7576566829971076,
          1.5999888684153223,
          -1.1286716075963636,
          1.5534085433341411,
          -0.7244406208197438,
          0.9263127855310453,
          -0.5391208826579759,
          -0.22257653120121626,
          0.4034032365585807,
          1.3094635291740735,
          -0.17829845039408723,
          -0.34107945675869356,
          1.1031629412688133,
          1.1937899917993917,
          -1.3332954918220914,
          -0.008346989593206655,
          -0.6328859674322583,
          -0.7205485931175036,
          1.0154031030661033,
          -1.5408076869474618,
          -0.1865187258517424,
          -0.48252363590092134,
          1.1208765865460928,
          -0.1206576183143393,
          0.3111316770088429,
          -0.8692757764238744,
          0.2683730398176634,
          1.201520534380479,
          1.8412641038761008,
          1.1903462992361296,
          -0.0972977226935668,
          0.35613581513712733,
          1.6478213551010252,
          -0.3197494553823164,
          0.28441072498000314,
          -1.6810004114282828,
          0.2943187027071099,
          -0.8031971015880753,
          -1.0280244607883133,
          -0.3548532385182408,
          -0.2997666538463908,
          -1.0143036354426633,
          -0.45467754603306093,
          0.4520630514102458,
          -1.1233903175090119,
          -0.27233724745283466,
          -0.29285161781770586,
          -0.7418022189104699,
          -1.1562087044083964,
          -0.6457668576781612,
          0.5373550478693669,
          1.2242863244276385,
          -0.9874880065577107,
          -0.6471030553787697,
          -0.048739317504564866,
          -0.23677463664566517,
          0.42998336423142036
         ],
         "yaxis": "y7"
        },
        {
         "line": {
          "color": "rgba(128, 128, 128, 1.0)",
          "dash": "solid",
          "shape": "linear",
          "width": 1.3
         },
         "marker": {
          "size": 2,
          "symbol": "circle"
         },
         "mode": "markers",
         "name": "B",
         "text": "",
         "type": "scatter",
         "x": [
          0.4757041776816243,
          0.590059346810028,
          1.4898915294795725,
          -0.10129042263276683,
          1.1597985080190125,
          0.0724982860361312,
          0.2619252841036569,
          0.061469576277574184,
          0.8196718590872685,
          0.01240778778894669,
          -0.17978598192692227,
          0.7752167917400364,
          -0.7883907933883273,
          -0.5913088626844035,
          0.840354822847208,
          0.2033445961535619,
          -0.5372586713560256,
          0.4232216389089505,
          -0.2528325544163104,
          1.3249290964393545,
          -0.40583222858635587,
          0.21658564791370435,
          0.11080851452461021,
          -1.510576937964176,
          0.44917619312760176,
          0.7236215239497839,
          1.3401738752050207,
          -0.5284184494366296,
          0.5168797933043524,
          0.27983750198876206,
          0.6462227083234211,
          -1.6537132076782313,
          0.6353620784452373,
          -1.886652937081722,
          1.492870807314742,
          -0.08148994426046148,
          0.9983669181816184,
          -0.19043088811464584,
          -0.5688184865474755,
          0.5624134837235857,
          -0.3210101968912109,
          1.213691522496094,
          -0.6308343201304198,
          -0.26552273071010934,
          0.0382706171539293,
          -0.42471459773090114,
          -1.2553973083616052,
          0.22693857017483704,
          -0.09986680003889419,
          -1.1171045042039667,
          -1.7636923232057913,
          -0.8078679446482997,
          -0.5113036700437527,
          0.13352748397932704,
          -0.481125035670177,
          -0.3364057735395534,
          0.5550899769272462,
          0.5876780577788043,
          -1.2003862841996797,
          1.6471280758452198,
          0.20112173315908158,
          1.2654140663662488,
          -0.8893935549005481,
          1.5474457958694703,
          -0.9223180706019465,
          -1.990699220593327,
          -0.312954805627847,
          0.19046176478033308,
          0.8584044198133884,
          -0.8279642354823153,
          -0.8110986924038266,
          -1.749313401583035,
          -0.5130068061780467,
          0.2557293226317499,
          1.9607498420411158,
          0.8220431076067412,
          0.6229318544142777,
          0.6659824134676142,
          -1.53152263813704,
          0.4644195955382767,
          0.8911958385726465,
          0.26943097640536046,
          0.711729257448235,
          0.7924413057554689,
          0.42979066547023326,
          0.8931354553398241,
          -1.9331873902697487,
          0.5555385587552265,
          -0.9853819496872513,
          0.161249515605386,
          1.9759695910147321,
          1.4093690275179895,
          -1.1299357517823005,
          2.3298930325014813,
          -1.1510253706195832,
          -0.8203802944899652,
          -0.42983926404297373,
          -0.13911929398213121,
          -0.019621435532456055,
          -0.7622062333318493
         ],
         "xaxis": "x8",
         "y": [
          0.663644916668608,
          0.8539894629565865,
          0.7182721805036181,
          -0.23131728651643915,
          1.0520682868690088,
          0.512886451876651,
          0.3962742013757297,
          0.19244837036910498,
          0.6942048027893358,
          -0.2722249899358359,
          0.6634385692004368,
          0.9800891949991442,
          1.1118229049368433,
          -0.10678861848750934,
          0.4690419300255005,
          -0.9723919008515634,
          -1.8757792550845664,
          0.8625745446710906,
          -0.7827619578718803,
          1.6677033232903173,
          1.1146211902632992,
          -1.3538638195878034,
          -0.31828942591868525,
          -0.003779765834421749,
          -0.815296361103711,
          1.1123892326502263,
          -0.7845936279014872,
          -1.9797114354721983,
          -1.390372692915758,
          1.6503369920929167,
          -0.14899684895433177,
          -0.8231575334399924,
          0.16104253963553297,
          0.7836004550291542,
          -0.33153498382638535,
          0.8407689388417556,
          -0.03281131948110183,
          0.12231113887453894,
          -0.018984964617667407,
          -0.6402845786433076,
          -0.12032126474864979,
          0.7349396313531462,
          -0.8960260796006839,
          0.7576566829971076,
          1.5999888684153223,
          -1.1286716075963636,
          1.5534085433341411,
          -0.7244406208197438,
          0.9263127855310453,
          -0.5391208826579759,
          -0.22257653120121626,
          0.4034032365585807,
          1.3094635291740735,
          -0.17829845039408723,
          -0.34107945675869356,
          1.1031629412688133,
          1.1937899917993917,
          -1.3332954918220914,
          -0.008346989593206655,
          -0.6328859674322583,
          -0.7205485931175036,
          1.0154031030661033,
          -1.5408076869474618,
          -0.1865187258517424,
          -0.48252363590092134,
          1.1208765865460928,
          -0.1206576183143393,
          0.3111316770088429,
          -0.8692757764238744,
          0.2683730398176634,
          1.201520534380479,
          1.8412641038761008,
          1.1903462992361296,
          -0.0972977226935668,
          0.35613581513712733,
          1.6478213551010252,
          -0.3197494553823164,
          0.28441072498000314,
          -1.6810004114282828,
          0.2943187027071099,
          -0.8031971015880753,
          -1.0280244607883133,
          -0.3548532385182408,
          -0.2997666538463908,
          -1.0143036354426633,
          -0.45467754603306093,
          0.4520630514102458,
          -1.1233903175090119,
          -0.27233724745283466,
          -0.29285161781770586,
          -0.7418022189104699,
          -1.1562087044083964,
          -0.6457668576781612,
          0.5373550478693669,
          1.2242863244276385,
          -0.9874880065577107,
          -0.6471030553787697,
          -0.048739317504564866,
          -0.23677463664566517,
          0.42998336423142036
         ],
         "yaxis": "y8"
        },
        {
         "line": {
          "color": "rgba(128, 128, 128, 1.0)",
          "dash": "solid",
          "shape": "linear",
          "width": 1.3
         },
         "marker": {
          "size": 2,
          "symbol": "circle"
         },
         "mode": "markers",
         "name": "C",
         "text": "",
         "type": "scatter",
         "x": [
          0.3864119162303842,
          1.204197254885549,
          0.8915805046705403,
          0.6946310665445125,
          0.27765294539122676,
          0.5420527940393374,
          0.23163388502617024,
          -0.24611912165954075,
          0.1975421663222593,
          0.8306471225012765,
          -0.5947951947859332,
          0.07533484285624369,
          -0.48662233745461614,
          1.2095431597771475,
          1.4388081805724247,
          1.3213720547077155,
          -1.542678635966428,
          -0.24637024407810829,
          -0.05115857332615439,
          0.21033451070698972,
          3.1612127350544856,
          -1.3787329216099466,
          -0.39174937013067923,
          -1.464323976922046,
          -1.621593224518355,
          0.15333833029814659,
          -0.7801974870265284,
          -1.730171318650708,
          -0.1720820731605149,
          -1.4979155734855347,
          0.316666982307522,
          0.1429949741686534,
          -0.5073673656104781,
          0.8917748631288538,
          2.085554829503526,
          1.4364692534114378,
          -0.38471538218531065,
          -0.5217697385214842,
          0.17919576221160585,
          -0.1905462288446752,
          0.8396965913811204,
          -1.1132884509071437,
          0.24339161281964752,
          -1.429548270239324,
          -0.5806266492981891,
          -1.8770382428692274,
          -0.8888074513675872,
          0.24316207731286255,
          0.4982225352735528,
          -0.034273365889114026,
          -0.5825018111849762,
          -0.8798476373749529,
          1.1995589876220574,
          1.669952108825188,
          -0.3872968742445013,
          -1.0494059696781197,
          0.40754686773647897,
          -1.247921791425569,
          -0.3806257771839392,
          -0.5216481009040306,
          1.5405864399231293,
          -0.12969459449988752,
          -0.4523693590554315,
          -1.1046653902623707,
          1.6385742609526037,
          -0.541543061446402,
          0.8324264462958443,
          1.22474992003944,
          -0.09938681665143169,
          1.0468396972670604,
          -0.18671385796428455,
          -0.38257096000942087,
          0.5438194423985938,
          -0.19667430866170896,
          0.19775465238386308,
          -1.4257793282210245,
          0.23259243306741084,
          -0.7775097925144028,
          -1.0023132477348573,
          -0.2026193056462473,
          1.211440099443612,
          -1.563756949537177,
          0.5652204704929931,
          0.22997063377231486,
          0.6141551613384159,
          -0.5967768099632359,
          -0.8636424612336109,
          1.625871151332099,
          0.9218537869175375,
          0.28860763267064904,
          0.264056480265417,
          -1.7034195957732086,
          -1.2735263824434337,
          0.0453635049200079,
          1.7750461014137107,
          0.5036219550962464,
          1.659598689144155,
          0.9941880574328251,
          -0.293563658171593,
          -0.5632201905824927
         ],
         "xaxis": "x9",
         "y": [
          -0.6538122694356095,
          0.29632246647545535,
          0.17940594091991843,
          0.6476627486246456,
          -0.10043811437228084,
          0.11338010465450052,
          -0.08356160498701343,
          -0.7316754573876626,
          -1.2365039762262189,
          -0.6386337749042802,
          -0.7926064521593136,
          -0.742671479208652,
          -0.3370161800707922,
          1.1897598509216165,
          0.7242630798740226,
          0.12021300751943033,
          -1.5541924942579035,
          1.5028214113878702,
          0.760501650197293,
          0.7515986114830532,
          -1.2686451344996938,
          0.01609558960139597,
          -1.6128707827272581,
          0.6903498423641136,
          0.7602651962954348,
          0.0673948377388364,
          -0.9775168899165652,
          0.5585404568888361,
          0.8523224276827606,
          -1.0041705242290733,
          0.5914262277861494,
          -0.5496136621526938,
          0.7017726636910391,
          0.15870469356872455,
          -2.4273620027153555,
          -0.5864254688778012,
          -0.0289089911443751,
          -0.8291195208456038,
          -0.9096062411979251,
          -1.1314170041692238,
          -0.5186793448446886,
          0.3108681995737991,
          -0.8378873764383811,
          0.158880930094833,
          0.7031221132836886,
          0.6505719191055622,
          0.43745761711076453,
          0.45318431224770556,
          -0.6414398264092175,
          0.523073885686085,
          0.12734147164046977,
          -0.770936570781369,
          -1.6151182596614424,
          0.9540473104491346,
          1.67023663497916,
          0.574762895692311,
          -0.8667434406776809,
          -1.2863033897237754,
          1.614402266304719,
          -1.8034959885421769,
          -1.3636443614651592,
          -0.4933435802573463,
          -0.6394587059741395,
          -2.2718745671441094,
          0.553289670910159,
          -1.0078069494814215,
          0.6043589606740618,
          1.4229283648169193,
          -0.179323294635072,
          0.2538061840793955,
          1.0263302945895039,
          0.394082382521719,
          3.121232497730125,
          1.3303969625222654,
          -1.1541522860639097,
          -0.23166102490887022,
          -0.7608722899456053,
          0.8666182729219869,
          0.5350322672866142,
          -1.4602188149153486,
          1.3344993116679742,
          -1.6617774845100284,
          0.42361503860653943,
          1.0908923129569281,
          -0.5303449319476716,
          1.2150687585703044,
          0.7158276442576861,
          -1.9543227706481956,
          -0.33939479342369694,
          0.4821056907373301,
          1.9533934250885414,
          -0.8069952996393184,
          0.7918551373589061,
          -0.17608519122254984,
          -0.30426593014751024,
          1.6164723943168042,
          -0.45506196261105936,
          0.3152484690447127,
          1.647266342350233,
          -0.7223542684237176
         ],
         "yaxis": "y9"
        },
        {
         "line": {
          "color": "rgba(128, 128, 128, 1.0)",
          "dash": "solid",
          "shape": "linear",
          "width": 1.3
         },
         "marker": {
          "size": 2,
          "symbol": "circle"
         },
         "mode": "markers",
         "name": "C",
         "text": "",
         "type": "scatter",
         "x": [
          0.663644916668608,
          0.8539894629565865,
          0.7182721805036181,
          -0.23131728651643915,
          1.0520682868690088,
          0.512886451876651,
          0.3962742013757297,
          0.19244837036910498,
          0.6942048027893358,
          -0.2722249899358359,
          0.6634385692004368,
          0.9800891949991442,
          1.1118229049368433,
          -0.10678861848750934,
          0.4690419300255005,
          -0.9723919008515634,
          -1.8757792550845664,
          0.8625745446710906,
          -0.7827619578718803,
          1.6677033232903173,
          1.1146211902632992,
          -1.3538638195878034,
          -0.31828942591868525,
          -0.003779765834421749,
          -0.815296361103711,
          1.1123892326502263,
          -0.7845936279014872,
          -1.9797114354721983,
          -1.390372692915758,
          1.6503369920929167,
          -0.14899684895433177,
          -0.8231575334399924,
          0.16104253963553297,
          0.7836004550291542,
          -0.33153498382638535,
          0.8407689388417556,
          -0.03281131948110183,
          0.12231113887453894,
          -0.018984964617667407,
          -0.6402845786433076,
          -0.12032126474864979,
          0.7349396313531462,
          -0.8960260796006839,
          0.7576566829971076,
          1.5999888684153223,
          -1.1286716075963636,
          1.5534085433341411,
          -0.7244406208197438,
          0.9263127855310453,
          -0.5391208826579759,
          -0.22257653120121626,
          0.4034032365585807,
          1.3094635291740735,
          -0.17829845039408723,
          -0.34107945675869356,
          1.1031629412688133,
          1.1937899917993917,
          -1.3332954918220914,
          -0.008346989593206655,
          -0.6328859674322583,
          -0.7205485931175036,
          1.0154031030661033,
          -1.5408076869474618,
          -0.1865187258517424,
          -0.48252363590092134,
          1.1208765865460928,
          -0.1206576183143393,
          0.3111316770088429,
          -0.8692757764238744,
          0.2683730398176634,
          1.201520534380479,
          1.8412641038761008,
          1.1903462992361296,
          -0.0972977226935668,
          0.35613581513712733,
          1.6478213551010252,
          -0.3197494553823164,
          0.28441072498000314,
          -1.6810004114282828,
          0.2943187027071099,
          -0.8031971015880753,
          -1.0280244607883133,
          -0.3548532385182408,
          -0.2997666538463908,
          -1.0143036354426633,
          -0.45467754603306093,
          0.4520630514102458,
          -1.1233903175090119,
          -0.27233724745283466,
          -0.29285161781770586,
          -0.7418022189104699,
          -1.1562087044083964,
          -0.6457668576781612,
          0.5373550478693669,
          1.2242863244276385,
          -0.9874880065577107,
          -0.6471030553787697,
          -0.048739317504564866,
          -0.23677463664566517,
          0.42998336423142036
         ],
         "xaxis": "x10",
         "y": [
          -0.6538122694356095,
          0.29632246647545535,
          0.17940594091991843,
          0.6476627486246456,
          -0.10043811437228084,
          0.11338010465450052,
          -0.08356160498701343,
          -0.7316754573876626,
          -1.2365039762262189,
          -0.6386337749042802,
          -0.7926064521593136,
          -0.742671479208652,
          -0.3370161800707922,
          1.1897598509216165,
          0.7242630798740226,
          0.12021300751943033,
          -1.5541924942579035,
          1.5028214113878702,
          0.760501650197293,
          0.7515986114830532,
          -1.2686451344996938,
          0.01609558960139597,
          -1.6128707827272581,
          0.6903498423641136,
          0.7602651962954348,
          0.0673948377388364,
          -0.9775168899165652,
          0.5585404568888361,
          0.8523224276827606,
          -1.0041705242290733,
          0.5914262277861494,
          -0.5496136621526938,
          0.7017726636910391,
          0.15870469356872455,
          -2.4273620027153555,
          -0.5864254688778012,
          -0.0289089911443751,
          -0.8291195208456038,
          -0.9096062411979251,
          -1.1314170041692238,
          -0.5186793448446886,
          0.3108681995737991,
          -0.8378873764383811,
          0.158880930094833,
          0.7031221132836886,
          0.6505719191055622,
          0.43745761711076453,
          0.45318431224770556,
          -0.6414398264092175,
          0.523073885686085,
          0.12734147164046977,
          -0.770936570781369,
          -1.6151182596614424,
          0.9540473104491346,
          1.67023663497916,
          0.574762895692311,
          -0.8667434406776809,
          -1.2863033897237754,
          1.614402266304719,
          -1.8034959885421769,
          -1.3636443614651592,
          -0.4933435802573463,
          -0.6394587059741395,
          -2.2718745671441094,
          0.553289670910159,
          -1.0078069494814215,
          0.6043589606740618,
          1.4229283648169193,
          -0.179323294635072,
          0.2538061840793955,
          1.0263302945895039,
          0.394082382521719,
          3.121232497730125,
          1.3303969625222654,
          -1.1541522860639097,
          -0.23166102490887022,
          -0.7608722899456053,
          0.8666182729219869,
          0.5350322672866142,
          -1.4602188149153486,
          1.3344993116679742,
          -1.6617774845100284,
          0.42361503860653943,
          1.0908923129569281,
          -0.5303449319476716,
          1.2150687585703044,
          0.7158276442576861,
          -1.9543227706481956,
          -0.33939479342369694,
          0.4821056907373301,
          1.9533934250885414,
          -0.8069952996393184,
          0.7918551373589061,
          -0.17608519122254984,
          -0.30426593014751024,
          1.6164723943168042,
          -0.45506196261105936,
          0.3152484690447127,
          1.647266342350233,
          -0.7223542684237176
         ],
         "yaxis": "y10"
        },
        {
         "histfunc": "count",
         "histnorm": "",
         "marker": {
          "color": "rgba(50, 171, 96, 1.0)",
          "line": {
           "color": "#4D5663",
           "width": 1.3
          }
         },
         "name": "C",
         "nbinsx": 10,
         "opacity": 0.8,
         "orientation": "v",
         "type": "histogram",
         "x": [
          -0.6538122694356095,
          0.29632246647545535,
          0.17940594091991843,
          0.6476627486246456,
          -0.10043811437228084,
          0.11338010465450052,
          -0.08356160498701343,
          -0.7316754573876626,
          -1.2365039762262189,
          -0.6386337749042802,
          -0.7926064521593136,
          -0.742671479208652,
          -0.3370161800707922,
          1.1897598509216165,
          0.7242630798740226,
          0.12021300751943033,
          -1.5541924942579035,
          1.5028214113878702,
          0.760501650197293,
          0.7515986114830532,
          -1.2686451344996938,
          0.01609558960139597,
          -1.6128707827272581,
          0.6903498423641136,
          0.7602651962954348,
          0.0673948377388364,
          -0.9775168899165652,
          0.5585404568888361,
          0.8523224276827606,
          -1.0041705242290733,
          0.5914262277861494,
          -0.5496136621526938,
          0.7017726636910391,
          0.15870469356872455,
          -2.4273620027153555,
          -0.5864254688778012,
          -0.0289089911443751,
          -0.8291195208456038,
          -0.9096062411979251,
          -1.1314170041692238,
          -0.5186793448446886,
          0.3108681995737991,
          -0.8378873764383811,
          0.158880930094833,
          0.7031221132836886,
          0.6505719191055622,
          0.43745761711076453,
          0.45318431224770556,
          -0.6414398264092175,
          0.523073885686085,
          0.12734147164046977,
          -0.770936570781369,
          -1.6151182596614424,
          0.9540473104491346,
          1.67023663497916,
          0.574762895692311,
          -0.8667434406776809,
          -1.2863033897237754,
          1.614402266304719,
          -1.8034959885421769,
          -1.3636443614651592,
          -0.4933435802573463,
          -0.6394587059741395,
          -2.2718745671441094,
          0.553289670910159,
          -1.0078069494814215,
          0.6043589606740618,
          1.4229283648169193,
          -0.179323294635072,
          0.2538061840793955,
          1.0263302945895039,
          0.394082382521719,
          3.121232497730125,
          1.3303969625222654,
          -1.1541522860639097,
          -0.23166102490887022,
          -0.7608722899456053,
          0.8666182729219869,
          0.5350322672866142,
          -1.4602188149153486,
          1.3344993116679742,
          -1.6617774845100284,
          0.42361503860653943,
          1.0908923129569281,
          -0.5303449319476716,
          1.2150687585703044,
          0.7158276442576861,
          -1.9543227706481956,
          -0.33939479342369694,
          0.4821056907373301,
          1.9533934250885414,
          -0.8069952996393184,
          0.7918551373589061,
          -0.17608519122254984,
          -0.30426593014751024,
          1.6164723943168042,
          -0.45506196261105936,
          0.3152484690447127,
          1.647266342350233,
          -0.7223542684237176
         ],
         "xaxis": "x11",
         "yaxis": "y11"
        },
        {
         "line": {
          "color": "rgba(128, 128, 128, 1.0)",
          "dash": "solid",
          "shape": "linear",
          "width": 1.3
         },
         "marker": {
          "size": 2,
          "symbol": "circle"
         },
         "mode": "markers",
         "name": "C",
         "text": "",
         "type": "scatter",
         "x": [
          0.4757041776816243,
          0.590059346810028,
          1.4898915294795725,
          -0.10129042263276683,
          1.1597985080190125,
          0.0724982860361312,
          0.2619252841036569,
          0.061469576277574184,
          0.8196718590872685,
          0.01240778778894669,
          -0.17978598192692227,
          0.7752167917400364,
          -0.7883907933883273,
          -0.5913088626844035,
          0.840354822847208,
          0.2033445961535619,
          -0.5372586713560256,
          0.4232216389089505,
          -0.2528325544163104,
          1.3249290964393545,
          -0.40583222858635587,
          0.21658564791370435,
          0.11080851452461021,
          -1.510576937964176,
          0.44917619312760176,
          0.7236215239497839,
          1.3401738752050207,
          -0.5284184494366296,
          0.5168797933043524,
          0.27983750198876206,
          0.6462227083234211,
          -1.6537132076782313,
          0.6353620784452373,
          -1.886652937081722,
          1.492870807314742,
          -0.08148994426046148,
          0.9983669181816184,
          -0.19043088811464584,
          -0.5688184865474755,
          0.5624134837235857,
          -0.3210101968912109,
          1.213691522496094,
          -0.6308343201304198,
          -0.26552273071010934,
          0.0382706171539293,
          -0.42471459773090114,
          -1.2553973083616052,
          0.22693857017483704,
          -0.09986680003889419,
          -1.1171045042039667,
          -1.7636923232057913,
          -0.8078679446482997,
          -0.5113036700437527,
          0.13352748397932704,
          -0.481125035670177,
          -0.3364057735395534,
          0.5550899769272462,
          0.5876780577788043,
          -1.2003862841996797,
          1.6471280758452198,
          0.20112173315908158,
          1.2654140663662488,
          -0.8893935549005481,
          1.5474457958694703,
          -0.9223180706019465,
          -1.990699220593327,
          -0.312954805627847,
          0.19046176478033308,
          0.8584044198133884,
          -0.8279642354823153,
          -0.8110986924038266,
          -1.749313401583035,
          -0.5130068061780467,
          0.2557293226317499,
          1.9607498420411158,
          0.8220431076067412,
          0.6229318544142777,
          0.6659824134676142,
          -1.53152263813704,
          0.4644195955382767,
          0.8911958385726465,
          0.26943097640536046,
          0.711729257448235,
          0.7924413057554689,
          0.42979066547023326,
          0.8931354553398241,
          -1.9331873902697487,
          0.5555385587552265,
          -0.9853819496872513,
          0.161249515605386,
          1.9759695910147321,
          1.4093690275179895,
          -1.1299357517823005,
          2.3298930325014813,
          -1.1510253706195832,
          -0.8203802944899652,
          -0.42983926404297373,
          -0.13911929398213121,
          -0.019621435532456055,
          -0.7622062333318493
         ],
         "xaxis": "x12",
         "y": [
          -0.6538122694356095,
          0.29632246647545535,
          0.17940594091991843,
          0.6476627486246456,
          -0.10043811437228084,
          0.11338010465450052,
          -0.08356160498701343,
          -0.7316754573876626,
          -1.2365039762262189,
          -0.6386337749042802,
          -0.7926064521593136,
          -0.742671479208652,
          -0.3370161800707922,
          1.1897598509216165,
          0.7242630798740226,
          0.12021300751943033,
          -1.5541924942579035,
          1.5028214113878702,
          0.760501650197293,
          0.7515986114830532,
          -1.2686451344996938,
          0.01609558960139597,
          -1.6128707827272581,
          0.6903498423641136,
          0.7602651962954348,
          0.0673948377388364,
          -0.9775168899165652,
          0.5585404568888361,
          0.8523224276827606,
          -1.0041705242290733,
          0.5914262277861494,
          -0.5496136621526938,
          0.7017726636910391,
          0.15870469356872455,
          -2.4273620027153555,
          -0.5864254688778012,
          -0.0289089911443751,
          -0.8291195208456038,
          -0.9096062411979251,
          -1.1314170041692238,
          -0.5186793448446886,
          0.3108681995737991,
          -0.8378873764383811,
          0.158880930094833,
          0.7031221132836886,
          0.6505719191055622,
          0.43745761711076453,
          0.45318431224770556,
          -0.6414398264092175,
          0.523073885686085,
          0.12734147164046977,
          -0.770936570781369,
          -1.6151182596614424,
          0.9540473104491346,
          1.67023663497916,
          0.574762895692311,
          -0.8667434406776809,
          -1.2863033897237754,
          1.614402266304719,
          -1.8034959885421769,
          -1.3636443614651592,
          -0.4933435802573463,
          -0.6394587059741395,
          -2.2718745671441094,
          0.553289670910159,
          -1.0078069494814215,
          0.6043589606740618,
          1.4229283648169193,
          -0.179323294635072,
          0.2538061840793955,
          1.0263302945895039,
          0.394082382521719,
          3.121232497730125,
          1.3303969625222654,
          -1.1541522860639097,
          -0.23166102490887022,
          -0.7608722899456053,
          0.8666182729219869,
          0.5350322672866142,
          -1.4602188149153486,
          1.3344993116679742,
          -1.6617774845100284,
          0.42361503860653943,
          1.0908923129569281,
          -0.5303449319476716,
          1.2150687585703044,
          0.7158276442576861,
          -1.9543227706481956,
          -0.33939479342369694,
          0.4821056907373301,
          1.9533934250885414,
          -0.8069952996393184,
          0.7918551373589061,
          -0.17608519122254984,
          -0.30426593014751024,
          1.6164723943168042,
          -0.45506196261105936,
          0.3152484690447127,
          1.647266342350233,
          -0.7223542684237176
         ],
         "yaxis": "y12"
        },
        {
         "line": {
          "color": "rgba(128, 128, 128, 1.0)",
          "dash": "solid",
          "shape": "linear",
          "width": 1.3
         },
         "marker": {
          "size": 2,
          "symbol": "circle"
         },
         "mode": "markers",
         "name": "D",
         "text": "",
         "type": "scatter",
         "x": [
          0.3864119162303842,
          1.204197254885549,
          0.8915805046705403,
          0.6946310665445125,
          0.27765294539122676,
          0.5420527940393374,
          0.23163388502617024,
          -0.24611912165954075,
          0.1975421663222593,
          0.8306471225012765,
          -0.5947951947859332,
          0.07533484285624369,
          -0.48662233745461614,
          1.2095431597771475,
          1.4388081805724247,
          1.3213720547077155,
          -1.542678635966428,
          -0.24637024407810829,
          -0.05115857332615439,
          0.21033451070698972,
          3.1612127350544856,
          -1.3787329216099466,
          -0.39174937013067923,
          -1.464323976922046,
          -1.621593224518355,
          0.15333833029814659,
          -0.7801974870265284,
          -1.730171318650708,
          -0.1720820731605149,
          -1.4979155734855347,
          0.316666982307522,
          0.1429949741686534,
          -0.5073673656104781,
          0.8917748631288538,
          2.085554829503526,
          1.4364692534114378,
          -0.38471538218531065,
          -0.5217697385214842,
          0.17919576221160585,
          -0.1905462288446752,
          0.8396965913811204,
          -1.1132884509071437,
          0.24339161281964752,
          -1.429548270239324,
          -0.5806266492981891,
          -1.8770382428692274,
          -0.8888074513675872,
          0.24316207731286255,
          0.4982225352735528,
          -0.034273365889114026,
          -0.5825018111849762,
          -0.8798476373749529,
          1.1995589876220574,
          1.669952108825188,
          -0.3872968742445013,
          -1.0494059696781197,
          0.40754686773647897,
          -1.247921791425569,
          -0.3806257771839392,
          -0.5216481009040306,
          1.5405864399231293,
          -0.12969459449988752,
          -0.4523693590554315,
          -1.1046653902623707,
          1.6385742609526037,
          -0.541543061446402,
          0.8324264462958443,
          1.22474992003944,
          -0.09938681665143169,
          1.0468396972670604,
          -0.18671385796428455,
          -0.38257096000942087,
          0.5438194423985938,
          -0.19667430866170896,
          0.19775465238386308,
          -1.4257793282210245,
          0.23259243306741084,
          -0.7775097925144028,
          -1.0023132477348573,
          -0.2026193056462473,
          1.211440099443612,
          -1.563756949537177,
          0.5652204704929931,
          0.22997063377231486,
          0.6141551613384159,
          -0.5967768099632359,
          -0.8636424612336109,
          1.625871151332099,
          0.9218537869175375,
          0.28860763267064904,
          0.264056480265417,
          -1.7034195957732086,
          -1.2735263824434337,
          0.0453635049200079,
          1.7750461014137107,
          0.5036219550962464,
          1.659598689144155,
          0.9941880574328251,
          -0.293563658171593,
          -0.5632201905824927
         ],
         "xaxis": "x13",
         "y": [
          0.4757041776816243,
          0.590059346810028,
          1.4898915294795725,
          -0.10129042263276683,
          1.1597985080190125,
          0.0724982860361312,
          0.2619252841036569,
          0.061469576277574184,
          0.8196718590872685,
          0.01240778778894669,
          -0.17978598192692227,
          0.7752167917400364,
          -0.7883907933883273,
          -0.5913088626844035,
          0.840354822847208,
          0.2033445961535619,
          -0.5372586713560256,
          0.4232216389089505,
          -0.2528325544163104,
          1.3249290964393545,
          -0.40583222858635587,
          0.21658564791370435,
          0.11080851452461021,
          -1.510576937964176,
          0.44917619312760176,
          0.7236215239497839,
          1.3401738752050207,
          -0.5284184494366296,
          0.5168797933043524,
          0.27983750198876206,
          0.6462227083234211,
          -1.6537132076782313,
          0.6353620784452373,
          -1.886652937081722,
          1.492870807314742,
          -0.08148994426046148,
          0.9983669181816184,
          -0.19043088811464584,
          -0.5688184865474755,
          0.5624134837235857,
          -0.3210101968912109,
          1.213691522496094,
          -0.6308343201304198,
          -0.26552273071010934,
          0.0382706171539293,
          -0.42471459773090114,
          -1.2553973083616052,
          0.22693857017483704,
          -0.09986680003889419,
          -1.1171045042039667,
          -1.7636923232057913,
          -0.8078679446482997,
          -0.5113036700437527,
          0.13352748397932704,
          -0.481125035670177,
          -0.3364057735395534,
          0.5550899769272462,
          0.5876780577788043,
          -1.2003862841996797,
          1.6471280758452198,
          0.20112173315908158,
          1.2654140663662488,
          -0.8893935549005481,
          1.5474457958694703,
          -0.9223180706019465,
          -1.990699220593327,
          -0.312954805627847,
          0.19046176478033308,
          0.8584044198133884,
          -0.8279642354823153,
          -0.8110986924038266,
          -1.749313401583035,
          -0.5130068061780467,
          0.2557293226317499,
          1.9607498420411158,
          0.8220431076067412,
          0.6229318544142777,
          0.6659824134676142,
          -1.53152263813704,
          0.4644195955382767,
          0.8911958385726465,
          0.26943097640536046,
          0.711729257448235,
          0.7924413057554689,
          0.42979066547023326,
          0.8931354553398241,
          -1.9331873902697487,
          0.5555385587552265,
          -0.9853819496872513,
          0.161249515605386,
          1.9759695910147321,
          1.4093690275179895,
          -1.1299357517823005,
          2.3298930325014813,
          -1.1510253706195832,
          -0.8203802944899652,
          -0.42983926404297373,
          -0.13911929398213121,
          -0.019621435532456055,
          -0.7622062333318493
         ],
         "yaxis": "y13"
        },
        {
         "line": {
          "color": "rgba(128, 128, 128, 1.0)",
          "dash": "solid",
          "shape": "linear",
          "width": 1.3
         },
         "marker": {
          "size": 2,
          "symbol": "circle"
         },
         "mode": "markers",
         "name": "D",
         "text": "",
         "type": "scatter",
         "x": [
          0.663644916668608,
          0.8539894629565865,
          0.7182721805036181,
          -0.23131728651643915,
          1.0520682868690088,
          0.512886451876651,
          0.3962742013757297,
          0.19244837036910498,
          0.6942048027893358,
          -0.2722249899358359,
          0.6634385692004368,
          0.9800891949991442,
          1.1118229049368433,
          -0.10678861848750934,
          0.4690419300255005,
          -0.9723919008515634,
          -1.8757792550845664,
          0.8625745446710906,
          -0.7827619578718803,
          1.6677033232903173,
          1.1146211902632992,
          -1.3538638195878034,
          -0.31828942591868525,
          -0.003779765834421749,
          -0.815296361103711,
          1.1123892326502263,
          -0.7845936279014872,
          -1.9797114354721983,
          -1.390372692915758,
          1.6503369920929167,
          -0.14899684895433177,
          -0.8231575334399924,
          0.16104253963553297,
          0.7836004550291542,
          -0.33153498382638535,
          0.8407689388417556,
          -0.03281131948110183,
          0.12231113887453894,
          -0.018984964617667407,
          -0.6402845786433076,
          -0.12032126474864979,
          0.7349396313531462,
          -0.8960260796006839,
          0.7576566829971076,
          1.5999888684153223,
          -1.1286716075963636,
          1.5534085433341411,
          -0.7244406208197438,
          0.9263127855310453,
          -0.5391208826579759,
          -0.22257653120121626,
          0.4034032365585807,
          1.3094635291740735,
          -0.17829845039408723,
          -0.34107945675869356,
          1.1031629412688133,
          1.1937899917993917,
          -1.3332954918220914,
          -0.008346989593206655,
          -0.6328859674322583,
          -0.7205485931175036,
          1.0154031030661033,
          -1.5408076869474618,
          -0.1865187258517424,
          -0.48252363590092134,
          1.1208765865460928,
          -0.1206576183143393,
          0.3111316770088429,
          -0.8692757764238744,
          0.2683730398176634,
          1.201520534380479,
          1.8412641038761008,
          1.1903462992361296,
          -0.0972977226935668,
          0.35613581513712733,
          1.6478213551010252,
          -0.3197494553823164,
          0.28441072498000314,
          -1.6810004114282828,
          0.2943187027071099,
          -0.8031971015880753,
          -1.0280244607883133,
          -0.3548532385182408,
          -0.2997666538463908,
          -1.0143036354426633,
          -0.45467754603306093,
          0.4520630514102458,
          -1.1233903175090119,
          -0.27233724745283466,
          -0.29285161781770586,
          -0.7418022189104699,
          -1.1562087044083964,
          -0.6457668576781612,
          0.5373550478693669,
          1.2242863244276385,
          -0.9874880065577107,
          -0.6471030553787697,
          -0.048739317504564866,
          -0.23677463664566517,
          0.42998336423142036
         ],
         "xaxis": "x14",
         "y": [
          0.4757041776816243,
          0.590059346810028,
          1.4898915294795725,
          -0.10129042263276683,
          1.1597985080190125,
          0.0724982860361312,
          0.2619252841036569,
          0.061469576277574184,
          0.8196718590872685,
          0.01240778778894669,
          -0.17978598192692227,
          0.7752167917400364,
          -0.7883907933883273,
          -0.5913088626844035,
          0.840354822847208,
          0.2033445961535619,
          -0.5372586713560256,
          0.4232216389089505,
          -0.2528325544163104,
          1.3249290964393545,
          -0.40583222858635587,
          0.21658564791370435,
          0.11080851452461021,
          -1.510576937964176,
          0.44917619312760176,
          0.7236215239497839,
          1.3401738752050207,
          -0.5284184494366296,
          0.5168797933043524,
          0.27983750198876206,
          0.6462227083234211,
          -1.6537132076782313,
          0.6353620784452373,
          -1.886652937081722,
          1.492870807314742,
          -0.08148994426046148,
          0.9983669181816184,
          -0.19043088811464584,
          -0.5688184865474755,
          0.5624134837235857,
          -0.3210101968912109,
          1.213691522496094,
          -0.6308343201304198,
          -0.26552273071010934,
          0.0382706171539293,
          -0.42471459773090114,
          -1.2553973083616052,
          0.22693857017483704,
          -0.09986680003889419,
          -1.1171045042039667,
          -1.7636923232057913,
          -0.8078679446482997,
          -0.5113036700437527,
          0.13352748397932704,
          -0.481125035670177,
          -0.3364057735395534,
          0.5550899769272462,
          0.5876780577788043,
          -1.2003862841996797,
          1.6471280758452198,
          0.20112173315908158,
          1.2654140663662488,
          -0.8893935549005481,
          1.5474457958694703,
          -0.9223180706019465,
          -1.990699220593327,
          -0.312954805627847,
          0.19046176478033308,
          0.8584044198133884,
          -0.8279642354823153,
          -0.8110986924038266,
          -1.749313401583035,
          -0.5130068061780467,
          0.2557293226317499,
          1.9607498420411158,
          0.8220431076067412,
          0.6229318544142777,
          0.6659824134676142,
          -1.53152263813704,
          0.4644195955382767,
          0.8911958385726465,
          0.26943097640536046,
          0.711729257448235,
          0.7924413057554689,
          0.42979066547023326,
          0.8931354553398241,
          -1.9331873902697487,
          0.5555385587552265,
          -0.9853819496872513,
          0.161249515605386,
          1.9759695910147321,
          1.4093690275179895,
          -1.1299357517823005,
          2.3298930325014813,
          -1.1510253706195832,
          -0.8203802944899652,
          -0.42983926404297373,
          -0.13911929398213121,
          -0.019621435532456055,
          -0.7622062333318493
         ],
         "yaxis": "y14"
        },
        {
         "line": {
          "color": "rgba(128, 128, 128, 1.0)",
          "dash": "solid",
          "shape": "linear",
          "width": 1.3
         },
         "marker": {
          "size": 2,
          "symbol": "circle"
         },
         "mode": "markers",
         "name": "D",
         "text": "",
         "type": "scatter",
         "x": [
          -0.6538122694356095,
          0.29632246647545535,
          0.17940594091991843,
          0.6476627486246456,
          -0.10043811437228084,
          0.11338010465450052,
          -0.08356160498701343,
          -0.7316754573876626,
          -1.2365039762262189,
          -0.6386337749042802,
          -0.7926064521593136,
          -0.742671479208652,
          -0.3370161800707922,
          1.1897598509216165,
          0.7242630798740226,
          0.12021300751943033,
          -1.5541924942579035,
          1.5028214113878702,
          0.760501650197293,
          0.7515986114830532,
          -1.2686451344996938,
          0.01609558960139597,
          -1.6128707827272581,
          0.6903498423641136,
          0.7602651962954348,
          0.0673948377388364,
          -0.9775168899165652,
          0.5585404568888361,
          0.8523224276827606,
          -1.0041705242290733,
          0.5914262277861494,
          -0.5496136621526938,
          0.7017726636910391,
          0.15870469356872455,
          -2.4273620027153555,
          -0.5864254688778012,
          -0.0289089911443751,
          -0.8291195208456038,
          -0.9096062411979251,
          -1.1314170041692238,
          -0.5186793448446886,
          0.3108681995737991,
          -0.8378873764383811,
          0.158880930094833,
          0.7031221132836886,
          0.6505719191055622,
          0.43745761711076453,
          0.45318431224770556,
          -0.6414398264092175,
          0.523073885686085,
          0.12734147164046977,
          -0.770936570781369,
          -1.6151182596614424,
          0.9540473104491346,
          1.67023663497916,
          0.574762895692311,
          -0.8667434406776809,
          -1.2863033897237754,
          1.614402266304719,
          -1.8034959885421769,
          -1.3636443614651592,
          -0.4933435802573463,
          -0.6394587059741395,
          -2.2718745671441094,
          0.553289670910159,
          -1.0078069494814215,
          0.6043589606740618,
          1.4229283648169193,
          -0.179323294635072,
          0.2538061840793955,
          1.0263302945895039,
          0.394082382521719,
          3.121232497730125,
          1.3303969625222654,
          -1.1541522860639097,
          -0.23166102490887022,
          -0.7608722899456053,
          0.8666182729219869,
          0.5350322672866142,
          -1.4602188149153486,
          1.3344993116679742,
          -1.6617774845100284,
          0.42361503860653943,
          1.0908923129569281,
          -0.5303449319476716,
          1.2150687585703044,
          0.7158276442576861,
          -1.9543227706481956,
          -0.33939479342369694,
          0.4821056907373301,
          1.9533934250885414,
          -0.8069952996393184,
          0.7918551373589061,
          -0.17608519122254984,
          -0.30426593014751024,
          1.6164723943168042,
          -0.45506196261105936,
          0.3152484690447127,
          1.647266342350233,
          -0.7223542684237176
         ],
         "xaxis": "x15",
         "y": [
          0.4757041776816243,
          0.590059346810028,
          1.4898915294795725,
          -0.10129042263276683,
          1.1597985080190125,
          0.0724982860361312,
          0.2619252841036569,
          0.061469576277574184,
          0.8196718590872685,
          0.01240778778894669,
          -0.17978598192692227,
          0.7752167917400364,
          -0.7883907933883273,
          -0.5913088626844035,
          0.840354822847208,
          0.2033445961535619,
          -0.5372586713560256,
          0.4232216389089505,
          -0.2528325544163104,
          1.3249290964393545,
          -0.40583222858635587,
          0.21658564791370435,
          0.11080851452461021,
          -1.510576937964176,
          0.44917619312760176,
          0.7236215239497839,
          1.3401738752050207,
          -0.5284184494366296,
          0.5168797933043524,
          0.27983750198876206,
          0.6462227083234211,
          -1.6537132076782313,
          0.6353620784452373,
          -1.886652937081722,
          1.492870807314742,
          -0.08148994426046148,
          0.9983669181816184,
          -0.19043088811464584,
          -0.5688184865474755,
          0.5624134837235857,
          -0.3210101968912109,
          1.213691522496094,
          -0.6308343201304198,
          -0.26552273071010934,
          0.0382706171539293,
          -0.42471459773090114,
          -1.2553973083616052,
          0.22693857017483704,
          -0.09986680003889419,
          -1.1171045042039667,
          -1.7636923232057913,
          -0.8078679446482997,
          -0.5113036700437527,
          0.13352748397932704,
          -0.481125035670177,
          -0.3364057735395534,
          0.5550899769272462,
          0.5876780577788043,
          -1.2003862841996797,
          1.6471280758452198,
          0.20112173315908158,
          1.2654140663662488,
          -0.8893935549005481,
          1.5474457958694703,
          -0.9223180706019465,
          -1.990699220593327,
          -0.312954805627847,
          0.19046176478033308,
          0.8584044198133884,
          -0.8279642354823153,
          -0.8110986924038266,
          -1.749313401583035,
          -0.5130068061780467,
          0.2557293226317499,
          1.9607498420411158,
          0.8220431076067412,
          0.6229318544142777,
          0.6659824134676142,
          -1.53152263813704,
          0.4644195955382767,
          0.8911958385726465,
          0.26943097640536046,
          0.711729257448235,
          0.7924413057554689,
          0.42979066547023326,
          0.8931354553398241,
          -1.9331873902697487,
          0.5555385587552265,
          -0.9853819496872513,
          0.161249515605386,
          1.9759695910147321,
          1.4093690275179895,
          -1.1299357517823005,
          2.3298930325014813,
          -1.1510253706195832,
          -0.8203802944899652,
          -0.42983926404297373,
          -0.13911929398213121,
          -0.019621435532456055,
          -0.7622062333318493
         ],
         "yaxis": "y15"
        },
        {
         "histfunc": "count",
         "histnorm": "",
         "marker": {
          "color": "rgba(128, 0, 128, 1.0)",
          "line": {
           "color": "#4D5663",
           "width": 1.3
          }
         },
         "name": "D",
         "nbinsx": 10,
         "opacity": 0.8,
         "orientation": "v",
         "type": "histogram",
         "x": [
          0.4757041776816243,
          0.590059346810028,
          1.4898915294795725,
          -0.10129042263276683,
          1.1597985080190125,
          0.0724982860361312,
          0.2619252841036569,
          0.061469576277574184,
          0.8196718590872685,
          0.01240778778894669,
          -0.17978598192692227,
          0.7752167917400364,
          -0.7883907933883273,
          -0.5913088626844035,
          0.840354822847208,
          0.2033445961535619,
          -0.5372586713560256,
          0.4232216389089505,
          -0.2528325544163104,
          1.3249290964393545,
          -0.40583222858635587,
          0.21658564791370435,
          0.11080851452461021,
          -1.510576937964176,
          0.44917619312760176,
          0.7236215239497839,
          1.3401738752050207,
          -0.5284184494366296,
          0.5168797933043524,
          0.27983750198876206,
          0.6462227083234211,
          -1.6537132076782313,
          0.6353620784452373,
          -1.886652937081722,
          1.492870807314742,
          -0.08148994426046148,
          0.9983669181816184,
          -0.19043088811464584,
          -0.5688184865474755,
          0.5624134837235857,
          -0.3210101968912109,
          1.213691522496094,
          -0.6308343201304198,
          -0.26552273071010934,
          0.0382706171539293,
          -0.42471459773090114,
          -1.2553973083616052,
          0.22693857017483704,
          -0.09986680003889419,
          -1.1171045042039667,
          -1.7636923232057913,
          -0.8078679446482997,
          -0.5113036700437527,
          0.13352748397932704,
          -0.481125035670177,
          -0.3364057735395534,
          0.5550899769272462,
          0.5876780577788043,
          -1.2003862841996797,
          1.6471280758452198,
          0.20112173315908158,
          1.2654140663662488,
          -0.8893935549005481,
          1.5474457958694703,
          -0.9223180706019465,
          -1.990699220593327,
          -0.312954805627847,
          0.19046176478033308,
          0.8584044198133884,
          -0.8279642354823153,
          -0.8110986924038266,
          -1.749313401583035,
          -0.5130068061780467,
          0.2557293226317499,
          1.9607498420411158,
          0.8220431076067412,
          0.6229318544142777,
          0.6659824134676142,
          -1.53152263813704,
          0.4644195955382767,
          0.8911958385726465,
          0.26943097640536046,
          0.711729257448235,
          0.7924413057554689,
          0.42979066547023326,
          0.8931354553398241,
          -1.9331873902697487,
          0.5555385587552265,
          -0.9853819496872513,
          0.161249515605386,
          1.9759695910147321,
          1.4093690275179895,
          -1.1299357517823005,
          2.3298930325014813,
          -1.1510253706195832,
          -0.8203802944899652,
          -0.42983926404297373,
          -0.13911929398213121,
          -0.019621435532456055,
          -0.7622062333318493
         ],
         "xaxis": "x16",
         "yaxis": "y16"
        }
       ],
       "layout": {
        "bargap": 0.02,
        "legend": {
         "bgcolor": "#F5F6F9",
         "font": {
          "color": "#4D5663"
         }
        },
        "paper_bgcolor": "#F5F6F9",
        "plot_bgcolor": "#F5F6F9",
        "showlegend": false,
        "template": {
         "data": {
          "bar": [
           {
            "error_x": {
             "color": "#2a3f5f"
            },
            "error_y": {
             "color": "#2a3f5f"
            },
            "marker": {
             "line": {
              "color": "#E5ECF6",
              "width": 0.5
             },
             "pattern": {
              "fillmode": "overlay",
              "size": 10,
              "solidity": 0.2
             }
            },
            "type": "bar"
           }
          ],
          "barpolar": [
           {
            "marker": {
             "line": {
              "color": "#E5ECF6",
              "width": 0.5
             },
             "pattern": {
              "fillmode": "overlay",
              "size": 10,
              "solidity": 0.2
             }
            },
            "type": "barpolar"
           }
          ],
          "carpet": [
           {
            "aaxis": {
             "endlinecolor": "#2a3f5f",
             "gridcolor": "white",
             "linecolor": "white",
             "minorgridcolor": "white",
             "startlinecolor": "#2a3f5f"
            },
            "baxis": {
             "endlinecolor": "#2a3f5f",
             "gridcolor": "white",
             "linecolor": "white",
             "minorgridcolor": "white",
             "startlinecolor": "#2a3f5f"
            },
            "type": "carpet"
           }
          ],
          "choropleth": [
           {
            "colorbar": {
             "outlinewidth": 0,
             "ticks": ""
            },
            "type": "choropleth"
           }
          ],
          "contour": [
           {
            "colorbar": {
             "outlinewidth": 0,
             "ticks": ""
            },
            "colorscale": [
             [
              0,
              "#0d0887"
             ],
             [
              0.1111111111111111,
              "#46039f"
             ],
             [
              0.2222222222222222,
              "#7201a8"
             ],
             [
              0.3333333333333333,
              "#9c179e"
             ],
             [
              0.4444444444444444,
              "#bd3786"
             ],
             [
              0.5555555555555556,
              "#d8576b"
             ],
             [
              0.6666666666666666,
              "#ed7953"
             ],
             [
              0.7777777777777778,
              "#fb9f3a"
             ],
             [
              0.8888888888888888,
              "#fdca26"
             ],
             [
              1,
              "#f0f921"
             ]
            ],
            "type": "contour"
           }
          ],
          "contourcarpet": [
           {
            "colorbar": {
             "outlinewidth": 0,
             "ticks": ""
            },
            "type": "contourcarpet"
           }
          ],
          "heatmap": [
           {
            "colorbar": {
             "outlinewidth": 0,
             "ticks": ""
            },
            "colorscale": [
             [
              0,
              "#0d0887"
             ],
             [
              0.1111111111111111,
              "#46039f"
             ],
             [
              0.2222222222222222,
              "#7201a8"
             ],
             [
              0.3333333333333333,
              "#9c179e"
             ],
             [
              0.4444444444444444,
              "#bd3786"
             ],
             [
              0.5555555555555556,
              "#d8576b"
             ],
             [
              0.6666666666666666,
              "#ed7953"
             ],
             [
              0.7777777777777778,
              "#fb9f3a"
             ],
             [
              0.8888888888888888,
              "#fdca26"
             ],
             [
              1,
              "#f0f921"
             ]
            ],
            "type": "heatmap"
           }
          ],
          "heatmapgl": [
           {
            "colorbar": {
             "outlinewidth": 0,
             "ticks": ""
            },
            "colorscale": [
             [
              0,
              "#0d0887"
             ],
             [
              0.1111111111111111,
              "#46039f"
             ],
             [
              0.2222222222222222,
              "#7201a8"
             ],
             [
              0.3333333333333333,
              "#9c179e"
             ],
             [
              0.4444444444444444,
              "#bd3786"
             ],
             [
              0.5555555555555556,
              "#d8576b"
             ],
             [
              0.6666666666666666,
              "#ed7953"
             ],
             [
              0.7777777777777778,
              "#fb9f3a"
             ],
             [
              0.8888888888888888,
              "#fdca26"
             ],
             [
              1,
              "#f0f921"
             ]
            ],
            "type": "heatmapgl"
           }
          ],
          "histogram": [
           {
            "marker": {
             "pattern": {
              "fillmode": "overlay",
              "size": 10,
              "solidity": 0.2
             }
            },
            "type": "histogram"
           }
          ],
          "histogram2d": [
           {
            "colorbar": {
             "outlinewidth": 0,
             "ticks": ""
            },
            "colorscale": [
             [
              0,
              "#0d0887"
             ],
             [
              0.1111111111111111,
              "#46039f"
             ],
             [
              0.2222222222222222,
              "#7201a8"
             ],
             [
              0.3333333333333333,
              "#9c179e"
             ],
             [
              0.4444444444444444,
              "#bd3786"
             ],
             [
              0.5555555555555556,
              "#d8576b"
             ],
             [
              0.6666666666666666,
              "#ed7953"
             ],
             [
              0.7777777777777778,
              "#fb9f3a"
             ],
             [
              0.8888888888888888,
              "#fdca26"
             ],
             [
              1,
              "#f0f921"
             ]
            ],
            "type": "histogram2d"
           }
          ],
          "histogram2dcontour": [
           {
            "colorbar": {
             "outlinewidth": 0,
             "ticks": ""
            },
            "colorscale": [
             [
              0,
              "#0d0887"
             ],
             [
              0.1111111111111111,
              "#46039f"
             ],
             [
              0.2222222222222222,
              "#7201a8"
             ],
             [
              0.3333333333333333,
              "#9c179e"
             ],
             [
              0.4444444444444444,
              "#bd3786"
             ],
             [
              0.5555555555555556,
              "#d8576b"
             ],
             [
              0.6666666666666666,
              "#ed7953"
             ],
             [
              0.7777777777777778,
              "#fb9f3a"
             ],
             [
              0.8888888888888888,
              "#fdca26"
             ],
             [
              1,
              "#f0f921"
             ]
            ],
            "type": "histogram2dcontour"
           }
          ],
          "mesh3d": [
           {
            "colorbar": {
             "outlinewidth": 0,
             "ticks": ""
            },
            "type": "mesh3d"
           }
          ],
          "parcoords": [
           {
            "line": {
             "colorbar": {
              "outlinewidth": 0,
              "ticks": ""
             }
            },
            "type": "parcoords"
           }
          ],
          "pie": [
           {
            "automargin": true,
            "type": "pie"
           }
          ],
          "scatter": [
           {
            "marker": {
             "colorbar": {
              "outlinewidth": 0,
              "ticks": ""
             }
            },
            "type": "scatter"
           }
          ],
          "scatter3d": [
           {
            "line": {
             "colorbar": {
              "outlinewidth": 0,
              "ticks": ""
             }
            },
            "marker": {
             "colorbar": {
              "outlinewidth": 0,
              "ticks": ""
             }
            },
            "type": "scatter3d"
           }
          ],
          "scattercarpet": [
           {
            "marker": {
             "colorbar": {
              "outlinewidth": 0,
              "ticks": ""
             }
            },
            "type": "scattercarpet"
           }
          ],
          "scattergeo": [
           {
            "marker": {
             "colorbar": {
              "outlinewidth": 0,
              "ticks": ""
             }
            },
            "type": "scattergeo"
           }
          ],
          "scattergl": [
           {
            "marker": {
             "colorbar": {
              "outlinewidth": 0,
              "ticks": ""
             }
            },
            "type": "scattergl"
           }
          ],
          "scattermapbox": [
           {
            "marker": {
             "colorbar": {
              "outlinewidth": 0,
              "ticks": ""
             }
            },
            "type": "scattermapbox"
           }
          ],
          "scatterpolar": [
           {
            "marker": {
             "colorbar": {
              "outlinewidth": 0,
              "ticks": ""
             }
            },
            "type": "scatterpolar"
           }
          ],
          "scatterpolargl": [
           {
            "marker": {
             "colorbar": {
              "outlinewidth": 0,
              "ticks": ""
             }
            },
            "type": "scatterpolargl"
           }
          ],
          "scatterternary": [
           {
            "marker": {
             "colorbar": {
              "outlinewidth": 0,
              "ticks": ""
             }
            },
            "type": "scatterternary"
           }
          ],
          "surface": [
           {
            "colorbar": {
             "outlinewidth": 0,
             "ticks": ""
            },
            "colorscale": [
             [
              0,
              "#0d0887"
             ],
             [
              0.1111111111111111,
              "#46039f"
             ],
             [
              0.2222222222222222,
              "#7201a8"
             ],
             [
              0.3333333333333333,
              "#9c179e"
             ],
             [
              0.4444444444444444,
              "#bd3786"
             ],
             [
              0.5555555555555556,
              "#d8576b"
             ],
             [
              0.6666666666666666,
              "#ed7953"
             ],
             [
              0.7777777777777778,
              "#fb9f3a"
             ],
             [
              0.8888888888888888,
              "#fdca26"
             ],
             [
              1,
              "#f0f921"
             ]
            ],
            "type": "surface"
           }
          ],
          "table": [
           {
            "cells": {
             "fill": {
              "color": "#EBF0F8"
             },
             "line": {
              "color": "white"
             }
            },
            "header": {
             "fill": {
              "color": "#C8D4E3"
             },
             "line": {
              "color": "white"
             }
            },
            "type": "table"
           }
          ]
         },
         "layout": {
          "annotationdefaults": {
           "arrowcolor": "#2a3f5f",
           "arrowhead": 0,
           "arrowwidth": 1
          },
          "autotypenumbers": "strict",
          "coloraxis": {
           "colorbar": {
            "outlinewidth": 0,
            "ticks": ""
           }
          },
          "colorscale": {
           "diverging": [
            [
             0,
             "#8e0152"
            ],
            [
             0.1,
             "#c51b7d"
            ],
            [
             0.2,
             "#de77ae"
            ],
            [
             0.3,
             "#f1b6da"
            ],
            [
             0.4,
             "#fde0ef"
            ],
            [
             0.5,
             "#f7f7f7"
            ],
            [
             0.6,
             "#e6f5d0"
            ],
            [
             0.7,
             "#b8e186"
            ],
            [
             0.8,
             "#7fbc41"
            ],
            [
             0.9,
             "#4d9221"
            ],
            [
             1,
             "#276419"
            ]
           ],
           "sequential": [
            [
             0,
             "#0d0887"
            ],
            [
             0.1111111111111111,
             "#46039f"
            ],
            [
             0.2222222222222222,
             "#7201a8"
            ],
            [
             0.3333333333333333,
             "#9c179e"
            ],
            [
             0.4444444444444444,
             "#bd3786"
            ],
            [
             0.5555555555555556,
             "#d8576b"
            ],
            [
             0.6666666666666666,
             "#ed7953"
            ],
            [
             0.7777777777777778,
             "#fb9f3a"
            ],
            [
             0.8888888888888888,
             "#fdca26"
            ],
            [
             1,
             "#f0f921"
            ]
           ],
           "sequentialminus": [
            [
             0,
             "#0d0887"
            ],
            [
             0.1111111111111111,
             "#46039f"
            ],
            [
             0.2222222222222222,
             "#7201a8"
            ],
            [
             0.3333333333333333,
             "#9c179e"
            ],
            [
             0.4444444444444444,
             "#bd3786"
            ],
            [
             0.5555555555555556,
             "#d8576b"
            ],
            [
             0.6666666666666666,
             "#ed7953"
            ],
            [
             0.7777777777777778,
             "#fb9f3a"
            ],
            [
             0.8888888888888888,
             "#fdca26"
            ],
            [
             1,
             "#f0f921"
            ]
           ]
          },
          "colorway": [
           "#636efa",
           "#EF553B",
           "#00cc96",
           "#ab63fa",
           "#FFA15A",
           "#19d3f3",
           "#FF6692",
           "#B6E880",
           "#FF97FF",
           "#FECB52"
          ],
          "font": {
           "color": "#2a3f5f"
          },
          "geo": {
           "bgcolor": "white",
           "lakecolor": "white",
           "landcolor": "#E5ECF6",
           "showlakes": true,
           "showland": true,
           "subunitcolor": "white"
          },
          "hoverlabel": {
           "align": "left"
          },
          "hovermode": "closest",
          "mapbox": {
           "style": "light"
          },
          "paper_bgcolor": "white",
          "plot_bgcolor": "#E5ECF6",
          "polar": {
           "angularaxis": {
            "gridcolor": "white",
            "linecolor": "white",
            "ticks": ""
           },
           "bgcolor": "#E5ECF6",
           "radialaxis": {
            "gridcolor": "white",
            "linecolor": "white",
            "ticks": ""
           }
          },
          "scene": {
           "xaxis": {
            "backgroundcolor": "#E5ECF6",
            "gridcolor": "white",
            "gridwidth": 2,
            "linecolor": "white",
            "showbackground": true,
            "ticks": "",
            "zerolinecolor": "white"
           },
           "yaxis": {
            "backgroundcolor": "#E5ECF6",
            "gridcolor": "white",
            "gridwidth": 2,
            "linecolor": "white",
            "showbackground": true,
            "ticks": "",
            "zerolinecolor": "white"
           },
           "zaxis": {
            "backgroundcolor": "#E5ECF6",
            "gridcolor": "white",
            "gridwidth": 2,
            "linecolor": "white",
            "showbackground": true,
            "ticks": "",
            "zerolinecolor": "white"
           }
          },
          "shapedefaults": {
           "line": {
            "color": "#2a3f5f"
           }
          },
          "ternary": {
           "aaxis": {
            "gridcolor": "white",
            "linecolor": "white",
            "ticks": ""
           },
           "baxis": {
            "gridcolor": "white",
            "linecolor": "white",
            "ticks": ""
           },
           "bgcolor": "#E5ECF6",
           "caxis": {
            "gridcolor": "white",
            "linecolor": "white",
            "ticks": ""
           }
          },
          "title": {
           "x": 0.05
          },
          "xaxis": {
           "automargin": true,
           "gridcolor": "white",
           "linecolor": "white",
           "ticks": "",
           "title": {
            "standoff": 15
           },
           "zerolinecolor": "white",
           "zerolinewidth": 2
          },
          "yaxis": {
           "automargin": true,
           "gridcolor": "white",
           "linecolor": "white",
           "ticks": "",
           "title": {
            "standoff": 15
           },
           "zerolinecolor": "white",
           "zerolinewidth": 2
          }
         }
        },
        "title": {
         "font": {
          "color": "#4D5663"
         }
        },
        "xaxis": {
         "anchor": "y",
         "domain": [
          0,
          0.2125
         ],
         "gridcolor": "#E1E5ED",
         "showgrid": false,
         "tickfont": {
          "color": "#4D5663"
         },
         "title": {
          "font": {
           "color": "#4D5663"
          },
          "text": ""
         },
         "zerolinecolor": "#E1E5ED"
        },
        "xaxis10": {
         "anchor": "y10",
         "domain": [
          0.2625,
          0.475
         ],
         "gridcolor": "#E1E5ED",
         "showgrid": false,
         "tickfont": {
          "color": "#4D5663"
         },
         "title": {
          "font": {
           "color": "#4D5663"
          },
          "text": ""
         },
         "zerolinecolor": "#E1E5ED"
        },
        "xaxis11": {
         "anchor": "y11",
         "domain": [
          0.525,
          0.7375
         ],
         "gridcolor": "#E1E5ED",
         "showgrid": false,
         "tickfont": {
          "color": "#4D5663"
         },
         "title": {
          "font": {
           "color": "#4D5663"
          },
          "text": ""
         },
         "zerolinecolor": "#E1E5ED"
        },
        "xaxis12": {
         "anchor": "y12",
         "domain": [
          0.7875,
          1
         ],
         "gridcolor": "#E1E5ED",
         "showgrid": false,
         "tickfont": {
          "color": "#4D5663"
         },
         "title": {
          "font": {
           "color": "#4D5663"
          },
          "text": ""
         },
         "zerolinecolor": "#E1E5ED"
        },
        "xaxis13": {
         "anchor": "y13",
         "domain": [
          0,
          0.2125
         ],
         "gridcolor": "#E1E5ED",
         "showgrid": false,
         "tickfont": {
          "color": "#4D5663"
         },
         "title": {
          "font": {
           "color": "#4D5663"
          },
          "text": ""
         },
         "zerolinecolor": "#E1E5ED"
        },
        "xaxis14": {
         "anchor": "y14",
         "domain": [
          0.2625,
          0.475
         ],
         "gridcolor": "#E1E5ED",
         "showgrid": false,
         "tickfont": {
          "color": "#4D5663"
         },
         "title": {
          "font": {
           "color": "#4D5663"
          },
          "text": ""
         },
         "zerolinecolor": "#E1E5ED"
        },
        "xaxis15": {
         "anchor": "y15",
         "domain": [
          0.525,
          0.7375
         ],
         "gridcolor": "#E1E5ED",
         "showgrid": false,
         "tickfont": {
          "color": "#4D5663"
         },
         "title": {
          "font": {
           "color": "#4D5663"
          },
          "text": ""
         },
         "zerolinecolor": "#E1E5ED"
        },
        "xaxis16": {
         "anchor": "y16",
         "domain": [
          0.7875,
          1
         ],
         "gridcolor": "#E1E5ED",
         "showgrid": false,
         "tickfont": {
          "color": "#4D5663"
         },
         "title": {
          "font": {
           "color": "#4D5663"
          },
          "text": ""
         },
         "zerolinecolor": "#E1E5ED"
        },
        "xaxis2": {
         "anchor": "y2",
         "domain": [
          0.2625,
          0.475
         ],
         "gridcolor": "#E1E5ED",
         "showgrid": false,
         "tickfont": {
          "color": "#4D5663"
         },
         "title": {
          "font": {
           "color": "#4D5663"
          },
          "text": ""
         },
         "zerolinecolor": "#E1E5ED"
        },
        "xaxis3": {
         "anchor": "y3",
         "domain": [
          0.525,
          0.7375
         ],
         "gridcolor": "#E1E5ED",
         "showgrid": false,
         "tickfont": {
          "color": "#4D5663"
         },
         "title": {
          "font": {
           "color": "#4D5663"
          },
          "text": ""
         },
         "zerolinecolor": "#E1E5ED"
        },
        "xaxis4": {
         "anchor": "y4",
         "domain": [
          0.7875,
          1
         ],
         "gridcolor": "#E1E5ED",
         "showgrid": false,
         "tickfont": {
          "color": "#4D5663"
         },
         "title": {
          "font": {
           "color": "#4D5663"
          },
          "text": ""
         },
         "zerolinecolor": "#E1E5ED"
        },
        "xaxis5": {
         "anchor": "y5",
         "domain": [
          0,
          0.2125
         ],
         "gridcolor": "#E1E5ED",
         "showgrid": false,
         "tickfont": {
          "color": "#4D5663"
         },
         "title": {
          "font": {
           "color": "#4D5663"
          },
          "text": ""
         },
         "zerolinecolor": "#E1E5ED"
        },
        "xaxis6": {
         "anchor": "y6",
         "domain": [
          0.2625,
          0.475
         ],
         "gridcolor": "#E1E5ED",
         "showgrid": false,
         "tickfont": {
          "color": "#4D5663"
         },
         "title": {
          "font": {
           "color": "#4D5663"
          },
          "text": ""
         },
         "zerolinecolor": "#E1E5ED"
        },
        "xaxis7": {
         "anchor": "y7",
         "domain": [
          0.525,
          0.7375
         ],
         "gridcolor": "#E1E5ED",
         "showgrid": false,
         "tickfont": {
          "color": "#4D5663"
         },
         "title": {
          "font": {
           "color": "#4D5663"
          },
          "text": ""
         },
         "zerolinecolor": "#E1E5ED"
        },
        "xaxis8": {
         "anchor": "y8",
         "domain": [
          0.7875,
          1
         ],
         "gridcolor": "#E1E5ED",
         "showgrid": false,
         "tickfont": {
          "color": "#4D5663"
         },
         "title": {
          "font": {
           "color": "#4D5663"
          },
          "text": ""
         },
         "zerolinecolor": "#E1E5ED"
        },
        "xaxis9": {
         "anchor": "y9",
         "domain": [
          0,
          0.2125
         ],
         "gridcolor": "#E1E5ED",
         "showgrid": false,
         "tickfont": {
          "color": "#4D5663"
         },
         "title": {
          "font": {
           "color": "#4D5663"
          },
          "text": ""
         },
         "zerolinecolor": "#E1E5ED"
        },
        "yaxis": {
         "anchor": "x",
         "domain": [
          0.8025,
          1
         ],
         "gridcolor": "#E1E5ED",
         "showgrid": false,
         "tickfont": {
          "color": "#4D5663"
         },
         "title": {
          "font": {
           "color": "#4D5663"
          },
          "text": ""
         },
         "zerolinecolor": "#E1E5ED"
        },
        "yaxis10": {
         "anchor": "x10",
         "domain": [
          0.2675,
          0.465
         ],
         "gridcolor": "#E1E5ED",
         "showgrid": false,
         "tickfont": {
          "color": "#4D5663"
         },
         "title": {
          "font": {
           "color": "#4D5663"
          },
          "text": ""
         },
         "zerolinecolor": "#E1E5ED"
        },
        "yaxis11": {
         "anchor": "x11",
         "domain": [
          0.2675,
          0.465
         ],
         "gridcolor": "#E1E5ED",
         "showgrid": false,
         "tickfont": {
          "color": "#4D5663"
         },
         "title": {
          "font": {
           "color": "#4D5663"
          },
          "text": ""
         },
         "zerolinecolor": "#E1E5ED"
        },
        "yaxis12": {
         "anchor": "x12",
         "domain": [
          0.2675,
          0.465
         ],
         "gridcolor": "#E1E5ED",
         "showgrid": false,
         "tickfont": {
          "color": "#4D5663"
         },
         "title": {
          "font": {
           "color": "#4D5663"
          },
          "text": ""
         },
         "zerolinecolor": "#E1E5ED"
        },
        "yaxis13": {
         "anchor": "x13",
         "domain": [
          0,
          0.1975
         ],
         "gridcolor": "#E1E5ED",
         "showgrid": false,
         "tickfont": {
          "color": "#4D5663"
         },
         "title": {
          "font": {
           "color": "#4D5663"
          },
          "text": ""
         },
         "zerolinecolor": "#E1E5ED"
        },
        "yaxis14": {
         "anchor": "x14",
         "domain": [
          0,
          0.1975
         ],
         "gridcolor": "#E1E5ED",
         "showgrid": false,
         "tickfont": {
          "color": "#4D5663"
         },
         "title": {
          "font": {
           "color": "#4D5663"
          },
          "text": ""
         },
         "zerolinecolor": "#E1E5ED"
        },
        "yaxis15": {
         "anchor": "x15",
         "domain": [
          0,
          0.1975
         ],
         "gridcolor": "#E1E5ED",
         "showgrid": false,
         "tickfont": {
          "color": "#4D5663"
         },
         "title": {
          "font": {
           "color": "#4D5663"
          },
          "text": ""
         },
         "zerolinecolor": "#E1E5ED"
        },
        "yaxis16": {
         "anchor": "x16",
         "domain": [
          0,
          0.1975
         ],
         "gridcolor": "#E1E5ED",
         "showgrid": false,
         "tickfont": {
          "color": "#4D5663"
         },
         "title": {
          "font": {
           "color": "#4D5663"
          },
          "text": ""
         },
         "zerolinecolor": "#E1E5ED"
        },
        "yaxis2": {
         "anchor": "x2",
         "domain": [
          0.8025,
          1
         ],
         "gridcolor": "#E1E5ED",
         "showgrid": false,
         "tickfont": {
          "color": "#4D5663"
         },
         "title": {
          "font": {
           "color": "#4D5663"
          },
          "text": ""
         },
         "zerolinecolor": "#E1E5ED"
        },
        "yaxis3": {
         "anchor": "x3",
         "domain": [
          0.8025,
          1
         ],
         "gridcolor": "#E1E5ED",
         "showgrid": false,
         "tickfont": {
          "color": "#4D5663"
         },
         "title": {
          "font": {
           "color": "#4D5663"
          },
          "text": ""
         },
         "zerolinecolor": "#E1E5ED"
        },
        "yaxis4": {
         "anchor": "x4",
         "domain": [
          0.8025,
          1
         ],
         "gridcolor": "#E1E5ED",
         "showgrid": false,
         "tickfont": {
          "color": "#4D5663"
         },
         "title": {
          "font": {
           "color": "#4D5663"
          },
          "text": ""
         },
         "zerolinecolor": "#E1E5ED"
        },
        "yaxis5": {
         "anchor": "x5",
         "domain": [
          0.535,
          0.7325
         ],
         "gridcolor": "#E1E5ED",
         "showgrid": false,
         "tickfont": {
          "color": "#4D5663"
         },
         "title": {
          "font": {
           "color": "#4D5663"
          },
          "text": ""
         },
         "zerolinecolor": "#E1E5ED"
        },
        "yaxis6": {
         "anchor": "x6",
         "domain": [
          0.535,
          0.7325
         ],
         "gridcolor": "#E1E5ED",
         "showgrid": false,
         "tickfont": {
          "color": "#4D5663"
         },
         "title": {
          "font": {
           "color": "#4D5663"
          },
          "text": ""
         },
         "zerolinecolor": "#E1E5ED"
        },
        "yaxis7": {
         "anchor": "x7",
         "domain": [
          0.535,
          0.7325
         ],
         "gridcolor": "#E1E5ED",
         "showgrid": false,
         "tickfont": {
          "color": "#4D5663"
         },
         "title": {
          "font": {
           "color": "#4D5663"
          },
          "text": ""
         },
         "zerolinecolor": "#E1E5ED"
        },
        "yaxis8": {
         "anchor": "x8",
         "domain": [
          0.535,
          0.7325
         ],
         "gridcolor": "#E1E5ED",
         "showgrid": false,
         "tickfont": {
          "color": "#4D5663"
         },
         "title": {
          "font": {
           "color": "#4D5663"
          },
          "text": ""
         },
         "zerolinecolor": "#E1E5ED"
        },
        "yaxis9": {
         "anchor": "x9",
         "domain": [
          0.2675,
          0.465
         ],
         "gridcolor": "#E1E5ED",
         "showgrid": false,
         "tickfont": {
          "color": "#4D5663"
         },
         "title": {
          "font": {
           "color": "#4D5663"
          },
          "text": ""
         },
         "zerolinecolor": "#E1E5ED"
        }
       }
      },
      "text/html": [
       "<div>                            <div id=\"734a1459-c9ab-40bc-b201-9ae6c359df5b\" class=\"plotly-graph-div\" style=\"height:525px; width:100%;\"></div>            <script type=\"text/javascript\">                require([\"plotly\"], function(Plotly) {                    window.PLOTLYENV=window.PLOTLYENV || {};\n",
       "                    window.PLOTLYENV.BASE_URL='https://plot.ly';                                    if (document.getElementById(\"734a1459-c9ab-40bc-b201-9ae6c359df5b\")) {                    Plotly.newPlot(                        \"734a1459-c9ab-40bc-b201-9ae6c359df5b\",                        [{\"histfunc\":\"count\",\"histnorm\":\"\",\"marker\":{\"color\":\"rgba(255, 153, 51, 1.0)\",\"line\":{\"color\":\"#4D5663\",\"width\":1.3}},\"name\":\"A\",\"nbinsx\":10,\"opacity\":0.8,\"orientation\":\"v\",\"x\":[0.3864119162303842,1.204197254885549,0.8915805046705403,0.6946310665445125,0.27765294539122676,0.5420527940393374,0.23163388502617024,-0.24611912165954075,0.1975421663222593,0.8306471225012765,-0.5947951947859332,0.07533484285624369,-0.48662233745461614,1.2095431597771475,1.4388081805724247,1.3213720547077155,-1.542678635966428,-0.24637024407810829,-0.05115857332615439,0.21033451070698972,3.1612127350544856,-1.3787329216099466,-0.39174937013067923,-1.464323976922046,-1.621593224518355,0.15333833029814659,-0.7801974870265284,-1.730171318650708,-0.1720820731605149,-1.4979155734855347,0.316666982307522,0.1429949741686534,-0.5073673656104781,0.8917748631288538,2.085554829503526,1.4364692534114378,-0.38471538218531065,-0.5217697385214842,0.17919576221160585,-0.1905462288446752,0.8396965913811204,-1.1132884509071437,0.24339161281964752,-1.429548270239324,-0.5806266492981891,-1.8770382428692274,-0.8888074513675872,0.24316207731286255,0.4982225352735528,-0.034273365889114026,-0.5825018111849762,-0.8798476373749529,1.1995589876220574,1.669952108825188,-0.3872968742445013,-1.0494059696781197,0.40754686773647897,-1.247921791425569,-0.3806257771839392,-0.5216481009040306,1.5405864399231293,-0.12969459449988752,-0.4523693590554315,-1.1046653902623707,1.6385742609526037,-0.541543061446402,0.8324264462958443,1.22474992003944,-0.09938681665143169,1.0468396972670604,-0.18671385796428455,-0.38257096000942087,0.5438194423985938,-0.19667430866170896,0.19775465238386308,-1.4257793282210245,0.23259243306741084,-0.7775097925144028,-1.0023132477348573,-0.2026193056462473,1.211440099443612,-1.563756949537177,0.5652204704929931,0.22997063377231486,0.6141551613384159,-0.5967768099632359,-0.8636424612336109,1.625871151332099,0.9218537869175375,0.28860763267064904,0.264056480265417,-1.7034195957732086,-1.2735263824434337,0.0453635049200079,1.7750461014137107,0.5036219550962464,1.659598689144155,0.9941880574328251,-0.293563658171593,-0.5632201905824927],\"xaxis\":\"x\",\"yaxis\":\"y\",\"type\":\"histogram\"},{\"line\":{\"color\":\"rgba(128, 128, 128, 1.0)\",\"dash\":\"solid\",\"shape\":\"linear\",\"width\":1.3},\"marker\":{\"size\":2,\"symbol\":\"circle\"},\"mode\":\"markers\",\"name\":\"A\",\"text\":\"\",\"x\":[0.663644916668608,0.8539894629565865,0.7182721805036181,-0.23131728651643915,1.0520682868690088,0.512886451876651,0.3962742013757297,0.19244837036910498,0.6942048027893358,-0.2722249899358359,0.6634385692004368,0.9800891949991442,1.1118229049368433,-0.10678861848750934,0.4690419300255005,-0.9723919008515634,-1.8757792550845664,0.8625745446710906,-0.7827619578718803,1.6677033232903173,1.1146211902632992,-1.3538638195878034,-0.31828942591868525,-0.003779765834421749,-0.815296361103711,1.1123892326502263,-0.7845936279014872,-1.9797114354721983,-1.390372692915758,1.6503369920929167,-0.14899684895433177,-0.8231575334399924,0.16104253963553297,0.7836004550291542,-0.33153498382638535,0.8407689388417556,-0.03281131948110183,0.12231113887453894,-0.018984964617667407,-0.6402845786433076,-0.12032126474864979,0.7349396313531462,-0.8960260796006839,0.7576566829971076,1.5999888684153223,-1.1286716075963636,1.5534085433341411,-0.7244406208197438,0.9263127855310453,-0.5391208826579759,-0.22257653120121626,0.4034032365585807,1.3094635291740735,-0.17829845039408723,-0.34107945675869356,1.1031629412688133,1.1937899917993917,-1.3332954918220914,-0.008346989593206655,-0.6328859674322583,-0.7205485931175036,1.0154031030661033,-1.5408076869474618,-0.1865187258517424,-0.48252363590092134,1.1208765865460928,-0.1206576183143393,0.3111316770088429,-0.8692757764238744,0.2683730398176634,1.201520534380479,1.8412641038761008,1.1903462992361296,-0.0972977226935668,0.35613581513712733,1.6478213551010252,-0.3197494553823164,0.28441072498000314,-1.6810004114282828,0.2943187027071099,-0.8031971015880753,-1.0280244607883133,-0.3548532385182408,-0.2997666538463908,-1.0143036354426633,-0.45467754603306093,0.4520630514102458,-1.1233903175090119,-0.27233724745283466,-0.29285161781770586,-0.7418022189104699,-1.1562087044083964,-0.6457668576781612,0.5373550478693669,1.2242863244276385,-0.9874880065577107,-0.6471030553787697,-0.048739317504564866,-0.23677463664566517,0.42998336423142036],\"xaxis\":\"x2\",\"y\":[0.3864119162303842,1.204197254885549,0.8915805046705403,0.6946310665445125,0.27765294539122676,0.5420527940393374,0.23163388502617024,-0.24611912165954075,0.1975421663222593,0.8306471225012765,-0.5947951947859332,0.07533484285624369,-0.48662233745461614,1.2095431597771475,1.4388081805724247,1.3213720547077155,-1.542678635966428,-0.24637024407810829,-0.05115857332615439,0.21033451070698972,3.1612127350544856,-1.3787329216099466,-0.39174937013067923,-1.464323976922046,-1.621593224518355,0.15333833029814659,-0.7801974870265284,-1.730171318650708,-0.1720820731605149,-1.4979155734855347,0.316666982307522,0.1429949741686534,-0.5073673656104781,0.8917748631288538,2.085554829503526,1.4364692534114378,-0.38471538218531065,-0.5217697385214842,0.17919576221160585,-0.1905462288446752,0.8396965913811204,-1.1132884509071437,0.24339161281964752,-1.429548270239324,-0.5806266492981891,-1.8770382428692274,-0.8888074513675872,0.24316207731286255,0.4982225352735528,-0.034273365889114026,-0.5825018111849762,-0.8798476373749529,1.1995589876220574,1.669952108825188,-0.3872968742445013,-1.0494059696781197,0.40754686773647897,-1.247921791425569,-0.3806257771839392,-0.5216481009040306,1.5405864399231293,-0.12969459449988752,-0.4523693590554315,-1.1046653902623707,1.6385742609526037,-0.541543061446402,0.8324264462958443,1.22474992003944,-0.09938681665143169,1.0468396972670604,-0.18671385796428455,-0.38257096000942087,0.5438194423985938,-0.19667430866170896,0.19775465238386308,-1.4257793282210245,0.23259243306741084,-0.7775097925144028,-1.0023132477348573,-0.2026193056462473,1.211440099443612,-1.563756949537177,0.5652204704929931,0.22997063377231486,0.6141551613384159,-0.5967768099632359,-0.8636424612336109,1.625871151332099,0.9218537869175375,0.28860763267064904,0.264056480265417,-1.7034195957732086,-1.2735263824434337,0.0453635049200079,1.7750461014137107,0.5036219550962464,1.659598689144155,0.9941880574328251,-0.293563658171593,-0.5632201905824927],\"yaxis\":\"y2\",\"type\":\"scatter\"},{\"line\":{\"color\":\"rgba(128, 128, 128, 1.0)\",\"dash\":\"solid\",\"shape\":\"linear\",\"width\":1.3},\"marker\":{\"size\":2,\"symbol\":\"circle\"},\"mode\":\"markers\",\"name\":\"A\",\"text\":\"\",\"x\":[-0.6538122694356095,0.29632246647545535,0.17940594091991843,0.6476627486246456,-0.10043811437228084,0.11338010465450052,-0.08356160498701343,-0.7316754573876626,-1.2365039762262189,-0.6386337749042802,-0.7926064521593136,-0.742671479208652,-0.3370161800707922,1.1897598509216165,0.7242630798740226,0.12021300751943033,-1.5541924942579035,1.5028214113878702,0.760501650197293,0.7515986114830532,-1.2686451344996938,0.01609558960139597,-1.6128707827272581,0.6903498423641136,0.7602651962954348,0.0673948377388364,-0.9775168899165652,0.5585404568888361,0.8523224276827606,-1.0041705242290733,0.5914262277861494,-0.5496136621526938,0.7017726636910391,0.15870469356872455,-2.4273620027153555,-0.5864254688778012,-0.0289089911443751,-0.8291195208456038,-0.9096062411979251,-1.1314170041692238,-0.5186793448446886,0.3108681995737991,-0.8378873764383811,0.158880930094833,0.7031221132836886,0.6505719191055622,0.43745761711076453,0.45318431224770556,-0.6414398264092175,0.523073885686085,0.12734147164046977,-0.770936570781369,-1.6151182596614424,0.9540473104491346,1.67023663497916,0.574762895692311,-0.8667434406776809,-1.2863033897237754,1.614402266304719,-1.8034959885421769,-1.3636443614651592,-0.4933435802573463,-0.6394587059741395,-2.2718745671441094,0.553289670910159,-1.0078069494814215,0.6043589606740618,1.4229283648169193,-0.179323294635072,0.2538061840793955,1.0263302945895039,0.394082382521719,3.121232497730125,1.3303969625222654,-1.1541522860639097,-0.23166102490887022,-0.7608722899456053,0.8666182729219869,0.5350322672866142,-1.4602188149153486,1.3344993116679742,-1.6617774845100284,0.42361503860653943,1.0908923129569281,-0.5303449319476716,1.2150687585703044,0.7158276442576861,-1.9543227706481956,-0.33939479342369694,0.4821056907373301,1.9533934250885414,-0.8069952996393184,0.7918551373589061,-0.17608519122254984,-0.30426593014751024,1.6164723943168042,-0.45506196261105936,0.3152484690447127,1.647266342350233,-0.7223542684237176],\"xaxis\":\"x3\",\"y\":[0.3864119162303842,1.204197254885549,0.8915805046705403,0.6946310665445125,0.27765294539122676,0.5420527940393374,0.23163388502617024,-0.24611912165954075,0.1975421663222593,0.8306471225012765,-0.5947951947859332,0.07533484285624369,-0.48662233745461614,1.2095431597771475,1.4388081805724247,1.3213720547077155,-1.542678635966428,-0.24637024407810829,-0.05115857332615439,0.21033451070698972,3.1612127350544856,-1.3787329216099466,-0.39174937013067923,-1.464323976922046,-1.621593224518355,0.15333833029814659,-0.7801974870265284,-1.730171318650708,-0.1720820731605149,-1.4979155734855347,0.316666982307522,0.1429949741686534,-0.5073673656104781,0.8917748631288538,2.085554829503526,1.4364692534114378,-0.38471538218531065,-0.5217697385214842,0.17919576221160585,-0.1905462288446752,0.8396965913811204,-1.1132884509071437,0.24339161281964752,-1.429548270239324,-0.5806266492981891,-1.8770382428692274,-0.8888074513675872,0.24316207731286255,0.4982225352735528,-0.034273365889114026,-0.5825018111849762,-0.8798476373749529,1.1995589876220574,1.669952108825188,-0.3872968742445013,-1.0494059696781197,0.40754686773647897,-1.247921791425569,-0.3806257771839392,-0.5216481009040306,1.5405864399231293,-0.12969459449988752,-0.4523693590554315,-1.1046653902623707,1.6385742609526037,-0.541543061446402,0.8324264462958443,1.22474992003944,-0.09938681665143169,1.0468396972670604,-0.18671385796428455,-0.38257096000942087,0.5438194423985938,-0.19667430866170896,0.19775465238386308,-1.4257793282210245,0.23259243306741084,-0.7775097925144028,-1.0023132477348573,-0.2026193056462473,1.211440099443612,-1.563756949537177,0.5652204704929931,0.22997063377231486,0.6141551613384159,-0.5967768099632359,-0.8636424612336109,1.625871151332099,0.9218537869175375,0.28860763267064904,0.264056480265417,-1.7034195957732086,-1.2735263824434337,0.0453635049200079,1.7750461014137107,0.5036219550962464,1.659598689144155,0.9941880574328251,-0.293563658171593,-0.5632201905824927],\"yaxis\":\"y3\",\"type\":\"scatter\"},{\"line\":{\"color\":\"rgba(128, 128, 128, 1.0)\",\"dash\":\"solid\",\"shape\":\"linear\",\"width\":1.3},\"marker\":{\"size\":2,\"symbol\":\"circle\"},\"mode\":\"markers\",\"name\":\"A\",\"text\":\"\",\"x\":[0.4757041776816243,0.590059346810028,1.4898915294795725,-0.10129042263276683,1.1597985080190125,0.0724982860361312,0.2619252841036569,0.061469576277574184,0.8196718590872685,0.01240778778894669,-0.17978598192692227,0.7752167917400364,-0.7883907933883273,-0.5913088626844035,0.840354822847208,0.2033445961535619,-0.5372586713560256,0.4232216389089505,-0.2528325544163104,1.3249290964393545,-0.40583222858635587,0.21658564791370435,0.11080851452461021,-1.510576937964176,0.44917619312760176,0.7236215239497839,1.3401738752050207,-0.5284184494366296,0.5168797933043524,0.27983750198876206,0.6462227083234211,-1.6537132076782313,0.6353620784452373,-1.886652937081722,1.492870807314742,-0.08148994426046148,0.9983669181816184,-0.19043088811464584,-0.5688184865474755,0.5624134837235857,-0.3210101968912109,1.213691522496094,-0.6308343201304198,-0.26552273071010934,0.0382706171539293,-0.42471459773090114,-1.2553973083616052,0.22693857017483704,-0.09986680003889419,-1.1171045042039667,-1.7636923232057913,-0.8078679446482997,-0.5113036700437527,0.13352748397932704,-0.481125035670177,-0.3364057735395534,0.5550899769272462,0.5876780577788043,-1.2003862841996797,1.6471280758452198,0.20112173315908158,1.2654140663662488,-0.8893935549005481,1.5474457958694703,-0.9223180706019465,-1.990699220593327,-0.312954805627847,0.19046176478033308,0.8584044198133884,-0.8279642354823153,-0.8110986924038266,-1.749313401583035,-0.5130068061780467,0.2557293226317499,1.9607498420411158,0.8220431076067412,0.6229318544142777,0.6659824134676142,-1.53152263813704,0.4644195955382767,0.8911958385726465,0.26943097640536046,0.711729257448235,0.7924413057554689,0.42979066547023326,0.8931354553398241,-1.9331873902697487,0.5555385587552265,-0.9853819496872513,0.161249515605386,1.9759695910147321,1.4093690275179895,-1.1299357517823005,2.3298930325014813,-1.1510253706195832,-0.8203802944899652,-0.42983926404297373,-0.13911929398213121,-0.019621435532456055,-0.7622062333318493],\"xaxis\":\"x4\",\"y\":[0.3864119162303842,1.204197254885549,0.8915805046705403,0.6946310665445125,0.27765294539122676,0.5420527940393374,0.23163388502617024,-0.24611912165954075,0.1975421663222593,0.8306471225012765,-0.5947951947859332,0.07533484285624369,-0.48662233745461614,1.2095431597771475,1.4388081805724247,1.3213720547077155,-1.542678635966428,-0.24637024407810829,-0.05115857332615439,0.21033451070698972,3.1612127350544856,-1.3787329216099466,-0.39174937013067923,-1.464323976922046,-1.621593224518355,0.15333833029814659,-0.7801974870265284,-1.730171318650708,-0.1720820731605149,-1.4979155734855347,0.316666982307522,0.1429949741686534,-0.5073673656104781,0.8917748631288538,2.085554829503526,1.4364692534114378,-0.38471538218531065,-0.5217697385214842,0.17919576221160585,-0.1905462288446752,0.8396965913811204,-1.1132884509071437,0.24339161281964752,-1.429548270239324,-0.5806266492981891,-1.8770382428692274,-0.8888074513675872,0.24316207731286255,0.4982225352735528,-0.034273365889114026,-0.5825018111849762,-0.8798476373749529,1.1995589876220574,1.669952108825188,-0.3872968742445013,-1.0494059696781197,0.40754686773647897,-1.247921791425569,-0.3806257771839392,-0.5216481009040306,1.5405864399231293,-0.12969459449988752,-0.4523693590554315,-1.1046653902623707,1.6385742609526037,-0.541543061446402,0.8324264462958443,1.22474992003944,-0.09938681665143169,1.0468396972670604,-0.18671385796428455,-0.38257096000942087,0.5438194423985938,-0.19667430866170896,0.19775465238386308,-1.4257793282210245,0.23259243306741084,-0.7775097925144028,-1.0023132477348573,-0.2026193056462473,1.211440099443612,-1.563756949537177,0.5652204704929931,0.22997063377231486,0.6141551613384159,-0.5967768099632359,-0.8636424612336109,1.625871151332099,0.9218537869175375,0.28860763267064904,0.264056480265417,-1.7034195957732086,-1.2735263824434337,0.0453635049200079,1.7750461014137107,0.5036219550962464,1.659598689144155,0.9941880574328251,-0.293563658171593,-0.5632201905824927],\"yaxis\":\"y4\",\"type\":\"scatter\"},{\"line\":{\"color\":\"rgba(128, 128, 128, 1.0)\",\"dash\":\"solid\",\"shape\":\"linear\",\"width\":1.3},\"marker\":{\"size\":2,\"symbol\":\"circle\"},\"mode\":\"markers\",\"name\":\"B\",\"text\":\"\",\"x\":[0.3864119162303842,1.204197254885549,0.8915805046705403,0.6946310665445125,0.27765294539122676,0.5420527940393374,0.23163388502617024,-0.24611912165954075,0.1975421663222593,0.8306471225012765,-0.5947951947859332,0.07533484285624369,-0.48662233745461614,1.2095431597771475,1.4388081805724247,1.3213720547077155,-1.542678635966428,-0.24637024407810829,-0.05115857332615439,0.21033451070698972,3.1612127350544856,-1.3787329216099466,-0.39174937013067923,-1.464323976922046,-1.621593224518355,0.15333833029814659,-0.7801974870265284,-1.730171318650708,-0.1720820731605149,-1.4979155734855347,0.316666982307522,0.1429949741686534,-0.5073673656104781,0.8917748631288538,2.085554829503526,1.4364692534114378,-0.38471538218531065,-0.5217697385214842,0.17919576221160585,-0.1905462288446752,0.8396965913811204,-1.1132884509071437,0.24339161281964752,-1.429548270239324,-0.5806266492981891,-1.8770382428692274,-0.8888074513675872,0.24316207731286255,0.4982225352735528,-0.034273365889114026,-0.5825018111849762,-0.8798476373749529,1.1995589876220574,1.669952108825188,-0.3872968742445013,-1.0494059696781197,0.40754686773647897,-1.247921791425569,-0.3806257771839392,-0.5216481009040306,1.5405864399231293,-0.12969459449988752,-0.4523693590554315,-1.1046653902623707,1.6385742609526037,-0.541543061446402,0.8324264462958443,1.22474992003944,-0.09938681665143169,1.0468396972670604,-0.18671385796428455,-0.38257096000942087,0.5438194423985938,-0.19667430866170896,0.19775465238386308,-1.4257793282210245,0.23259243306741084,-0.7775097925144028,-1.0023132477348573,-0.2026193056462473,1.211440099443612,-1.563756949537177,0.5652204704929931,0.22997063377231486,0.6141551613384159,-0.5967768099632359,-0.8636424612336109,1.625871151332099,0.9218537869175375,0.28860763267064904,0.264056480265417,-1.7034195957732086,-1.2735263824434337,0.0453635049200079,1.7750461014137107,0.5036219550962464,1.659598689144155,0.9941880574328251,-0.293563658171593,-0.5632201905824927],\"xaxis\":\"x5\",\"y\":[0.663644916668608,0.8539894629565865,0.7182721805036181,-0.23131728651643915,1.0520682868690088,0.512886451876651,0.3962742013757297,0.19244837036910498,0.6942048027893358,-0.2722249899358359,0.6634385692004368,0.9800891949991442,1.1118229049368433,-0.10678861848750934,0.4690419300255005,-0.9723919008515634,-1.8757792550845664,0.8625745446710906,-0.7827619578718803,1.6677033232903173,1.1146211902632992,-1.3538638195878034,-0.31828942591868525,-0.003779765834421749,-0.815296361103711,1.1123892326502263,-0.7845936279014872,-1.9797114354721983,-1.390372692915758,1.6503369920929167,-0.14899684895433177,-0.8231575334399924,0.16104253963553297,0.7836004550291542,-0.33153498382638535,0.8407689388417556,-0.03281131948110183,0.12231113887453894,-0.018984964617667407,-0.6402845786433076,-0.12032126474864979,0.7349396313531462,-0.8960260796006839,0.7576566829971076,1.5999888684153223,-1.1286716075963636,1.5534085433341411,-0.7244406208197438,0.9263127855310453,-0.5391208826579759,-0.22257653120121626,0.4034032365585807,1.3094635291740735,-0.17829845039408723,-0.34107945675869356,1.1031629412688133,1.1937899917993917,-1.3332954918220914,-0.008346989593206655,-0.6328859674322583,-0.7205485931175036,1.0154031030661033,-1.5408076869474618,-0.1865187258517424,-0.48252363590092134,1.1208765865460928,-0.1206576183143393,0.3111316770088429,-0.8692757764238744,0.2683730398176634,1.201520534380479,1.8412641038761008,1.1903462992361296,-0.0972977226935668,0.35613581513712733,1.6478213551010252,-0.3197494553823164,0.28441072498000314,-1.6810004114282828,0.2943187027071099,-0.8031971015880753,-1.0280244607883133,-0.3548532385182408,-0.2997666538463908,-1.0143036354426633,-0.45467754603306093,0.4520630514102458,-1.1233903175090119,-0.27233724745283466,-0.29285161781770586,-0.7418022189104699,-1.1562087044083964,-0.6457668576781612,0.5373550478693669,1.2242863244276385,-0.9874880065577107,-0.6471030553787697,-0.048739317504564866,-0.23677463664566517,0.42998336423142036],\"yaxis\":\"y5\",\"type\":\"scatter\"},{\"histfunc\":\"count\",\"histnorm\":\"\",\"marker\":{\"color\":\"rgba(55, 128, 191, 1.0)\",\"line\":{\"color\":\"#4D5663\",\"width\":1.3}},\"name\":\"B\",\"nbinsx\":10,\"opacity\":0.8,\"orientation\":\"v\",\"x\":[0.663644916668608,0.8539894629565865,0.7182721805036181,-0.23131728651643915,1.0520682868690088,0.512886451876651,0.3962742013757297,0.19244837036910498,0.6942048027893358,-0.2722249899358359,0.6634385692004368,0.9800891949991442,1.1118229049368433,-0.10678861848750934,0.4690419300255005,-0.9723919008515634,-1.8757792550845664,0.8625745446710906,-0.7827619578718803,1.6677033232903173,1.1146211902632992,-1.3538638195878034,-0.31828942591868525,-0.003779765834421749,-0.815296361103711,1.1123892326502263,-0.7845936279014872,-1.9797114354721983,-1.390372692915758,1.6503369920929167,-0.14899684895433177,-0.8231575334399924,0.16104253963553297,0.7836004550291542,-0.33153498382638535,0.8407689388417556,-0.03281131948110183,0.12231113887453894,-0.018984964617667407,-0.6402845786433076,-0.12032126474864979,0.7349396313531462,-0.8960260796006839,0.7576566829971076,1.5999888684153223,-1.1286716075963636,1.5534085433341411,-0.7244406208197438,0.9263127855310453,-0.5391208826579759,-0.22257653120121626,0.4034032365585807,1.3094635291740735,-0.17829845039408723,-0.34107945675869356,1.1031629412688133,1.1937899917993917,-1.3332954918220914,-0.008346989593206655,-0.6328859674322583,-0.7205485931175036,1.0154031030661033,-1.5408076869474618,-0.1865187258517424,-0.48252363590092134,1.1208765865460928,-0.1206576183143393,0.3111316770088429,-0.8692757764238744,0.2683730398176634,1.201520534380479,1.8412641038761008,1.1903462992361296,-0.0972977226935668,0.35613581513712733,1.6478213551010252,-0.3197494553823164,0.28441072498000314,-1.6810004114282828,0.2943187027071099,-0.8031971015880753,-1.0280244607883133,-0.3548532385182408,-0.2997666538463908,-1.0143036354426633,-0.45467754603306093,0.4520630514102458,-1.1233903175090119,-0.27233724745283466,-0.29285161781770586,-0.7418022189104699,-1.1562087044083964,-0.6457668576781612,0.5373550478693669,1.2242863244276385,-0.9874880065577107,-0.6471030553787697,-0.048739317504564866,-0.23677463664566517,0.42998336423142036],\"xaxis\":\"x6\",\"yaxis\":\"y6\",\"type\":\"histogram\"},{\"line\":{\"color\":\"rgba(128, 128, 128, 1.0)\",\"dash\":\"solid\",\"shape\":\"linear\",\"width\":1.3},\"marker\":{\"size\":2,\"symbol\":\"circle\"},\"mode\":\"markers\",\"name\":\"B\",\"text\":\"\",\"x\":[-0.6538122694356095,0.29632246647545535,0.17940594091991843,0.6476627486246456,-0.10043811437228084,0.11338010465450052,-0.08356160498701343,-0.7316754573876626,-1.2365039762262189,-0.6386337749042802,-0.7926064521593136,-0.742671479208652,-0.3370161800707922,1.1897598509216165,0.7242630798740226,0.12021300751943033,-1.5541924942579035,1.5028214113878702,0.760501650197293,0.7515986114830532,-1.2686451344996938,0.01609558960139597,-1.6128707827272581,0.6903498423641136,0.7602651962954348,0.0673948377388364,-0.9775168899165652,0.5585404568888361,0.8523224276827606,-1.0041705242290733,0.5914262277861494,-0.5496136621526938,0.7017726636910391,0.15870469356872455,-2.4273620027153555,-0.5864254688778012,-0.0289089911443751,-0.8291195208456038,-0.9096062411979251,-1.1314170041692238,-0.5186793448446886,0.3108681995737991,-0.8378873764383811,0.158880930094833,0.7031221132836886,0.6505719191055622,0.43745761711076453,0.45318431224770556,-0.6414398264092175,0.523073885686085,0.12734147164046977,-0.770936570781369,-1.6151182596614424,0.9540473104491346,1.67023663497916,0.574762895692311,-0.8667434406776809,-1.2863033897237754,1.614402266304719,-1.8034959885421769,-1.3636443614651592,-0.4933435802573463,-0.6394587059741395,-2.2718745671441094,0.553289670910159,-1.0078069494814215,0.6043589606740618,1.4229283648169193,-0.179323294635072,0.2538061840793955,1.0263302945895039,0.394082382521719,3.121232497730125,1.3303969625222654,-1.1541522860639097,-0.23166102490887022,-0.7608722899456053,0.8666182729219869,0.5350322672866142,-1.4602188149153486,1.3344993116679742,-1.6617774845100284,0.42361503860653943,1.0908923129569281,-0.5303449319476716,1.2150687585703044,0.7158276442576861,-1.9543227706481956,-0.33939479342369694,0.4821056907373301,1.9533934250885414,-0.8069952996393184,0.7918551373589061,-0.17608519122254984,-0.30426593014751024,1.6164723943168042,-0.45506196261105936,0.3152484690447127,1.647266342350233,-0.7223542684237176],\"xaxis\":\"x7\",\"y\":[0.663644916668608,0.8539894629565865,0.7182721805036181,-0.23131728651643915,1.0520682868690088,0.512886451876651,0.3962742013757297,0.19244837036910498,0.6942048027893358,-0.2722249899358359,0.6634385692004368,0.9800891949991442,1.1118229049368433,-0.10678861848750934,0.4690419300255005,-0.9723919008515634,-1.8757792550845664,0.8625745446710906,-0.7827619578718803,1.6677033232903173,1.1146211902632992,-1.3538638195878034,-0.31828942591868525,-0.003779765834421749,-0.815296361103711,1.1123892326502263,-0.7845936279014872,-1.9797114354721983,-1.390372692915758,1.6503369920929167,-0.14899684895433177,-0.8231575334399924,0.16104253963553297,0.7836004550291542,-0.33153498382638535,0.8407689388417556,-0.03281131948110183,0.12231113887453894,-0.018984964617667407,-0.6402845786433076,-0.12032126474864979,0.7349396313531462,-0.8960260796006839,0.7576566829971076,1.5999888684153223,-1.1286716075963636,1.5534085433341411,-0.7244406208197438,0.9263127855310453,-0.5391208826579759,-0.22257653120121626,0.4034032365585807,1.3094635291740735,-0.17829845039408723,-0.34107945675869356,1.1031629412688133,1.1937899917993917,-1.3332954918220914,-0.008346989593206655,-0.6328859674322583,-0.7205485931175036,1.0154031030661033,-1.5408076869474618,-0.1865187258517424,-0.48252363590092134,1.1208765865460928,-0.1206576183143393,0.3111316770088429,-0.8692757764238744,0.2683730398176634,1.201520534380479,1.8412641038761008,1.1903462992361296,-0.0972977226935668,0.35613581513712733,1.6478213551010252,-0.3197494553823164,0.28441072498000314,-1.6810004114282828,0.2943187027071099,-0.8031971015880753,-1.0280244607883133,-0.3548532385182408,-0.2997666538463908,-1.0143036354426633,-0.45467754603306093,0.4520630514102458,-1.1233903175090119,-0.27233724745283466,-0.29285161781770586,-0.7418022189104699,-1.1562087044083964,-0.6457668576781612,0.5373550478693669,1.2242863244276385,-0.9874880065577107,-0.6471030553787697,-0.048739317504564866,-0.23677463664566517,0.42998336423142036],\"yaxis\":\"y7\",\"type\":\"scatter\"},{\"line\":{\"color\":\"rgba(128, 128, 128, 1.0)\",\"dash\":\"solid\",\"shape\":\"linear\",\"width\":1.3},\"marker\":{\"size\":2,\"symbol\":\"circle\"},\"mode\":\"markers\",\"name\":\"B\",\"text\":\"\",\"x\":[0.4757041776816243,0.590059346810028,1.4898915294795725,-0.10129042263276683,1.1597985080190125,0.0724982860361312,0.2619252841036569,0.061469576277574184,0.8196718590872685,0.01240778778894669,-0.17978598192692227,0.7752167917400364,-0.7883907933883273,-0.5913088626844035,0.840354822847208,0.2033445961535619,-0.5372586713560256,0.4232216389089505,-0.2528325544163104,1.3249290964393545,-0.40583222858635587,0.21658564791370435,0.11080851452461021,-1.510576937964176,0.44917619312760176,0.7236215239497839,1.3401738752050207,-0.5284184494366296,0.5168797933043524,0.27983750198876206,0.6462227083234211,-1.6537132076782313,0.6353620784452373,-1.886652937081722,1.492870807314742,-0.08148994426046148,0.9983669181816184,-0.19043088811464584,-0.5688184865474755,0.5624134837235857,-0.3210101968912109,1.213691522496094,-0.6308343201304198,-0.26552273071010934,0.0382706171539293,-0.42471459773090114,-1.2553973083616052,0.22693857017483704,-0.09986680003889419,-1.1171045042039667,-1.7636923232057913,-0.8078679446482997,-0.5113036700437527,0.13352748397932704,-0.481125035670177,-0.3364057735395534,0.5550899769272462,0.5876780577788043,-1.2003862841996797,1.6471280758452198,0.20112173315908158,1.2654140663662488,-0.8893935549005481,1.5474457958694703,-0.9223180706019465,-1.990699220593327,-0.312954805627847,0.19046176478033308,0.8584044198133884,-0.8279642354823153,-0.8110986924038266,-1.749313401583035,-0.5130068061780467,0.2557293226317499,1.9607498420411158,0.8220431076067412,0.6229318544142777,0.6659824134676142,-1.53152263813704,0.4644195955382767,0.8911958385726465,0.26943097640536046,0.711729257448235,0.7924413057554689,0.42979066547023326,0.8931354553398241,-1.9331873902697487,0.5555385587552265,-0.9853819496872513,0.161249515605386,1.9759695910147321,1.4093690275179895,-1.1299357517823005,2.3298930325014813,-1.1510253706195832,-0.8203802944899652,-0.42983926404297373,-0.13911929398213121,-0.019621435532456055,-0.7622062333318493],\"xaxis\":\"x8\",\"y\":[0.663644916668608,0.8539894629565865,0.7182721805036181,-0.23131728651643915,1.0520682868690088,0.512886451876651,0.3962742013757297,0.19244837036910498,0.6942048027893358,-0.2722249899358359,0.6634385692004368,0.9800891949991442,1.1118229049368433,-0.10678861848750934,0.4690419300255005,-0.9723919008515634,-1.8757792550845664,0.8625745446710906,-0.7827619578718803,1.6677033232903173,1.1146211902632992,-1.3538638195878034,-0.31828942591868525,-0.003779765834421749,-0.815296361103711,1.1123892326502263,-0.7845936279014872,-1.9797114354721983,-1.390372692915758,1.6503369920929167,-0.14899684895433177,-0.8231575334399924,0.16104253963553297,0.7836004550291542,-0.33153498382638535,0.8407689388417556,-0.03281131948110183,0.12231113887453894,-0.018984964617667407,-0.6402845786433076,-0.12032126474864979,0.7349396313531462,-0.8960260796006839,0.7576566829971076,1.5999888684153223,-1.1286716075963636,1.5534085433341411,-0.7244406208197438,0.9263127855310453,-0.5391208826579759,-0.22257653120121626,0.4034032365585807,1.3094635291740735,-0.17829845039408723,-0.34107945675869356,1.1031629412688133,1.1937899917993917,-1.3332954918220914,-0.008346989593206655,-0.6328859674322583,-0.7205485931175036,1.0154031030661033,-1.5408076869474618,-0.1865187258517424,-0.48252363590092134,1.1208765865460928,-0.1206576183143393,0.3111316770088429,-0.8692757764238744,0.2683730398176634,1.201520534380479,1.8412641038761008,1.1903462992361296,-0.0972977226935668,0.35613581513712733,1.6478213551010252,-0.3197494553823164,0.28441072498000314,-1.6810004114282828,0.2943187027071099,-0.8031971015880753,-1.0280244607883133,-0.3548532385182408,-0.2997666538463908,-1.0143036354426633,-0.45467754603306093,0.4520630514102458,-1.1233903175090119,-0.27233724745283466,-0.29285161781770586,-0.7418022189104699,-1.1562087044083964,-0.6457668576781612,0.5373550478693669,1.2242863244276385,-0.9874880065577107,-0.6471030553787697,-0.048739317504564866,-0.23677463664566517,0.42998336423142036],\"yaxis\":\"y8\",\"type\":\"scatter\"},{\"line\":{\"color\":\"rgba(128, 128, 128, 1.0)\",\"dash\":\"solid\",\"shape\":\"linear\",\"width\":1.3},\"marker\":{\"size\":2,\"symbol\":\"circle\"},\"mode\":\"markers\",\"name\":\"C\",\"text\":\"\",\"x\":[0.3864119162303842,1.204197254885549,0.8915805046705403,0.6946310665445125,0.27765294539122676,0.5420527940393374,0.23163388502617024,-0.24611912165954075,0.1975421663222593,0.8306471225012765,-0.5947951947859332,0.07533484285624369,-0.48662233745461614,1.2095431597771475,1.4388081805724247,1.3213720547077155,-1.542678635966428,-0.24637024407810829,-0.05115857332615439,0.21033451070698972,3.1612127350544856,-1.3787329216099466,-0.39174937013067923,-1.464323976922046,-1.621593224518355,0.15333833029814659,-0.7801974870265284,-1.730171318650708,-0.1720820731605149,-1.4979155734855347,0.316666982307522,0.1429949741686534,-0.5073673656104781,0.8917748631288538,2.085554829503526,1.4364692534114378,-0.38471538218531065,-0.5217697385214842,0.17919576221160585,-0.1905462288446752,0.8396965913811204,-1.1132884509071437,0.24339161281964752,-1.429548270239324,-0.5806266492981891,-1.8770382428692274,-0.8888074513675872,0.24316207731286255,0.4982225352735528,-0.034273365889114026,-0.5825018111849762,-0.8798476373749529,1.1995589876220574,1.669952108825188,-0.3872968742445013,-1.0494059696781197,0.40754686773647897,-1.247921791425569,-0.3806257771839392,-0.5216481009040306,1.5405864399231293,-0.12969459449988752,-0.4523693590554315,-1.1046653902623707,1.6385742609526037,-0.541543061446402,0.8324264462958443,1.22474992003944,-0.09938681665143169,1.0468396972670604,-0.18671385796428455,-0.38257096000942087,0.5438194423985938,-0.19667430866170896,0.19775465238386308,-1.4257793282210245,0.23259243306741084,-0.7775097925144028,-1.0023132477348573,-0.2026193056462473,1.211440099443612,-1.563756949537177,0.5652204704929931,0.22997063377231486,0.6141551613384159,-0.5967768099632359,-0.8636424612336109,1.625871151332099,0.9218537869175375,0.28860763267064904,0.264056480265417,-1.7034195957732086,-1.2735263824434337,0.0453635049200079,1.7750461014137107,0.5036219550962464,1.659598689144155,0.9941880574328251,-0.293563658171593,-0.5632201905824927],\"xaxis\":\"x9\",\"y\":[-0.6538122694356095,0.29632246647545535,0.17940594091991843,0.6476627486246456,-0.10043811437228084,0.11338010465450052,-0.08356160498701343,-0.7316754573876626,-1.2365039762262189,-0.6386337749042802,-0.7926064521593136,-0.742671479208652,-0.3370161800707922,1.1897598509216165,0.7242630798740226,0.12021300751943033,-1.5541924942579035,1.5028214113878702,0.760501650197293,0.7515986114830532,-1.2686451344996938,0.01609558960139597,-1.6128707827272581,0.6903498423641136,0.7602651962954348,0.0673948377388364,-0.9775168899165652,0.5585404568888361,0.8523224276827606,-1.0041705242290733,0.5914262277861494,-0.5496136621526938,0.7017726636910391,0.15870469356872455,-2.4273620027153555,-0.5864254688778012,-0.0289089911443751,-0.8291195208456038,-0.9096062411979251,-1.1314170041692238,-0.5186793448446886,0.3108681995737991,-0.8378873764383811,0.158880930094833,0.7031221132836886,0.6505719191055622,0.43745761711076453,0.45318431224770556,-0.6414398264092175,0.523073885686085,0.12734147164046977,-0.770936570781369,-1.6151182596614424,0.9540473104491346,1.67023663497916,0.574762895692311,-0.8667434406776809,-1.2863033897237754,1.614402266304719,-1.8034959885421769,-1.3636443614651592,-0.4933435802573463,-0.6394587059741395,-2.2718745671441094,0.553289670910159,-1.0078069494814215,0.6043589606740618,1.4229283648169193,-0.179323294635072,0.2538061840793955,1.0263302945895039,0.394082382521719,3.121232497730125,1.3303969625222654,-1.1541522860639097,-0.23166102490887022,-0.7608722899456053,0.8666182729219869,0.5350322672866142,-1.4602188149153486,1.3344993116679742,-1.6617774845100284,0.42361503860653943,1.0908923129569281,-0.5303449319476716,1.2150687585703044,0.7158276442576861,-1.9543227706481956,-0.33939479342369694,0.4821056907373301,1.9533934250885414,-0.8069952996393184,0.7918551373589061,-0.17608519122254984,-0.30426593014751024,1.6164723943168042,-0.45506196261105936,0.3152484690447127,1.647266342350233,-0.7223542684237176],\"yaxis\":\"y9\",\"type\":\"scatter\"},{\"line\":{\"color\":\"rgba(128, 128, 128, 1.0)\",\"dash\":\"solid\",\"shape\":\"linear\",\"width\":1.3},\"marker\":{\"size\":2,\"symbol\":\"circle\"},\"mode\":\"markers\",\"name\":\"C\",\"text\":\"\",\"x\":[0.663644916668608,0.8539894629565865,0.7182721805036181,-0.23131728651643915,1.0520682868690088,0.512886451876651,0.3962742013757297,0.19244837036910498,0.6942048027893358,-0.2722249899358359,0.6634385692004368,0.9800891949991442,1.1118229049368433,-0.10678861848750934,0.4690419300255005,-0.9723919008515634,-1.8757792550845664,0.8625745446710906,-0.7827619578718803,1.6677033232903173,1.1146211902632992,-1.3538638195878034,-0.31828942591868525,-0.003779765834421749,-0.815296361103711,1.1123892326502263,-0.7845936279014872,-1.9797114354721983,-1.390372692915758,1.6503369920929167,-0.14899684895433177,-0.8231575334399924,0.16104253963553297,0.7836004550291542,-0.33153498382638535,0.8407689388417556,-0.03281131948110183,0.12231113887453894,-0.018984964617667407,-0.6402845786433076,-0.12032126474864979,0.7349396313531462,-0.8960260796006839,0.7576566829971076,1.5999888684153223,-1.1286716075963636,1.5534085433341411,-0.7244406208197438,0.9263127855310453,-0.5391208826579759,-0.22257653120121626,0.4034032365585807,1.3094635291740735,-0.17829845039408723,-0.34107945675869356,1.1031629412688133,1.1937899917993917,-1.3332954918220914,-0.008346989593206655,-0.6328859674322583,-0.7205485931175036,1.0154031030661033,-1.5408076869474618,-0.1865187258517424,-0.48252363590092134,1.1208765865460928,-0.1206576183143393,0.3111316770088429,-0.8692757764238744,0.2683730398176634,1.201520534380479,1.8412641038761008,1.1903462992361296,-0.0972977226935668,0.35613581513712733,1.6478213551010252,-0.3197494553823164,0.28441072498000314,-1.6810004114282828,0.2943187027071099,-0.8031971015880753,-1.0280244607883133,-0.3548532385182408,-0.2997666538463908,-1.0143036354426633,-0.45467754603306093,0.4520630514102458,-1.1233903175090119,-0.27233724745283466,-0.29285161781770586,-0.7418022189104699,-1.1562087044083964,-0.6457668576781612,0.5373550478693669,1.2242863244276385,-0.9874880065577107,-0.6471030553787697,-0.048739317504564866,-0.23677463664566517,0.42998336423142036],\"xaxis\":\"x10\",\"y\":[-0.6538122694356095,0.29632246647545535,0.17940594091991843,0.6476627486246456,-0.10043811437228084,0.11338010465450052,-0.08356160498701343,-0.7316754573876626,-1.2365039762262189,-0.6386337749042802,-0.7926064521593136,-0.742671479208652,-0.3370161800707922,1.1897598509216165,0.7242630798740226,0.12021300751943033,-1.5541924942579035,1.5028214113878702,0.760501650197293,0.7515986114830532,-1.2686451344996938,0.01609558960139597,-1.6128707827272581,0.6903498423641136,0.7602651962954348,0.0673948377388364,-0.9775168899165652,0.5585404568888361,0.8523224276827606,-1.0041705242290733,0.5914262277861494,-0.5496136621526938,0.7017726636910391,0.15870469356872455,-2.4273620027153555,-0.5864254688778012,-0.0289089911443751,-0.8291195208456038,-0.9096062411979251,-1.1314170041692238,-0.5186793448446886,0.3108681995737991,-0.8378873764383811,0.158880930094833,0.7031221132836886,0.6505719191055622,0.43745761711076453,0.45318431224770556,-0.6414398264092175,0.523073885686085,0.12734147164046977,-0.770936570781369,-1.6151182596614424,0.9540473104491346,1.67023663497916,0.574762895692311,-0.8667434406776809,-1.2863033897237754,1.614402266304719,-1.8034959885421769,-1.3636443614651592,-0.4933435802573463,-0.6394587059741395,-2.2718745671441094,0.553289670910159,-1.0078069494814215,0.6043589606740618,1.4229283648169193,-0.179323294635072,0.2538061840793955,1.0263302945895039,0.394082382521719,3.121232497730125,1.3303969625222654,-1.1541522860639097,-0.23166102490887022,-0.7608722899456053,0.8666182729219869,0.5350322672866142,-1.4602188149153486,1.3344993116679742,-1.6617774845100284,0.42361503860653943,1.0908923129569281,-0.5303449319476716,1.2150687585703044,0.7158276442576861,-1.9543227706481956,-0.33939479342369694,0.4821056907373301,1.9533934250885414,-0.8069952996393184,0.7918551373589061,-0.17608519122254984,-0.30426593014751024,1.6164723943168042,-0.45506196261105936,0.3152484690447127,1.647266342350233,-0.7223542684237176],\"yaxis\":\"y10\",\"type\":\"scatter\"},{\"histfunc\":\"count\",\"histnorm\":\"\",\"marker\":{\"color\":\"rgba(50, 171, 96, 1.0)\",\"line\":{\"color\":\"#4D5663\",\"width\":1.3}},\"name\":\"C\",\"nbinsx\":10,\"opacity\":0.8,\"orientation\":\"v\",\"x\":[-0.6538122694356095,0.29632246647545535,0.17940594091991843,0.6476627486246456,-0.10043811437228084,0.11338010465450052,-0.08356160498701343,-0.7316754573876626,-1.2365039762262189,-0.6386337749042802,-0.7926064521593136,-0.742671479208652,-0.3370161800707922,1.1897598509216165,0.7242630798740226,0.12021300751943033,-1.5541924942579035,1.5028214113878702,0.760501650197293,0.7515986114830532,-1.2686451344996938,0.01609558960139597,-1.6128707827272581,0.6903498423641136,0.7602651962954348,0.0673948377388364,-0.9775168899165652,0.5585404568888361,0.8523224276827606,-1.0041705242290733,0.5914262277861494,-0.5496136621526938,0.7017726636910391,0.15870469356872455,-2.4273620027153555,-0.5864254688778012,-0.0289089911443751,-0.8291195208456038,-0.9096062411979251,-1.1314170041692238,-0.5186793448446886,0.3108681995737991,-0.8378873764383811,0.158880930094833,0.7031221132836886,0.6505719191055622,0.43745761711076453,0.45318431224770556,-0.6414398264092175,0.523073885686085,0.12734147164046977,-0.770936570781369,-1.6151182596614424,0.9540473104491346,1.67023663497916,0.574762895692311,-0.8667434406776809,-1.2863033897237754,1.614402266304719,-1.8034959885421769,-1.3636443614651592,-0.4933435802573463,-0.6394587059741395,-2.2718745671441094,0.553289670910159,-1.0078069494814215,0.6043589606740618,1.4229283648169193,-0.179323294635072,0.2538061840793955,1.0263302945895039,0.394082382521719,3.121232497730125,1.3303969625222654,-1.1541522860639097,-0.23166102490887022,-0.7608722899456053,0.8666182729219869,0.5350322672866142,-1.4602188149153486,1.3344993116679742,-1.6617774845100284,0.42361503860653943,1.0908923129569281,-0.5303449319476716,1.2150687585703044,0.7158276442576861,-1.9543227706481956,-0.33939479342369694,0.4821056907373301,1.9533934250885414,-0.8069952996393184,0.7918551373589061,-0.17608519122254984,-0.30426593014751024,1.6164723943168042,-0.45506196261105936,0.3152484690447127,1.647266342350233,-0.7223542684237176],\"xaxis\":\"x11\",\"yaxis\":\"y11\",\"type\":\"histogram\"},{\"line\":{\"color\":\"rgba(128, 128, 128, 1.0)\",\"dash\":\"solid\",\"shape\":\"linear\",\"width\":1.3},\"marker\":{\"size\":2,\"symbol\":\"circle\"},\"mode\":\"markers\",\"name\":\"C\",\"text\":\"\",\"x\":[0.4757041776816243,0.590059346810028,1.4898915294795725,-0.10129042263276683,1.1597985080190125,0.0724982860361312,0.2619252841036569,0.061469576277574184,0.8196718590872685,0.01240778778894669,-0.17978598192692227,0.7752167917400364,-0.7883907933883273,-0.5913088626844035,0.840354822847208,0.2033445961535619,-0.5372586713560256,0.4232216389089505,-0.2528325544163104,1.3249290964393545,-0.40583222858635587,0.21658564791370435,0.11080851452461021,-1.510576937964176,0.44917619312760176,0.7236215239497839,1.3401738752050207,-0.5284184494366296,0.5168797933043524,0.27983750198876206,0.6462227083234211,-1.6537132076782313,0.6353620784452373,-1.886652937081722,1.492870807314742,-0.08148994426046148,0.9983669181816184,-0.19043088811464584,-0.5688184865474755,0.5624134837235857,-0.3210101968912109,1.213691522496094,-0.6308343201304198,-0.26552273071010934,0.0382706171539293,-0.42471459773090114,-1.2553973083616052,0.22693857017483704,-0.09986680003889419,-1.1171045042039667,-1.7636923232057913,-0.8078679446482997,-0.5113036700437527,0.13352748397932704,-0.481125035670177,-0.3364057735395534,0.5550899769272462,0.5876780577788043,-1.2003862841996797,1.6471280758452198,0.20112173315908158,1.2654140663662488,-0.8893935549005481,1.5474457958694703,-0.9223180706019465,-1.990699220593327,-0.312954805627847,0.19046176478033308,0.8584044198133884,-0.8279642354823153,-0.8110986924038266,-1.749313401583035,-0.5130068061780467,0.2557293226317499,1.9607498420411158,0.8220431076067412,0.6229318544142777,0.6659824134676142,-1.53152263813704,0.4644195955382767,0.8911958385726465,0.26943097640536046,0.711729257448235,0.7924413057554689,0.42979066547023326,0.8931354553398241,-1.9331873902697487,0.5555385587552265,-0.9853819496872513,0.161249515605386,1.9759695910147321,1.4093690275179895,-1.1299357517823005,2.3298930325014813,-1.1510253706195832,-0.8203802944899652,-0.42983926404297373,-0.13911929398213121,-0.019621435532456055,-0.7622062333318493],\"xaxis\":\"x12\",\"y\":[-0.6538122694356095,0.29632246647545535,0.17940594091991843,0.6476627486246456,-0.10043811437228084,0.11338010465450052,-0.08356160498701343,-0.7316754573876626,-1.2365039762262189,-0.6386337749042802,-0.7926064521593136,-0.742671479208652,-0.3370161800707922,1.1897598509216165,0.7242630798740226,0.12021300751943033,-1.5541924942579035,1.5028214113878702,0.760501650197293,0.7515986114830532,-1.2686451344996938,0.01609558960139597,-1.6128707827272581,0.6903498423641136,0.7602651962954348,0.0673948377388364,-0.9775168899165652,0.5585404568888361,0.8523224276827606,-1.0041705242290733,0.5914262277861494,-0.5496136621526938,0.7017726636910391,0.15870469356872455,-2.4273620027153555,-0.5864254688778012,-0.0289089911443751,-0.8291195208456038,-0.9096062411979251,-1.1314170041692238,-0.5186793448446886,0.3108681995737991,-0.8378873764383811,0.158880930094833,0.7031221132836886,0.6505719191055622,0.43745761711076453,0.45318431224770556,-0.6414398264092175,0.523073885686085,0.12734147164046977,-0.770936570781369,-1.6151182596614424,0.9540473104491346,1.67023663497916,0.574762895692311,-0.8667434406776809,-1.2863033897237754,1.614402266304719,-1.8034959885421769,-1.3636443614651592,-0.4933435802573463,-0.6394587059741395,-2.2718745671441094,0.553289670910159,-1.0078069494814215,0.6043589606740618,1.4229283648169193,-0.179323294635072,0.2538061840793955,1.0263302945895039,0.394082382521719,3.121232497730125,1.3303969625222654,-1.1541522860639097,-0.23166102490887022,-0.7608722899456053,0.8666182729219869,0.5350322672866142,-1.4602188149153486,1.3344993116679742,-1.6617774845100284,0.42361503860653943,1.0908923129569281,-0.5303449319476716,1.2150687585703044,0.7158276442576861,-1.9543227706481956,-0.33939479342369694,0.4821056907373301,1.9533934250885414,-0.8069952996393184,0.7918551373589061,-0.17608519122254984,-0.30426593014751024,1.6164723943168042,-0.45506196261105936,0.3152484690447127,1.647266342350233,-0.7223542684237176],\"yaxis\":\"y12\",\"type\":\"scatter\"},{\"line\":{\"color\":\"rgba(128, 128, 128, 1.0)\",\"dash\":\"solid\",\"shape\":\"linear\",\"width\":1.3},\"marker\":{\"size\":2,\"symbol\":\"circle\"},\"mode\":\"markers\",\"name\":\"D\",\"text\":\"\",\"x\":[0.3864119162303842,1.204197254885549,0.8915805046705403,0.6946310665445125,0.27765294539122676,0.5420527940393374,0.23163388502617024,-0.24611912165954075,0.1975421663222593,0.8306471225012765,-0.5947951947859332,0.07533484285624369,-0.48662233745461614,1.2095431597771475,1.4388081805724247,1.3213720547077155,-1.542678635966428,-0.24637024407810829,-0.05115857332615439,0.21033451070698972,3.1612127350544856,-1.3787329216099466,-0.39174937013067923,-1.464323976922046,-1.621593224518355,0.15333833029814659,-0.7801974870265284,-1.730171318650708,-0.1720820731605149,-1.4979155734855347,0.316666982307522,0.1429949741686534,-0.5073673656104781,0.8917748631288538,2.085554829503526,1.4364692534114378,-0.38471538218531065,-0.5217697385214842,0.17919576221160585,-0.1905462288446752,0.8396965913811204,-1.1132884509071437,0.24339161281964752,-1.429548270239324,-0.5806266492981891,-1.8770382428692274,-0.8888074513675872,0.24316207731286255,0.4982225352735528,-0.034273365889114026,-0.5825018111849762,-0.8798476373749529,1.1995589876220574,1.669952108825188,-0.3872968742445013,-1.0494059696781197,0.40754686773647897,-1.247921791425569,-0.3806257771839392,-0.5216481009040306,1.5405864399231293,-0.12969459449988752,-0.4523693590554315,-1.1046653902623707,1.6385742609526037,-0.541543061446402,0.8324264462958443,1.22474992003944,-0.09938681665143169,1.0468396972670604,-0.18671385796428455,-0.38257096000942087,0.5438194423985938,-0.19667430866170896,0.19775465238386308,-1.4257793282210245,0.23259243306741084,-0.7775097925144028,-1.0023132477348573,-0.2026193056462473,1.211440099443612,-1.563756949537177,0.5652204704929931,0.22997063377231486,0.6141551613384159,-0.5967768099632359,-0.8636424612336109,1.625871151332099,0.9218537869175375,0.28860763267064904,0.264056480265417,-1.7034195957732086,-1.2735263824434337,0.0453635049200079,1.7750461014137107,0.5036219550962464,1.659598689144155,0.9941880574328251,-0.293563658171593,-0.5632201905824927],\"xaxis\":\"x13\",\"y\":[0.4757041776816243,0.590059346810028,1.4898915294795725,-0.10129042263276683,1.1597985080190125,0.0724982860361312,0.2619252841036569,0.061469576277574184,0.8196718590872685,0.01240778778894669,-0.17978598192692227,0.7752167917400364,-0.7883907933883273,-0.5913088626844035,0.840354822847208,0.2033445961535619,-0.5372586713560256,0.4232216389089505,-0.2528325544163104,1.3249290964393545,-0.40583222858635587,0.21658564791370435,0.11080851452461021,-1.510576937964176,0.44917619312760176,0.7236215239497839,1.3401738752050207,-0.5284184494366296,0.5168797933043524,0.27983750198876206,0.6462227083234211,-1.6537132076782313,0.6353620784452373,-1.886652937081722,1.492870807314742,-0.08148994426046148,0.9983669181816184,-0.19043088811464584,-0.5688184865474755,0.5624134837235857,-0.3210101968912109,1.213691522496094,-0.6308343201304198,-0.26552273071010934,0.0382706171539293,-0.42471459773090114,-1.2553973083616052,0.22693857017483704,-0.09986680003889419,-1.1171045042039667,-1.7636923232057913,-0.8078679446482997,-0.5113036700437527,0.13352748397932704,-0.481125035670177,-0.3364057735395534,0.5550899769272462,0.5876780577788043,-1.2003862841996797,1.6471280758452198,0.20112173315908158,1.2654140663662488,-0.8893935549005481,1.5474457958694703,-0.9223180706019465,-1.990699220593327,-0.312954805627847,0.19046176478033308,0.8584044198133884,-0.8279642354823153,-0.8110986924038266,-1.749313401583035,-0.5130068061780467,0.2557293226317499,1.9607498420411158,0.8220431076067412,0.6229318544142777,0.6659824134676142,-1.53152263813704,0.4644195955382767,0.8911958385726465,0.26943097640536046,0.711729257448235,0.7924413057554689,0.42979066547023326,0.8931354553398241,-1.9331873902697487,0.5555385587552265,-0.9853819496872513,0.161249515605386,1.9759695910147321,1.4093690275179895,-1.1299357517823005,2.3298930325014813,-1.1510253706195832,-0.8203802944899652,-0.42983926404297373,-0.13911929398213121,-0.019621435532456055,-0.7622062333318493],\"yaxis\":\"y13\",\"type\":\"scatter\"},{\"line\":{\"color\":\"rgba(128, 128, 128, 1.0)\",\"dash\":\"solid\",\"shape\":\"linear\",\"width\":1.3},\"marker\":{\"size\":2,\"symbol\":\"circle\"},\"mode\":\"markers\",\"name\":\"D\",\"text\":\"\",\"x\":[0.663644916668608,0.8539894629565865,0.7182721805036181,-0.23131728651643915,1.0520682868690088,0.512886451876651,0.3962742013757297,0.19244837036910498,0.6942048027893358,-0.2722249899358359,0.6634385692004368,0.9800891949991442,1.1118229049368433,-0.10678861848750934,0.4690419300255005,-0.9723919008515634,-1.8757792550845664,0.8625745446710906,-0.7827619578718803,1.6677033232903173,1.1146211902632992,-1.3538638195878034,-0.31828942591868525,-0.003779765834421749,-0.815296361103711,1.1123892326502263,-0.7845936279014872,-1.9797114354721983,-1.390372692915758,1.6503369920929167,-0.14899684895433177,-0.8231575334399924,0.16104253963553297,0.7836004550291542,-0.33153498382638535,0.8407689388417556,-0.03281131948110183,0.12231113887453894,-0.018984964617667407,-0.6402845786433076,-0.12032126474864979,0.7349396313531462,-0.8960260796006839,0.7576566829971076,1.5999888684153223,-1.1286716075963636,1.5534085433341411,-0.7244406208197438,0.9263127855310453,-0.5391208826579759,-0.22257653120121626,0.4034032365585807,1.3094635291740735,-0.17829845039408723,-0.34107945675869356,1.1031629412688133,1.1937899917993917,-1.3332954918220914,-0.008346989593206655,-0.6328859674322583,-0.7205485931175036,1.0154031030661033,-1.5408076869474618,-0.1865187258517424,-0.48252363590092134,1.1208765865460928,-0.1206576183143393,0.3111316770088429,-0.8692757764238744,0.2683730398176634,1.201520534380479,1.8412641038761008,1.1903462992361296,-0.0972977226935668,0.35613581513712733,1.6478213551010252,-0.3197494553823164,0.28441072498000314,-1.6810004114282828,0.2943187027071099,-0.8031971015880753,-1.0280244607883133,-0.3548532385182408,-0.2997666538463908,-1.0143036354426633,-0.45467754603306093,0.4520630514102458,-1.1233903175090119,-0.27233724745283466,-0.29285161781770586,-0.7418022189104699,-1.1562087044083964,-0.6457668576781612,0.5373550478693669,1.2242863244276385,-0.9874880065577107,-0.6471030553787697,-0.048739317504564866,-0.23677463664566517,0.42998336423142036],\"xaxis\":\"x14\",\"y\":[0.4757041776816243,0.590059346810028,1.4898915294795725,-0.10129042263276683,1.1597985080190125,0.0724982860361312,0.2619252841036569,0.061469576277574184,0.8196718590872685,0.01240778778894669,-0.17978598192692227,0.7752167917400364,-0.7883907933883273,-0.5913088626844035,0.840354822847208,0.2033445961535619,-0.5372586713560256,0.4232216389089505,-0.2528325544163104,1.3249290964393545,-0.40583222858635587,0.21658564791370435,0.11080851452461021,-1.510576937964176,0.44917619312760176,0.7236215239497839,1.3401738752050207,-0.5284184494366296,0.5168797933043524,0.27983750198876206,0.6462227083234211,-1.6537132076782313,0.6353620784452373,-1.886652937081722,1.492870807314742,-0.08148994426046148,0.9983669181816184,-0.19043088811464584,-0.5688184865474755,0.5624134837235857,-0.3210101968912109,1.213691522496094,-0.6308343201304198,-0.26552273071010934,0.0382706171539293,-0.42471459773090114,-1.2553973083616052,0.22693857017483704,-0.09986680003889419,-1.1171045042039667,-1.7636923232057913,-0.8078679446482997,-0.5113036700437527,0.13352748397932704,-0.481125035670177,-0.3364057735395534,0.5550899769272462,0.5876780577788043,-1.2003862841996797,1.6471280758452198,0.20112173315908158,1.2654140663662488,-0.8893935549005481,1.5474457958694703,-0.9223180706019465,-1.990699220593327,-0.312954805627847,0.19046176478033308,0.8584044198133884,-0.8279642354823153,-0.8110986924038266,-1.749313401583035,-0.5130068061780467,0.2557293226317499,1.9607498420411158,0.8220431076067412,0.6229318544142777,0.6659824134676142,-1.53152263813704,0.4644195955382767,0.8911958385726465,0.26943097640536046,0.711729257448235,0.7924413057554689,0.42979066547023326,0.8931354553398241,-1.9331873902697487,0.5555385587552265,-0.9853819496872513,0.161249515605386,1.9759695910147321,1.4093690275179895,-1.1299357517823005,2.3298930325014813,-1.1510253706195832,-0.8203802944899652,-0.42983926404297373,-0.13911929398213121,-0.019621435532456055,-0.7622062333318493],\"yaxis\":\"y14\",\"type\":\"scatter\"},{\"line\":{\"color\":\"rgba(128, 128, 128, 1.0)\",\"dash\":\"solid\",\"shape\":\"linear\",\"width\":1.3},\"marker\":{\"size\":2,\"symbol\":\"circle\"},\"mode\":\"markers\",\"name\":\"D\",\"text\":\"\",\"x\":[-0.6538122694356095,0.29632246647545535,0.17940594091991843,0.6476627486246456,-0.10043811437228084,0.11338010465450052,-0.08356160498701343,-0.7316754573876626,-1.2365039762262189,-0.6386337749042802,-0.7926064521593136,-0.742671479208652,-0.3370161800707922,1.1897598509216165,0.7242630798740226,0.12021300751943033,-1.5541924942579035,1.5028214113878702,0.760501650197293,0.7515986114830532,-1.2686451344996938,0.01609558960139597,-1.6128707827272581,0.6903498423641136,0.7602651962954348,0.0673948377388364,-0.9775168899165652,0.5585404568888361,0.8523224276827606,-1.0041705242290733,0.5914262277861494,-0.5496136621526938,0.7017726636910391,0.15870469356872455,-2.4273620027153555,-0.5864254688778012,-0.0289089911443751,-0.8291195208456038,-0.9096062411979251,-1.1314170041692238,-0.5186793448446886,0.3108681995737991,-0.8378873764383811,0.158880930094833,0.7031221132836886,0.6505719191055622,0.43745761711076453,0.45318431224770556,-0.6414398264092175,0.523073885686085,0.12734147164046977,-0.770936570781369,-1.6151182596614424,0.9540473104491346,1.67023663497916,0.574762895692311,-0.8667434406776809,-1.2863033897237754,1.614402266304719,-1.8034959885421769,-1.3636443614651592,-0.4933435802573463,-0.6394587059741395,-2.2718745671441094,0.553289670910159,-1.0078069494814215,0.6043589606740618,1.4229283648169193,-0.179323294635072,0.2538061840793955,1.0263302945895039,0.394082382521719,3.121232497730125,1.3303969625222654,-1.1541522860639097,-0.23166102490887022,-0.7608722899456053,0.8666182729219869,0.5350322672866142,-1.4602188149153486,1.3344993116679742,-1.6617774845100284,0.42361503860653943,1.0908923129569281,-0.5303449319476716,1.2150687585703044,0.7158276442576861,-1.9543227706481956,-0.33939479342369694,0.4821056907373301,1.9533934250885414,-0.8069952996393184,0.7918551373589061,-0.17608519122254984,-0.30426593014751024,1.6164723943168042,-0.45506196261105936,0.3152484690447127,1.647266342350233,-0.7223542684237176],\"xaxis\":\"x15\",\"y\":[0.4757041776816243,0.590059346810028,1.4898915294795725,-0.10129042263276683,1.1597985080190125,0.0724982860361312,0.2619252841036569,0.061469576277574184,0.8196718590872685,0.01240778778894669,-0.17978598192692227,0.7752167917400364,-0.7883907933883273,-0.5913088626844035,0.840354822847208,0.2033445961535619,-0.5372586713560256,0.4232216389089505,-0.2528325544163104,1.3249290964393545,-0.40583222858635587,0.21658564791370435,0.11080851452461021,-1.510576937964176,0.44917619312760176,0.7236215239497839,1.3401738752050207,-0.5284184494366296,0.5168797933043524,0.27983750198876206,0.6462227083234211,-1.6537132076782313,0.6353620784452373,-1.886652937081722,1.492870807314742,-0.08148994426046148,0.9983669181816184,-0.19043088811464584,-0.5688184865474755,0.5624134837235857,-0.3210101968912109,1.213691522496094,-0.6308343201304198,-0.26552273071010934,0.0382706171539293,-0.42471459773090114,-1.2553973083616052,0.22693857017483704,-0.09986680003889419,-1.1171045042039667,-1.7636923232057913,-0.8078679446482997,-0.5113036700437527,0.13352748397932704,-0.481125035670177,-0.3364057735395534,0.5550899769272462,0.5876780577788043,-1.2003862841996797,1.6471280758452198,0.20112173315908158,1.2654140663662488,-0.8893935549005481,1.5474457958694703,-0.9223180706019465,-1.990699220593327,-0.312954805627847,0.19046176478033308,0.8584044198133884,-0.8279642354823153,-0.8110986924038266,-1.749313401583035,-0.5130068061780467,0.2557293226317499,1.9607498420411158,0.8220431076067412,0.6229318544142777,0.6659824134676142,-1.53152263813704,0.4644195955382767,0.8911958385726465,0.26943097640536046,0.711729257448235,0.7924413057554689,0.42979066547023326,0.8931354553398241,-1.9331873902697487,0.5555385587552265,-0.9853819496872513,0.161249515605386,1.9759695910147321,1.4093690275179895,-1.1299357517823005,2.3298930325014813,-1.1510253706195832,-0.8203802944899652,-0.42983926404297373,-0.13911929398213121,-0.019621435532456055,-0.7622062333318493],\"yaxis\":\"y15\",\"type\":\"scatter\"},{\"histfunc\":\"count\",\"histnorm\":\"\",\"marker\":{\"color\":\"rgba(128, 0, 128, 1.0)\",\"line\":{\"color\":\"#4D5663\",\"width\":1.3}},\"name\":\"D\",\"nbinsx\":10,\"opacity\":0.8,\"orientation\":\"v\",\"x\":[0.4757041776816243,0.590059346810028,1.4898915294795725,-0.10129042263276683,1.1597985080190125,0.0724982860361312,0.2619252841036569,0.061469576277574184,0.8196718590872685,0.01240778778894669,-0.17978598192692227,0.7752167917400364,-0.7883907933883273,-0.5913088626844035,0.840354822847208,0.2033445961535619,-0.5372586713560256,0.4232216389089505,-0.2528325544163104,1.3249290964393545,-0.40583222858635587,0.21658564791370435,0.11080851452461021,-1.510576937964176,0.44917619312760176,0.7236215239497839,1.3401738752050207,-0.5284184494366296,0.5168797933043524,0.27983750198876206,0.6462227083234211,-1.6537132076782313,0.6353620784452373,-1.886652937081722,1.492870807314742,-0.08148994426046148,0.9983669181816184,-0.19043088811464584,-0.5688184865474755,0.5624134837235857,-0.3210101968912109,1.213691522496094,-0.6308343201304198,-0.26552273071010934,0.0382706171539293,-0.42471459773090114,-1.2553973083616052,0.22693857017483704,-0.09986680003889419,-1.1171045042039667,-1.7636923232057913,-0.8078679446482997,-0.5113036700437527,0.13352748397932704,-0.481125035670177,-0.3364057735395534,0.5550899769272462,0.5876780577788043,-1.2003862841996797,1.6471280758452198,0.20112173315908158,1.2654140663662488,-0.8893935549005481,1.5474457958694703,-0.9223180706019465,-1.990699220593327,-0.312954805627847,0.19046176478033308,0.8584044198133884,-0.8279642354823153,-0.8110986924038266,-1.749313401583035,-0.5130068061780467,0.2557293226317499,1.9607498420411158,0.8220431076067412,0.6229318544142777,0.6659824134676142,-1.53152263813704,0.4644195955382767,0.8911958385726465,0.26943097640536046,0.711729257448235,0.7924413057554689,0.42979066547023326,0.8931354553398241,-1.9331873902697487,0.5555385587552265,-0.9853819496872513,0.161249515605386,1.9759695910147321,1.4093690275179895,-1.1299357517823005,2.3298930325014813,-1.1510253706195832,-0.8203802944899652,-0.42983926404297373,-0.13911929398213121,-0.019621435532456055,-0.7622062333318493],\"xaxis\":\"x16\",\"yaxis\":\"y16\",\"type\":\"histogram\"}],                        {\"bargap\":0.02,\"legend\":{\"bgcolor\":\"#F5F6F9\",\"font\":{\"color\":\"#4D5663\"}},\"paper_bgcolor\":\"#F5F6F9\",\"plot_bgcolor\":\"#F5F6F9\",\"showlegend\":false,\"template\":{\"data\":{\"barpolar\":[{\"marker\":{\"line\":{\"color\":\"#E5ECF6\",\"width\":0.5},\"pattern\":{\"fillmode\":\"overlay\",\"size\":10,\"solidity\":0.2}},\"type\":\"barpolar\"}],\"bar\":[{\"error_x\":{\"color\":\"#2a3f5f\"},\"error_y\":{\"color\":\"#2a3f5f\"},\"marker\":{\"line\":{\"color\":\"#E5ECF6\",\"width\":0.5},\"pattern\":{\"fillmode\":\"overlay\",\"size\":10,\"solidity\":0.2}},\"type\":\"bar\"}],\"carpet\":[{\"aaxis\":{\"endlinecolor\":\"#2a3f5f\",\"gridcolor\":\"white\",\"linecolor\":\"white\",\"minorgridcolor\":\"white\",\"startlinecolor\":\"#2a3f5f\"},\"baxis\":{\"endlinecolor\":\"#2a3f5f\",\"gridcolor\":\"white\",\"linecolor\":\"white\",\"minorgridcolor\":\"white\",\"startlinecolor\":\"#2a3f5f\"},\"type\":\"carpet\"}],\"choropleth\":[{\"colorbar\":{\"outlinewidth\":0,\"ticks\":\"\"},\"type\":\"choropleth\"}],\"contourcarpet\":[{\"colorbar\":{\"outlinewidth\":0,\"ticks\":\"\"},\"type\":\"contourcarpet\"}],\"contour\":[{\"colorbar\":{\"outlinewidth\":0,\"ticks\":\"\"},\"colorscale\":[[0.0,\"#0d0887\"],[0.1111111111111111,\"#46039f\"],[0.2222222222222222,\"#7201a8\"],[0.3333333333333333,\"#9c179e\"],[0.4444444444444444,\"#bd3786\"],[0.5555555555555556,\"#d8576b\"],[0.6666666666666666,\"#ed7953\"],[0.7777777777777778,\"#fb9f3a\"],[0.8888888888888888,\"#fdca26\"],[1.0,\"#f0f921\"]],\"type\":\"contour\"}],\"heatmapgl\":[{\"colorbar\":{\"outlinewidth\":0,\"ticks\":\"\"},\"colorscale\":[[0.0,\"#0d0887\"],[0.1111111111111111,\"#46039f\"],[0.2222222222222222,\"#7201a8\"],[0.3333333333333333,\"#9c179e\"],[0.4444444444444444,\"#bd3786\"],[0.5555555555555556,\"#d8576b\"],[0.6666666666666666,\"#ed7953\"],[0.7777777777777778,\"#fb9f3a\"],[0.8888888888888888,\"#fdca26\"],[1.0,\"#f0f921\"]],\"type\":\"heatmapgl\"}],\"heatmap\":[{\"colorbar\":{\"outlinewidth\":0,\"ticks\":\"\"},\"colorscale\":[[0.0,\"#0d0887\"],[0.1111111111111111,\"#46039f\"],[0.2222222222222222,\"#7201a8\"],[0.3333333333333333,\"#9c179e\"],[0.4444444444444444,\"#bd3786\"],[0.5555555555555556,\"#d8576b\"],[0.6666666666666666,\"#ed7953\"],[0.7777777777777778,\"#fb9f3a\"],[0.8888888888888888,\"#fdca26\"],[1.0,\"#f0f921\"]],\"type\":\"heatmap\"}],\"histogram2dcontour\":[{\"colorbar\":{\"outlinewidth\":0,\"ticks\":\"\"},\"colorscale\":[[0.0,\"#0d0887\"],[0.1111111111111111,\"#46039f\"],[0.2222222222222222,\"#7201a8\"],[0.3333333333333333,\"#9c179e\"],[0.4444444444444444,\"#bd3786\"],[0.5555555555555556,\"#d8576b\"],[0.6666666666666666,\"#ed7953\"],[0.7777777777777778,\"#fb9f3a\"],[0.8888888888888888,\"#fdca26\"],[1.0,\"#f0f921\"]],\"type\":\"histogram2dcontour\"}],\"histogram2d\":[{\"colorbar\":{\"outlinewidth\":0,\"ticks\":\"\"},\"colorscale\":[[0.0,\"#0d0887\"],[0.1111111111111111,\"#46039f\"],[0.2222222222222222,\"#7201a8\"],[0.3333333333333333,\"#9c179e\"],[0.4444444444444444,\"#bd3786\"],[0.5555555555555556,\"#d8576b\"],[0.6666666666666666,\"#ed7953\"],[0.7777777777777778,\"#fb9f3a\"],[0.8888888888888888,\"#fdca26\"],[1.0,\"#f0f921\"]],\"type\":\"histogram2d\"}],\"histogram\":[{\"marker\":{\"pattern\":{\"fillmode\":\"overlay\",\"size\":10,\"solidity\":0.2}},\"type\":\"histogram\"}],\"mesh3d\":[{\"colorbar\":{\"outlinewidth\":0,\"ticks\":\"\"},\"type\":\"mesh3d\"}],\"parcoords\":[{\"line\":{\"colorbar\":{\"outlinewidth\":0,\"ticks\":\"\"}},\"type\":\"parcoords\"}],\"pie\":[{\"automargin\":true,\"type\":\"pie\"}],\"scatter3d\":[{\"line\":{\"colorbar\":{\"outlinewidth\":0,\"ticks\":\"\"}},\"marker\":{\"colorbar\":{\"outlinewidth\":0,\"ticks\":\"\"}},\"type\":\"scatter3d\"}],\"scattercarpet\":[{\"marker\":{\"colorbar\":{\"outlinewidth\":0,\"ticks\":\"\"}},\"type\":\"scattercarpet\"}],\"scattergeo\":[{\"marker\":{\"colorbar\":{\"outlinewidth\":0,\"ticks\":\"\"}},\"type\":\"scattergeo\"}],\"scattergl\":[{\"marker\":{\"colorbar\":{\"outlinewidth\":0,\"ticks\":\"\"}},\"type\":\"scattergl\"}],\"scattermapbox\":[{\"marker\":{\"colorbar\":{\"outlinewidth\":0,\"ticks\":\"\"}},\"type\":\"scattermapbox\"}],\"scatterpolargl\":[{\"marker\":{\"colorbar\":{\"outlinewidth\":0,\"ticks\":\"\"}},\"type\":\"scatterpolargl\"}],\"scatterpolar\":[{\"marker\":{\"colorbar\":{\"outlinewidth\":0,\"ticks\":\"\"}},\"type\":\"scatterpolar\"}],\"scatter\":[{\"marker\":{\"colorbar\":{\"outlinewidth\":0,\"ticks\":\"\"}},\"type\":\"scatter\"}],\"scatterternary\":[{\"marker\":{\"colorbar\":{\"outlinewidth\":0,\"ticks\":\"\"}},\"type\":\"scatterternary\"}],\"surface\":[{\"colorbar\":{\"outlinewidth\":0,\"ticks\":\"\"},\"colorscale\":[[0.0,\"#0d0887\"],[0.1111111111111111,\"#46039f\"],[0.2222222222222222,\"#7201a8\"],[0.3333333333333333,\"#9c179e\"],[0.4444444444444444,\"#bd3786\"],[0.5555555555555556,\"#d8576b\"],[0.6666666666666666,\"#ed7953\"],[0.7777777777777778,\"#fb9f3a\"],[0.8888888888888888,\"#fdca26\"],[1.0,\"#f0f921\"]],\"type\":\"surface\"}],\"table\":[{\"cells\":{\"fill\":{\"color\":\"#EBF0F8\"},\"line\":{\"color\":\"white\"}},\"header\":{\"fill\":{\"color\":\"#C8D4E3\"},\"line\":{\"color\":\"white\"}},\"type\":\"table\"}]},\"layout\":{\"annotationdefaults\":{\"arrowcolor\":\"#2a3f5f\",\"arrowhead\":0,\"arrowwidth\":1},\"autotypenumbers\":\"strict\",\"coloraxis\":{\"colorbar\":{\"outlinewidth\":0,\"ticks\":\"\"}},\"colorscale\":{\"diverging\":[[0,\"#8e0152\"],[0.1,\"#c51b7d\"],[0.2,\"#de77ae\"],[0.3,\"#f1b6da\"],[0.4,\"#fde0ef\"],[0.5,\"#f7f7f7\"],[0.6,\"#e6f5d0\"],[0.7,\"#b8e186\"],[0.8,\"#7fbc41\"],[0.9,\"#4d9221\"],[1,\"#276419\"]],\"sequential\":[[0.0,\"#0d0887\"],[0.1111111111111111,\"#46039f\"],[0.2222222222222222,\"#7201a8\"],[0.3333333333333333,\"#9c179e\"],[0.4444444444444444,\"#bd3786\"],[0.5555555555555556,\"#d8576b\"],[0.6666666666666666,\"#ed7953\"],[0.7777777777777778,\"#fb9f3a\"],[0.8888888888888888,\"#fdca26\"],[1.0,\"#f0f921\"]],\"sequentialminus\":[[0.0,\"#0d0887\"],[0.1111111111111111,\"#46039f\"],[0.2222222222222222,\"#7201a8\"],[0.3333333333333333,\"#9c179e\"],[0.4444444444444444,\"#bd3786\"],[0.5555555555555556,\"#d8576b\"],[0.6666666666666666,\"#ed7953\"],[0.7777777777777778,\"#fb9f3a\"],[0.8888888888888888,\"#fdca26\"],[1.0,\"#f0f921\"]]},\"colorway\":[\"#636efa\",\"#EF553B\",\"#00cc96\",\"#ab63fa\",\"#FFA15A\",\"#19d3f3\",\"#FF6692\",\"#B6E880\",\"#FF97FF\",\"#FECB52\"],\"font\":{\"color\":\"#2a3f5f\"},\"geo\":{\"bgcolor\":\"white\",\"lakecolor\":\"white\",\"landcolor\":\"#E5ECF6\",\"showlakes\":true,\"showland\":true,\"subunitcolor\":\"white\"},\"hoverlabel\":{\"align\":\"left\"},\"hovermode\":\"closest\",\"mapbox\":{\"style\":\"light\"},\"paper_bgcolor\":\"white\",\"plot_bgcolor\":\"#E5ECF6\",\"polar\":{\"angularaxis\":{\"gridcolor\":\"white\",\"linecolor\":\"white\",\"ticks\":\"\"},\"bgcolor\":\"#E5ECF6\",\"radialaxis\":{\"gridcolor\":\"white\",\"linecolor\":\"white\",\"ticks\":\"\"}},\"scene\":{\"xaxis\":{\"backgroundcolor\":\"#E5ECF6\",\"gridcolor\":\"white\",\"gridwidth\":2,\"linecolor\":\"white\",\"showbackground\":true,\"ticks\":\"\",\"zerolinecolor\":\"white\"},\"yaxis\":{\"backgroundcolor\":\"#E5ECF6\",\"gridcolor\":\"white\",\"gridwidth\":2,\"linecolor\":\"white\",\"showbackground\":true,\"ticks\":\"\",\"zerolinecolor\":\"white\"},\"zaxis\":{\"backgroundcolor\":\"#E5ECF6\",\"gridcolor\":\"white\",\"gridwidth\":2,\"linecolor\":\"white\",\"showbackground\":true,\"ticks\":\"\",\"zerolinecolor\":\"white\"}},\"shapedefaults\":{\"line\":{\"color\":\"#2a3f5f\"}},\"ternary\":{\"aaxis\":{\"gridcolor\":\"white\",\"linecolor\":\"white\",\"ticks\":\"\"},\"baxis\":{\"gridcolor\":\"white\",\"linecolor\":\"white\",\"ticks\":\"\"},\"bgcolor\":\"#E5ECF6\",\"caxis\":{\"gridcolor\":\"white\",\"linecolor\":\"white\",\"ticks\":\"\"}},\"title\":{\"x\":0.05},\"xaxis\":{\"automargin\":true,\"gridcolor\":\"white\",\"linecolor\":\"white\",\"ticks\":\"\",\"title\":{\"standoff\":15},\"zerolinecolor\":\"white\",\"zerolinewidth\":2},\"yaxis\":{\"automargin\":true,\"gridcolor\":\"white\",\"linecolor\":\"white\",\"ticks\":\"\",\"title\":{\"standoff\":15},\"zerolinecolor\":\"white\",\"zerolinewidth\":2}}},\"title\":{\"font\":{\"color\":\"#4D5663\"}},\"xaxis\":{\"anchor\":\"y\",\"domain\":[0.0,0.2125],\"gridcolor\":\"#E1E5ED\",\"showgrid\":false,\"tickfont\":{\"color\":\"#4D5663\"},\"title\":{\"font\":{\"color\":\"#4D5663\"},\"text\":\"\"},\"zerolinecolor\":\"#E1E5ED\"},\"yaxis\":{\"anchor\":\"x\",\"domain\":[0.8025,1.0],\"gridcolor\":\"#E1E5ED\",\"showgrid\":false,\"tickfont\":{\"color\":\"#4D5663\"},\"title\":{\"font\":{\"color\":\"#4D5663\"},\"text\":\"\"},\"zerolinecolor\":\"#E1E5ED\"},\"xaxis2\":{\"anchor\":\"y2\",\"domain\":[0.2625,0.475],\"gridcolor\":\"#E1E5ED\",\"showgrid\":false,\"tickfont\":{\"color\":\"#4D5663\"},\"title\":{\"font\":{\"color\":\"#4D5663\"},\"text\":\"\"},\"zerolinecolor\":\"#E1E5ED\"},\"yaxis2\":{\"anchor\":\"x2\",\"domain\":[0.8025,1.0],\"gridcolor\":\"#E1E5ED\",\"showgrid\":false,\"tickfont\":{\"color\":\"#4D5663\"},\"title\":{\"font\":{\"color\":\"#4D5663\"},\"text\":\"\"},\"zerolinecolor\":\"#E1E5ED\"},\"xaxis3\":{\"anchor\":\"y3\",\"domain\":[0.525,0.7375],\"gridcolor\":\"#E1E5ED\",\"showgrid\":false,\"tickfont\":{\"color\":\"#4D5663\"},\"title\":{\"font\":{\"color\":\"#4D5663\"},\"text\":\"\"},\"zerolinecolor\":\"#E1E5ED\"},\"yaxis3\":{\"anchor\":\"x3\",\"domain\":[0.8025,1.0],\"gridcolor\":\"#E1E5ED\",\"showgrid\":false,\"tickfont\":{\"color\":\"#4D5663\"},\"title\":{\"font\":{\"color\":\"#4D5663\"},\"text\":\"\"},\"zerolinecolor\":\"#E1E5ED\"},\"xaxis4\":{\"anchor\":\"y4\",\"domain\":[0.7875,1.0],\"gridcolor\":\"#E1E5ED\",\"showgrid\":false,\"tickfont\":{\"color\":\"#4D5663\"},\"title\":{\"font\":{\"color\":\"#4D5663\"},\"text\":\"\"},\"zerolinecolor\":\"#E1E5ED\"},\"yaxis4\":{\"anchor\":\"x4\",\"domain\":[0.8025,1.0],\"gridcolor\":\"#E1E5ED\",\"showgrid\":false,\"tickfont\":{\"color\":\"#4D5663\"},\"title\":{\"font\":{\"color\":\"#4D5663\"},\"text\":\"\"},\"zerolinecolor\":\"#E1E5ED\"},\"xaxis5\":{\"anchor\":\"y5\",\"domain\":[0.0,0.2125],\"gridcolor\":\"#E1E5ED\",\"showgrid\":false,\"tickfont\":{\"color\":\"#4D5663\"},\"title\":{\"font\":{\"color\":\"#4D5663\"},\"text\":\"\"},\"zerolinecolor\":\"#E1E5ED\"},\"yaxis5\":{\"anchor\":\"x5\",\"domain\":[0.535,0.7325],\"gridcolor\":\"#E1E5ED\",\"showgrid\":false,\"tickfont\":{\"color\":\"#4D5663\"},\"title\":{\"font\":{\"color\":\"#4D5663\"},\"text\":\"\"},\"zerolinecolor\":\"#E1E5ED\"},\"xaxis6\":{\"anchor\":\"y6\",\"domain\":[0.2625,0.475],\"gridcolor\":\"#E1E5ED\",\"showgrid\":false,\"tickfont\":{\"color\":\"#4D5663\"},\"title\":{\"font\":{\"color\":\"#4D5663\"},\"text\":\"\"},\"zerolinecolor\":\"#E1E5ED\"},\"yaxis6\":{\"anchor\":\"x6\",\"domain\":[0.535,0.7325],\"gridcolor\":\"#E1E5ED\",\"showgrid\":false,\"tickfont\":{\"color\":\"#4D5663\"},\"title\":{\"font\":{\"color\":\"#4D5663\"},\"text\":\"\"},\"zerolinecolor\":\"#E1E5ED\"},\"xaxis7\":{\"anchor\":\"y7\",\"domain\":[0.525,0.7375],\"gridcolor\":\"#E1E5ED\",\"showgrid\":false,\"tickfont\":{\"color\":\"#4D5663\"},\"title\":{\"font\":{\"color\":\"#4D5663\"},\"text\":\"\"},\"zerolinecolor\":\"#E1E5ED\"},\"yaxis7\":{\"anchor\":\"x7\",\"domain\":[0.535,0.7325],\"gridcolor\":\"#E1E5ED\",\"showgrid\":false,\"tickfont\":{\"color\":\"#4D5663\"},\"title\":{\"font\":{\"color\":\"#4D5663\"},\"text\":\"\"},\"zerolinecolor\":\"#E1E5ED\"},\"xaxis8\":{\"anchor\":\"y8\",\"domain\":[0.7875,1.0],\"gridcolor\":\"#E1E5ED\",\"showgrid\":false,\"tickfont\":{\"color\":\"#4D5663\"},\"title\":{\"font\":{\"color\":\"#4D5663\"},\"text\":\"\"},\"zerolinecolor\":\"#E1E5ED\"},\"yaxis8\":{\"anchor\":\"x8\",\"domain\":[0.535,0.7325],\"gridcolor\":\"#E1E5ED\",\"showgrid\":false,\"tickfont\":{\"color\":\"#4D5663\"},\"title\":{\"font\":{\"color\":\"#4D5663\"},\"text\":\"\"},\"zerolinecolor\":\"#E1E5ED\"},\"xaxis9\":{\"anchor\":\"y9\",\"domain\":[0.0,0.2125],\"gridcolor\":\"#E1E5ED\",\"showgrid\":false,\"tickfont\":{\"color\":\"#4D5663\"},\"title\":{\"font\":{\"color\":\"#4D5663\"},\"text\":\"\"},\"zerolinecolor\":\"#E1E5ED\"},\"yaxis9\":{\"anchor\":\"x9\",\"domain\":[0.2675,0.465],\"gridcolor\":\"#E1E5ED\",\"showgrid\":false,\"tickfont\":{\"color\":\"#4D5663\"},\"title\":{\"font\":{\"color\":\"#4D5663\"},\"text\":\"\"},\"zerolinecolor\":\"#E1E5ED\"},\"xaxis10\":{\"anchor\":\"y10\",\"domain\":[0.2625,0.475],\"gridcolor\":\"#E1E5ED\",\"showgrid\":false,\"tickfont\":{\"color\":\"#4D5663\"},\"title\":{\"font\":{\"color\":\"#4D5663\"},\"text\":\"\"},\"zerolinecolor\":\"#E1E5ED\"},\"yaxis10\":{\"anchor\":\"x10\",\"domain\":[0.2675,0.465],\"gridcolor\":\"#E1E5ED\",\"showgrid\":false,\"tickfont\":{\"color\":\"#4D5663\"},\"title\":{\"font\":{\"color\":\"#4D5663\"},\"text\":\"\"},\"zerolinecolor\":\"#E1E5ED\"},\"xaxis11\":{\"anchor\":\"y11\",\"domain\":[0.525,0.7375],\"gridcolor\":\"#E1E5ED\",\"showgrid\":false,\"tickfont\":{\"color\":\"#4D5663\"},\"title\":{\"font\":{\"color\":\"#4D5663\"},\"text\":\"\"},\"zerolinecolor\":\"#E1E5ED\"},\"yaxis11\":{\"anchor\":\"x11\",\"domain\":[0.2675,0.465],\"gridcolor\":\"#E1E5ED\",\"showgrid\":false,\"tickfont\":{\"color\":\"#4D5663\"},\"title\":{\"font\":{\"color\":\"#4D5663\"},\"text\":\"\"},\"zerolinecolor\":\"#E1E5ED\"},\"xaxis12\":{\"anchor\":\"y12\",\"domain\":[0.7875,1.0],\"gridcolor\":\"#E1E5ED\",\"showgrid\":false,\"tickfont\":{\"color\":\"#4D5663\"},\"title\":{\"font\":{\"color\":\"#4D5663\"},\"text\":\"\"},\"zerolinecolor\":\"#E1E5ED\"},\"yaxis12\":{\"anchor\":\"x12\",\"domain\":[0.2675,0.465],\"gridcolor\":\"#E1E5ED\",\"showgrid\":false,\"tickfont\":{\"color\":\"#4D5663\"},\"title\":{\"font\":{\"color\":\"#4D5663\"},\"text\":\"\"},\"zerolinecolor\":\"#E1E5ED\"},\"xaxis13\":{\"anchor\":\"y13\",\"domain\":[0.0,0.2125],\"gridcolor\":\"#E1E5ED\",\"showgrid\":false,\"tickfont\":{\"color\":\"#4D5663\"},\"title\":{\"font\":{\"color\":\"#4D5663\"},\"text\":\"\"},\"zerolinecolor\":\"#E1E5ED\"},\"yaxis13\":{\"anchor\":\"x13\",\"domain\":[0.0,0.1975],\"gridcolor\":\"#E1E5ED\",\"showgrid\":false,\"tickfont\":{\"color\":\"#4D5663\"},\"title\":{\"font\":{\"color\":\"#4D5663\"},\"text\":\"\"},\"zerolinecolor\":\"#E1E5ED\"},\"xaxis14\":{\"anchor\":\"y14\",\"domain\":[0.2625,0.475],\"gridcolor\":\"#E1E5ED\",\"showgrid\":false,\"tickfont\":{\"color\":\"#4D5663\"},\"title\":{\"font\":{\"color\":\"#4D5663\"},\"text\":\"\"},\"zerolinecolor\":\"#E1E5ED\"},\"yaxis14\":{\"anchor\":\"x14\",\"domain\":[0.0,0.1975],\"gridcolor\":\"#E1E5ED\",\"showgrid\":false,\"tickfont\":{\"color\":\"#4D5663\"},\"title\":{\"font\":{\"color\":\"#4D5663\"},\"text\":\"\"},\"zerolinecolor\":\"#E1E5ED\"},\"xaxis15\":{\"anchor\":\"y15\",\"domain\":[0.525,0.7375],\"gridcolor\":\"#E1E5ED\",\"showgrid\":false,\"tickfont\":{\"color\":\"#4D5663\"},\"title\":{\"font\":{\"color\":\"#4D5663\"},\"text\":\"\"},\"zerolinecolor\":\"#E1E5ED\"},\"yaxis15\":{\"anchor\":\"x15\",\"domain\":[0.0,0.1975],\"gridcolor\":\"#E1E5ED\",\"showgrid\":false,\"tickfont\":{\"color\":\"#4D5663\"},\"title\":{\"font\":{\"color\":\"#4D5663\"},\"text\":\"\"},\"zerolinecolor\":\"#E1E5ED\"},\"xaxis16\":{\"anchor\":\"y16\",\"domain\":[0.7875,1.0],\"gridcolor\":\"#E1E5ED\",\"showgrid\":false,\"tickfont\":{\"color\":\"#4D5663\"},\"title\":{\"font\":{\"color\":\"#4D5663\"},\"text\":\"\"},\"zerolinecolor\":\"#E1E5ED\"},\"yaxis16\":{\"anchor\":\"x16\",\"domain\":[0.0,0.1975],\"gridcolor\":\"#E1E5ED\",\"showgrid\":false,\"tickfont\":{\"color\":\"#4D5663\"},\"title\":{\"font\":{\"color\":\"#4D5663\"},\"text\":\"\"},\"zerolinecolor\":\"#E1E5ED\"}},                        {\"showLink\": true, \"linkText\": \"Export to plot.ly\", \"plotlyServerURL\": \"https://plot.ly\", \"responsive\": true}                    ).then(function(){\n",
       "                            \n",
       "var gd = document.getElementById('734a1459-c9ab-40bc-b201-9ae6c359df5b');\n",
       "var x = new MutationObserver(function (mutations, observer) {{\n",
       "        var display = window.getComputedStyle(gd).display;\n",
       "        if (!display || display === 'none') {{\n",
       "            console.log([gd, 'removed!']);\n",
       "            Plotly.purge(gd);\n",
       "            observer.disconnect();\n",
       "        }}\n",
       "}});\n",
       "\n",
       "// Listen for the removal of the full notebook cells\n",
       "var notebookContainer = gd.closest('#notebook-container');\n",
       "if (notebookContainer) {{\n",
       "    x.observe(notebookContainer, {childList: true});\n",
       "}}\n",
       "\n",
       "// Listen for the clearing of the current output cell\n",
       "var outputEl = gd.closest('.output');\n",
       "if (outputEl) {{\n",
       "    x.observe(outputEl, {childList: true});\n",
       "}}\n",
       "\n",
       "                        })                };                });            </script>        </div>"
      ]
     },
     "metadata": {},
     "output_type": "display_data"
    }
   ],
   "source": [
    "df.scatter_matrix()"
   ]
  },
  {
   "cell_type": "markdown",
   "metadata": {
    "collapsed": true
   },
   "source": [
    "# Great Job!"
   ]
  }
 ],
 "metadata": {
  "kernelspec": {
   "display_name": "Python 3 (ipykernel)",
   "language": "python",
   "name": "python3"
  },
  "language_info": {
   "codemirror_mode": {
    "name": "ipython",
    "version": 3
   },
   "file_extension": ".py",
   "mimetype": "text/x-python",
   "name": "python",
   "nbconvert_exporter": "python",
   "pygments_lexer": "ipython3",
   "version": "3.9.12"
  }
 },
 "nbformat": 4,
 "nbformat_minor": 1
}
